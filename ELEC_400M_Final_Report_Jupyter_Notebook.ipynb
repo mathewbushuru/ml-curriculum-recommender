{
  "nbformat": 4,
  "nbformat_minor": 0,
  "metadata": {
    "colab": {
      "provenance": [],
      "authorship_tag": "ABX9TyM2TdxC6hGNzpxTqsDulgGI",
      "include_colab_link": true
    },
    "kernelspec": {
      "name": "python3",
      "display_name": "Python 3"
    },
    "language_info": {
      "name": "python"
    },
    "gpuClass": "standard"
  },
  "cells": [
    {
      "cell_type": "markdown",
      "metadata": {
        "id": "view-in-github",
        "colab_type": "text"
      },
      "source": [
        "<a href=\"https://colab.research.google.com/github/mathewbushuru/ml-curriculum-recommender/blob/main/ELEC_400M_Final_Report_Jupyter_Notebook.ipynb\" target=\"_parent\"><img src=\"https://colab.research.google.com/assets/colab-badge.svg\" alt=\"Open In Colab\"/></a>"
      ]
    },
    {
      "cell_type": "markdown",
      "source": [
        "# Background"
      ],
      "metadata": {
        "id": "LgvMSRkdWZWC"
      }
    },
    {
      "cell_type": "markdown",
      "source": [
        "In 2019, I came up with an idea for an ed-tech project.  The initial idea was to participate in a hackathon focused on Social Ventures with two of my friends. After winning the hackathon, we started [Soma](https://www.somaoffline.com/) and decided to continue working on the project. We joined the social-venture stream of Entrepreneurship@UBC."
      ],
      "metadata": {
        "id": "c9GY08NiWfv-"
      }
    },
    {
      "cell_type": "markdown",
      "source": [
        "The idea was to provide access to online open-source educational materials to people who still don't have access to the internet. We built a prototype using Raspberry Pi and one of them is shown below.\n",
        "\n",
        " ![Soma server prototype](https://www.somaoffline.com/assets/images/soma-server.png)\n",
        "\n",
        "The way it would work was we'd find open-source educational content online such as Khan Academy. We would then find or create offline copies of these websites which we would load on a content server. This content servers consist of cheap raspberry Pi running on a headless Linux distro that has been modified to be a server. When powered on, the content server works as a WiFi hotspot and 20 - 30 computers in a lab can connect to to as if it were the real internet. Only difference is the network consists of only educational materials we have added to these servers. We participated and won several more compettion such as The Resolution Project/MasterCard Foundation Global Social Venture Challenge, UBC's World's Challenge Challenge, among others."
      ],
      "metadata": {
        "id": "gUNXHoYWX_IZ"
      }
    },
    {
      "cell_type": "markdown",
      "source": [
        "In addition to the physical server, we built the Soma Academic Platform that would enable our users to access the various academic resources on our website (think of it like an offline Google). Since our main market was Kenya, one of the main objectives of the platform was to align the numerous content we had on our website to the Kenyan curriculum. \n",
        "\n",
        "This proved to be a difficult challenge. For example, one of the early products we built into the platform was for students to practise past national examination tests. An early version of this app can be viewed on this [GitHub repo](https://github.com/mathewbushuru/soma_platform_v0.2). We started with the Grade 8 national exams because it was an easier job from a coding point of view. This is because Grade 8 exams in Kenya are multiple choice so the time-consuming task was just inputing the data to the database and coding the solution. However, the grade 12 exams were more challenging since they are not multiple choice. This is where this machine learning project comes in"
      ],
      "metadata": {
        "id": "9iIDhj5NateG"
      }
    },
    {
      "cell_type": "markdown",
      "source": [
        "## Learning Equality"
      ],
      "metadata": {
        "id": "INWmM_0xc3rb"
      }
    },
    {
      "cell_type": "markdown",
      "source": [
        "After working on Soma for a few months, we came across Learning Equality which was tackling a similar project but on a global scale. In fact, most of our content on Soma  at the moment is a Kenyan curriculum aligned version of Learning Equality's content."
      ],
      "metadata": {
        "id": "_eGhMhJVc9b6"
      }
    },
    {
      "cell_type": "markdown",
      "source": [
        "Kolibri, Learning Equality's similar product, faces a problem similar to Soma but on a grander scale. This is because the content on the platform is organized according to the country it was designed for but every country has its own educational structures and objectives. As a result, it becomes a very time-consuming  and resource intensive process to sort this content when educators need to use these open-source learning materials in countries different from where they were created."
      ],
      "metadata": {
        "id": "JETtNk3id_sj"
      }
    },
    {
      "cell_type": "markdown",
      "source": [
        "To tackle this problem, Learning Equality announced this  [Kaggle competition](https://www.kaggle.com/competitions/learning-equality-curriculum-recommendations/)"
      ],
      "metadata": {
        "id": "zba2_p2rfGZw"
      }
    },
    {
      "cell_type": "markdown",
      "source": [
        "## Learning Equality Kaggle Competition - Curriculum Recommendations"
      ],
      "metadata": {
        "id": "r2Fd3tHFfvqL"
      }
    },
    {
      "cell_type": "markdown",
      "source": [
        "The plan is to use machine learning techniques to create a tool that can automate the curriculum alignment process. When someone is curating content for a specific topic within some specific country's curriculum, they are presented with top recommendations of relevant content items drawn from the larger Kolibri library. [1] The [dataset](https://www.kaggle.com/competitions/learning-equality-curriculum-recommendations/data) provided is a 871 MB file containing thousands of correlations between the specific content items and topics.\n",
        "\n",
        "The current approach to curriculum alignment requires domain expertise and it is neither scalable nor efficient. I decided to join this competition because of my interest in educational technology. I also had an internship in the past where I worked on recommender algorithms which might be useful for this competition. The timeline is shown below: \n",
        "- December 15, 2022 - Start Date.\n",
        "\n",
        "- March 7, 2023 - Entry Deadline. You must accept the competition rules before this date in order to compete.\n",
        "\n",
        "- March 7, 2023 - Team Merger Deadline. This is the last day participants may join or merge teams.\n",
        "\n",
        "- March 14, 2023 - Final Submission Deadline.\n",
        "\n",
        "The entirety of the curriculum recommendation project is beyond the scope of the ELEC 400M Final Project. However as part of it, I will do some explotary data analysis and data preprocessing. After that, I will use some data from class examples or `Scikit-learn` to work on a full related machine learning project. I hope to use the lessons gained from doing this to work on the Kaggle competition over the next few months. "
      ],
      "metadata": {
        "id": "55FQtcJOf4ZZ"
      }
    },
    {
      "cell_type": "markdown",
      "source": [
        "# Dataset"
      ],
      "metadata": {
        "id": "aHj6Ck114Amw"
      }
    },
    {
      "cell_type": "markdown",
      "source": [
        "The Learning Equality dataset consists of K-12 educational materials organized into topic taxonomies. These educational materials are in diverse languages and wide range of topics, particularly in STEM (Science, Technology, Engineering and Mathematics).\n",
        "\n",
        "As mentioned above, this data is from from Kolibri Studio. The plan is to make a  curricular alignment tool in which users can create their own *channel*, then build out a *topic tree* that represents a curriculum taxonomy or other hierarchical structure, and finally organize *content items* into these topics, by uploading their own content and/or importing existing materials from the Kolibri Content Library of Open Educational Resources\n",
        "\n",
        "An example topic tree is\n",
        "```\n",
        "Secondary Education >> Ordinary Level >> Mathematics >> Further Learning >> Activities >> Trigonometry.\n",
        "```\n",
        "A leaf in this branch might then contain(or be correlated with) a content item such as a video titled `Polar Coordinates`. References [1]\n"
      ],
      "metadata": {
        "id": "NEcvaUl5kUDO"
      }
    },
    {
      "cell_type": "code",
      "source": [
        "import pandas as pd\n",
        "import numpy as np"
      ],
      "metadata": {
        "id": "xIIDAPL6_O8d"
      },
      "execution_count": 29,
      "outputs": []
    },
    {
      "cell_type": "code",
      "source": [
        "# Dataset is currently on Google Drive. \n",
        "# To rerun notebook, uncomment the read_csv lines of code below and read directly from your copy of dataset\n",
        "from google.colab import drive \n",
        "drive.mount('/content/drive')"
      ],
      "metadata": {
        "colab": {
          "base_uri": "https://localhost:8080/"
        },
        "id": "5w1ObcGo-mZY",
        "outputId": "7c4b57f8-228e-499d-9194-f6810752da1c"
      },
      "execution_count": 30,
      "outputs": [
        {
          "output_type": "stream",
          "name": "stdout",
          "text": [
            "Drive already mounted at /content/drive; to attempt to forcibly remount, call drive.mount(\"/content/drive\", force_remount=True).\n"
          ]
        }
      ]
    },
    {
      "cell_type": "markdown",
      "source": [
        "Access dataset [here](https://www.kaggle.com/competitions/learning-equality-curriculum-recommendations/data)"
      ],
      "metadata": {
        "id": "sQfCOp-smGth"
      }
    },
    {
      "cell_type": "markdown",
      "source": [
        "## Files and Fields "
      ],
      "metadata": {
        "id": "kTiPz15r4DJ1"
      }
    },
    {
      "cell_type": "markdown",
      "source": [
        "### `topics.csv`"
      ],
      "metadata": {
        "id": "pXx7KusU_C4O"
      }
    },
    {
      "cell_type": "markdown",
      "source": [
        "Contains row for each topic in the dataset. These topics are organized into \"channels\" with each channel containing a single \"topic tree\" (which can be traversed through the \"parent\" reference)\n",
        "- `id` - A unique identifier for this topic.\n",
        "\n",
        "- `title` - Title text for this topic.\n",
        "\n",
        "- `description` - Description text (may be empty)\n",
        "\n",
        "- `channel` - The channel (that is, topic tree) this topic is part of.\n",
        "\n",
        "- `category` - Describes the origin of the topic.\n",
        "\n",
        "> 1. `source` - Structure was given by original content creator (e.g. the topic tree as imported from Khan Academy). There are no topics in the test set with this category. \n",
        "\n",
        "> 2. `aligned` - Structure is from a national curriculum or other target taxonomy, with content aligned from multiple sources.\n",
        "\n",
        "> 3. `supplemental` - This is a channel that has to some extent been aligned, with without the same level of granularity or fidelity as an aligned channel.\n",
        "\n",
        "\n",
        "- `language` - Language code for the topic. May not always match apparent language of its title or description, but will always match the language of any associated content items.\n",
        "\n",
        "- `parent` - The id of the topic that contains this topic, if any. This field if empty if the topic is the root node for its channel.\n",
        "\n",
        "- `level` - The depth of this topic within its topic tree. Level 0 means it is a root node (and hence its title is the title of the channel).\n",
        "\n",
        "- `has_content` - Whether there are content items correlated with this topic. Most content is correlated with leaf topics, but some non-leaf topics also have content correlations"
      ],
      "metadata": {
        "id": "oON74mlI4Kfx"
      }
    },
    {
      "cell_type": "code",
      "source": [
        "topics_df = pd.read_csv(\"/content/drive/My Drive/A_ELEC_UBC/Year4/Elec400m/Final Report/Code/Data/topics.csv\")\n",
        "#topics_df = pd.read_csv(\"Code/Data/topics.csv\")"
      ],
      "metadata": {
        "id": "IqZgZpWQAdlj"
      },
      "execution_count": 31,
      "outputs": []
    },
    {
      "cell_type": "code",
      "source": [
        "topics_df.head(5)"
      ],
      "metadata": {
        "colab": {
          "base_uri": "https://localhost:8080/",
          "height": 372
        },
        "id": "yBX0y9M1AdJa",
        "outputId": "72dd3e0e-38d1-4e46-b34d-aac2b79789b2"
      },
      "execution_count": 32,
      "outputs": [
        {
          "output_type": "execute_result",
          "data": {
            "text/plain": [
              "               id                                              title  \\\n",
              "0  t_00004da3a1b2                         Откриването на резисторите   \n",
              "1  t_000095e03056             Unit 3.3 Enlargements and Similarities   \n",
              "2  t_00068291e9a4                    Entradas e saídas de uma função   \n",
              "3  t_00069b63a70a                                        Transcripts   \n",
              "4  t_0006d41a73a8  Графики на експоненциални функции (Алгебра 2 н...   \n",
              "\n",
              "                                         description channel category  level  \\\n",
              "0  Изследване на материали, които предизвикват на...  000cf7   source      4   \n",
              "1                                                NaN  b3f329  aligned      2   \n",
              "2               Entenda um pouco mais sobre funções.  8e286a   source      4   \n",
              "3                                                NaN  6e3ba4   source      3   \n",
              "4  Научи повече за графиките на сложните показате...  000cf7   source      4   \n",
              "\n",
              "  language          parent  has_content  \n",
              "0       bg  t_16e29365b50d         True  \n",
              "1       en  t_aa32fb6252dc        False  \n",
              "2       pt  t_d14b6c2a2b70         True  \n",
              "3       en  t_4054df11a74e         True  \n",
              "4       bg  t_e2452e21d252         True  "
            ],
            "text/html": [
              "\n",
              "  <div id=\"df-d281ba0a-3afc-4650-a8f5-18d1206032fc\">\n",
              "    <div class=\"colab-df-container\">\n",
              "      <div>\n",
              "<style scoped>\n",
              "    .dataframe tbody tr th:only-of-type {\n",
              "        vertical-align: middle;\n",
              "    }\n",
              "\n",
              "    .dataframe tbody tr th {\n",
              "        vertical-align: top;\n",
              "    }\n",
              "\n",
              "    .dataframe thead th {\n",
              "        text-align: right;\n",
              "    }\n",
              "</style>\n",
              "<table border=\"1\" class=\"dataframe\">\n",
              "  <thead>\n",
              "    <tr style=\"text-align: right;\">\n",
              "      <th></th>\n",
              "      <th>id</th>\n",
              "      <th>title</th>\n",
              "      <th>description</th>\n",
              "      <th>channel</th>\n",
              "      <th>category</th>\n",
              "      <th>level</th>\n",
              "      <th>language</th>\n",
              "      <th>parent</th>\n",
              "      <th>has_content</th>\n",
              "    </tr>\n",
              "  </thead>\n",
              "  <tbody>\n",
              "    <tr>\n",
              "      <th>0</th>\n",
              "      <td>t_00004da3a1b2</td>\n",
              "      <td>Откриването на резисторите</td>\n",
              "      <td>Изследване на материали, които предизвикват на...</td>\n",
              "      <td>000cf7</td>\n",
              "      <td>source</td>\n",
              "      <td>4</td>\n",
              "      <td>bg</td>\n",
              "      <td>t_16e29365b50d</td>\n",
              "      <td>True</td>\n",
              "    </tr>\n",
              "    <tr>\n",
              "      <th>1</th>\n",
              "      <td>t_000095e03056</td>\n",
              "      <td>Unit 3.3 Enlargements and Similarities</td>\n",
              "      <td>NaN</td>\n",
              "      <td>b3f329</td>\n",
              "      <td>aligned</td>\n",
              "      <td>2</td>\n",
              "      <td>en</td>\n",
              "      <td>t_aa32fb6252dc</td>\n",
              "      <td>False</td>\n",
              "    </tr>\n",
              "    <tr>\n",
              "      <th>2</th>\n",
              "      <td>t_00068291e9a4</td>\n",
              "      <td>Entradas e saídas de uma função</td>\n",
              "      <td>Entenda um pouco mais sobre funções.</td>\n",
              "      <td>8e286a</td>\n",
              "      <td>source</td>\n",
              "      <td>4</td>\n",
              "      <td>pt</td>\n",
              "      <td>t_d14b6c2a2b70</td>\n",
              "      <td>True</td>\n",
              "    </tr>\n",
              "    <tr>\n",
              "      <th>3</th>\n",
              "      <td>t_00069b63a70a</td>\n",
              "      <td>Transcripts</td>\n",
              "      <td>NaN</td>\n",
              "      <td>6e3ba4</td>\n",
              "      <td>source</td>\n",
              "      <td>3</td>\n",
              "      <td>en</td>\n",
              "      <td>t_4054df11a74e</td>\n",
              "      <td>True</td>\n",
              "    </tr>\n",
              "    <tr>\n",
              "      <th>4</th>\n",
              "      <td>t_0006d41a73a8</td>\n",
              "      <td>Графики на експоненциални функции (Алгебра 2 н...</td>\n",
              "      <td>Научи повече за графиките на сложните показате...</td>\n",
              "      <td>000cf7</td>\n",
              "      <td>source</td>\n",
              "      <td>4</td>\n",
              "      <td>bg</td>\n",
              "      <td>t_e2452e21d252</td>\n",
              "      <td>True</td>\n",
              "    </tr>\n",
              "  </tbody>\n",
              "</table>\n",
              "</div>\n",
              "      <button class=\"colab-df-convert\" onclick=\"convertToInteractive('df-d281ba0a-3afc-4650-a8f5-18d1206032fc')\"\n",
              "              title=\"Convert this dataframe to an interactive table.\"\n",
              "              style=\"display:none;\">\n",
              "        \n",
              "  <svg xmlns=\"http://www.w3.org/2000/svg\" height=\"24px\"viewBox=\"0 0 24 24\"\n",
              "       width=\"24px\">\n",
              "    <path d=\"M0 0h24v24H0V0z\" fill=\"none\"/>\n",
              "    <path d=\"M18.56 5.44l.94 2.06.94-2.06 2.06-.94-2.06-.94-.94-2.06-.94 2.06-2.06.94zm-11 1L8.5 8.5l.94-2.06 2.06-.94-2.06-.94L8.5 2.5l-.94 2.06-2.06.94zm10 10l.94 2.06.94-2.06 2.06-.94-2.06-.94-.94-2.06-.94 2.06-2.06.94z\"/><path d=\"M17.41 7.96l-1.37-1.37c-.4-.4-.92-.59-1.43-.59-.52 0-1.04.2-1.43.59L10.3 9.45l-7.72 7.72c-.78.78-.78 2.05 0 2.83L4 21.41c.39.39.9.59 1.41.59.51 0 1.02-.2 1.41-.59l7.78-7.78 2.81-2.81c.8-.78.8-2.07 0-2.86zM5.41 20L4 18.59l7.72-7.72 1.47 1.35L5.41 20z\"/>\n",
              "  </svg>\n",
              "      </button>\n",
              "      \n",
              "  <style>\n",
              "    .colab-df-container {\n",
              "      display:flex;\n",
              "      flex-wrap:wrap;\n",
              "      gap: 12px;\n",
              "    }\n",
              "\n",
              "    .colab-df-convert {\n",
              "      background-color: #E8F0FE;\n",
              "      border: none;\n",
              "      border-radius: 50%;\n",
              "      cursor: pointer;\n",
              "      display: none;\n",
              "      fill: #1967D2;\n",
              "      height: 32px;\n",
              "      padding: 0 0 0 0;\n",
              "      width: 32px;\n",
              "    }\n",
              "\n",
              "    .colab-df-convert:hover {\n",
              "      background-color: #E2EBFA;\n",
              "      box-shadow: 0px 1px 2px rgba(60, 64, 67, 0.3), 0px 1px 3px 1px rgba(60, 64, 67, 0.15);\n",
              "      fill: #174EA6;\n",
              "    }\n",
              "\n",
              "    [theme=dark] .colab-df-convert {\n",
              "      background-color: #3B4455;\n",
              "      fill: #D2E3FC;\n",
              "    }\n",
              "\n",
              "    [theme=dark] .colab-df-convert:hover {\n",
              "      background-color: #434B5C;\n",
              "      box-shadow: 0px 1px 3px 1px rgba(0, 0, 0, 0.15);\n",
              "      filter: drop-shadow(0px 1px 2px rgba(0, 0, 0, 0.3));\n",
              "      fill: #FFFFFF;\n",
              "    }\n",
              "  </style>\n",
              "\n",
              "      <script>\n",
              "        const buttonEl =\n",
              "          document.querySelector('#df-d281ba0a-3afc-4650-a8f5-18d1206032fc button.colab-df-convert');\n",
              "        buttonEl.style.display =\n",
              "          google.colab.kernel.accessAllowed ? 'block' : 'none';\n",
              "\n",
              "        async function convertToInteractive(key) {\n",
              "          const element = document.querySelector('#df-d281ba0a-3afc-4650-a8f5-18d1206032fc');\n",
              "          const dataTable =\n",
              "            await google.colab.kernel.invokeFunction('convertToInteractive',\n",
              "                                                     [key], {});\n",
              "          if (!dataTable) return;\n",
              "\n",
              "          const docLinkHtml = 'Like what you see? Visit the ' +\n",
              "            '<a target=\"_blank\" href=https://colab.research.google.com/notebooks/data_table.ipynb>data table notebook</a>'\n",
              "            + ' to learn more about interactive tables.';\n",
              "          element.innerHTML = '';\n",
              "          dataTable['output_type'] = 'display_data';\n",
              "          await google.colab.output.renderOutput(dataTable, element);\n",
              "          const docLink = document.createElement('div');\n",
              "          docLink.innerHTML = docLinkHtml;\n",
              "          element.appendChild(docLink);\n",
              "        }\n",
              "      </script>\n",
              "    </div>\n",
              "  </div>\n",
              "  "
            ]
          },
          "metadata": {},
          "execution_count": 32
        }
      ]
    },
    {
      "cell_type": "markdown",
      "source": [
        "### `content.csv`"
      ],
      "metadata": {
        "id": "YWZYsJMeD8D9"
      }
    },
    {
      "cell_type": "markdown",
      "source": [
        "Contains a row for each content item in the dataset. Some content items may not be correlated with any topic.\n",
        "\n",
        "\n",
        "- `id` - A unique identifier for this content item.\n",
        "\n",
        "- `title` - Title text for this content item.\n",
        "\n",
        "- `description` - Description text. May be empty.\n",
        "\n",
        "- `language` - Language code representing the language of this content item.\n",
        "\n",
        "- `kind` - Describes what format of content this item represents, as one of:\n",
        "\n",
        "> 1. `document` (text is extracted from a PDF or EPUB file)\n",
        "\n",
        "> 2. `video` (text is extracted from the subtitle file, if available)\n",
        "\n",
        "> 3. `exercise` (text is extracted from questions/answers)\n",
        "\n",
        "> 4. `audio` (no text)\n",
        "\n",
        "> 5. `html5` (text is extracted from HTML source)\n",
        "\n",
        "- `text` - Extracted text content, if available and if licensing permitted (around half of content items have text content).\n",
        "- `copyright_holder` - If text was extracted from the content, indicates the owner of the copyright for that content. Blank for all test set items.\n",
        "- `license` - If text was extracted from the content, the license under which that content was made available. Blank for all test set items."
      ],
      "metadata": {
        "id": "jnW33dpV7hbi"
      }
    },
    {
      "cell_type": "code",
      "source": [
        "content_df = pd.read_csv(\"/content/drive/My Drive/A_ELEC_UBC/Year4/Elec400m/Final Report/Code/Data/content.csv\")\n",
        "#content_df = pd.read_csv(\"Code/Data/content.csv\")"
      ],
      "metadata": {
        "id": "QoPnBF1lBNDO"
      },
      "execution_count": 33,
      "outputs": []
    },
    {
      "cell_type": "code",
      "source": [
        "content_df.head(5)"
      ],
      "metadata": {
        "colab": {
          "base_uri": "https://localhost:8080/",
          "height": 424
        },
        "id": "Ly0OB8X9BNsM",
        "outputId": "d73d82ff-7a87-4702-ffd5-ee0389de7bc1"
      },
      "execution_count": 34,
      "outputs": [
        {
          "output_type": "execute_result",
          "data": {
            "text/plain": [
              "               id                                             title  \\\n",
              "0  c_00002381196d  Sumar números de varios dígitos: 48,029+233,930    \n",
              "1  c_000087304a9e                    Trovare i fattori di un numero   \n",
              "2  c_0000ad142ddb                           Sumar curvas de demanda   \n",
              "3  c_0000c03adc8d                               Nado de aproximação   \n",
              "4  c_00016694ea2a                  geometry-m3-topic-a-overview.pdf   \n",
              "\n",
              "                                         description      kind  \\\n",
              "0  Suma 48,029+233,930 mediante el algoritmo está...     video   \n",
              "1                    Sal trova i fattori di 120.\\n\\n     video   \n",
              "2                  Cómo añadir curvas de demanda\\n\\n     video   \n",
              "3  Neste vídeo você vai aprender o nado de aproxi...  document   \n",
              "4                   geometry-m3-topic-a-overview.pdf  document   \n",
              "\n",
              "                                                text language  \\\n",
              "0                                                NaN       es   \n",
              "1                                                NaN       it   \n",
              "2                                                NaN       es   \n",
              "3  \\nNado de aproximação\\nSaber nadar nas ondas ...       pt   \n",
              "4  Estándares Comunes del Estado de Nueva York\\n\\...       es   \n",
              "\n",
              "   copyright_holder      license  \n",
              "0               NaN          NaN  \n",
              "1               NaN          NaN  \n",
              "2               NaN          NaN  \n",
              "3  Sikana Education  CC BY-NC-ND  \n",
              "4         Engage NY  CC BY-NC-SA  "
            ],
            "text/html": [
              "\n",
              "  <div id=\"df-65696091-2238-4cee-bb45-2b33f3b89591\">\n",
              "    <div class=\"colab-df-container\">\n",
              "      <div>\n",
              "<style scoped>\n",
              "    .dataframe tbody tr th:only-of-type {\n",
              "        vertical-align: middle;\n",
              "    }\n",
              "\n",
              "    .dataframe tbody tr th {\n",
              "        vertical-align: top;\n",
              "    }\n",
              "\n",
              "    .dataframe thead th {\n",
              "        text-align: right;\n",
              "    }\n",
              "</style>\n",
              "<table border=\"1\" class=\"dataframe\">\n",
              "  <thead>\n",
              "    <tr style=\"text-align: right;\">\n",
              "      <th></th>\n",
              "      <th>id</th>\n",
              "      <th>title</th>\n",
              "      <th>description</th>\n",
              "      <th>kind</th>\n",
              "      <th>text</th>\n",
              "      <th>language</th>\n",
              "      <th>copyright_holder</th>\n",
              "      <th>license</th>\n",
              "    </tr>\n",
              "  </thead>\n",
              "  <tbody>\n",
              "    <tr>\n",
              "      <th>0</th>\n",
              "      <td>c_00002381196d</td>\n",
              "      <td>Sumar números de varios dígitos: 48,029+233,930</td>\n",
              "      <td>Suma 48,029+233,930 mediante el algoritmo está...</td>\n",
              "      <td>video</td>\n",
              "      <td>NaN</td>\n",
              "      <td>es</td>\n",
              "      <td>NaN</td>\n",
              "      <td>NaN</td>\n",
              "    </tr>\n",
              "    <tr>\n",
              "      <th>1</th>\n",
              "      <td>c_000087304a9e</td>\n",
              "      <td>Trovare i fattori di un numero</td>\n",
              "      <td>Sal trova i fattori di 120.\\n\\n</td>\n",
              "      <td>video</td>\n",
              "      <td>NaN</td>\n",
              "      <td>it</td>\n",
              "      <td>NaN</td>\n",
              "      <td>NaN</td>\n",
              "    </tr>\n",
              "    <tr>\n",
              "      <th>2</th>\n",
              "      <td>c_0000ad142ddb</td>\n",
              "      <td>Sumar curvas de demanda</td>\n",
              "      <td>Cómo añadir curvas de demanda\\n\\n</td>\n",
              "      <td>video</td>\n",
              "      <td>NaN</td>\n",
              "      <td>es</td>\n",
              "      <td>NaN</td>\n",
              "      <td>NaN</td>\n",
              "    </tr>\n",
              "    <tr>\n",
              "      <th>3</th>\n",
              "      <td>c_0000c03adc8d</td>\n",
              "      <td>Nado de aproximação</td>\n",
              "      <td>Neste vídeo você vai aprender o nado de aproxi...</td>\n",
              "      <td>document</td>\n",
              "      <td>\\nNado de aproximação\\nSaber nadar nas ondas ...</td>\n",
              "      <td>pt</td>\n",
              "      <td>Sikana Education</td>\n",
              "      <td>CC BY-NC-ND</td>\n",
              "    </tr>\n",
              "    <tr>\n",
              "      <th>4</th>\n",
              "      <td>c_00016694ea2a</td>\n",
              "      <td>geometry-m3-topic-a-overview.pdf</td>\n",
              "      <td>geometry-m3-topic-a-overview.pdf</td>\n",
              "      <td>document</td>\n",
              "      <td>Estándares Comunes del Estado de Nueva York\\n\\...</td>\n",
              "      <td>es</td>\n",
              "      <td>Engage NY</td>\n",
              "      <td>CC BY-NC-SA</td>\n",
              "    </tr>\n",
              "  </tbody>\n",
              "</table>\n",
              "</div>\n",
              "      <button class=\"colab-df-convert\" onclick=\"convertToInteractive('df-65696091-2238-4cee-bb45-2b33f3b89591')\"\n",
              "              title=\"Convert this dataframe to an interactive table.\"\n",
              "              style=\"display:none;\">\n",
              "        \n",
              "  <svg xmlns=\"http://www.w3.org/2000/svg\" height=\"24px\"viewBox=\"0 0 24 24\"\n",
              "       width=\"24px\">\n",
              "    <path d=\"M0 0h24v24H0V0z\" fill=\"none\"/>\n",
              "    <path d=\"M18.56 5.44l.94 2.06.94-2.06 2.06-.94-2.06-.94-.94-2.06-.94 2.06-2.06.94zm-11 1L8.5 8.5l.94-2.06 2.06-.94-2.06-.94L8.5 2.5l-.94 2.06-2.06.94zm10 10l.94 2.06.94-2.06 2.06-.94-2.06-.94-.94-2.06-.94 2.06-2.06.94z\"/><path d=\"M17.41 7.96l-1.37-1.37c-.4-.4-.92-.59-1.43-.59-.52 0-1.04.2-1.43.59L10.3 9.45l-7.72 7.72c-.78.78-.78 2.05 0 2.83L4 21.41c.39.39.9.59 1.41.59.51 0 1.02-.2 1.41-.59l7.78-7.78 2.81-2.81c.8-.78.8-2.07 0-2.86zM5.41 20L4 18.59l7.72-7.72 1.47 1.35L5.41 20z\"/>\n",
              "  </svg>\n",
              "      </button>\n",
              "      \n",
              "  <style>\n",
              "    .colab-df-container {\n",
              "      display:flex;\n",
              "      flex-wrap:wrap;\n",
              "      gap: 12px;\n",
              "    }\n",
              "\n",
              "    .colab-df-convert {\n",
              "      background-color: #E8F0FE;\n",
              "      border: none;\n",
              "      border-radius: 50%;\n",
              "      cursor: pointer;\n",
              "      display: none;\n",
              "      fill: #1967D2;\n",
              "      height: 32px;\n",
              "      padding: 0 0 0 0;\n",
              "      width: 32px;\n",
              "    }\n",
              "\n",
              "    .colab-df-convert:hover {\n",
              "      background-color: #E2EBFA;\n",
              "      box-shadow: 0px 1px 2px rgba(60, 64, 67, 0.3), 0px 1px 3px 1px rgba(60, 64, 67, 0.15);\n",
              "      fill: #174EA6;\n",
              "    }\n",
              "\n",
              "    [theme=dark] .colab-df-convert {\n",
              "      background-color: #3B4455;\n",
              "      fill: #D2E3FC;\n",
              "    }\n",
              "\n",
              "    [theme=dark] .colab-df-convert:hover {\n",
              "      background-color: #434B5C;\n",
              "      box-shadow: 0px 1px 3px 1px rgba(0, 0, 0, 0.15);\n",
              "      filter: drop-shadow(0px 1px 2px rgba(0, 0, 0, 0.3));\n",
              "      fill: #FFFFFF;\n",
              "    }\n",
              "  </style>\n",
              "\n",
              "      <script>\n",
              "        const buttonEl =\n",
              "          document.querySelector('#df-65696091-2238-4cee-bb45-2b33f3b89591 button.colab-df-convert');\n",
              "        buttonEl.style.display =\n",
              "          google.colab.kernel.accessAllowed ? 'block' : 'none';\n",
              "\n",
              "        async function convertToInteractive(key) {\n",
              "          const element = document.querySelector('#df-65696091-2238-4cee-bb45-2b33f3b89591');\n",
              "          const dataTable =\n",
              "            await google.colab.kernel.invokeFunction('convertToInteractive',\n",
              "                                                     [key], {});\n",
              "          if (!dataTable) return;\n",
              "\n",
              "          const docLinkHtml = 'Like what you see? Visit the ' +\n",
              "            '<a target=\"_blank\" href=https://colab.research.google.com/notebooks/data_table.ipynb>data table notebook</a>'\n",
              "            + ' to learn more about interactive tables.';\n",
              "          element.innerHTML = '';\n",
              "          dataTable['output_type'] = 'display_data';\n",
              "          await google.colab.output.renderOutput(dataTable, element);\n",
              "          const docLink = document.createElement('div');\n",
              "          docLink.innerHTML = docLinkHtml;\n",
              "          element.appendChild(docLink);\n",
              "        }\n",
              "      </script>\n",
              "    </div>\n",
              "  </div>\n",
              "  "
            ]
          },
          "metadata": {},
          "execution_count": 34
        }
      ]
    },
    {
      "cell_type": "markdown",
      "source": [
        "### `correlations.csv`\n",
        "The content items associated to topics in the training set. A single content item may be associated to more than one topic. In each row, we give a `topic_id` and a list of all associated `content_ids`. These comprise the targets of the training set."
      ],
      "metadata": {
        "id": "WI2riV229Lyk"
      }
    },
    {
      "cell_type": "code",
      "source": [
        "correlations_df = pd.read_csv(\"/content/drive/My Drive/A_ELEC_UBC/Year4/Elec400m/Final Report/Code/Data/correlations.csv\")\n",
        "#correlations_df = pd.read_csv(\"Code/Data/correlations.csv\")"
      ],
      "metadata": {
        "id": "L5i1H1STBbwj"
      },
      "execution_count": 35,
      "outputs": []
    },
    {
      "cell_type": "code",
      "source": [
        "correlations_df.head(3)"
      ],
      "metadata": {
        "colab": {
          "base_uri": "https://localhost:8080/",
          "height": 143
        },
        "id": "svsW4lTDBcq2",
        "outputId": "d5ddd638-db8e-4de5-922c-89b966d1c82f"
      },
      "execution_count": 36,
      "outputs": [
        {
          "output_type": "execute_result",
          "data": {
            "text/plain": [
              "         topic_id                                        content_ids\n",
              "0  t_00004da3a1b2  c_1108dd0c7a5d c_376c5a8eb028 c_5bc0e1e2cba0 c...\n",
              "1  t_00068291e9a4  c_639ea2ef9c95 c_89ce9367be10 c_ac1672cdcd2c c...\n",
              "2  t_00069b63a70a                                     c_11a1dc0bfb99"
            ],
            "text/html": [
              "\n",
              "  <div id=\"df-bd0c2379-09eb-43ab-871d-ff04212d84ba\">\n",
              "    <div class=\"colab-df-container\">\n",
              "      <div>\n",
              "<style scoped>\n",
              "    .dataframe tbody tr th:only-of-type {\n",
              "        vertical-align: middle;\n",
              "    }\n",
              "\n",
              "    .dataframe tbody tr th {\n",
              "        vertical-align: top;\n",
              "    }\n",
              "\n",
              "    .dataframe thead th {\n",
              "        text-align: right;\n",
              "    }\n",
              "</style>\n",
              "<table border=\"1\" class=\"dataframe\">\n",
              "  <thead>\n",
              "    <tr style=\"text-align: right;\">\n",
              "      <th></th>\n",
              "      <th>topic_id</th>\n",
              "      <th>content_ids</th>\n",
              "    </tr>\n",
              "  </thead>\n",
              "  <tbody>\n",
              "    <tr>\n",
              "      <th>0</th>\n",
              "      <td>t_00004da3a1b2</td>\n",
              "      <td>c_1108dd0c7a5d c_376c5a8eb028 c_5bc0e1e2cba0 c...</td>\n",
              "    </tr>\n",
              "    <tr>\n",
              "      <th>1</th>\n",
              "      <td>t_00068291e9a4</td>\n",
              "      <td>c_639ea2ef9c95 c_89ce9367be10 c_ac1672cdcd2c c...</td>\n",
              "    </tr>\n",
              "    <tr>\n",
              "      <th>2</th>\n",
              "      <td>t_00069b63a70a</td>\n",
              "      <td>c_11a1dc0bfb99</td>\n",
              "    </tr>\n",
              "  </tbody>\n",
              "</table>\n",
              "</div>\n",
              "      <button class=\"colab-df-convert\" onclick=\"convertToInteractive('df-bd0c2379-09eb-43ab-871d-ff04212d84ba')\"\n",
              "              title=\"Convert this dataframe to an interactive table.\"\n",
              "              style=\"display:none;\">\n",
              "        \n",
              "  <svg xmlns=\"http://www.w3.org/2000/svg\" height=\"24px\"viewBox=\"0 0 24 24\"\n",
              "       width=\"24px\">\n",
              "    <path d=\"M0 0h24v24H0V0z\" fill=\"none\"/>\n",
              "    <path d=\"M18.56 5.44l.94 2.06.94-2.06 2.06-.94-2.06-.94-.94-2.06-.94 2.06-2.06.94zm-11 1L8.5 8.5l.94-2.06 2.06-.94-2.06-.94L8.5 2.5l-.94 2.06-2.06.94zm10 10l.94 2.06.94-2.06 2.06-.94-2.06-.94-.94-2.06-.94 2.06-2.06.94z\"/><path d=\"M17.41 7.96l-1.37-1.37c-.4-.4-.92-.59-1.43-.59-.52 0-1.04.2-1.43.59L10.3 9.45l-7.72 7.72c-.78.78-.78 2.05 0 2.83L4 21.41c.39.39.9.59 1.41.59.51 0 1.02-.2 1.41-.59l7.78-7.78 2.81-2.81c.8-.78.8-2.07 0-2.86zM5.41 20L4 18.59l7.72-7.72 1.47 1.35L5.41 20z\"/>\n",
              "  </svg>\n",
              "      </button>\n",
              "      \n",
              "  <style>\n",
              "    .colab-df-container {\n",
              "      display:flex;\n",
              "      flex-wrap:wrap;\n",
              "      gap: 12px;\n",
              "    }\n",
              "\n",
              "    .colab-df-convert {\n",
              "      background-color: #E8F0FE;\n",
              "      border: none;\n",
              "      border-radius: 50%;\n",
              "      cursor: pointer;\n",
              "      display: none;\n",
              "      fill: #1967D2;\n",
              "      height: 32px;\n",
              "      padding: 0 0 0 0;\n",
              "      width: 32px;\n",
              "    }\n",
              "\n",
              "    .colab-df-convert:hover {\n",
              "      background-color: #E2EBFA;\n",
              "      box-shadow: 0px 1px 2px rgba(60, 64, 67, 0.3), 0px 1px 3px 1px rgba(60, 64, 67, 0.15);\n",
              "      fill: #174EA6;\n",
              "    }\n",
              "\n",
              "    [theme=dark] .colab-df-convert {\n",
              "      background-color: #3B4455;\n",
              "      fill: #D2E3FC;\n",
              "    }\n",
              "\n",
              "    [theme=dark] .colab-df-convert:hover {\n",
              "      background-color: #434B5C;\n",
              "      box-shadow: 0px 1px 3px 1px rgba(0, 0, 0, 0.15);\n",
              "      filter: drop-shadow(0px 1px 2px rgba(0, 0, 0, 0.3));\n",
              "      fill: #FFFFFF;\n",
              "    }\n",
              "  </style>\n",
              "\n",
              "      <script>\n",
              "        const buttonEl =\n",
              "          document.querySelector('#df-bd0c2379-09eb-43ab-871d-ff04212d84ba button.colab-df-convert');\n",
              "        buttonEl.style.display =\n",
              "          google.colab.kernel.accessAllowed ? 'block' : 'none';\n",
              "\n",
              "        async function convertToInteractive(key) {\n",
              "          const element = document.querySelector('#df-bd0c2379-09eb-43ab-871d-ff04212d84ba');\n",
              "          const dataTable =\n",
              "            await google.colab.kernel.invokeFunction('convertToInteractive',\n",
              "                                                     [key], {});\n",
              "          if (!dataTable) return;\n",
              "\n",
              "          const docLinkHtml = 'Like what you see? Visit the ' +\n",
              "            '<a target=\"_blank\" href=https://colab.research.google.com/notebooks/data_table.ipynb>data table notebook</a>'\n",
              "            + ' to learn more about interactive tables.';\n",
              "          element.innerHTML = '';\n",
              "          dataTable['output_type'] = 'display_data';\n",
              "          await google.colab.output.renderOutput(dataTable, element);\n",
              "          const docLink = document.createElement('div');\n",
              "          docLink.innerHTML = docLinkHtml;\n",
              "          element.appendChild(docLink);\n",
              "        }\n",
              "      </script>\n",
              "    </div>\n",
              "  </div>\n",
              "  "
            ]
          },
          "metadata": {},
          "execution_count": 36
        }
      ]
    },
    {
      "cell_type": "markdown",
      "source": [
        "### `sample_submission.csv`\n",
        "A submission file in the correct format."
      ],
      "metadata": {
        "id": "kqOP-9ZY9uYI"
      }
    },
    {
      "cell_type": "code",
      "source": [
        "sample_submission_df = pd.read_csv(\"/content/drive/My Drive/A_ELEC_UBC/Year4/Elec400m/Final Report/Code/Data/sample_submission.csv\")\n",
        "#sample_submission_df = pd.read_csv(\"Code/Data/sample_submission.csv\")"
      ],
      "metadata": {
        "id": "SRhAQnauB9xL"
      },
      "execution_count": 37,
      "outputs": []
    },
    {
      "cell_type": "code",
      "source": [
        "sample_submission_df.head(3)"
      ],
      "metadata": {
        "colab": {
          "base_uri": "https://localhost:8080/",
          "height": 143
        },
        "id": "wf_sYKyRCHIT",
        "outputId": "30799241-4b07-4636-c1f0-56639bc49471"
      },
      "execution_count": 38,
      "outputs": [
        {
          "output_type": "execute_result",
          "data": {
            "text/plain": [
              "         topic_id                                        content_ids\n",
              "0  t_00004da3a1b2  c_1108dd0c7a5d c_376c5a8eb028 c_5bc0e1e2cba0 c...\n",
              "1  t_00068291e9a4  c_639ea2ef9c95 c_89ce9367be10 c_ac1672cdcd2c c...\n",
              "2  t_00069b63a70a                                     c_11a1dc0bfb99"
            ],
            "text/html": [
              "\n",
              "  <div id=\"df-ce4f5027-be42-4217-bd6a-11c119d4417e\">\n",
              "    <div class=\"colab-df-container\">\n",
              "      <div>\n",
              "<style scoped>\n",
              "    .dataframe tbody tr th:only-of-type {\n",
              "        vertical-align: middle;\n",
              "    }\n",
              "\n",
              "    .dataframe tbody tr th {\n",
              "        vertical-align: top;\n",
              "    }\n",
              "\n",
              "    .dataframe thead th {\n",
              "        text-align: right;\n",
              "    }\n",
              "</style>\n",
              "<table border=\"1\" class=\"dataframe\">\n",
              "  <thead>\n",
              "    <tr style=\"text-align: right;\">\n",
              "      <th></th>\n",
              "      <th>topic_id</th>\n",
              "      <th>content_ids</th>\n",
              "    </tr>\n",
              "  </thead>\n",
              "  <tbody>\n",
              "    <tr>\n",
              "      <th>0</th>\n",
              "      <td>t_00004da3a1b2</td>\n",
              "      <td>c_1108dd0c7a5d c_376c5a8eb028 c_5bc0e1e2cba0 c...</td>\n",
              "    </tr>\n",
              "    <tr>\n",
              "      <th>1</th>\n",
              "      <td>t_00068291e9a4</td>\n",
              "      <td>c_639ea2ef9c95 c_89ce9367be10 c_ac1672cdcd2c c...</td>\n",
              "    </tr>\n",
              "    <tr>\n",
              "      <th>2</th>\n",
              "      <td>t_00069b63a70a</td>\n",
              "      <td>c_11a1dc0bfb99</td>\n",
              "    </tr>\n",
              "  </tbody>\n",
              "</table>\n",
              "</div>\n",
              "      <button class=\"colab-df-convert\" onclick=\"convertToInteractive('df-ce4f5027-be42-4217-bd6a-11c119d4417e')\"\n",
              "              title=\"Convert this dataframe to an interactive table.\"\n",
              "              style=\"display:none;\">\n",
              "        \n",
              "  <svg xmlns=\"http://www.w3.org/2000/svg\" height=\"24px\"viewBox=\"0 0 24 24\"\n",
              "       width=\"24px\">\n",
              "    <path d=\"M0 0h24v24H0V0z\" fill=\"none\"/>\n",
              "    <path d=\"M18.56 5.44l.94 2.06.94-2.06 2.06-.94-2.06-.94-.94-2.06-.94 2.06-2.06.94zm-11 1L8.5 8.5l.94-2.06 2.06-.94-2.06-.94L8.5 2.5l-.94 2.06-2.06.94zm10 10l.94 2.06.94-2.06 2.06-.94-2.06-.94-.94-2.06-.94 2.06-2.06.94z\"/><path d=\"M17.41 7.96l-1.37-1.37c-.4-.4-.92-.59-1.43-.59-.52 0-1.04.2-1.43.59L10.3 9.45l-7.72 7.72c-.78.78-.78 2.05 0 2.83L4 21.41c.39.39.9.59 1.41.59.51 0 1.02-.2 1.41-.59l7.78-7.78 2.81-2.81c.8-.78.8-2.07 0-2.86zM5.41 20L4 18.59l7.72-7.72 1.47 1.35L5.41 20z\"/>\n",
              "  </svg>\n",
              "      </button>\n",
              "      \n",
              "  <style>\n",
              "    .colab-df-container {\n",
              "      display:flex;\n",
              "      flex-wrap:wrap;\n",
              "      gap: 12px;\n",
              "    }\n",
              "\n",
              "    .colab-df-convert {\n",
              "      background-color: #E8F0FE;\n",
              "      border: none;\n",
              "      border-radius: 50%;\n",
              "      cursor: pointer;\n",
              "      display: none;\n",
              "      fill: #1967D2;\n",
              "      height: 32px;\n",
              "      padding: 0 0 0 0;\n",
              "      width: 32px;\n",
              "    }\n",
              "\n",
              "    .colab-df-convert:hover {\n",
              "      background-color: #E2EBFA;\n",
              "      box-shadow: 0px 1px 2px rgba(60, 64, 67, 0.3), 0px 1px 3px 1px rgba(60, 64, 67, 0.15);\n",
              "      fill: #174EA6;\n",
              "    }\n",
              "\n",
              "    [theme=dark] .colab-df-convert {\n",
              "      background-color: #3B4455;\n",
              "      fill: #D2E3FC;\n",
              "    }\n",
              "\n",
              "    [theme=dark] .colab-df-convert:hover {\n",
              "      background-color: #434B5C;\n",
              "      box-shadow: 0px 1px 3px 1px rgba(0, 0, 0, 0.15);\n",
              "      filter: drop-shadow(0px 1px 2px rgba(0, 0, 0, 0.3));\n",
              "      fill: #FFFFFF;\n",
              "    }\n",
              "  </style>\n",
              "\n",
              "      <script>\n",
              "        const buttonEl =\n",
              "          document.querySelector('#df-ce4f5027-be42-4217-bd6a-11c119d4417e button.colab-df-convert');\n",
              "        buttonEl.style.display =\n",
              "          google.colab.kernel.accessAllowed ? 'block' : 'none';\n",
              "\n",
              "        async function convertToInteractive(key) {\n",
              "          const element = document.querySelector('#df-ce4f5027-be42-4217-bd6a-11c119d4417e');\n",
              "          const dataTable =\n",
              "            await google.colab.kernel.invokeFunction('convertToInteractive',\n",
              "                                                     [key], {});\n",
              "          if (!dataTable) return;\n",
              "\n",
              "          const docLinkHtml = 'Like what you see? Visit the ' +\n",
              "            '<a target=\"_blank\" href=https://colab.research.google.com/notebooks/data_table.ipynb>data table notebook</a>'\n",
              "            + ' to learn more about interactive tables.';\n",
              "          element.innerHTML = '';\n",
              "          dataTable['output_type'] = 'display_data';\n",
              "          await google.colab.output.renderOutput(dataTable, element);\n",
              "          const docLink = document.createElement('div');\n",
              "          docLink.innerHTML = docLinkHtml;\n",
              "          element.appendChild(docLink);\n",
              "        }\n",
              "      </script>\n",
              "    </div>\n",
              "  </div>\n",
              "  "
            ]
          },
          "metadata": {},
          "execution_count": 38
        }
      ]
    },
    {
      "cell_type": "markdown",
      "source": [
        "# Data Pre-processing"
      ],
      "metadata": {
        "id": "PnltEUUoCiTf"
      }
    },
    {
      "cell_type": "markdown",
      "source": [
        "## Separate X (`content_ids`) from y(`topic_ids`)"
      ],
      "metadata": {
        "id": "Tz3TdQe9CnXQ"
      }
    },
    {
      "cell_type": "code",
      "source": [
        "# get topic_ids and their corresponding content_ids as numpy arrays\n",
        "correlations_topic_ids = correlations_df.iloc[:,:-1].values\n",
        "correlations_content_ids = correlations_df.iloc[:,1:2].values"
      ],
      "metadata": {
        "id": "1PtvGCJoD0Ab"
      },
      "execution_count": 39,
      "outputs": []
    },
    {
      "cell_type": "code",
      "source": [
        "len(correlations_content_ids)"
      ],
      "metadata": {
        "colab": {
          "base_uri": "https://localhost:8080/"
        },
        "id": "RvLFAevpaeBc",
        "outputId": "a15d003d-9b9a-47a7-f356-1280f9e404c5"
      },
      "execution_count": 40,
      "outputs": [
        {
          "output_type": "execute_result",
          "data": {
            "text/plain": [
              "61517"
            ]
          },
          "metadata": {},
          "execution_count": 40
        }
      ]
    },
    {
      "cell_type": "markdown",
      "source": [
        "- Create a new dataset by creating a single row of each content_id and assign the corresponding topic id\n",
        "- Since splitting all the content_ids into a dataset of its own takes too long, start with data with just the first 1000 rows"
      ],
      "metadata": {
        "id": "gE-RWaKPsWrm"
      }
    },
    {
      "cell_type": "code",
      "source": [
        "correlations_topic_ids = correlations_topic_ids[0:1000]\n",
        "correlations_content_ids = correlations_content_ids[0:1000]"
      ],
      "metadata": {
        "id": "EjYIZBi4atab"
      },
      "execution_count": 41,
      "outputs": []
    },
    {
      "cell_type": "code",
      "source": [
        "print(f\"topic_ids:\\n {correlations_topic_ids[0:5]}\")\n",
        "print(f\"Corresponding content ids:\\n {correlations_content_ids[0:5]}\")"
      ],
      "metadata": {
        "colab": {
          "base_uri": "https://localhost:8080/"
        },
        "id": "am6st68dKoCe",
        "outputId": "99ab547e-8a6f-4284-f513-4124bff99a14"
      },
      "execution_count": 42,
      "outputs": [
        {
          "output_type": "stream",
          "name": "stdout",
          "text": [
            "topic_ids:\n",
            " [['t_00004da3a1b2']\n",
            " ['t_00068291e9a4']\n",
            " ['t_00069b63a70a']\n",
            " ['t_0006d41a73a8']\n",
            " ['t_0008768bdee6']]\n",
            "Corresponding content ids:\n",
            " [['c_1108dd0c7a5d c_376c5a8eb028 c_5bc0e1e2cba0 c_76231f9d0b5e']\n",
            " ['c_639ea2ef9c95 c_89ce9367be10 c_ac1672cdcd2c c_ebb7fdf10a7e']\n",
            " ['c_11a1dc0bfb99']\n",
            " ['c_0c6473c3480d c_1c57a1316568 c_5e375cf14c47 c_b972646631cb c_d7a0d7eaf799']\n",
            " ['c_34e1424229b4 c_7d1a964d66d5 c_aab93ee667f4']]\n"
          ]
        }
      ]
    },
    {
      "cell_type": "code",
      "source": [
        "content_ids = np.array([[0]])\n",
        "topic_ids = np.array([[0]])\n",
        "\n",
        "i = 0\n",
        "while i<len(correlations_topic_ids):\n",
        "  topic_id = correlations_topic_ids[i][0]\n",
        "  # print(topic_id)\n",
        "  content_ids_string = correlations_content_ids[i][0] #string of space separated content ids\n",
        "  content_ids_arr = content_ids_string.split(\" \")\n",
        "  j = 0\n",
        "  while (j<len(content_ids_arr)):\n",
        "    content_id = content_ids_arr[j]\n",
        "    # print(content_id)\n",
        "    content_ids = np.append(content_ids,np.array([[content_id]]),axis=0)  \n",
        "    topic_ids = np.append(topic_ids,np.array([[topic_id]]),axis=0)\n",
        "    j += 1\n",
        "  i += 1\n",
        "\n",
        "# remove the first zeros added when creating arrays\n",
        "content_ids = content_ids[1:]\n",
        "topic_ids = topic_ids[1:]"
      ],
      "metadata": {
        "id": "oPDiUZO-L1N9"
      },
      "execution_count": 43,
      "outputs": []
    },
    {
      "cell_type": "code",
      "source": [
        "print(f\"Content ids numpy array: \\n{content_ids},\\nTopic ids numpy array: \\n{topic_ids}\")"
      ],
      "metadata": {
        "colab": {
          "base_uri": "https://localhost:8080/"
        },
        "id": "3PIdUw1pYbxz",
        "outputId": "53d36e67-382a-4eab-8323-5fde6e0f4494"
      },
      "execution_count": 44,
      "outputs": [
        {
          "output_type": "stream",
          "name": "stdout",
          "text": [
            "Content ids numpy array: \n",
            "[['c_1108dd0c7a5d']\n",
            " ['c_376c5a8eb028']\n",
            " ['c_5bc0e1e2cba0']\n",
            " ...\n",
            " ['c_9b6a3221cc9d']\n",
            " ['c_187f923aedef']\n",
            " ['c_d9f1eb259ff1']],\n",
            "Topic ids numpy array: \n",
            "[['t_00004da3a1b2']\n",
            " ['t_00004da3a1b2']\n",
            " ['t_00004da3a1b2']\n",
            " ...\n",
            " ['t_045ed925d7eb']\n",
            " ['t_0460a35757fe']\n",
            " ['t_0460a35757fe']]\n"
          ]
        }
      ]
    },
    {
      "cell_type": "code",
      "source": [
        "#Denote content_id as X and corresponding topic_ids as y \n",
        "X = content_ids    #independent variable array\n",
        "y = topic_ids  #dependent variable array"
      ],
      "metadata": {
        "id": "wzHappYnDfuJ"
      },
      "execution_count": 45,
      "outputs": []
    },
    {
      "cell_type": "code",
      "source": [
        "X[0:5]"
      ],
      "metadata": {
        "colab": {
          "base_uri": "https://localhost:8080/"
        },
        "id": "VM2etaHoGN8c",
        "outputId": "14f71590-0828-4178-de98-3a0600e9ef69"
      },
      "execution_count": 46,
      "outputs": [
        {
          "output_type": "execute_result",
          "data": {
            "text/plain": [
              "array([['c_1108dd0c7a5d'],\n",
              "       ['c_376c5a8eb028'],\n",
              "       ['c_5bc0e1e2cba0'],\n",
              "       ['c_76231f9d0b5e'],\n",
              "       ['c_639ea2ef9c95']], dtype='<U21')"
            ]
          },
          "metadata": {},
          "execution_count": 46
        }
      ]
    },
    {
      "cell_type": "code",
      "source": [
        "y[0:5]"
      ],
      "metadata": {
        "colab": {
          "base_uri": "https://localhost:8080/"
        },
        "id": "K5PK0V7-Gac4",
        "outputId": "2a8dfb75-c1d5-4dc6-a577-03e6b749bb15"
      },
      "execution_count": 47,
      "outputs": [
        {
          "output_type": "execute_result",
          "data": {
            "text/plain": [
              "array([['t_00004da3a1b2'],\n",
              "       ['t_00004da3a1b2'],\n",
              "       ['t_00004da3a1b2'],\n",
              "       ['t_00004da3a1b2'],\n",
              "       ['t_00068291e9a4']], dtype='<U21')"
            ]
          },
          "metadata": {},
          "execution_count": 47
        }
      ]
    },
    {
      "cell_type": "markdown",
      "source": [
        "## Data visualization\n"
      ],
      "metadata": {
        "id": "puJx_poVmRu1"
      }
    },
    {
      "cell_type": "markdown",
      "source": [
        "### Missing values"
      ],
      "metadata": {
        "id": "WcNeQuz2ttFP"
      }
    },
    {
      "cell_type": "markdown",
      "source": [
        "We are going to use the `Missingno` library to understand how sparse this dataset is. We'll reference this example to do this [2]"
      ],
      "metadata": {
        "id": "rdfkZ0HKmXWi"
      }
    },
    {
      "cell_type": "code",
      "source": [
        "import missingno as msno "
      ],
      "metadata": {
        "id": "eOmRzrMZoJz-"
      },
      "execution_count": 48,
      "outputs": []
    },
    {
      "cell_type": "code",
      "source": [
        "msno.matrix(content_df.sample(500))"
      ],
      "metadata": {
        "colab": {
          "base_uri": "https://localhost:8080/",
          "height": 470
        },
        "id": "o-Iz6QTBoxsO",
        "outputId": "e1b9bdc2-f4a8-491b-94ea-f92f5436035e"
      },
      "execution_count": 49,
      "outputs": [
        {
          "output_type": "execute_result",
          "data": {
            "text/plain": [
              "<matplotlib.axes._subplots.AxesSubplot at 0x7f92f6bb9df0>"
            ]
          },
          "metadata": {},
          "execution_count": 49
        },
        {
          "output_type": "display_data",
          "data": {
            "text/plain": [
              "<Figure size 1800x720 with 2 Axes>"
            ],
            "image/png": "[encoded data removed]"
          },
          "metadata": {
            "needs_background": "light"
          }
        }
      ]
    },
    {
      "cell_type": "code",
      "source": [
        "msno.bar(content_df.sample(500))"
      ],
      "metadata": {
        "colab": {
          "base_uri": "https://localhost:8080/",
          "height": 483
        },
        "id": "z8gRcR-LrsDc",
        "outputId": "5714d767-3e63-4931-e9c4-9f11b9b76fd1"
      },
      "execution_count": 50,
      "outputs": [
        {
          "output_type": "execute_result",
          "data": {
            "text/plain": [
              "<matplotlib.axes._subplots.AxesSubplot at 0x7f92f4302520>"
            ]
          },
          "metadata": {},
          "execution_count": 50
        },
        {
          "output_type": "display_data",
          "data": {
            "text/plain": [
              "<Figure size 1800x720 with 3 Axes>"
            ],
            "image/png": "[encoded data removed]"
          },
          "metadata": {
            "needs_background": "light"
          }
        }
      ]
    },
    {
      "cell_type": "markdown",
      "source": [
        "- For `content` data, we find that the `kind`,`language` and `title` columns are dense compared to the remaining sparse columns\n",
        "- `kind` and `language` are each categorical hence they will make good features for a classification model \n",
        "- `title` will require a Natural Language Processing (NLP) model.\n",
        "- Try making a classification model to start with then a Natural Language Processing model that looks for the relationship between words in `title`(and maybe the sparsely populated `description`, and `text`)"
      ],
      "metadata": {
        "id": "BCbAwnaMpN5g"
      }
    },
    {
      "cell_type": "code",
      "source": [
        "msno.matrix(topics_df.sample(500))"
      ],
      "metadata": {
        "colab": {
          "base_uri": "https://localhost:8080/",
          "height": 453
        },
        "id": "WtoHTAT0o3p0",
        "outputId": "c3bae16c-0242-4cf1-b2e9-388d0b40b0df"
      },
      "execution_count": 23,
      "outputs": [
        {
          "output_type": "execute_result",
          "data": {
            "text/plain": [
              "<matplotlib.axes._subplots.AxesSubplot at 0x7f406a26c730>"
            ]
          },
          "metadata": {},
          "execution_count": 23
        },
        {
          "output_type": "display_data",
          "data": {
            "text/plain": [
              "<Figure size 1800x720 with 2 Axes>"
            ],
            "image/png": "[encoded data removed]"
          },
          "metadata": {
            "needs_background": "light"
          }
        }
      ]
    },
    {
      "cell_type": "code",
      "source": [
        "msno.bar(topics_df.sample(500))"
      ],
      "metadata": {
        "colab": {
          "base_uri": "https://localhost:8080/",
          "height": 466
        },
        "id": "R4ng6pV9r-1L",
        "outputId": "33077a71-6e5f-4775-872e-2b50161cbdc8"
      },
      "execution_count": 24,
      "outputs": [
        {
          "output_type": "execute_result",
          "data": {
            "text/plain": [
              "<matplotlib.axes._subplots.AxesSubplot at 0x7f406a25e790>"
            ]
          },
          "metadata": {},
          "execution_count": 24
        },
        {
          "output_type": "display_data",
          "data": {
            "text/plain": [
              "<Figure size 1800x720 with 3 Axes>"
            ],
            "image/png": "[encoded data removed]"
          },
          "metadata": {
            "needs_background": "light"
          }
        }
      ]
    },
    {
      "cell_type": "markdown",
      "source": [
        "- For `topic` data, `channel`, `category`,`level`,`language` and `has_content` are categorical columns hence can be used in the classification model \n",
        "- `title` and `description` will be added to an NLP model that we will build after the clasification model"
      ],
      "metadata": {
        "id": "GfJsIy46orUW"
      }
    },
    {
      "cell_type": "markdown",
      "source": [
        "### Value counts"
      ],
      "metadata": {
        "id": "YSktm5eJtyPV"
      }
    },
    {
      "cell_type": "code",
      "source": [
        "language_counts_content = content_df.language.value_counts()\n",
        "language_counts_content.plot(kind=\"bar\", title=\"Languages in Content Data\")"
      ],
      "metadata": {
        "colab": {
          "base_uri": "https://localhost:8080/",
          "height": 308
        },
        "id": "ALIM_EEUt-Ye",
        "outputId": "f2bd9cc6-3828-4f5f-cd33-43f65c9557e2"
      },
      "execution_count": 25,
      "outputs": [
        {
          "output_type": "execute_result",
          "data": {
            "text/plain": [
              "<matplotlib.axes._subplots.AxesSubplot at 0x7f406a129520>"
            ]
          },
          "metadata": {},
          "execution_count": 25
        },
        {
          "output_type": "display_data",
          "data": {
            "text/plain": [
              "<Figure size 432x288 with 1 Axes>"
            ],
            "image/png": "[encoded data removed]"
          },
          "metadata": {
            "needs_background": "light"
          }
        }
      ]
    },
    {
      "cell_type": "markdown",
      "source": [
        "English is the predominant language in the data. As a result we have an option to use English based NLP models. However for better performance,we might need a multilanguage NLP model"
      ],
      "metadata": {
        "id": "bf5WyPmdoa9t"
      }
    },
    {
      "cell_type": "code",
      "source": [
        "kind_counts_content = content_df.kind.value_counts()\n",
        "kind_counts_content.plot(kind=\"bar\", title=\"Kind in Content Data\")"
      ],
      "metadata": {
        "colab": {
          "base_uri": "https://localhost:8080/",
          "height": 339
        },
        "id": "kkntSkpbvriV",
        "outputId": "ce7ad58e-fd75-41a6-dde0-0d88a103cb82"
      },
      "execution_count": 51,
      "outputs": [
        {
          "output_type": "execute_result",
          "data": {
            "text/plain": [
              "<matplotlib.axes._subplots.AxesSubplot at 0x7f92f2509310>"
            ]
          },
          "metadata": {},
          "execution_count": 51
        },
        {
          "output_type": "display_data",
          "data": {
            "text/plain": [
              "<Figure size 432x288 with 1 Axes>"
            ],
            "image/png": "[encoded data removed]"
          },
          "metadata": {
            "needs_background": "light"
          }
        }
      ]
    },
    {
      "cell_type": "code",
      "source": [
        "language_counts_topic = topics_df.language.value_counts()\n",
        "language_counts_topic.plot(kind=\"bar\", title=\"Languages in Topic Data\")"
      ],
      "metadata": {
        "colab": {
          "base_uri": "https://localhost:8080/",
          "height": 308
        },
        "id": "v8ZBX_yavrYK",
        "outputId": "a8fb8b7c-a534-4bc7-d151-d3f830194c10"
      },
      "execution_count": 52,
      "outputs": [
        {
          "output_type": "execute_result",
          "data": {
            "text/plain": [
              "<matplotlib.axes._subplots.AxesSubplot at 0x7f92f24f01f0>"
            ]
          },
          "metadata": {},
          "execution_count": 52
        },
        {
          "output_type": "display_data",
          "data": {
            "text/plain": [
              "<Figure size 432x288 with 1 Axes>"
            ],
            "image/png": "[encoded data removed]"
          },
          "metadata": {
            "needs_background": "light"
          }
        }
      ]
    },
    {
      "cell_type": "code",
      "source": [
        "category_counts_topic = topics_df.category.value_counts()\n",
        "category_counts_topic.plot(kind=\"bar\", title=\"Categories in Topic Data\")"
      ],
      "metadata": {
        "colab": {
          "base_uri": "https://localhost:8080/",
          "height": 356
        },
        "id": "v5Bwioz5wIsO",
        "outputId": "5b924130-ff47-458a-8791-3dd7afde36fb"
      },
      "execution_count": 53,
      "outputs": [
        {
          "output_type": "execute_result",
          "data": {
            "text/plain": [
              "<matplotlib.axes._subplots.AxesSubplot at 0x7f92f242b670>"
            ]
          },
          "metadata": {},
          "execution_count": 53
        },
        {
          "output_type": "display_data",
          "data": {
            "text/plain": [
              "<Figure size 432x288 with 1 Axes>"
            ],
            "image/png": "[encoded data removed]"
          },
          "metadata": {
            "needs_background": "light"
          }
        }
      ]
    },
    {
      "cell_type": "code",
      "source": [
        "level_counts_topic = topics_df.level.value_counts()\n",
        "level_counts_topic.plot(kind=\"bar\", title=\"Levels in Topic Data\")"
      ],
      "metadata": {
        "colab": {
          "base_uri": "https://localhost:8080/",
          "height": 301
        },
        "id": "nri1iABMwjUv",
        "outputId": "e660840d-a749-4dee-c04a-68f97a5c7d0d"
      },
      "execution_count": 54,
      "outputs": [
        {
          "output_type": "execute_result",
          "data": {
            "text/plain": [
              "<matplotlib.axes._subplots.AxesSubplot at 0x7f92f2403100>"
            ]
          },
          "metadata": {},
          "execution_count": 54
        },
        {
          "output_type": "display_data",
          "data": {
            "text/plain": [
              "<Figure size 432x288 with 1 Axes>"
            ],
            "image/png": "[encoded data removed]"
          },
          "metadata": {
            "needs_background": "light"
          }
        }
      ]
    },
    {
      "cell_type": "code",
      "source": [
        "# Top 5 most frequent channels/topic trees\n",
        "channel_counts_topic = topics_df.channel.value_counts()\n",
        "channel_counts_topic.sort_values(ascending=False).head(5)"
      ],
      "metadata": {
        "colab": {
          "base_uri": "https://localhost:8080/"
        },
        "id": "ewPORaU0xHut",
        "outputId": "0838e931-5980-4395-a29d-d06661f0f465"
      },
      "execution_count": 55,
      "outputs": [
        {
          "output_type": "execute_result",
          "data": {
            "text/plain": [
              "fef095    5770\n",
              "0ec697    5355\n",
              "6e90a7    4554\n",
              "2ee29d    4438\n",
              "36a98b    3667\n",
              "Name: channel, dtype: int64"
            ]
          },
          "metadata": {},
          "execution_count": 55
        }
      ]
    },
    {
      "cell_type": "code",
      "source": [
        "topics_df.has_content.value_counts()"
      ],
      "metadata": {
        "colab": {
          "base_uri": "https://localhost:8080/"
        },
        "id": "4JHu2NVxyQc0",
        "outputId": "bdb67db4-373a-456e-fdf7-955512b56d95"
      },
      "execution_count": 56,
      "outputs": [
        {
          "output_type": "execute_result",
          "data": {
            "text/plain": [
              "True     61517\n",
              "False    15455\n",
              "Name: has_content, dtype: int64"
            ]
          },
          "metadata": {},
          "execution_count": 56
        }
      ]
    },
    {
      "cell_type": "markdown",
      "source": [
        "About 20% of the provided topics do not have any content"
      ],
      "metadata": {
        "id": "VjUuhxBzyaOp"
      }
    },
    {
      "cell_type": "code",
      "source": [
        "content_kinds = content_df.pivot(columns=\"kind\", values=[\"id\"])\n",
        "content_kinds.head(3)"
      ],
      "metadata": {
        "id": "lo2LYACAm1A_",
        "colab": {
          "base_uri": "https://localhost:8080/",
          "height": 175
        },
        "outputId": "6d884c40-d481-4763-e763-0757170ce8dc"
      },
      "execution_count": 57,
      "outputs": [
        {
          "output_type": "execute_result",
          "data": {
            "text/plain": [
              "        id                                        \n",
              "kind audio document exercise html5           video\n",
              "0      NaN      NaN      NaN   NaN  c_00002381196d\n",
              "1      NaN      NaN      NaN   NaN  c_000087304a9e\n",
              "2      NaN      NaN      NaN   NaN  c_0000ad142ddb"
            ],
            "text/html": [
              "\n",
              "  <div id=\"df-e08a7902-1e45-4713-aa85-ba657e582318\">\n",
              "    <div class=\"colab-df-container\">\n",
              "      <div>\n",
              "<style scoped>\n",
              "    .dataframe tbody tr th:only-of-type {\n",
              "        vertical-align: middle;\n",
              "    }\n",
              "\n",
              "    .dataframe tbody tr th {\n",
              "        vertical-align: top;\n",
              "    }\n",
              "\n",
              "    .dataframe thead tr th {\n",
              "        text-align: left;\n",
              "    }\n",
              "</style>\n",
              "<table border=\"1\" class=\"dataframe\">\n",
              "  <thead>\n",
              "    <tr>\n",
              "      <th></th>\n",
              "      <th colspan=\"5\" halign=\"left\">id</th>\n",
              "    </tr>\n",
              "    <tr>\n",
              "      <th>kind</th>\n",
              "      <th>audio</th>\n",
              "      <th>document</th>\n",
              "      <th>exercise</th>\n",
              "      <th>html5</th>\n",
              "      <th>video</th>\n",
              "    </tr>\n",
              "  </thead>\n",
              "  <tbody>\n",
              "    <tr>\n",
              "      <th>0</th>\n",
              "      <td>NaN</td>\n",
              "      <td>NaN</td>\n",
              "      <td>NaN</td>\n",
              "      <td>NaN</td>\n",
              "      <td>c_00002381196d</td>\n",
              "    </tr>\n",
              "    <tr>\n",
              "      <th>1</th>\n",
              "      <td>NaN</td>\n",
              "      <td>NaN</td>\n",
              "      <td>NaN</td>\n",
              "      <td>NaN</td>\n",
              "      <td>c_000087304a9e</td>\n",
              "    </tr>\n",
              "    <tr>\n",
              "      <th>2</th>\n",
              "      <td>NaN</td>\n",
              "      <td>NaN</td>\n",
              "      <td>NaN</td>\n",
              "      <td>NaN</td>\n",
              "      <td>c_0000ad142ddb</td>\n",
              "    </tr>\n",
              "  </tbody>\n",
              "</table>\n",
              "</div>\n",
              "      <button class=\"colab-df-convert\" onclick=\"convertToInteractive('df-e08a7902-1e45-4713-aa85-ba657e582318')\"\n",
              "              title=\"Convert this dataframe to an interactive table.\"\n",
              "              style=\"display:none;\">\n",
              "        \n",
              "  <svg xmlns=\"http://www.w3.org/2000/svg\" height=\"24px\"viewBox=\"0 0 24 24\"\n",
              "       width=\"24px\">\n",
              "    <path d=\"M0 0h24v24H0V0z\" fill=\"none\"/>\n",
              "    <path d=\"M18.56 5.44l.94 2.06.94-2.06 2.06-.94-2.06-.94-.94-2.06-.94 2.06-2.06.94zm-11 1L8.5 8.5l.94-2.06 2.06-.94-2.06-.94L8.5 2.5l-.94 2.06-2.06.94zm10 10l.94 2.06.94-2.06 2.06-.94-2.06-.94-.94-2.06-.94 2.06-2.06.94z\"/><path d=\"M17.41 7.96l-1.37-1.37c-.4-.4-.92-.59-1.43-.59-.52 0-1.04.2-1.43.59L10.3 9.45l-7.72 7.72c-.78.78-.78 2.05 0 2.83L4 21.41c.39.39.9.59 1.41.59.51 0 1.02-.2 1.41-.59l7.78-7.78 2.81-2.81c.8-.78.8-2.07 0-2.86zM5.41 20L4 18.59l7.72-7.72 1.47 1.35L5.41 20z\"/>\n",
              "  </svg>\n",
              "      </button>\n",
              "      \n",
              "  <style>\n",
              "    .colab-df-container {\n",
              "      display:flex;\n",
              "      flex-wrap:wrap;\n",
              "      gap: 12px;\n",
              "    }\n",
              "\n",
              "    .colab-df-convert {\n",
              "      background-color: #E8F0FE;\n",
              "      border: none;\n",
              "      border-radius: 50%;\n",
              "      cursor: pointer;\n",
              "      display: none;\n",
              "      fill: #1967D2;\n",
              "      height: 32px;\n",
              "      padding: 0 0 0 0;\n",
              "      width: 32px;\n",
              "    }\n",
              "\n",
              "    .colab-df-convert:hover {\n",
              "      background-color: #E2EBFA;\n",
              "      box-shadow: 0px 1px 2px rgba(60, 64, 67, 0.3), 0px 1px 3px 1px rgba(60, 64, 67, 0.15);\n",
              "      fill: #174EA6;\n",
              "    }\n",
              "\n",
              "    [theme=dark] .colab-df-convert {\n",
              "      background-color: #3B4455;\n",
              "      fill: #D2E3FC;\n",
              "    }\n",
              "\n",
              "    [theme=dark] .colab-df-convert:hover {\n",
              "      background-color: #434B5C;\n",
              "      box-shadow: 0px 1px 3px 1px rgba(0, 0, 0, 0.15);\n",
              "      filter: drop-shadow(0px 1px 2px rgba(0, 0, 0, 0.3));\n",
              "      fill: #FFFFFF;\n",
              "    }\n",
              "  </style>\n",
              "\n",
              "      <script>\n",
              "        const buttonEl =\n",
              "          document.querySelector('#df-e08a7902-1e45-4713-aa85-ba657e582318 button.colab-df-convert');\n",
              "        buttonEl.style.display =\n",
              "          google.colab.kernel.accessAllowed ? 'block' : 'none';\n",
              "\n",
              "        async function convertToInteractive(key) {\n",
              "          const element = document.querySelector('#df-e08a7902-1e45-4713-aa85-ba657e582318');\n",
              "          const dataTable =\n",
              "            await google.colab.kernel.invokeFunction('convertToInteractive',\n",
              "                                                     [key], {});\n",
              "          if (!dataTable) return;\n",
              "\n",
              "          const docLinkHtml = 'Like what you see? Visit the ' +\n",
              "            '<a target=\"_blank\" href=https://colab.research.google.com/notebooks/data_table.ipynb>data table notebook</a>'\n",
              "            + ' to learn more about interactive tables.';\n",
              "          element.innerHTML = '';\n",
              "          dataTable['output_type'] = 'display_data';\n",
              "          await google.colab.output.renderOutput(dataTable, element);\n",
              "          const docLink = document.createElement('div');\n",
              "          docLink.innerHTML = docLinkHtml;\n",
              "          element.appendChild(docLink);\n",
              "        }\n",
              "      </script>\n",
              "    </div>\n",
              "  </div>\n",
              "  "
            ]
          },
          "metadata": {},
          "execution_count": 57
        }
      ]
    },
    {
      "cell_type": "markdown",
      "source": [
        "## Feature Selection"
      ],
      "metadata": {
        "id": "EVuNRp7n1EX-"
      }
    },
    {
      "cell_type": "markdown",
      "source": [
        "Currently the independent variable, `X` only consists of the `content_id`. In this section, we are going to append features to X from the several available data (`content_df` and `topics_df`).\n",
        "\n",
        "The dependent variable `y` just consists of the corresponding `topic_id`"
      ],
      "metadata": {
        "id": "K0AQInFk1fnD"
      }
    },
    {
      "cell_type": "code",
      "source": [
        "X[0:5]"
      ],
      "metadata": {
        "colab": {
          "base_uri": "https://localhost:8080/"
        },
        "id": "tjcVYpxf1YHN",
        "outputId": "e72c1251-7a45-4628-fa20-a92216c7a358"
      },
      "execution_count": 58,
      "outputs": [
        {
          "output_type": "execute_result",
          "data": {
            "text/plain": [
              "array([['c_1108dd0c7a5d'],\n",
              "       ['c_376c5a8eb028'],\n",
              "       ['c_5bc0e1e2cba0'],\n",
              "       ['c_76231f9d0b5e'],\n",
              "       ['c_639ea2ef9c95']], dtype='<U21')"
            ]
          },
          "metadata": {},
          "execution_count": 58
        }
      ]
    },
    {
      "cell_type": "code",
      "source": [
        "y[0:5]"
      ],
      "metadata": {
        "colab": {
          "base_uri": "https://localhost:8080/"
        },
        "id": "Thba_tVX1a3y",
        "outputId": "0b1825ed-dc3f-4062-a4fe-b27d3b226e46"
      },
      "execution_count": 59,
      "outputs": [
        {
          "output_type": "execute_result",
          "data": {
            "text/plain": [
              "array([['t_00004da3a1b2'],\n",
              "       ['t_00004da3a1b2'],\n",
              "       ['t_00004da3a1b2'],\n",
              "       ['t_00004da3a1b2'],\n",
              "       ['t_00068291e9a4']], dtype='<U21')"
            ]
          },
          "metadata": {},
          "execution_count": 59
        }
      ]
    },
    {
      "cell_type": "markdown",
      "source": [
        "Only about 80% of the `topic_ids` have corresponding content"
      ],
      "metadata": {
        "id": "t_it1sam3Gex"
      }
    },
    {
      "cell_type": "code",
      "source": [
        "topics_with_content_df=topics_df[topics_df.has_content]\n",
        "topics_with_content_df.head(3)"
      ],
      "metadata": {
        "colab": {
          "base_uri": "https://localhost:8080/",
          "height": 240
        },
        "id": "qiVMPlr02ece",
        "outputId": "e5154178-535b-4bdb-dbd9-f5c9fe69adb7"
      },
      "execution_count": 60,
      "outputs": [
        {
          "output_type": "execute_result",
          "data": {
            "text/plain": [
              "               id                            title  \\\n",
              "0  t_00004da3a1b2       Откриването на резисторите   \n",
              "2  t_00068291e9a4  Entradas e saídas de uma função   \n",
              "3  t_00069b63a70a                      Transcripts   \n",
              "\n",
              "                                         description channel category  level  \\\n",
              "0  Изследване на материали, които предизвикват на...  000cf7   source      4   \n",
              "2               Entenda um pouco mais sobre funções.  8e286a   source      4   \n",
              "3                                                NaN  6e3ba4   source      3   \n",
              "\n",
              "  language          parent  has_content  \n",
              "0       bg  t_16e29365b50d         True  \n",
              "2       pt  t_d14b6c2a2b70         True  \n",
              "3       en  t_4054df11a74e         True  "
            ],
            "text/html": [
              "\n",
              "  <div id=\"df-e12e2895-af15-46f9-b2b8-60a9a45a83d7\">\n",
              "    <div class=\"colab-df-container\">\n",
              "      <div>\n",
              "<style scoped>\n",
              "    .dataframe tbody tr th:only-of-type {\n",
              "        vertical-align: middle;\n",
              "    }\n",
              "\n",
              "    .dataframe tbody tr th {\n",
              "        vertical-align: top;\n",
              "    }\n",
              "\n",
              "    .dataframe thead th {\n",
              "        text-align: right;\n",
              "    }\n",
              "</style>\n",
              "<table border=\"1\" class=\"dataframe\">\n",
              "  <thead>\n",
              "    <tr style=\"text-align: right;\">\n",
              "      <th></th>\n",
              "      <th>id</th>\n",
              "      <th>title</th>\n",
              "      <th>description</th>\n",
              "      <th>channel</th>\n",
              "      <th>category</th>\n",
              "      <th>level</th>\n",
              "      <th>language</th>\n",
              "      <th>parent</th>\n",
              "      <th>has_content</th>\n",
              "    </tr>\n",
              "  </thead>\n",
              "  <tbody>\n",
              "    <tr>\n",
              "      <th>0</th>\n",
              "      <td>t_00004da3a1b2</td>\n",
              "      <td>Откриването на резисторите</td>\n",
              "      <td>Изследване на материали, които предизвикват на...</td>\n",
              "      <td>000cf7</td>\n",
              "      <td>source</td>\n",
              "      <td>4</td>\n",
              "      <td>bg</td>\n",
              "      <td>t_16e29365b50d</td>\n",
              "      <td>True</td>\n",
              "    </tr>\n",
              "    <tr>\n",
              "      <th>2</th>\n",
              "      <td>t_00068291e9a4</td>\n",
              "      <td>Entradas e saídas de uma função</td>\n",
              "      <td>Entenda um pouco mais sobre funções.</td>\n",
              "      <td>8e286a</td>\n",
              "      <td>source</td>\n",
              "      <td>4</td>\n",
              "      <td>pt</td>\n",
              "      <td>t_d14b6c2a2b70</td>\n",
              "      <td>True</td>\n",
              "    </tr>\n",
              "    <tr>\n",
              "      <th>3</th>\n",
              "      <td>t_00069b63a70a</td>\n",
              "      <td>Transcripts</td>\n",
              "      <td>NaN</td>\n",
              "      <td>6e3ba4</td>\n",
              "      <td>source</td>\n",
              "      <td>3</td>\n",
              "      <td>en</td>\n",
              "      <td>t_4054df11a74e</td>\n",
              "      <td>True</td>\n",
              "    </tr>\n",
              "  </tbody>\n",
              "</table>\n",
              "</div>\n",
              "      <button class=\"colab-df-convert\" onclick=\"convertToInteractive('df-e12e2895-af15-46f9-b2b8-60a9a45a83d7')\"\n",
              "              title=\"Convert this dataframe to an interactive table.\"\n",
              "              style=\"display:none;\">\n",
              "        \n",
              "  <svg xmlns=\"http://www.w3.org/2000/svg\" height=\"24px\"viewBox=\"0 0 24 24\"\n",
              "       width=\"24px\">\n",
              "    <path d=\"M0 0h24v24H0V0z\" fill=\"none\"/>\n",
              "    <path d=\"M18.56 5.44l.94 2.06.94-2.06 2.06-.94-2.06-.94-.94-2.06-.94 2.06-2.06.94zm-11 1L8.5 8.5l.94-2.06 2.06-.94-2.06-.94L8.5 2.5l-.94 2.06-2.06.94zm10 10l.94 2.06.94-2.06 2.06-.94-2.06-.94-.94-2.06-.94 2.06-2.06.94z\"/><path d=\"M17.41 7.96l-1.37-1.37c-.4-.4-.92-.59-1.43-.59-.52 0-1.04.2-1.43.59L10.3 9.45l-7.72 7.72c-.78.78-.78 2.05 0 2.83L4 21.41c.39.39.9.59 1.41.59.51 0 1.02-.2 1.41-.59l7.78-7.78 2.81-2.81c.8-.78.8-2.07 0-2.86zM5.41 20L4 18.59l7.72-7.72 1.47 1.35L5.41 20z\"/>\n",
              "  </svg>\n",
              "      </button>\n",
              "      \n",
              "  <style>\n",
              "    .colab-df-container {\n",
              "      display:flex;\n",
              "      flex-wrap:wrap;\n",
              "      gap: 12px;\n",
              "    }\n",
              "\n",
              "    .colab-df-convert {\n",
              "      background-color: #E8F0FE;\n",
              "      border: none;\n",
              "      border-radius: 50%;\n",
              "      cursor: pointer;\n",
              "      display: none;\n",
              "      fill: #1967D2;\n",
              "      height: 32px;\n",
              "      padding: 0 0 0 0;\n",
              "      width: 32px;\n",
              "    }\n",
              "\n",
              "    .colab-df-convert:hover {\n",
              "      background-color: #E2EBFA;\n",
              "      box-shadow: 0px 1px 2px rgba(60, 64, 67, 0.3), 0px 1px 3px 1px rgba(60, 64, 67, 0.15);\n",
              "      fill: #174EA6;\n",
              "    }\n",
              "\n",
              "    [theme=dark] .colab-df-convert {\n",
              "      background-color: #3B4455;\n",
              "      fill: #D2E3FC;\n",
              "    }\n",
              "\n",
              "    [theme=dark] .colab-df-convert:hover {\n",
              "      background-color: #434B5C;\n",
              "      box-shadow: 0px 1px 3px 1px rgba(0, 0, 0, 0.15);\n",
              "      filter: drop-shadow(0px 1px 2px rgba(0, 0, 0, 0.3));\n",
              "      fill: #FFFFFF;\n",
              "    }\n",
              "  </style>\n",
              "\n",
              "      <script>\n",
              "        const buttonEl =\n",
              "          document.querySelector('#df-e12e2895-af15-46f9-b2b8-60a9a45a83d7 button.colab-df-convert');\n",
              "        buttonEl.style.display =\n",
              "          google.colab.kernel.accessAllowed ? 'block' : 'none';\n",
              "\n",
              "        async function convertToInteractive(key) {\n",
              "          const element = document.querySelector('#df-e12e2895-af15-46f9-b2b8-60a9a45a83d7');\n",
              "          const dataTable =\n",
              "            await google.colab.kernel.invokeFunction('convertToInteractive',\n",
              "                                                     [key], {});\n",
              "          if (!dataTable) return;\n",
              "\n",
              "          const docLinkHtml = 'Like what you see? Visit the ' +\n",
              "            '<a target=\"_blank\" href=https://colab.research.google.com/notebooks/data_table.ipynb>data table notebook</a>'\n",
              "            + ' to learn more about interactive tables.';\n",
              "          element.innerHTML = '';\n",
              "          dataTable['output_type'] = 'display_data';\n",
              "          await google.colab.output.renderOutput(dataTable, element);\n",
              "          const docLink = document.createElement('div');\n",
              "          docLink.innerHTML = docLinkHtml;\n",
              "          element.appendChild(docLink);\n",
              "        }\n",
              "      </script>\n",
              "    </div>\n",
              "  </div>\n",
              "  "
            ]
          },
          "metadata": {},
          "execution_count": 60
        }
      ]
    },
    {
      "cell_type": "code",
      "source": [
        "content_df[content_df.id==\"c_1108dd0c7a5d\"]"
      ],
      "metadata": {
        "colab": {
          "base_uri": "https://localhost:8080/",
          "height": 142
        },
        "id": "oDddiYHi-mpy",
        "outputId": "b45612da-fec1-4224-ad01-118580e785d2"
      },
      "execution_count": 62,
      "outputs": [
        {
          "output_type": "execute_result",
          "data": {
            "text/plain": [
              "                   id                title  \\\n",
              "10216  c_1108dd0c7a5d  Молив като резистор   \n",
              "\n",
              "                                             description   kind text language  \\\n",
              "10216  Моливът причинява промяна в отклонението, подо...  video  NaN       bg   \n",
              "\n",
              "      copyright_holder license  \n",
              "10216              NaN     NaN  "
            ],
            "text/html": [
              "\n",
              "  <div id=\"df-fe819200-5498-4b3d-a347-e115d3f482a9\">\n",
              "    <div class=\"colab-df-container\">\n",
              "      <div>\n",
              "<style scoped>\n",
              "    .dataframe tbody tr th:only-of-type {\n",
              "        vertical-align: middle;\n",
              "    }\n",
              "\n",
              "    .dataframe tbody tr th {\n",
              "        vertical-align: top;\n",
              "    }\n",
              "\n",
              "    .dataframe thead th {\n",
              "        text-align: right;\n",
              "    }\n",
              "</style>\n",
              "<table border=\"1\" class=\"dataframe\">\n",
              "  <thead>\n",
              "    <tr style=\"text-align: right;\">\n",
              "      <th></th>\n",
              "      <th>id</th>\n",
              "      <th>title</th>\n",
              "      <th>description</th>\n",
              "      <th>kind</th>\n",
              "      <th>text</th>\n",
              "      <th>language</th>\n",
              "      <th>copyright_holder</th>\n",
              "      <th>license</th>\n",
              "    </tr>\n",
              "  </thead>\n",
              "  <tbody>\n",
              "    <tr>\n",
              "      <th>10216</th>\n",
              "      <td>c_1108dd0c7a5d</td>\n",
              "      <td>Молив като резистор</td>\n",
              "      <td>Моливът причинява промяна в отклонението, подо...</td>\n",
              "      <td>video</td>\n",
              "      <td>NaN</td>\n",
              "      <td>bg</td>\n",
              "      <td>NaN</td>\n",
              "      <td>NaN</td>\n",
              "    </tr>\n",
              "  </tbody>\n",
              "</table>\n",
              "</div>\n",
              "      <button class=\"colab-df-convert\" onclick=\"convertToInteractive('df-fe819200-5498-4b3d-a347-e115d3f482a9')\"\n",
              "              title=\"Convert this dataframe to an interactive table.\"\n",
              "              style=\"display:none;\">\n",
              "        \n",
              "  <svg xmlns=\"http://www.w3.org/2000/svg\" height=\"24px\"viewBox=\"0 0 24 24\"\n",
              "       width=\"24px\">\n",
              "    <path d=\"M0 0h24v24H0V0z\" fill=\"none\"/>\n",
              "    <path d=\"M18.56 5.44l.94 2.06.94-2.06 2.06-.94-2.06-.94-.94-2.06-.94 2.06-2.06.94zm-11 1L8.5 8.5l.94-2.06 2.06-.94-2.06-.94L8.5 2.5l-.94 2.06-2.06.94zm10 10l.94 2.06.94-2.06 2.06-.94-2.06-.94-.94-2.06-.94 2.06-2.06.94z\"/><path d=\"M17.41 7.96l-1.37-1.37c-.4-.4-.92-.59-1.43-.59-.52 0-1.04.2-1.43.59L10.3 9.45l-7.72 7.72c-.78.78-.78 2.05 0 2.83L4 21.41c.39.39.9.59 1.41.59.51 0 1.02-.2 1.41-.59l7.78-7.78 2.81-2.81c.8-.78.8-2.07 0-2.86zM5.41 20L4 18.59l7.72-7.72 1.47 1.35L5.41 20z\"/>\n",
              "  </svg>\n",
              "      </button>\n",
              "      \n",
              "  <style>\n",
              "    .colab-df-container {\n",
              "      display:flex;\n",
              "      flex-wrap:wrap;\n",
              "      gap: 12px;\n",
              "    }\n",
              "\n",
              "    .colab-df-convert {\n",
              "      background-color: #E8F0FE;\n",
              "      border: none;\n",
              "      border-radius: 50%;\n",
              "      cursor: pointer;\n",
              "      display: none;\n",
              "      fill: #1967D2;\n",
              "      height: 32px;\n",
              "      padding: 0 0 0 0;\n",
              "      width: 32px;\n",
              "    }\n",
              "\n",
              "    .colab-df-convert:hover {\n",
              "      background-color: #E2EBFA;\n",
              "      box-shadow: 0px 1px 2px rgba(60, 64, 67, 0.3), 0px 1px 3px 1px rgba(60, 64, 67, 0.15);\n",
              "      fill: #174EA6;\n",
              "    }\n",
              "\n",
              "    [theme=dark] .colab-df-convert {\n",
              "      background-color: #3B4455;\n",
              "      fill: #D2E3FC;\n",
              "    }\n",
              "\n",
              "    [theme=dark] .colab-df-convert:hover {\n",
              "      background-color: #434B5C;\n",
              "      box-shadow: 0px 1px 3px 1px rgba(0, 0, 0, 0.15);\n",
              "      filter: drop-shadow(0px 1px 2px rgba(0, 0, 0, 0.3));\n",
              "      fill: #FFFFFF;\n",
              "    }\n",
              "  </style>\n",
              "\n",
              "      <script>\n",
              "        const buttonEl =\n",
              "          document.querySelector('#df-fe819200-5498-4b3d-a347-e115d3f482a9 button.colab-df-convert');\n",
              "        buttonEl.style.display =\n",
              "          google.colab.kernel.accessAllowed ? 'block' : 'none';\n",
              "\n",
              "        async function convertToInteractive(key) {\n",
              "          const element = document.querySelector('#df-fe819200-5498-4b3d-a347-e115d3f482a9');\n",
              "          const dataTable =\n",
              "            await google.colab.kernel.invokeFunction('convertToInteractive',\n",
              "                                                     [key], {});\n",
              "          if (!dataTable) return;\n",
              "\n",
              "          const docLinkHtml = 'Like what you see? Visit the ' +\n",
              "            '<a target=\"_blank\" href=https://colab.research.google.com/notebooks/data_table.ipynb>data table notebook</a>'\n",
              "            + ' to learn more about interactive tables.';\n",
              "          element.innerHTML = '';\n",
              "          dataTable['output_type'] = 'display_data';\n",
              "          await google.colab.output.renderOutput(dataTable, element);\n",
              "          const docLink = document.createElement('div');\n",
              "          docLink.innerHTML = docLinkHtml;\n",
              "          element.appendChild(docLink);\n",
              "        }\n",
              "      </script>\n",
              "    </div>\n",
              "  </div>\n",
              "  "
            ]
          },
          "metadata": {},
          "execution_count": 62
        }
      ]
    },
    {
      "cell_type": "code",
      "source": [
        "\"\"\"\n",
        "Add features\n",
        "\"\"\"\n",
        "new_X = np.array([['placeholder', 'placeholder', 'placeholder', 'placeholder', '4', 'place','place']])\n",
        "i = 0\n",
        "while i<len(X):\n",
        "  #data_row = ['c_1108dd0c7a5d']\n",
        "  data_row=X[i]\n",
        "  content_id = data_row[0]\n",
        "  topic_id = y[i][0]\n",
        "\n",
        "  topic_data = topics_with_content_df[topics_with_content_df.id==topic_id]\n",
        "  #Add topic_language\n",
        "  data_row = np.append(data_row, topic_data.language.values[0])\n",
        "  #Add topic_category\n",
        "  data_row = np.append(data_row, topic_data.category.values[0])\n",
        "  #Add topic_channel\n",
        "  data_row = np.append(data_row, topic_data.channel.values[0])\n",
        "  #Add topic_level\n",
        "  data_row = np.append(data_row, topic_data.level.values[0])\n",
        "\n",
        "  content_data = content_df[content_df.id==content_id]\n",
        "  #Add content language\n",
        "  data_row = np.append(data_row, content_data.language.values[0])\n",
        "  #Add content kind\n",
        "  data_row = np.append(data_row, content_data.kind.values[0])\n",
        "\n",
        "  # data_row = ['c_1108dd0c7a5d' 'bg' 'source' '000cf7' '4' 'bg' 'video']\n",
        "  new_X = np.append(new_X,np.array([data_row]),axis=0)\n",
        "  i+=1\n",
        "new_X = new_X[1:]  #Remove the first element we added when creating array"
      ],
      "metadata": {
        "id": "Uv9tS3YP4FnU"
      },
      "execution_count": 63,
      "outputs": []
    },
    {
      "cell_type": "code",
      "source": [
        "new_X[0:3]"
      ],
      "metadata": {
        "colab": {
          "base_uri": "https://localhost:8080/"
        },
        "id": "FLnx1q0LAD5q",
        "outputId": "56e05243-ad74-4a21-b256-b59010021265"
      },
      "execution_count": 64,
      "outputs": [
        {
          "output_type": "execute_result",
          "data": {
            "text/plain": [
              "array([['c_1108dd0c7a5d', 'bg', 'source', '000cf7', '4', 'bg', 'video'],\n",
              "       ['c_376c5a8eb028', 'bg', 'source', '000cf7', '4', 'bg', 'video'],\n",
              "       ['c_5bc0e1e2cba0', 'bg', 'source', '000cf7', '4', 'bg', 'video']],\n",
              "      dtype='<U21')"
            ]
          },
          "metadata": {},
          "execution_count": 64
        }
      ]
    },
    {
      "cell_type": "code",
      "source": [
        "len(new_X)"
      ],
      "metadata": {
        "colab": {
          "base_uri": "https://localhost:8080/"
        },
        "id": "zZ6HbUBNAHuO",
        "outputId": "9fe2bbf6-5a47-4386-8655-00fb64174c10"
      },
      "execution_count": 65,
      "outputs": [
        {
          "output_type": "execute_result",
          "data": {
            "text/plain": [
              "4526"
            ]
          },
          "metadata": {},
          "execution_count": 65
        }
      ]
    },
    {
      "cell_type": "code",
      "source": [
        "y[0:3]"
      ],
      "metadata": {
        "colab": {
          "base_uri": "https://localhost:8080/"
        },
        "id": "SJQk8dr_Crlf",
        "outputId": "c2d518a5-6c04-4bf2-f9e5-1900fbdd3619"
      },
      "execution_count": 66,
      "outputs": [
        {
          "output_type": "execute_result",
          "data": {
            "text/plain": [
              "array([['t_00004da3a1b2'],\n",
              "       ['t_00004da3a1b2'],\n",
              "       ['t_00004da3a1b2']], dtype='<U21')"
            ]
          },
          "metadata": {},
          "execution_count": 66
        }
      ]
    },
    {
      "cell_type": "markdown",
      "source": [
        "## Encoding the dataset with `LabelEncoder`"
      ],
      "metadata": {
        "id": "4WzWHK7jFab0"
      }
    },
    {
      "cell_type": "code",
      "source": [
        "from sklearn.preprocessing import LabelEncoder"
      ],
      "metadata": {
        "id": "sDAolyUiFirl"
      },
      "execution_count": 67,
      "outputs": []
    },
    {
      "cell_type": "code",
      "source": [
        "# Language Encoder\n",
        "language_encoder = LabelEncoder()\n",
        "language_encoder.fit(np.asarray(content_df.language))\n",
        "list(language_encoder.classes_)[0:5]"
      ],
      "metadata": {
        "colab": {
          "base_uri": "https://localhost:8080/"
        },
        "id": "AQbJ7YMuGgg6",
        "outputId": "3d919583-f670-477c-8097-441b16b59e3e"
      },
      "execution_count": 68,
      "outputs": [
        {
          "output_type": "execute_result",
          "data": {
            "text/plain": [
              "['ar', 'as', 'bg', 'bn', 'en']"
            ]
          },
          "metadata": {},
          "execution_count": 68
        }
      ]
    },
    {
      "cell_type": "code",
      "source": [
        "# topic_category Encoder\n",
        "category_encoder = LabelEncoder()\n",
        "category_encoder.fit(np.asarray(topics_df.category))\n",
        "list(category_encoder.classes_)"
      ],
      "metadata": {
        "colab": {
          "base_uri": "https://localhost:8080/"
        },
        "id": "_SzjaWOqLOGN",
        "outputId": "1f693beb-afbe-4ca9-efd3-4809e3c5cdc8"
      },
      "execution_count": 69,
      "outputs": [
        {
          "output_type": "execute_result",
          "data": {
            "text/plain": [
              "['aligned', 'source', 'supplemental']"
            ]
          },
          "metadata": {},
          "execution_count": 69
        }
      ]
    },
    {
      "cell_type": "code",
      "source": [
        "# topic_channel Encoder\n",
        "channel_encoder = LabelEncoder()\n",
        "channel_encoder.fit(np.asarray(topics_df.channel))\n",
        "list(channel_encoder.classes_)[0:5]"
      ],
      "metadata": {
        "colab": {
          "base_uri": "https://localhost:8080/"
        },
        "id": "F5DdGZ7cL162",
        "outputId": "6a39d1be-a924-4ed5-c127-fb4bae8132d1"
      },
      "execution_count": 70,
      "outputs": [
        {
          "output_type": "execute_result",
          "data": {
            "text/plain": [
              "['000cf7', '00a2b4', '00fda4', '01133c', '018d08']"
            ]
          },
          "metadata": {},
          "execution_count": 70
        }
      ]
    },
    {
      "cell_type": "code",
      "source": [
        "# content_kind Encoder\n",
        "kind_encoder = LabelEncoder()\n",
        "kind_encoder.fit(np.asarray(content_df.kind))\n",
        "list(kind_encoder.classes_)"
      ],
      "metadata": {
        "colab": {
          "base_uri": "https://localhost:8080/"
        },
        "id": "ssHRChq1Mj5v",
        "outputId": "36f996bd-f5a3-4183-d6e0-3788c49966a4"
      },
      "execution_count": 71,
      "outputs": [
        {
          "output_type": "execute_result",
          "data": {
            "text/plain": [
              "['audio', 'document', 'exercise', 'html5', 'video']"
            ]
          },
          "metadata": {},
          "execution_count": 71
        }
      ]
    },
    {
      "cell_type": "code",
      "source": [
        "# content_id Encoder\n",
        "id_encoder = LabelEncoder()\n",
        "id_encoder.fit(np.asarray(content_df.id))\n",
        "list(kind_encoder.classes_)[0:4]"
      ],
      "metadata": {
        "colab": {
          "base_uri": "https://localhost:8080/"
        },
        "id": "lBnNVLpKOz0c",
        "outputId": "0b2263a5-ad36-4ae8-96f0-dc24efb97398"
      },
      "execution_count": 72,
      "outputs": [
        {
          "output_type": "execute_result",
          "data": {
            "text/plain": [
              "['audio', 'document', 'exercise', 'html5']"
            ]
          },
          "metadata": {},
          "execution_count": 72
        }
      ]
    },
    {
      "cell_type": "code",
      "source": [
        "new_X[0:5]"
      ],
      "metadata": {
        "colab": {
          "base_uri": "https://localhost:8080/"
        },
        "id": "r_dTwXJcJIoS",
        "outputId": "08c6cd3d-4f98-4b74-a2e0-b9b639fcaa14"
      },
      "execution_count": 73,
      "outputs": [
        {
          "output_type": "execute_result",
          "data": {
            "text/plain": [
              "array([['c_1108dd0c7a5d', 'bg', 'source', '000cf7', '4', 'bg', 'video'],\n",
              "       ['c_376c5a8eb028', 'bg', 'source', '000cf7', '4', 'bg', 'video'],\n",
              "       ['c_5bc0e1e2cba0', 'bg', 'source', '000cf7', '4', 'bg', 'video'],\n",
              "       ['c_76231f9d0b5e', 'bg', 'source', '000cf7', '4', 'bg', 'video'],\n",
              "       ['c_639ea2ef9c95', 'pt', 'source', '8e286a', '4', 'pt',\n",
              "        'exercise']], dtype='<U21')"
            ]
          },
          "metadata": {},
          "execution_count": 73
        }
      ]
    },
    {
      "cell_type": "code",
      "source": [
        "'''\n",
        "DON\"T RUN - too long\n",
        "Kept incase I need similar code in the future\n",
        "'''\n",
        "# Encode the whole of X\n",
        "encoded_X = np.array([['placeholder', 'placeholder', 'placeholder', 'placeholder', '4', 'place','place']])\n",
        "for row in new_X:\n",
        "  data_row = row.copy()\n",
        "  #Encode the topic language\n",
        "  encoded_topic_language = language_encoder.transform([data_row[1]])\n",
        "  data_row[1] = encoded_topic_language[0]\n",
        "  #Encode the topic category\n",
        "  encoded_topic_category = category_encoder.transform([data_row[2]])\n",
        "  data_row[2] = encoded_topic_category[0]\n",
        "  #Encode the topic channel\n",
        "  encoded_topic_channel = channel_encoder.transform([data_row[3]])\n",
        "  data_row[3] = encoded_topic_channel[0]\n",
        "  #Encode the content language\n",
        "  encoded_content_language = language_encoder.transform([data_row[5]])\n",
        "  data_row[5] = encoded_content_language[0]\n",
        "  #Encode the content kind\n",
        "  encoded_content_kind = kind_encoder.transform([data_row[6]])\n",
        "  data_row[6] = encoded_content_kind[0]\n",
        "  #Encode the content ids\n",
        "  encoded_content_id = id_encoder.transform([data_row[0]])\n",
        "  data_row[0] = encoded_content_id[0]\n",
        "  encoded_X = np.append(encoded_X,np.array([data_row]),axis=0)\n",
        "encoded_X = encoded_X[1:]"
      ],
      "metadata": {
        "id": "ZjzY2AFBHzTH"
      },
      "execution_count": null,
      "outputs": []
    },
    {
      "cell_type": "code",
      "source": [
        "encoded_X[0:5]"
      ],
      "metadata": {
        "colab": {
          "base_uri": "https://localhost:8080/"
        },
        "id": "KaAcitPAQxdd",
        "outputId": "baef2577-731e-4a02-d0af-772012987c8e"
      },
      "execution_count": null,
      "outputs": [
        {
          "output_type": "execute_result",
          "data": {
            "text/plain": [
              "array([['10216', '2', '1', '0', '4', '2', '4'],\n",
              "       ['33412', '2', '1', '0', '4', '2', '4'],\n",
              "       ['55283', '2', '1', '0', '4', '2', '4'],\n",
              "       ['70957', '2', '1', '0', '4', '2', '4'],\n",
              "       ['59982', '18', '1', '98', '4', '18', '2']], dtype='<U21')"
            ]
          },
          "metadata": {},
          "execution_count": 173
        }
      ]
    },
    {
      "cell_type": "code",
      "source": [
        "#y(topic id) encoder\n",
        "# content_id Encoder\n",
        "y_encoder = LabelEncoder()\n",
        "y_encoder.fit(np.asarray(topics_df.id))\n",
        "list(y_encoder.classes_)[0:4]"
      ],
      "metadata": {
        "colab": {
          "base_uri": "https://localhost:8080/"
        },
        "id": "9C5Mh3vVPjKg",
        "outputId": "cf98116b-d310-49b5-c0e7-27c77a3a737a"
      },
      "execution_count": null,
      "outputs": [
        {
          "output_type": "execute_result",
          "data": {
            "text/plain": [
              "['t_00004da3a1b2', 't_000095e03056', 't_00068291e9a4', 't_00069b63a70a']"
            ]
          },
          "metadata": {},
          "execution_count": 174
        }
      ]
    },
    {
      "cell_type": "code",
      "source": [
        "y[0:5]"
      ],
      "metadata": {
        "colab": {
          "base_uri": "https://localhost:8080/"
        },
        "id": "Q50jNLkSQIMU",
        "outputId": "7c7e94e4-8e1b-4807-a575-48bdcf29da10"
      },
      "execution_count": null,
      "outputs": [
        {
          "output_type": "execute_result",
          "data": {
            "text/plain": [
              "array([['t_00004da3a1b2'],\n",
              "       ['t_00004da3a1b2'],\n",
              "       ['t_00004da3a1b2'],\n",
              "       ['t_00004da3a1b2'],\n",
              "       ['t_00068291e9a4']], dtype='<U21')"
            ]
          },
          "metadata": {},
          "execution_count": 175
        }
      ]
    },
    {
      "cell_type": "code",
      "source": [
        "\"\"\"DON'T RUN\"\"\"\n",
        "#Encode the whole of y\n",
        "encoded_y = np.array([['placeholder']])\n",
        "for row in y:\n",
        "  data_row = row.copy()\n",
        "  #Encode y\n",
        "  encoded_topic_id = y_encoder.transform([data_row[0]])\n",
        "  data_row[0] = encoded_topic_id[0] \n",
        "  encoded_y = np.append(encoded_y,np.array([data_row]),axis=0)"
      ],
      "metadata": {
        "colab": {
          "base_uri": "https://localhost:8080/"
        },
        "id": "RNUote_COYyP",
        "outputId": "b79bd635-6414-4995-bf7e-bef161a07dfe"
      },
      "execution_count": null,
      "outputs": [
        {
          "output_type": "execute_result",
          "data": {
            "text/plain": [
              "array([['0'],\n",
              "       ['0'],\n",
              "       ['0'],\n",
              "       ['0'],\n",
              "       ['2']], dtype='<U21')"
            ]
          },
          "metadata": {},
          "execution_count": 177
        }
      ]
    },
    {
      "cell_type": "code",
      "source": [
        "encoded_y = encoded_y[1:] \n",
        "encoded_y[0:5]"
      ],
      "metadata": {
        "colab": {
          "base_uri": "https://localhost:8080/"
        },
        "id": "nDWjQxEKT7qD",
        "outputId": "1d533769-ce77-4bca-f14c-c0921c946ba0"
      },
      "execution_count": null,
      "outputs": [
        {
          "output_type": "execute_result",
          "data": {
            "text/plain": [
              "array([['0'],\n",
              "       ['0'],\n",
              "       ['0'],\n",
              "       ['0'],\n",
              "       ['2']], dtype='<U21')"
            ]
          },
          "metadata": {},
          "execution_count": 179
        }
      ]
    },
    {
      "cell_type": "markdown",
      "source": [
        "## Splitting the dataset"
      ],
      "metadata": {
        "id": "AUXcT0aeIWYb"
      }
    },
    {
      "cell_type": "code",
      "source": [
        "from sklearn.model_selection import train_test_split\n",
        "X_train, X_test, y_train, y_test = train_test_split(encoded_X,encoded_y,test_size=1/5,random_state=0)"
      ],
      "metadata": {
        "id": "e6Y7UQfMGNvU"
      },
      "execution_count": null,
      "outputs": []
    },
    {
      "cell_type": "code",
      "source": [
        "print(f\"Sample training data X:\\n {X_train[0:5]}\")\n",
        "print(f\"Sample training data y:\\n {y_train[0:5]}\")"
      ],
      "metadata": {
        "colab": {
          "base_uri": "https://localhost:8080/"
        },
        "id": "va4Wz5T8HtR4",
        "outputId": "4e7469f8-5d37-41af-ce10-efb49ae52475"
      },
      "execution_count": null,
      "outputs": [
        {
          "output_type": "stream",
          "name": "stdout",
          "text": [
            "Sample training data X:\n",
            " [['71890' '0' '1' '51' '1' '0' '4']\n",
            " ['27531' '18' '2' '130' '2' '18' '3']\n",
            " ['68687' '3' '1' '149' '4' '3' '4']\n",
            " ['22415' '0' '1' '51' '1' '0' '4']\n",
            " ['86505' '13' '1' '29' '5' '13' '3']]\n",
            "Sample training data y:\n",
            " [['878']\n",
            " ['170']\n",
            " ['1230']\n",
            " ['878']\n",
            " ['590']]\n"
          ]
        }
      ]
    },
    {
      "cell_type": "markdown",
      "source": [
        "# Model to develop\n",
        "\n",
        "The model we create is supposed to use the dataset of K-12 educational materials described earlier to predict which content items are best aligned to a given topic in a topic tree, with the goal of matching the selections made by curriculum experts and other users of the Kolibri Studio platform.\n",
        "\n",
        "For each topic_id in the test set, we predict a space-delimited list of recommended content_ids for that topic. File should contain header and have following format:\n",
        "\n",
        "\n",
        "```\n",
        "topic_id,content_ids\n",
        "t_00004da3a1b2,c_1108dd0c7a5d c_376c5a8eb028 c_5bc0e1e2cba0 c_76231f9d0b5e\n",
        "t_00068291e9a4,c_639ea2ef9c95 c_89ce9367be10 c_ac1672cdcd2c c_ebb7fdf10a7e\n",
        "t_00069b63a70a,c_11a1dc0bfb99\n",
        "...\n",
        "```\n",
        "\n"
      ],
      "metadata": {
        "id": "_7kaMCgz_van"
      }
    },
    {
      "cell_type": "markdown",
      "source": [
        "# Logistic regression Classification Model (DONT RUN)"
      ],
      "metadata": {
        "id": "FHkuZy6gDhJc"
      }
    },
    {
      "cell_type": "markdown",
      "source": [
        "### Train and test"
      ],
      "metadata": {
        "id": "Qist5rDtdlWo"
      }
    },
    {
      "cell_type": "code",
      "source": [
        "from sklearn.linear_model import LogisticRegression"
      ],
      "metadata": {
        "id": "jYAD06oZDglU"
      },
      "execution_count": null,
      "outputs": []
    },
    {
      "cell_type": "code",
      "source": [
        "\"\"\"\n",
        "DON'T RUN\n",
        "\"\"\"\n",
        "import matplotlib.pyplot as plt\n",
        "lr = LogisticRegression(penalty='l2', C=.1, multi_class='multinomial')\n",
        "lr_error_rate = [] \n",
        "trials = 10\n",
        "\n",
        "train_percent = np.linspace(.1,.9,num=9)\n",
        "\n",
        "from tqdm import tqdm\n",
        "for p in tqdm(train_percent):\n",
        "    errs = []\n",
        "    for trial in np.arange(trials):\n",
        "        X_train, X_test, y_train, y_test = train_test_split(encoded_X, encoded_y, train_size=p)\n",
        "        lr.fit(X_train, y_train)\n",
        "        err = np.mean(lr.predict(X_test) != y_test)\n",
        "        errs.append(err)\n",
        "    this_err = np.mean(errs)\n",
        "    lr_error_rate.append(this_err)\n",
        "plt.plot(train_percent, lr_error_rate)\n",
        "plt.xlabel('train percent')\n",
        "_ = plt.ylabel('error')"
      ],
      "metadata": {
        "id": "1ZWviCe6H4YL"
      },
      "execution_count": null,
      "outputs": []
    },
    {
      "cell_type": "code",
      "source": [
        "lr = LogisticRegression(penalty='l2', C=.1, multi_class='multinomial')\n",
        "lr_error_rate = [] \n",
        "trials2 = 100\n",
        "\n",
        "errs2 = []\n",
        "for trial in np.arange(trials):\n",
        "  lr.fit(X_train, y_train)\n",
        "  err = np.mean(lr.predict(X_test) != y_test)\n",
        "  errs2.append(err)\n",
        "error = np.mean(errs2)"
      ],
      "metadata": {
        "id": "7I7kxygcH6gU"
      },
      "execution_count": null,
      "outputs": []
    },
    {
      "cell_type": "code",
      "source": [
        "print(f\"Error:{error}\")"
      ],
      "metadata": {
        "colab": {
          "base_uri": "https://localhost:8080/"
        },
        "id": "_Krt6Za4aYip",
        "outputId": "67dea1f4-cf51-4352-f674-695d6fdf7cb9"
      },
      "execution_count": null,
      "outputs": [
        {
          "output_type": "stream",
          "name": "stdout",
          "text": [
            "Error:0.9669605134277737\n"
          ]
        }
      ]
    },
    {
      "cell_type": "markdown",
      "source": [
        "### Logistic Regression Classification Discussion"
      ],
      "metadata": {
        "id": "bWc3PbBgZiLx"
      }
    },
    {
      "cell_type": "markdown",
      "source": [
        "After doing one run of training the logistic regression model, I've realized my design approach is very wrong. Using an id as a feature is not the right approach since it is a unique identifier for the specific data point that doesn't have generalizable information for the whole model.\n",
        "\n",
        "In addition to that, while using the `LabelEncoder` maps each of the unique values to an integer, it provides a false relationship. For example 2 > 1 which might map to `en` > `es` which is neither true nor useful."
      ],
      "metadata": {
        "id": "bU2c_sdtZp2h"
      }
    },
    {
      "cell_type": "markdown",
      "source": [
        "Going forward, I'm dropping the classification model entirely and starting work on a Natural Language Processing Model. I'm thinking of including the categorical columns in the NLP data so that any of their relationship is included. \n",
        "\n",
        "After creating a good NLP model, the current plan is to feed it to a recommender model. I plan on using [Surprise](https://surpriselib.com/) mainly because I've successfully used it in the past but I'll explore other options and deep-learning since we have a lot of data"
      ],
      "metadata": {
        "id": "EwTzQfDQrOUN"
      }
    },
    {
      "cell_type": "markdown",
      "source": [
        "# NLP model for Curriculum Recommendation"
      ],
      "metadata": {
        "id": "q7MsMP7OfEtm"
      }
    },
    {
      "cell_type": "markdown",
      "source": [
        "Looking at our data again, we want to be able to take a single content source and decide which topic it belongs to. Our `content` data contains these text columns: `title`, `description`,`text content`,`copyright holder` and `license`. As we saw in the data visualization section, these columns apart from the `title` only exist about 50% of the time. In addition to the text columns, we have `language` and `kind` as categorical columns\n",
        "\n",
        "The `topic` data on the other hand has these text columns:  `title` and `description`. Its categorial columns include `channel`, `category`,`language` and `level`.\n",
        "\n",
        "An approach, we can use is building a text classification program to create a relationship between the text columns. We can then use the categorical columns to improve the classification model"
      ],
      "metadata": {
        "id": "G41OqZWLffzy"
      }
    },
    {
      "cell_type": "markdown",
      "source": [
        "## Updated Feature Selection "
      ],
      "metadata": {
        "id": "YKpAXXK-ebn_"
      }
    },
    {
      "cell_type": "code",
      "source": [
        "X[0:5]"
      ],
      "metadata": {
        "colab": {
          "base_uri": "https://localhost:8080/"
        },
        "id": "VDbyTaMRekJZ",
        "outputId": "76fee74a-e868-4be4-d2ee-7f8924da5ba4"
      },
      "execution_count": 74,
      "outputs": [
        {
          "output_type": "execute_result",
          "data": {
            "text/plain": [
              "array([['c_1108dd0c7a5d'],\n",
              "       ['c_376c5a8eb028'],\n",
              "       ['c_5bc0e1e2cba0'],\n",
              "       ['c_76231f9d0b5e'],\n",
              "       ['c_639ea2ef9c95']], dtype='<U21')"
            ]
          },
          "metadata": {},
          "execution_count": 74
        }
      ]
    },
    {
      "cell_type": "code",
      "source": [
        "y[0:5]"
      ],
      "metadata": {
        "colab": {
          "base_uri": "https://localhost:8080/"
        },
        "id": "NdYtGhCZenLw",
        "outputId": "805d6926-742f-4e11-8e47-1d30b5d86dbf"
      },
      "execution_count": 75,
      "outputs": [
        {
          "output_type": "execute_result",
          "data": {
            "text/plain": [
              "array([['t_00004da3a1b2'],\n",
              "       ['t_00004da3a1b2'],\n",
              "       ['t_00004da3a1b2'],\n",
              "       ['t_00004da3a1b2'],\n",
              "       ['t_00068291e9a4']], dtype='<U21')"
            ]
          },
          "metadata": {},
          "execution_count": 75
        }
      ]
    },
    {
      "cell_type": "code",
      "source": [
        "content_df[content_df.id==\"c_1108dd0c7a5d\"]"
      ],
      "metadata": {
        "colab": {
          "base_uri": "https://localhost:8080/",
          "height": 142
        },
        "id": "x14K8JETjUsA",
        "outputId": "0a3eca5b-9c83-404a-9bc8-1dbf3864312a"
      },
      "execution_count": 76,
      "outputs": [
        {
          "output_type": "execute_result",
          "data": {
            "text/plain": [
              "                   id                title  \\\n",
              "10216  c_1108dd0c7a5d  Молив като резистор   \n",
              "\n",
              "                                             description   kind text language  \\\n",
              "10216  Моливът причинява промяна в отклонението, подо...  video  NaN       bg   \n",
              "\n",
              "      copyright_holder license  \n",
              "10216              NaN     NaN  "
            ],
            "text/html": [
              "\n",
              "  <div id=\"df-dffe527c-63c4-4cab-a640-29be28e5901c\">\n",
              "    <div class=\"colab-df-container\">\n",
              "      <div>\n",
              "<style scoped>\n",
              "    .dataframe tbody tr th:only-of-type {\n",
              "        vertical-align: middle;\n",
              "    }\n",
              "\n",
              "    .dataframe tbody tr th {\n",
              "        vertical-align: top;\n",
              "    }\n",
              "\n",
              "    .dataframe thead th {\n",
              "        text-align: right;\n",
              "    }\n",
              "</style>\n",
              "<table border=\"1\" class=\"dataframe\">\n",
              "  <thead>\n",
              "    <tr style=\"text-align: right;\">\n",
              "      <th></th>\n",
              "      <th>id</th>\n",
              "      <th>title</th>\n",
              "      <th>description</th>\n",
              "      <th>kind</th>\n",
              "      <th>text</th>\n",
              "      <th>language</th>\n",
              "      <th>copyright_holder</th>\n",
              "      <th>license</th>\n",
              "    </tr>\n",
              "  </thead>\n",
              "  <tbody>\n",
              "    <tr>\n",
              "      <th>10216</th>\n",
              "      <td>c_1108dd0c7a5d</td>\n",
              "      <td>Молив като резистор</td>\n",
              "      <td>Моливът причинява промяна в отклонението, подо...</td>\n",
              "      <td>video</td>\n",
              "      <td>NaN</td>\n",
              "      <td>bg</td>\n",
              "      <td>NaN</td>\n",
              "      <td>NaN</td>\n",
              "    </tr>\n",
              "  </tbody>\n",
              "</table>\n",
              "</div>\n",
              "      <button class=\"colab-df-convert\" onclick=\"convertToInteractive('df-dffe527c-63c4-4cab-a640-29be28e5901c')\"\n",
              "              title=\"Convert this dataframe to an interactive table.\"\n",
              "              style=\"display:none;\">\n",
              "        \n",
              "  <svg xmlns=\"http://www.w3.org/2000/svg\" height=\"24px\"viewBox=\"0 0 24 24\"\n",
              "       width=\"24px\">\n",
              "    <path d=\"M0 0h24v24H0V0z\" fill=\"none\"/>\n",
              "    <path d=\"M18.56 5.44l.94 2.06.94-2.06 2.06-.94-2.06-.94-.94-2.06-.94 2.06-2.06.94zm-11 1L8.5 8.5l.94-2.06 2.06-.94-2.06-.94L8.5 2.5l-.94 2.06-2.06.94zm10 10l.94 2.06.94-2.06 2.06-.94-2.06-.94-.94-2.06-.94 2.06-2.06.94z\"/><path d=\"M17.41 7.96l-1.37-1.37c-.4-.4-.92-.59-1.43-.59-.52 0-1.04.2-1.43.59L10.3 9.45l-7.72 7.72c-.78.78-.78 2.05 0 2.83L4 21.41c.39.39.9.59 1.41.59.51 0 1.02-.2 1.41-.59l7.78-7.78 2.81-2.81c.8-.78.8-2.07 0-2.86zM5.41 20L4 18.59l7.72-7.72 1.47 1.35L5.41 20z\"/>\n",
              "  </svg>\n",
              "      </button>\n",
              "      \n",
              "  <style>\n",
              "    .colab-df-container {\n",
              "      display:flex;\n",
              "      flex-wrap:wrap;\n",
              "      gap: 12px;\n",
              "    }\n",
              "\n",
              "    .colab-df-convert {\n",
              "      background-color: #E8F0FE;\n",
              "      border: none;\n",
              "      border-radius: 50%;\n",
              "      cursor: pointer;\n",
              "      display: none;\n",
              "      fill: #1967D2;\n",
              "      height: 32px;\n",
              "      padding: 0 0 0 0;\n",
              "      width: 32px;\n",
              "    }\n",
              "\n",
              "    .colab-df-convert:hover {\n",
              "      background-color: #E2EBFA;\n",
              "      box-shadow: 0px 1px 2px rgba(60, 64, 67, 0.3), 0px 1px 3px 1px rgba(60, 64, 67, 0.15);\n",
              "      fill: #174EA6;\n",
              "    }\n",
              "\n",
              "    [theme=dark] .colab-df-convert {\n",
              "      background-color: #3B4455;\n",
              "      fill: #D2E3FC;\n",
              "    }\n",
              "\n",
              "    [theme=dark] .colab-df-convert:hover {\n",
              "      background-color: #434B5C;\n",
              "      box-shadow: 0px 1px 3px 1px rgba(0, 0, 0, 0.15);\n",
              "      filter: drop-shadow(0px 1px 2px rgba(0, 0, 0, 0.3));\n",
              "      fill: #FFFFFF;\n",
              "    }\n",
              "  </style>\n",
              "\n",
              "      <script>\n",
              "        const buttonEl =\n",
              "          document.querySelector('#df-dffe527c-63c4-4cab-a640-29be28e5901c button.colab-df-convert');\n",
              "        buttonEl.style.display =\n",
              "          google.colab.kernel.accessAllowed ? 'block' : 'none';\n",
              "\n",
              "        async function convertToInteractive(key) {\n",
              "          const element = document.querySelector('#df-dffe527c-63c4-4cab-a640-29be28e5901c');\n",
              "          const dataTable =\n",
              "            await google.colab.kernel.invokeFunction('convertToInteractive',\n",
              "                                                     [key], {});\n",
              "          if (!dataTable) return;\n",
              "\n",
              "          const docLinkHtml = 'Like what you see? Visit the ' +\n",
              "            '<a target=\"_blank\" href=https://colab.research.google.com/notebooks/data_table.ipynb>data table notebook</a>'\n",
              "            + ' to learn more about interactive tables.';\n",
              "          element.innerHTML = '';\n",
              "          dataTable['output_type'] = 'display_data';\n",
              "          await google.colab.output.renderOutput(dataTable, element);\n",
              "          const docLink = document.createElement('div');\n",
              "          docLink.innerHTML = docLinkHtml;\n",
              "          element.appendChild(docLink);\n",
              "        }\n",
              "      </script>\n",
              "    </div>\n",
              "  </div>\n",
              "  "
            ]
          },
          "metadata": {},
          "execution_count": 76
        }
      ]
    },
    {
      "cell_type": "code",
      "source": [
        "\"\"\"\n",
        "Add text features to the X array\n",
        "\"\"\"\n",
        "nlp_X = np.array([['placeholder', 'placeholder', 'placeholder', 'placeholder', '4', 'place','place']])\n",
        "i = 0\n",
        "while i<len(X[0:1000]):\n",
        "  data_row=X[i].copy()\n",
        "  content_id = X[i][0]\n",
        "\n",
        "  content_data = content_df[content_df.id==content_id]\n",
        "  # We dont want ids in test and train data, so remove 1st element of array \n",
        "  data_row[0] = content_data.title.values[0]\n",
        "  #Add content desc\n",
        "  data_row = np.append(data_row, content_data.description.values[0])\n",
        "  #Add content language\n",
        "  data_row = np.append(data_row, content_data.language.values[0])\n",
        "  #Add content kind\n",
        "  data_row = np.append(data_row, content_data.kind.values[0])\n",
        "  #Add content text content\n",
        "  data_row = np.append(data_row, content_data.text.values[0])\n",
        "  #Add content copyright holder\n",
        "  data_row = np.append(data_row, content_data.copyright_holder.values[0])\n",
        "  #Add content license\n",
        "  data_row = np.append(data_row, content_data.license.values[0])\n",
        "\n",
        "  nlp_X = np.append(nlp_X,np.array([data_row]),axis=0)\n",
        "  i+=1\n",
        "nlp_X = nlp_X[1:]  #Remove the first element we added when creating array\n",
        "nlp_X"
      ],
      "metadata": {
        "colab": {
          "base_uri": "https://localhost:8080/"
        },
        "id": "WgA0F6ApjJ77",
        "outputId": "8789c27f-5661-4d6a-ed20-50229b8ef15c"
      },
      "execution_count": 77,
      "outputs": [
        {
          "output_type": "execute_result",
          "data": {
            "text/plain": [
              "array([['Молив като резистор',\n",
              "        'Моливът причинява промяна в отклонението, подобно на ефекта при свързването на\\nелектромагнит. Защо?\\n\\n',\n",
              "        'bg', ..., 'nan', 'nan', 'nan'],\n",
              "       ['Да чуем променливото ',\n",
              "        'Тук чертаем линия на лист хартия и я използваме като променлив резистор,\\nпоследователно свързан с високоговорител. Каква взаимовръзка чуваме? Звучи ли\\nда е линейна?\\n\\n',\n",
              "        'bg', ..., 'nan', 'nan', 'nan'],\n",
              "       ['Променлив резистор (р',\n",
              "        'Използваме сърцевината на молива (неговия графит), за да приложим различни\\n„дължини молив“ към веригата. Каква взаимовръзка наблюдаваш между дължината на\\nграфита и ъгъла на отклонение?\\n\\n',\n",
              "        'bg', ..., 'nan', 'nan', 'nan'],\n",
              "       ...,\n",
              "       [\"Règle de l'Hospital\\xa0(\",\n",
              "        'La limite en 0 de (2sinx-sin2x)/(x-sinx).\\n\\n', 'fr', ...,\n",
              "        'nan', 'nan', 'nan'],\n",
              "       ['Règle de l’Hospital  ',\n",
              "        \"Déterminer les limites de fonctions exponentielles en utilisant la règle de l’Hospital ou l'Hôpital.\",\n",
              "        'fr', ..., 'nan', 'nan', 'nan'],\n",
              "       [\"Démonstration d'un ca\", '.\\n\\n', 'fr', ..., 'nan', 'nan', 'nan']],\n",
              "      dtype='<U100000')"
            ]
          },
          "metadata": {},
          "execution_count": 77
        }
      ]
    },
    {
      "cell_type": "code",
      "source": [
        "topics_with_content_df[topics_with_content_df.id=='t_00004da3a1b2']"
      ],
      "metadata": {
        "colab": {
          "base_uri": "https://localhost:8080/",
          "height": 159
        },
        "id": "9WCnyDp1ofMv",
        "outputId": "4dbffaf4-bdde-4449-f41c-49bb4cca9a0c"
      },
      "execution_count": 78,
      "outputs": [
        {
          "output_type": "execute_result",
          "data": {
            "text/plain": [
              "               id                       title  \\\n",
              "0  t_00004da3a1b2  Откриването на резисторите   \n",
              "\n",
              "                                         description channel category  level  \\\n",
              "0  Изследване на материали, които предизвикват на...  000cf7   source      4   \n",
              "\n",
              "  language          parent  has_content  \n",
              "0       bg  t_16e29365b50d         True  "
            ],
            "text/html": [
              "\n",
              "  <div id=\"df-27e29693-6f53-43c7-8ee8-f1119681c0e9\">\n",
              "    <div class=\"colab-df-container\">\n",
              "      <div>\n",
              "<style scoped>\n",
              "    .dataframe tbody tr th:only-of-type {\n",
              "        vertical-align: middle;\n",
              "    }\n",
              "\n",
              "    .dataframe tbody tr th {\n",
              "        vertical-align: top;\n",
              "    }\n",
              "\n",
              "    .dataframe thead th {\n",
              "        text-align: right;\n",
              "    }\n",
              "</style>\n",
              "<table border=\"1\" class=\"dataframe\">\n",
              "  <thead>\n",
              "    <tr style=\"text-align: right;\">\n",
              "      <th></th>\n",
              "      <th>id</th>\n",
              "      <th>title</th>\n",
              "      <th>description</th>\n",
              "      <th>channel</th>\n",
              "      <th>category</th>\n",
              "      <th>level</th>\n",
              "      <th>language</th>\n",
              "      <th>parent</th>\n",
              "      <th>has_content</th>\n",
              "    </tr>\n",
              "  </thead>\n",
              "  <tbody>\n",
              "    <tr>\n",
              "      <th>0</th>\n",
              "      <td>t_00004da3a1b2</td>\n",
              "      <td>Откриването на резисторите</td>\n",
              "      <td>Изследване на материали, които предизвикват на...</td>\n",
              "      <td>000cf7</td>\n",
              "      <td>source</td>\n",
              "      <td>4</td>\n",
              "      <td>bg</td>\n",
              "      <td>t_16e29365b50d</td>\n",
              "      <td>True</td>\n",
              "    </tr>\n",
              "  </tbody>\n",
              "</table>\n",
              "</div>\n",
              "      <button class=\"colab-df-convert\" onclick=\"convertToInteractive('df-27e29693-6f53-43c7-8ee8-f1119681c0e9')\"\n",
              "              title=\"Convert this dataframe to an interactive table.\"\n",
              "              style=\"display:none;\">\n",
              "        \n",
              "  <svg xmlns=\"http://www.w3.org/2000/svg\" height=\"24px\"viewBox=\"0 0 24 24\"\n",
              "       width=\"24px\">\n",
              "    <path d=\"M0 0h24v24H0V0z\" fill=\"none\"/>\n",
              "    <path d=\"M18.56 5.44l.94 2.06.94-2.06 2.06-.94-2.06-.94-.94-2.06-.94 2.06-2.06.94zm-11 1L8.5 8.5l.94-2.06 2.06-.94-2.06-.94L8.5 2.5l-.94 2.06-2.06.94zm10 10l.94 2.06.94-2.06 2.06-.94-2.06-.94-.94-2.06-.94 2.06-2.06.94z\"/><path d=\"M17.41 7.96l-1.37-1.37c-.4-.4-.92-.59-1.43-.59-.52 0-1.04.2-1.43.59L10.3 9.45l-7.72 7.72c-.78.78-.78 2.05 0 2.83L4 21.41c.39.39.9.59 1.41.59.51 0 1.02-.2 1.41-.59l7.78-7.78 2.81-2.81c.8-.78.8-2.07 0-2.86zM5.41 20L4 18.59l7.72-7.72 1.47 1.35L5.41 20z\"/>\n",
              "  </svg>\n",
              "      </button>\n",
              "      \n",
              "  <style>\n",
              "    .colab-df-container {\n",
              "      display:flex;\n",
              "      flex-wrap:wrap;\n",
              "      gap: 12px;\n",
              "    }\n",
              "\n",
              "    .colab-df-convert {\n",
              "      background-color: #E8F0FE;\n",
              "      border: none;\n",
              "      border-radius: 50%;\n",
              "      cursor: pointer;\n",
              "      display: none;\n",
              "      fill: #1967D2;\n",
              "      height: 32px;\n",
              "      padding: 0 0 0 0;\n",
              "      width: 32px;\n",
              "    }\n",
              "\n",
              "    .colab-df-convert:hover {\n",
              "      background-color: #E2EBFA;\n",
              "      box-shadow: 0px 1px 2px rgba(60, 64, 67, 0.3), 0px 1px 3px 1px rgba(60, 64, 67, 0.15);\n",
              "      fill: #174EA6;\n",
              "    }\n",
              "\n",
              "    [theme=dark] .colab-df-convert {\n",
              "      background-color: #3B4455;\n",
              "      fill: #D2E3FC;\n",
              "    }\n",
              "\n",
              "    [theme=dark] .colab-df-convert:hover {\n",
              "      background-color: #434B5C;\n",
              "      box-shadow: 0px 1px 3px 1px rgba(0, 0, 0, 0.15);\n",
              "      filter: drop-shadow(0px 1px 2px rgba(0, 0, 0, 0.3));\n",
              "      fill: #FFFFFF;\n",
              "    }\n",
              "  </style>\n",
              "\n",
              "      <script>\n",
              "        const buttonEl =\n",
              "          document.querySelector('#df-27e29693-6f53-43c7-8ee8-f1119681c0e9 button.colab-df-convert');\n",
              "        buttonEl.style.display =\n",
              "          google.colab.kernel.accessAllowed ? 'block' : 'none';\n",
              "\n",
              "        async function convertToInteractive(key) {\n",
              "          const element = document.querySelector('#df-27e29693-6f53-43c7-8ee8-f1119681c0e9');\n",
              "          const dataTable =\n",
              "            await google.colab.kernel.invokeFunction('convertToInteractive',\n",
              "                                                     [key], {});\n",
              "          if (!dataTable) return;\n",
              "\n",
              "          const docLinkHtml = 'Like what you see? Visit the ' +\n",
              "            '<a target=\"_blank\" href=https://colab.research.google.com/notebooks/data_table.ipynb>data table notebook</a>'\n",
              "            + ' to learn more about interactive tables.';\n",
              "          element.innerHTML = '';\n",
              "          dataTable['output_type'] = 'display_data';\n",
              "          await google.colab.output.renderOutput(dataTable, element);\n",
              "          const docLink = document.createElement('div');\n",
              "          docLink.innerHTML = docLinkHtml;\n",
              "          element.appendChild(docLink);\n",
              "        }\n",
              "      </script>\n",
              "    </div>\n",
              "  </div>\n",
              "  "
            ]
          },
          "metadata": {},
          "execution_count": 78
        }
      ]
    },
    {
      "cell_type": "code",
      "source": [
        "\"\"\"\n",
        "Add text features to the y array\n",
        "\"\"\"\n",
        "nlp_y = np.array([['placeholder', 'placeholder', 'placeholder', 'placeholder', '4', 'place']])\n",
        "i = 0\n",
        "while i<len(y[0:1000]):\n",
        "  data_row=y[i].copy()\n",
        "  topic_id = y[i][0]\n",
        "  topic_data = topics_with_content_df[topics_with_content_df.id==topic_id]   \n",
        "\n",
        "  # We dont want ids in test and train data, so remove 1st element of array \n",
        "  data_row[0] = topics_with_content_df.title.values[0]\n",
        "  #Add topic desc\n",
        "  data_row = np.append(data_row, topics_with_content_df.description.values[0])\n",
        "  #Add topic language\n",
        "  data_row = np.append(data_row, topics_with_content_df.language.values[0])\n",
        "  #Add topic_category\n",
        "  data_row = np.append(data_row, topic_data.category.values[0])\n",
        "  #Add topic_channel\n",
        "  data_row = np.append(data_row, topic_data.channel.values[0])\n",
        "  #Add topic_level\n",
        "  data_row = np.append(data_row, topic_data.level.values[0])\n",
        "\n",
        "  nlp_y = np.append(nlp_y,np.array([data_row]),axis=0) \n",
        "  i+=1\n",
        "nlp_y = nlp_y[1:]  #Remove the first element we added when creating array\n",
        "nlp_y [0:3]"
      ],
      "metadata": {
        "colab": {
          "base_uri": "https://localhost:8080/"
        },
        "id": "WbM3EIoEoKbc",
        "outputId": "e57fc26f-6a8f-4bb6-c39e-a6a415b1921c"
      },
      "execution_count": 79,
      "outputs": [
        {
          "output_type": "execute_result",
          "data": {
            "text/plain": [
              "array([['Откриването на резист',\n",
              "        'Изследване на материали, които предизвикват намаление в отклонението, когато се свържат последователно с нашия измервателен уред. ',\n",
              "        'bg', 'source', '000cf7', '4'],\n",
              "       ['Откриването на резист',\n",
              "        'Изследване на материали, които предизвикват намаление в отклонението, когато се свържат последователно с нашия измервателен уред. ',\n",
              "        'bg', 'source', '000cf7', '4'],\n",
              "       ['Откриването на резист',\n",
              "        'Изследване на материали, които предизвикват намаление в отклонението, когато се свържат последователно с нашия измервателен уред. ',\n",
              "        'bg', 'source', '000cf7', '4']], dtype='<U130')"
            ]
          },
          "metadata": {},
          "execution_count": 79
        }
      ]
    },
    {
      "cell_type": "code",
      "source": [
        "len(nlp_X)"
      ],
      "metadata": {
        "colab": {
          "base_uri": "https://localhost:8080/"
        },
        "id": "xhMDO7hI2O20",
        "outputId": "0b330f8a-0552-4902-e483-6a20aaf2331f"
      },
      "execution_count": 80,
      "outputs": [
        {
          "output_type": "execute_result",
          "data": {
            "text/plain": [
              "1000"
            ]
          },
          "metadata": {},
          "execution_count": 80
        }
      ]
    },
    {
      "cell_type": "code",
      "source": [
        "len(nlp_y)"
      ],
      "metadata": {
        "colab": {
          "base_uri": "https://localhost:8080/"
        },
        "id": "UNIMeXft66zP",
        "outputId": "2ab32929-c859-4cca-b494-29c6bf4e4ae6"
      },
      "execution_count": 81,
      "outputs": [
        {
          "output_type": "execute_result",
          "data": {
            "text/plain": [
              "1000"
            ]
          },
          "metadata": {},
          "execution_count": 81
        }
      ]
    },
    {
      "cell_type": "markdown",
      "source": [
        "## Splitting dataset for NLP"
      ],
      "metadata": {
        "id": "BTUYV8tyCnou"
      }
    },
    {
      "cell_type": "code",
      "source": [
        "from sklearn.model_selection import train_test_split\n",
        "X_train, X_test, y_train, y_test = train_test_split(nlp_X,nlp_y,test_size=1/5,random_state=0)\n",
        "print(f\"Sample training data X:\\n {X_train[0:3]}\")\n",
        "print(f\"Sample training data y:\\n {y_train[0:3]}\")"
      ],
      "metadata": {
        "colab": {
          "base_uri": "https://localhost:8080/"
        },
        "id": "Il9smn-4Cjnj",
        "outputId": "1abf6b19-679f-4fd1-c947-3042276f7173"
      },
      "execution_count": 82,
      "outputs": [
        {
          "output_type": "stream",
          "name": "stdout",
          "text": [
            "Sample training data X:\n",
            " [['Soluções de inequaçõe'\n",
            "  'Considerando o gráfico de uma inequação linear com duas variáveis, verifique se um determinado par de valores é uma solução da inequação.'\n",
            "  'pt' 'exercise' 'nan' 'nan' 'nan']\n",
            " ['Amas, vide, sommet, &'\n",
            "  'Entraînez-vous à utiliser un nouveau vocabulaire pour décrire un diagramme de distribution.'\n",
            "  'fr' 'exercise' 'nan' 'nan' 'nan']\n",
            " ['मीट्रिक सिस्टम(मापन प'\n",
            "  'सैल बात करते हैं आयतन या क्षमता की मापन की इकाइयों के बारे में जैसे की\\nमिलीलीटर और लीटर|\\n\\n'\n",
            "  'hi' 'video' 'nan' 'nan' 'nan']]\n",
            "Sample training data y:\n",
            " [['Откриването на резист'\n",
            "  'Изследване на материали, които предизвикват намаление в отклонението, когато се свържат последователно с нашия измервателен уред. '\n",
            "  'bg' 'source' 'f9b74f' '4']\n",
            " ['Откриването на резист'\n",
            "  'Изследване на материали, които предизвикват намаление в отклонението, когато се свържат последователно с нашия измервателен уред. '\n",
            "  'bg' 'source' 'c152d6' '4']\n",
            " ['Откриването на резист'\n",
            "  'Изследване на материали, които предизвикват намаление в отклонението, когато се свържат последователно с нашия измервателен уред. '\n",
            "  'bg' 'supplemental' 'd2ac0e' '5']]\n"
          ]
        }
      ]
    },
    {
      "cell_type": "markdown",
      "source": [
        "## Extracting features from text files"
      ],
      "metadata": {
        "id": "tJqFHaf94KOB"
      }
    },
    {
      "cell_type": "markdown",
      "source": [
        "Next step, we extract the feature vectors from the raw text following the example in references [3]. We will use `sklearn`'s `CountVectorizer`."
      ],
      "metadata": {
        "id": "P2wio4ML4StF"
      }
    },
    {
      "cell_type": "code",
      "source": [
        "len(nlp_X.flatten())"
      ],
      "metadata": {
        "id": "Nq64wKO89yQZ",
        "colab": {
          "base_uri": "https://localhost:8080/"
        },
        "outputId": "043d2f4d-0a85-4bed-938f-04b9ac72216c"
      },
      "execution_count": 83,
      "outputs": [
        {
          "output_type": "execute_result",
          "data": {
            "text/plain": [
              "7000"
            ]
          },
          "metadata": {},
          "execution_count": 83
        }
      ]
    },
    {
      "cell_type": "code",
      "source": [
        "#create feature vectors \n",
        "from sklearn.feature_extraction.text import CountVectorizer,TfidfTransformer \n",
        "cv = CountVectorizer() \n",
        "tfidf = TfidfTransformer()\n",
        "vectorized_X_train = cv.fit_transform(X_train.flatten())\n",
        "vectorized_y_train = cv.fit_transform(y_train.flatten())\n",
        "vectorized_X_test = cv.fit_transform(X_test.flatten())\n",
        "vectorized_y_test = cv.fit_transform(y_test.flatten())"
      ],
      "metadata": {
        "id": "b-qjQW3K4miR"
      },
      "execution_count": 84,
      "outputs": []
    },
    {
      "cell_type": "code",
      "source": [
        "vectorized_X_train.shape"
      ],
      "metadata": {
        "colab": {
          "base_uri": "https://localhost:8080/"
        },
        "id": "6PH-69gW5Y63",
        "outputId": "de3cad03-1a62-4a5b-e8fd-6e7838a66c71"
      },
      "execution_count": 69,
      "outputs": [
        {
          "output_type": "execute_result",
          "data": {
            "text/plain": [
              "(5600, 23838)"
            ]
          },
          "metadata": {},
          "execution_count": 69
        }
      ]
    },
    {
      "cell_type": "markdown",
      "source": [
        "# Example NLP Model using `sklearn` dataset (ELEC 400M Final Report)"
      ],
      "metadata": {
        "id": "zjjoA5oQFMX_"
      }
    },
    {
      "cell_type": "markdown",
      "source": [
        "Before continuing working on our NLP model, we will work on a different end to end machine learning project using data that is already built into `sklearn`. The lessons learnt from building a project of lesser scope and complexity will be useful in the larger curriculum recommender project\n",
        "\n",
        "This is a supervised learning problem. The machine learning general task here is *multi-class classification* (more specifically *a natural language processing classifier*). \n",
        "\n",
        "This is when we have a training dataset\n",
        "\n",
        "> \\begin{equation*}\n",
        "  D =  {(x1,y1),(x2,y2),...,(xn,yn)}\n",
        "\\end{equation*}\n",
        "\n",
        "trains a model to give us the target \\begin{equation}\n",
        "y\n",
        "\\end{equation}\n",
        "which can be one of *K* different values. If *K*=2 such as in positive or negative sentiment analysis, it is referred to as binary classification.\n",
        ">\\begin{equation}\n",
        "Y = {y1,y2,..,yk}\n",
        "\\end{equation}"
      ],
      "metadata": {
        "id": "P_Z7zOJxFWyn"
      }
    },
    {
      "cell_type": "markdown",
      "source": [
        "## Relevant applications of NLP classifiers"
      ],
      "metadata": {
        "id": "52AeHQkQv7Fw"
      }
    },
    {
      "cell_type": "markdown",
      "source": [
        "Natural Language Processing (NLP) Classifiers are widely used in several industries. Some of these include: \n",
        "\n",
        "- Spam detection in emails\n",
        "\n",
        "- Sentiment analysis in social media\n",
        "\n",
        "- Topic detection in chatbots\n",
        "\n",
        "The input, *x* for NLP classifiers is sequences of words. The dimensionality of this input is large and linearly proportional to the vocabulary size\n",
        "\n",
        "The most popular algorithm in NLP classifiers is The Bag of Words and we will be using the same here. This algorithm represents raw text data as a bag or multiset of words where the frequency of occurrence of each word is used as a feature vector for training the model [5] \n",
        "\n",
        "Most popular methods of implementing NLP classifiers at the moment is using `Naive bayes`, `Support Vector Machines` and `Deep Learning`. We will be building a `Naive bayes` model and `SVM` model in this project"
      ],
      "metadata": {
        "id": "PF8RhX1qwC6N"
      }
    },
    {
      "cell_type": "markdown",
      "source": [
        "## Dataset"
      ],
      "metadata": {
        "id": "J8NHHRy1HRPF"
      }
    },
    {
      "cell_type": "markdown",
      "source": [
        "The dataset we will be using is the 20 Newsgroups text dataset collected by Ken Lang [6]. This dataset is a collection about 18000 newsgroups posts on 20 topics split into a training dataset and a testing dataset. It is the most popular dataset for text classification and text clustering \n"
      ],
      "metadata": {
        "id": "OD2FRlpuHV9i"
      }
    },
    {
      "cell_type": "markdown",
      "source": [
        "## Exploratory Data Analysis"
      ],
      "metadata": {
        "id": "ZsrpAjoe0zvh"
      }
    },
    {
      "cell_type": "markdown",
      "source": [
        "`sklearn` comes with a loader that enables us to obtain the raw text data. Although, another loader exist for pre-processed data in form of feature vectors, we will not be using it for the learning experience.\n",
        "\n",
        "Also, using the raw text data will allow us to have access to custom parameters that we can fine-tune to improve performance"
      ],
      "metadata": {
        "id": "9UAS7yhV1Ogl"
      }
    },
    {
      "cell_type": "code",
      "source": [
        "from sklearn.datasets import fetch_20newsgroups \n",
        "newsgroups_train = fetch_20newsgroups(subset=\"train\",shuffle=True)"
      ],
      "metadata": {
        "id": "J77MKkqBGb0y"
      },
      "execution_count": 2,
      "outputs": []
    },
    {
      "cell_type": "markdown",
      "source": [
        "The dataset consists of 20 files for each topic"
      ],
      "metadata": {
        "id": "VWmAr_Iu168v"
      }
    },
    {
      "cell_type": "code",
      "source": [
        "newsgroups_train.filenames[0:5]"
      ],
      "metadata": {
        "colab": {
          "base_uri": "https://localhost:8080/"
        },
        "id": "BIOj_x4E189_",
        "outputId": "7c9e2c32-e1bb-4560-8316-91ba5d878073"
      },
      "execution_count": 3,
      "outputs": [
        {
          "output_type": "execute_result",
          "data": {
            "text/plain": [
              "array(['/root/scikit_learn_data/20news_home/20news-bydate-train/rec.autos/102994',\n",
              "       '/root/scikit_learn_data/20news_home/20news-bydate-train/comp.sys.mac.hardware/51861',\n",
              "       '/root/scikit_learn_data/20news_home/20news-bydate-train/comp.sys.mac.hardware/51879',\n",
              "       '/root/scikit_learn_data/20news_home/20news-bydate-train/comp.graphics/38242',\n",
              "       '/root/scikit_learn_data/20news_home/20news-bydate-train/sci.space/60880'],\n",
              "      dtype='<U86')"
            ]
          },
          "metadata": {},
          "execution_count": 3
        }
      ]
    },
    {
      "cell_type": "code",
      "source": [
        "print(newsgroups_train.data[0])"
      ],
      "metadata": {
        "colab": {
          "base_uri": "https://localhost:8080/"
        },
        "id": "1kh_sYJZ2MIH",
        "outputId": "2937340d-d8c5-4a70-8ed2-da8606395880"
      },
      "execution_count": 5,
      "outputs": [
        {
          "output_type": "stream",
          "name": "stdout",
          "text": [
            "From: lerxst@wam.umd.edu (where's my thing)\n",
            "Subject: WHAT car is this!?\n",
            "Nntp-Posting-Host: rac3.wam.umd.edu\n",
            "Organization: University of Maryland, College Park\n",
            "Lines: 15\n",
            "\n",
            " I was wondering if anyone out there could enlighten me on this car I saw\n",
            "the other day. It was a 2-door sports car, looked to be from the late 60s/\n",
            "early 70s. It was called a Bricklin. The doors were really small. In addition,\n",
            "the front bumper was separate from the rest of the body. This is \n",
            "all I know. If anyone can tellme a model name, engine specs, years\n",
            "of production, where this car is made, history, or whatever info you\n",
            "have on this funky looking car, please e-mail.\n",
            "\n",
            "Thanks,\n",
            "- IL\n",
            "   ---- brought to you by your neighborhood Lerxst ----\n",
            "\n",
            "\n",
            "\n",
            "\n",
            "\n"
          ]
        }
      ]
    },
    {
      "cell_type": "markdown",
      "source": [
        "As you can see above, each post in the data consists of several sections. This is listed below:\n",
        "- `From`\n",
        "- `Subject`\n",
        "- `Nntp-Posting-Host`\n",
        "- `Organization`\n",
        "- `nLines`\n",
        "- The rest of content of the post follows"
      ],
      "metadata": {
        "id": "XCD6cJJG2WFM"
      }
    },
    {
      "cell_type": "code",
      "source": [
        "print(newsgroups_train.target_names)"
      ],
      "metadata": {
        "colab": {
          "base_uri": "https://localhost:8080/"
        },
        "id": "f9Iv8yXiJcKq",
        "outputId": "71e6e16b-7862-44d9-9ede-e7d539220aaa"
      },
      "execution_count": 6,
      "outputs": [
        {
          "output_type": "stream",
          "name": "stdout",
          "text": [
            "['alt.atheism', 'comp.graphics', 'comp.os.ms-windows.misc', 'comp.sys.ibm.pc.hardware', 'comp.sys.mac.hardware', 'comp.windows.x', 'misc.forsale', 'rec.autos', 'rec.motorcycles', 'rec.sport.baseball', 'rec.sport.hockey', 'sci.crypt', 'sci.electronics', 'sci.med', 'sci.space', 'soc.religion.christian', 'talk.politics.guns', 'talk.politics.mideast', 'talk.politics.misc', 'talk.religion.misc']\n"
          ]
        }
      ]
    },
    {
      "cell_type": "markdown",
      "source": [
        "There are 20 different categories (referred to as `newsgroups` as shown above"
      ],
      "metadata": {
        "id": "fw6p1qXZ3Lhd"
      }
    },
    {
      "cell_type": "code",
      "source": [
        "newsgroups_train.filenames.shape"
      ],
      "metadata": {
        "colab": {
          "base_uri": "https://localhost:8080/"
        },
        "id": "azw0GEiDJpsN",
        "outputId": "acb27d49-f8a3-4339-ccca-4e5c71f0c881"
      },
      "execution_count": 7,
      "outputs": [
        {
          "output_type": "execute_result",
          "data": {
            "text/plain": [
              "(11314,)"
            ]
          },
          "metadata": {},
          "execution_count": 7
        }
      ]
    },
    {
      "cell_type": "code",
      "source": [
        "newsgroups_train.target.shape"
      ],
      "metadata": {
        "colab": {
          "base_uri": "https://localhost:8080/"
        },
        "id": "byL2H5yTJuiF",
        "outputId": "8845a535-01a9-4129-be93-70e9403c8e8c"
      },
      "execution_count": 8,
      "outputs": [
        {
          "output_type": "execute_result",
          "data": {
            "text/plain": [
              "(11314,)"
            ]
          },
          "metadata": {},
          "execution_count": 8
        }
      ]
    },
    {
      "cell_type": "markdown",
      "source": [
        "### Data preprocessing - 20 Newsgroups feature selection"
      ],
      "metadata": {
        "id": "_TpUqRXXKQM8"
      }
    },
    {
      "cell_type": "markdown",
      "source": [
        "The input consists of sequences of words that are of varying length. Before we can use this raw text data, we need to first convert it into *d* dimensional numerical vectors. This will allow it to be fed into a machine learning algorithm since computers cannot understand text\n",
        "\n"
      ],
      "metadata": {
        "id": "8ykPupdtKVew"
      }
    },
    {
      "cell_type": "markdown",
      "source": [
        "One method to do this is using the `Bag of Words` model mentioned earlier. First we represent all words in the vocabulary of the training set as shown below\n",
        ">\\begin{equation}\n",
        "V = {motoring, mohan,mongoose,atheism ...}\n",
        "\\end{equation}"
      ],
      "metadata": {
        "id": "GrqcJRed9mX2"
      }
    },
    {
      "cell_type": "markdown",
      "source": [
        "We use the `Term Frequency times Inverse Document Frequency` (TFIDF) vectorizer from `sklearn` to create the vectors"
      ],
      "metadata": {
        "id": "IxcAsvrU9lel"
      }
    },
    {
      "cell_type": "code",
      "source": [
        "from sklearn.feature_extraction.text import TfidfVectorizer \n",
        "tfid_vectorizer = TfidfVectorizer()\n",
        "tfid_vectors_X = tfid_vectorizer.fit_transform(newsgroups_train.data)"
      ],
      "metadata": {
        "id": "4JBp2bUIKUgj"
      },
      "execution_count": 9,
      "outputs": []
    },
    {
      "cell_type": "code",
      "source": [
        "non_zero_vectors = tfid_vectors_X.nnz/float(tfid_vectors_X.shape[0])\n",
        "non_zero_vectors"
      ],
      "metadata": {
        "colab": {
          "base_uri": "https://localhost:8080/"
        },
        "id": "Y4_NqYFpLAzB",
        "outputId": "960d873e-7576-41bd-d15e-044c6fc70db3"
      },
      "execution_count": 10,
      "outputs": [
        {
          "output_type": "execute_result",
          "data": {
            "text/plain": [
              "157.9958458546933"
            ]
          },
          "metadata": {},
          "execution_count": 10
        }
      ]
    },
    {
      "cell_type": "markdown",
      "source": [
        "There are only 157 non-zero vectors hence our data is very sparse"
      ],
      "metadata": {
        "id": "v1cyycWWLkud"
      }
    },
    {
      "cell_type": "markdown",
      "source": [
        "### Naive Bayes NLP model for 20Newsgroups Data\n",
        "\n"
      ],
      "metadata": {
        "id": "EQJSdEPS6TZB"
      }
    },
    {
      "cell_type": "markdown",
      "source": [
        "There are two types of classification models: generative and disciminative models. A discriminatuve model would not be suitable for text classification like our problem since the data does not follow a normal distribution. It follows a discrete multinomial distribution"
      ],
      "metadata": {
        "id": "L5uCU37jCj_D"
      }
    },
    {
      "cell_type": "markdown",
      "source": [
        " Naive Bayes is a generative classification model. This is because it specifies a hypothetical random process to generate data. It uses the Bayes rule shown below  \n",
        "\n",
        ">\\begin{equation}\n",
        "arg\\:max_{y}\\:log\\:p\\:(y|x) = arg\\:max_{y}\\:log\\:\\frac{p\\:(x|y)\\:p(y)} {p(x)} = arg\\:max_{y}\\:log\\:p\\:(x|y)\\:p(y)\n",
        "\\end{equation}\n",
        "\n",
        "Naive Bayes models are usually suitable for high dimensional data like ours."
      ],
      "metadata": {
        "id": "JZBl0NNXAOrK"
      }
    },
    {
      "cell_type": "markdown",
      "source": [
        "There are several types of naive bayes models such as Gaussian Naive Bayes and Multinomial Naive Bayes. The difference is in the assumptions they make about data. For this project, the most suitable is Multinomial Naive Bayes which assumes the features are in a multinomial distribution. It describes probabilities of observing counts among a number of categories hence it is perfect for data with count rates like ours[10]. As described above, we pre-process the data to have words represented by their frequency in the raw data."
      ],
      "metadata": {
        "id": "qaU97AqobMri"
      }
    },
    {
      "cell_type": "code",
      "source": [
        "from sklearn.naive_bayes import MultinomialNB\n",
        "nb_model = MultinomialNB(alpha=0.01) \n",
        "nb_model = nb_model.fit(tfid_vectors_X,newsgroups_train.target)"
      ],
      "metadata": {
        "id": "MxiOgS9t6glh"
      },
      "execution_count": 11,
      "outputs": []
    },
    {
      "cell_type": "code",
      "source": [
        "# Load the test data\n",
        "news_groups_test = fetch_20newsgroups(subset=\"test\")\n",
        "tfid_vectors_y = tfid_vectorizer.transform(news_groups_test.data)"
      ],
      "metadata": {
        "id": "a9KWEul8NNXe"
      },
      "execution_count": 12,
      "outputs": []
    },
    {
      "cell_type": "code",
      "source": [
        "nb_preds = nb_model.predict(tfid_vectors_y)"
      ],
      "metadata": {
        "id": "BrJ-L6yA_RUk"
      },
      "execution_count": 13,
      "outputs": []
    },
    {
      "cell_type": "code",
      "source": [
        "import numpy as np\n",
        "np.mean(nb_preds==news_groups_test.target)"
      ],
      "metadata": {
        "colab": {
          "base_uri": "https://localhost:8080/"
        },
        "id": "gfwdKH3cONIc",
        "outputId": "45347fe8-1f3e-4f97-a5b7-a640a48bb682"
      },
      "execution_count": 14,
      "outputs": [
        {
          "output_type": "execute_result",
          "data": {
            "text/plain": [
              "0.8352363250132767"
            ]
          },
          "metadata": {},
          "execution_count": 14
        }
      ]
    },
    {
      "cell_type": "code",
      "source": [
        "from sklearn import metrics \n",
        "metrics.f1_score(news_groups_test.target,nb_preds,average=\"macro\")"
      ],
      "metadata": {
        "colab": {
          "base_uri": "https://localhost:8080/"
        },
        "id": "iwD0WrPUOgwK",
        "outputId": "fbeb0359-3644-47fc-e5e9-f1dddb377053"
      },
      "execution_count": 15,
      "outputs": [
        {
          "output_type": "execute_result",
          "data": {
            "text/plain": [
              "0.8290659644474043"
            ]
          },
          "metadata": {},
          "execution_count": 15
        }
      ]
    },
    {
      "cell_type": "code",
      "source": [
        "#Implement this function following example in the sklearn documents, references [4]\n",
        "def top_5_features(classifier,vectorizer):\n",
        "  feature_names = np.asarray(vectorizer.get_feature_names())\n",
        "  top_5 = np.argsort(classifier.coef_)[-5:]\n",
        "  print(feature_names[top_5])"
      ],
      "metadata": {
        "id": "1Rcfv4OEQpTZ"
      },
      "execution_count": 16,
      "outputs": []
    },
    {
      "cell_type": "code",
      "source": [
        "top_5_features(nb_model,tfid_vectorizer)"
      ],
      "metadata": {
        "colab": {
          "base_uri": "https://localhost:8080/"
        },
        "id": "jQsojJkSRZAk",
        "outputId": "aa326cbe-edb2-4b73-9792-04a043316dca"
      },
      "execution_count": 17,
      "outputs": [
        {
          "output_type": "stream",
          "name": "stderr",
          "text": [
            "/usr/local/lib/python3.8/dist-packages/sklearn/utils/deprecation.py:87: FutureWarning: Function get_feature_names is deprecated; get_feature_names is deprecated in 1.0 and will be removed in 1.2. Please use get_feature_names_out instead.\n",
            "  warnings.warn(msg, category=FutureWarning)\n",
            "/usr/local/lib/python3.8/dist-packages/sklearn/utils/deprecation.py:103: FutureWarning: Attribute `coef_` was deprecated in version 0.24 and will be removed in 1.1 (renaming of 0.26).\n",
            "  warnings.warn(msg, category=FutureWarning)\n"
          ]
        },
        {
          "output_type": "stream",
          "name": "stdout",
          "text": [
            "[['hzrck' 'motoring' 'motoren' ... 'to' 'of' 'the']\n",
            " ['hzrck' 'mohan' 'mohammedans' ... 'of' 'to' 'the']\n",
            " ['hzrck' 'mongoose' 'mongers' ... 'to' 'of' 'the']\n",
            " ['hzrck' 'mouting' 'mouths' ... 'of' 'to' 'the']\n",
            " ['hzrck' 'mrlhzv' 'mrlhzrchzv' ... 'to' 'of' 'the']]\n"
          ]
        }
      ]
    },
    {
      "cell_type": "code",
      "source": [
        "from sklearn.metrics import classification_report\n",
        "print(classification_report(news_groups_test.target, nb_preds))"
      ],
      "metadata": {
        "colab": {
          "base_uri": "https://localhost:8080/"
        },
        "id": "07aJAyCUNfVs",
        "outputId": "ff8742ec-bb01-48ac-dfd1-92cbbcaeb42d"
      },
      "execution_count": 18,
      "outputs": [
        {
          "output_type": "stream",
          "name": "stdout",
          "text": [
            "              precision    recall  f1-score   support\n",
            "\n",
            "           0       0.82      0.78      0.80       319\n",
            "           1       0.69      0.75      0.72       389\n",
            "           2       0.74      0.63      0.68       394\n",
            "           3       0.65      0.75      0.69       392\n",
            "           4       0.83      0.84      0.83       385\n",
            "           5       0.84      0.78      0.81       395\n",
            "           6       0.82      0.78      0.80       390\n",
            "           7       0.89      0.90      0.90       396\n",
            "           8       0.93      0.96      0.95       398\n",
            "           9       0.95      0.94      0.95       397\n",
            "          10       0.95      0.97      0.96       399\n",
            "          11       0.89      0.93      0.91       396\n",
            "          12       0.79      0.77      0.78       393\n",
            "          13       0.89      0.84      0.86       396\n",
            "          14       0.87      0.91      0.89       394\n",
            "          15       0.82      0.95      0.88       398\n",
            "          16       0.76      0.91      0.83       364\n",
            "          17       0.97      0.94      0.96       376\n",
            "          18       0.80      0.64      0.71       310\n",
            "          19       0.76      0.59      0.67       251\n",
            "\n",
            "    accuracy                           0.84      7532\n",
            "   macro avg       0.83      0.83      0.83      7532\n",
            "weighted avg       0.84      0.84      0.83      7532\n",
            "\n"
          ]
        }
      ]
    },
    {
      "cell_type": "markdown",
      "source": [
        "Generative models like Naive-Bayes make stronger modelling assumptions which affect how the model performs. If the assumptions are correct, then their performance is better"
      ],
      "metadata": {
        "id": "2X4F-zKuD2xU"
      }
    },
    {
      "cell_type": "markdown",
      "source": [
        "### Support Vector Machine Classifier for 20Newsgroups Data"
      ],
      "metadata": {
        "id": "EUauYtl9KHoH"
      }
    },
    {
      "cell_type": "markdown",
      "source": [
        "Support vector machines are suitable for a project like this because they work well with high-dimensional data like ours. This is because they are only affected by points close to the margins"
      ],
      "metadata": {
        "id": "ENh7TcXkOVLi"
      }
    },
    {
      "cell_type": "code",
      "source": [
        "from sklearn.svm import SVC \n",
        "svc_model = SVC(kernel=\"linear\",C=1e10)\n",
        "svc_model.fit(tfid_vectors_X,newsgroups_train.target)"
      ],
      "metadata": {
        "colab": {
          "base_uri": "https://localhost:8080/"
        },
        "id": "NqN1sGf1KQoj",
        "outputId": "f47d02da-8600-4f7d-e81d-d41c58bcce34"
      },
      "execution_count": 16,
      "outputs": [
        {
          "output_type": "execute_result",
          "data": {
            "text/plain": [
              "SVC(C=10000000000.0, kernel='linear')"
            ]
          },
          "metadata": {},
          "execution_count": 16
        }
      ]
    },
    {
      "cell_type": "markdown",
      "source": [
        "Using the SVC model takes relatively longer time to train (4 minutes). This is because SVC models scale with number of samples  $\\mathcal{O}[N^2]$  and since our data has numerous samples (~20k), it requires a lot of computational resources [9]\n",
        "\n",
        "We can improve this by using a stochastic gradient descent classifier to implement a linear SVM. This lowers the runtime to ~2 seconds"
      ],
      "metadata": {
        "id": "foopb3aXLo6K"
      }
    },
    {
      "cell_type": "markdown",
      "source": [
        "### Stochastic Gradient Descent Classifier for 20Newsgroups Data - SVM"
      ],
      "metadata": {
        "id": "pUVJoH55GdPN"
      }
    },
    {
      "cell_type": "markdown",
      "source": [
        "Stochastic Gradient Descent model on `sklearn` implements linear classifiers such as SVM and logistic regression with stochastic gradient desent. The `sklearn` model works best with sparse data. As we saw above, the data we're using is sparse making this a suitable model\n",
        "\n",
        "We choose `hinge` loss so that the model implements a linear SVM"
      ],
      "metadata": {
        "id": "ILSMJnpeG0Yd"
      }
    },
    {
      "cell_type": "code",
      "source": [
        "from sklearn.linear_model import SGDClassifier \n",
        "svm_model  = SGDClassifier(loss=\"hinge\",penalty=\"l2\",alpha=0.001,random_state=95)\n",
        "svm_model.fit(tfid_vectors_X,newsgroups_train.target)"
      ],
      "metadata": {
        "colab": {
          "base_uri": "https://localhost:8080/"
        },
        "id": "mkwk6lhI_0hJ",
        "outputId": "ae531a9c-19a4-45f4-b531-d032fdf480ea"
      },
      "execution_count": 19,
      "outputs": [
        {
          "output_type": "execute_result",
          "data": {
            "text/plain": [
              "SGDClassifier(alpha=0.001, random_state=95)"
            ]
          },
          "metadata": {},
          "execution_count": 19
        }
      ]
    },
    {
      "cell_type": "code",
      "source": [
        "svm_preds = svm_model.predict(tfid_vectors_y)"
      ],
      "metadata": {
        "id": "FkrwUUgfA7Rt"
      },
      "execution_count": 20,
      "outputs": []
    },
    {
      "cell_type": "code",
      "source": [
        "np.mean(svm_preds==news_groups_test.target)"
      ],
      "metadata": {
        "colab": {
          "base_uri": "https://localhost:8080/"
        },
        "id": "DQi7gPNkP2se",
        "outputId": "48d093c2-337e-4fed-92b8-688280817ae5"
      },
      "execution_count": 21,
      "outputs": [
        {
          "output_type": "execute_result",
          "data": {
            "text/plain": [
              "0.8235528412108338"
            ]
          },
          "metadata": {},
          "execution_count": 21
        }
      ]
    },
    {
      "cell_type": "code",
      "source": [
        "metrics.f1_score(news_groups_test.target,svm_preds,average=\"macro\")"
      ],
      "metadata": {
        "colab": {
          "base_uri": "https://localhost:8080/"
        },
        "id": "i4ZZzWH1P7Jc",
        "outputId": "12ddb03b-81a4-4d4a-89e7-7c5c9d30327a"
      },
      "execution_count": 22,
      "outputs": [
        {
          "output_type": "execute_result",
          "data": {
            "text/plain": [
              "0.8101986195933588"
            ]
          },
          "metadata": {},
          "execution_count": 22
        }
      ]
    },
    {
      "cell_type": "code",
      "source": [
        "top_5_features(svm_model,tfid_vectorizer)"
      ],
      "metadata": {
        "colab": {
          "base_uri": "https://localhost:8080/"
        },
        "id": "-LAV9K8kSUu9",
        "outputId": "6545df32-92b4-42bf-f4f6-e93fff1a1651"
      },
      "execution_count": 23,
      "outputs": [
        {
          "output_type": "stream",
          "name": "stderr",
          "text": [
            "/usr/local/lib/python3.8/dist-packages/sklearn/utils/deprecation.py:87: FutureWarning: Function get_feature_names is deprecated; get_feature_names is deprecated in 1.0 and will be removed in 1.2. Please use get_feature_names_out instead.\n",
            "  warnings.warn(msg, category=FutureWarning)\n"
          ]
        },
        {
          "output_type": "stream",
          "name": "stdout",
          "text": [
            "[['atheism' 'nntp' 'host' ... 'christians' 'church' 'god']\n",
            " ['sandvik' 'clipper' 'encryption' ... 'firearms' 'guns' 'gun']\n",
            " ['god' 'jesus' 'christ' ... 'turkish' 'israeli' 'israel']\n",
            " ['gun' 'clipper' 'guns' ... 'kaldis' 'optilink' 'cramer']\n",
            " ['rutgers' 'keith' 'atheists' ... 'ch981' 'rosicrucian' 'sandvik']]\n"
          ]
        }
      ]
    },
    {
      "cell_type": "code",
      "source": [
        "print(classification_report(news_groups_test.target, svm_preds))"
      ],
      "metadata": {
        "colab": {
          "base_uri": "https://localhost:8080/"
        },
        "id": "TAzaQzjJdipk",
        "outputId": "05740b66-ab46-4348-bf15-82316e328b07"
      },
      "execution_count": 24,
      "outputs": [
        {
          "output_type": "stream",
          "name": "stdout",
          "text": [
            "              precision    recall  f1-score   support\n",
            "\n",
            "           0       0.73      0.70      0.72       319\n",
            "           1       0.80      0.70      0.75       389\n",
            "           2       0.71      0.78      0.74       394\n",
            "           3       0.74      0.67      0.70       392\n",
            "           4       0.82      0.83      0.82       385\n",
            "           5       0.84      0.76      0.80       395\n",
            "           6       0.83      0.90      0.87       390\n",
            "           7       0.91      0.89      0.90       396\n",
            "           8       0.93      0.97      0.95       398\n",
            "           9       0.89      0.89      0.89       397\n",
            "          10       0.87      0.99      0.93       399\n",
            "          11       0.83      0.96      0.89       396\n",
            "          12       0.83      0.62      0.71       393\n",
            "          13       0.88      0.85      0.87       396\n",
            "          14       0.84      0.96      0.90       394\n",
            "          15       0.74      0.94      0.83       398\n",
            "          16       0.70      0.92      0.79       364\n",
            "          17       0.91      0.93      0.92       376\n",
            "          18       0.87      0.56      0.68       310\n",
            "          19       0.83      0.40      0.54       251\n",
            "\n",
            "    accuracy                           0.82      7532\n",
            "   macro avg       0.83      0.81      0.81      7532\n",
            "weighted avg       0.83      0.82      0.82      7532\n",
            "\n"
          ]
        }
      ]
    },
    {
      "cell_type": "markdown",
      "source": [
        "## Hyper Parameter Tuning\n",
        "\n"
      ],
      "metadata": {
        "id": "QkhD7Hf-F1Gc"
      }
    },
    {
      "cell_type": "markdown",
      "source": [
        "### Naive Bayes Grid Search - 5 Fold Cross Validation"
      ],
      "metadata": {
        "id": "4KbFMxfpB-Mq"
      }
    },
    {
      "cell_type": "markdown",
      "source": [
        "We can use the grid search tool from `sklearn` to tune the SVM and Naive Bayes parameters. By default, grid search uses 5-fold cross validation but we can specify it using `cv=<int>`"
      ],
      "metadata": {
        "id": "M45hJxmpQTZN"
      }
    },
    {
      "cell_type": "code",
      "source": [
        "from sklearn.model_selection import GridSearchCV\n",
        "parameters = {\n",
        "    \"alpha\":(0.01,0.001)\n",
        "}"
      ],
      "metadata": {
        "id": "v1_za_MnSuoM"
      },
      "execution_count": 25,
      "outputs": []
    },
    {
      "cell_type": "code",
      "source": [
        "grid_search_nb_clf = GridSearchCV(nb_model,parameters,n_jobs=-1)\n",
        "grid_search_nb_clf.fit(tfid_vectors_X,newsgroups_train.target)"
      ],
      "metadata": {
        "colab": {
          "base_uri": "https://localhost:8080/"
        },
        "id": "C77nvvCSTSc8",
        "outputId": "fc894c29-5fe8-4b99-8a8f-8650774ebfe6"
      },
      "execution_count": 26,
      "outputs": [
        {
          "output_type": "execute_result",
          "data": {
            "text/plain": [
              "GridSearchCV(estimator=MultinomialNB(alpha=0.01), n_jobs=-1,\n",
              "             param_grid={'alpha': (0.01, 0.001)})"
            ]
          },
          "metadata": {},
          "execution_count": 26
        }
      ]
    },
    {
      "cell_type": "code",
      "source": [
        "grid_search_nb_clf.best_score_ #mean cross-validated score"
      ],
      "metadata": {
        "colab": {
          "base_uri": "https://localhost:8080/"
        },
        "id": "22HyRQfaT4Ff",
        "outputId": "1ad56994-e4f9-4b55-9dab-d81d23734fde"
      },
      "execution_count": 27,
      "outputs": [
        {
          "output_type": "execute_result",
          "data": {
            "text/plain": [
              "0.911171879303898"
            ]
          },
          "metadata": {},
          "execution_count": 27
        }
      ]
    },
    {
      "cell_type": "code",
      "source": [
        "grid_search_nb_clf.best_params_"
      ],
      "metadata": {
        "colab": {
          "base_uri": "https://localhost:8080/"
        },
        "id": "BMuqQ1vyT-_H",
        "outputId": "328bf313-f627-4b52-d889-d99f7f009415"
      },
      "execution_count": 28,
      "outputs": [
        {
          "output_type": "execute_result",
          "data": {
            "text/plain": [
              "{'alpha': 0.01}"
            ]
          },
          "metadata": {},
          "execution_count": 28
        }
      ]
    },
    {
      "cell_type": "markdown",
      "source": [
        "Using grid search's cross validation to optimize the alpha parameter for our naive bayes classifier increases our score from 82.9% to 91.1%"
      ],
      "metadata": {
        "id": "bVJaqQCNEkTm"
      }
    },
    {
      "cell_type": "markdown",
      "source": [
        "### *SVM* Grid Search - 5 Fold Cross Validation"
      ],
      "metadata": {
        "id": "bj_my1OEGBTC"
      }
    },
    {
      "cell_type": "code",
      "source": [
        "svm_model.get_params()"
      ],
      "metadata": {
        "colab": {
          "base_uri": "https://localhost:8080/"
        },
        "id": "62cW9lGjIl4a",
        "outputId": "ba9fdb77-cd14-4e88-f331-5c7f21ada337"
      },
      "execution_count": 29,
      "outputs": [
        {
          "output_type": "execute_result",
          "data": {
            "text/plain": [
              "{'alpha': 0.001,\n",
              " 'average': False,\n",
              " 'class_weight': None,\n",
              " 'early_stopping': False,\n",
              " 'epsilon': 0.1,\n",
              " 'eta0': 0.0,\n",
              " 'fit_intercept': True,\n",
              " 'l1_ratio': 0.15,\n",
              " 'learning_rate': 'optimal',\n",
              " 'loss': 'hinge',\n",
              " 'max_iter': 1000,\n",
              " 'n_iter_no_change': 5,\n",
              " 'n_jobs': None,\n",
              " 'penalty': 'l2',\n",
              " 'power_t': 0.5,\n",
              " 'random_state': 95,\n",
              " 'shuffle': True,\n",
              " 'tol': 0.001,\n",
              " 'validation_fraction': 0.1,\n",
              " 'verbose': 0,\n",
              " 'warm_start': False}"
            ]
          },
          "metadata": {},
          "execution_count": 29
        }
      ]
    },
    {
      "cell_type": "code",
      "source": [
        "grid_search_svm_clf = GridSearchCV(svm_model,parameters,n_jobs=-1)\n",
        "grid_search_svm_clf.fit(tfid_vectors_X,newsgroups_train.target)"
      ],
      "metadata": {
        "colab": {
          "base_uri": "https://localhost:8080/"
        },
        "id": "st-yCXFoTvC_",
        "outputId": "5a369bcd-0eeb-4f87-ce33-d1aa97d22fb6"
      },
      "execution_count": 30,
      "outputs": [
        {
          "output_type": "execute_result",
          "data": {
            "text/plain": [
              "GridSearchCV(estimator=SGDClassifier(alpha=0.001, random_state=95), n_jobs=-1,\n",
              "             param_grid={'alpha': (0.01, 0.001)})"
            ]
          },
          "metadata": {},
          "execution_count": 30
        }
      ]
    },
    {
      "cell_type": "code",
      "source": [
        "grid_search_svm_clf.best_score_"
      ],
      "metadata": {
        "colab": {
          "base_uri": "https://localhost:8080/"
        },
        "id": "_XM8Exb-T167",
        "outputId": "f3d941e7-2024-4675-9287-a5b3dd9da21f"
      },
      "execution_count": 31,
      "outputs": [
        {
          "output_type": "execute_result",
          "data": {
            "text/plain": [
              "0.8889869046237614"
            ]
          },
          "metadata": {},
          "execution_count": 31
        }
      ]
    },
    {
      "cell_type": "code",
      "source": [
        "grid_search_svm_clf.best_params_"
      ],
      "metadata": {
        "colab": {
          "base_uri": "https://localhost:8080/"
        },
        "id": "ekQ939OcUKsP",
        "outputId": "5d5b0ad4-1cf0-451e-f042-c5e9352004d1"
      },
      "execution_count": 32,
      "outputs": [
        {
          "output_type": "execute_result",
          "data": {
            "text/plain": [
              "{'alpha': 0.001}"
            ]
          },
          "metadata": {},
          "execution_count": 32
        }
      ]
    },
    {
      "cell_type": "code",
      "source": [
        "# grid_search_svm_clf.get_params()"
      ],
      "metadata": {
        "id": "hFFoooqGIbKc"
      },
      "execution_count": 33,
      "outputs": []
    },
    {
      "cell_type": "markdown",
      "source": [
        "Using grid search's cross validation  to optimize the alpha parameter for our naive bayes classifier increases our score from 81.0% to 88.9%"
      ],
      "metadata": {
        "id": "hiydRvFYE-b9"
      }
    },
    {
      "cell_type": "markdown",
      "source": [
        "### Training pipeline"
      ],
      "metadata": {
        "id": "t2bwfQSTd41l"
      }
    },
    {
      "cell_type": "markdown",
      "source": [
        "To be able to quickly test different versions of models, we can create a pipeline using`sklearn`'s `make_pipeline`. First, we will implemented a very simple naive bayes model with the default parameters producing a simple probabilistic model of the frequency of words"
      ],
      "metadata": {
        "id": "dt8fFsepd7w8"
      }
    },
    {
      "cell_type": "code",
      "source": [
        "# References code in Python Data Science Hanbook [10]\n",
        "from sklearn.pipeline import make_pipeline \n",
        "nb_pipeline_model = make_pipeline(TfidfVectorizer(), MultinomialNB())\n",
        "svm_pipeline_model = make_pipeline(TfidfVectorizer(), SGDClassifier())"
      ],
      "metadata": {
        "id": "McIxCjVOecFl"
      },
      "execution_count": 34,
      "outputs": []
    },
    {
      "cell_type": "code",
      "source": [
        "# X_train = tfid_vectors_X\n",
        "X_train = newsgroups_train.data\n",
        "y_train = newsgroups_train.target\n",
        "nb_pipeline_model.fit(X_train,y_train)"
      ],
      "metadata": {
        "colab": {
          "base_uri": "https://localhost:8080/"
        },
        "id": "MP0HLdCDfb9k",
        "outputId": "434e0ac4-9e63-440f-e79a-60f3e4bb2f3e"
      },
      "execution_count": 42,
      "outputs": [
        {
          "output_type": "execute_result",
          "data": {
            "text/plain": [
              "Pipeline(steps=[('tfidfvectorizer', TfidfVectorizer()),\n",
              "                ('multinomialnb', MultinomialNB())])"
            ]
          },
          "metadata": {},
          "execution_count": 42
        }
      ]
    },
    {
      "cell_type": "code",
      "source": [
        "X_test = news_groups_test.data\n",
        "y_test = news_groups_test.target\n",
        "nb_pipeline_preds = nb_pipeline_model.predict(X_test)"
      ],
      "metadata": {
        "id": "c7YBG-9HgpwQ"
      },
      "execution_count": 43,
      "outputs": []
    },
    {
      "cell_type": "code",
      "source": [
        "# Build prediction function using this model [10]\n",
        "def predict(string,X_train = newsgroups_train, model = nb_pipeline_model):\n",
        "  prediction = model.predict([string])\n",
        "  return X_train.target_names[prediction[0]]"
      ],
      "metadata": {
        "id": "sGmvDxNwfTHW"
      },
      "execution_count": 46,
      "outputs": []
    },
    {
      "cell_type": "code",
      "source": [
        "predict(\"Canada\")"
      ],
      "metadata": {
        "colab": {
          "base_uri": "https://localhost:8080/",
          "height": 35
        },
        "id": "oo1zxIN4iO-0",
        "outputId": "fb2a8692-762a-40b7-c7a9-c9c5be55a965"
      },
      "execution_count": 57,
      "outputs": [
        {
          "output_type": "execute_result",
          "data": {
            "text/plain": [
              "'rec.sport.hockey'"
            ],
            "application/vnd.google.colaboratory.intrinsic+json": {
              "type": "string"
            }
          },
          "metadata": {},
          "execution_count": 57
        }
      ]
    },
    {
      "cell_type": "markdown",
      "source": [
        "## Future considerations"
      ],
      "metadata": {
        "id": "AVW4m_W__D0k"
      }
    },
    {
      "cell_type": "markdown",
      "source": [
        "Some options we can do to improve the model is \n",
        "- Filtering common words such as articles 'a', 'an' and 'the'. When we looked at the `top_5_features` function, both 'to' and 'for' were in each of the top 5 so filtering them would improve performance\n",
        "- Further preprocessing the data to only keep the word roots. For example, mapping both 'happily' and 'happyness' to happy [7]"
      ],
      "metadata": {
        "id": "zsw0p893_G3N"
      }
    },
    {
      "cell_type": "markdown",
      "source": [
        "## Export Notebook"
      ],
      "metadata": {
        "id": "F1WFBTTdqJOU"
      }
    },
    {
      "cell_type": "code",
      "source": [
        "!apt-get install texlive texlive-xetex texlive-latex-extra pandoc\n",
        "!pip install pypandoc"
      ],
      "metadata": {
        "colab": {
          "base_uri": "https://localhost:8080/"
        },
        "id": "SvFng0izq9uD",
        "outputId": "ca7e9107-c013-46d6-a77b-c1b7580f6ed9"
      },
      "execution_count": 23,
      "outputs": [
        {
          "output_type": "stream",
          "name": "stdout",
          "text": [
            "Reading package lists... Done\n",
            "Building dependency tree       \n",
            "Reading state information... Done\n",
            "pandoc is already the newest version (1.19.2.4~dfsg-1build4).\n",
            "pandoc set to manually installed.\n",
            "The following package was automatically installed and is no longer required:\n",
            "  libnvidia-common-460\n",
            "Use 'apt autoremove' to remove it.\n",
            "The following additional packages will be installed:\n",
            "  fonts-droid-fallback fonts-lato fonts-lmodern fonts-noto-mono fonts-texgyre\n",
            "  javascript-common libcupsfilters1 libcupsimage2 libgs9 libgs9-common\n",
            "  libijs-0.35 libjbig2dec0 libjs-jquery libkpathsea6 libpotrace0 libptexenc1\n",
            "  libruby2.5 libsynctex1 libtexlua52 libtexluajit2 libzzip-0-13 lmodern\n",
            "  poppler-data preview-latex-style rake ruby ruby-did-you-mean ruby-minitest\n",
            "  ruby-net-telnet ruby-power-assert ruby-test-unit ruby2.5\n",
            "  rubygems-integration t1utils tex-common tex-gyre texlive-base\n",
            "  texlive-binaries texlive-fonts-recommended texlive-latex-base\n",
            "  texlive-latex-recommended texlive-pictures texlive-plain-generic tipa\n",
            "Suggested packages:\n",
            "  fonts-noto apache2 | lighttpd | httpd poppler-utils ghostscript\n",
            "  fonts-japanese-mincho | fonts-ipafont-mincho fonts-japanese-gothic\n",
            "  | fonts-ipafont-gothic fonts-arphic-ukai fonts-arphic-uming fonts-nanum ri\n",
            "  ruby-dev bundler debhelper gv | postscript-viewer perl-tk xpdf-reader\n",
            "  | pdf-viewer texlive-fonts-recommended-doc texlive-latex-base-doc\n",
            "  python-pygments icc-profiles libfile-which-perl\n",
            "  libspreadsheet-parseexcel-perl texlive-latex-extra-doc\n",
            "  texlive-latex-recommended-doc texlive-pstricks dot2tex prerex ruby-tcltk\n",
            "  | libtcltk-ruby texlive-pictures-doc vprerex\n",
            "The following NEW packages will be installed:\n",
            "  fonts-droid-fallback fonts-lato fonts-lmodern fonts-noto-mono fonts-texgyre\n",
            "  javascript-common libcupsfilters1 libcupsimage2 libgs9 libgs9-common\n",
            "  libijs-0.35 libjbig2dec0 libjs-jquery libkpathsea6 libpotrace0 libptexenc1\n",
            "  libruby2.5 libsynctex1 libtexlua52 libtexluajit2 libzzip-0-13 lmodern\n",
            "  poppler-data preview-latex-style rake ruby ruby-did-you-mean ruby-minitest\n",
            "  ruby-net-telnet ruby-power-assert ruby-test-unit ruby2.5\n",
            "  rubygems-integration t1utils tex-common tex-gyre texlive texlive-base\n",
            "  texlive-binaries texlive-fonts-recommended texlive-latex-base\n",
            "  texlive-latex-extra texlive-latex-recommended texlive-pictures\n",
            "  texlive-plain-generic texlive-xetex tipa\n",
            "0 upgraded, 47 newly installed, 0 to remove and 20 not upgraded.\n",
            "Need to get 146 MB of archives.\n",
            "After this operation, 460 MB of additional disk space will be used.\n",
            "Get:1 http://archive.ubuntu.com/ubuntu bionic/main amd64 fonts-droid-fallback all 1:6.0.1r16-1.1 [1,805 kB]\n",
            "Get:2 http://archive.ubuntu.com/ubuntu bionic/main amd64 fonts-lato all 2.0-2 [2,698 kB]\n",
            "Get:3 http://archive.ubuntu.com/ubuntu bionic/main amd64 poppler-data all 0.4.8-2 [1,479 kB]\n",
            "Get:4 http://archive.ubuntu.com/ubuntu bionic/main amd64 tex-common all 6.09 [33.0 kB]\n",
            "Get:5 http://archive.ubuntu.com/ubuntu bionic/main amd64 fonts-lmodern all 2.004.5-3 [4,551 kB]\n",
            "Get:6 http://archive.ubuntu.com/ubuntu bionic/main amd64 fonts-noto-mono all 20171026-2 [75.5 kB]\n",
            "Get:7 http://archive.ubuntu.com/ubuntu bionic/universe amd64 fonts-texgyre all 20160520-1 [8,761 kB]\n",
            "Get:8 http://archive.ubuntu.com/ubuntu bionic/main amd64 javascript-common all 11 [6,066 B]\n",
            "Get:9 http://archive.ubuntu.com/ubuntu bionic-updates/main amd64 libcupsfilters1 amd64 1.20.2-0ubuntu3.1 [108 kB]\n",
            "Get:10 http://archive.ubuntu.com/ubuntu bionic-updates/main amd64 libcupsimage2 amd64 2.2.7-1ubuntu2.9 [18.6 kB]\n",
            "Get:11 http://archive.ubuntu.com/ubuntu bionic/main amd64 libijs-0.35 amd64 0.35-13 [15.5 kB]\n",
            "Get:12 http://archive.ubuntu.com/ubuntu bionic/main amd64 libjbig2dec0 amd64 0.13-6 [55.9 kB]\n",
            "Get:13 http://archive.ubuntu.com/ubuntu bionic-updates/main amd64 libgs9-common all 9.26~dfsg+0-0ubuntu0.18.04.17 [5,092 kB]\n",
            "Get:14 http://archive.ubuntu.com/ubuntu bionic-updates/main amd64 libgs9 amd64 9.26~dfsg+0-0ubuntu0.18.04.17 [2,267 kB]\n",
            "Get:15 http://archive.ubuntu.com/ubuntu bionic/main amd64 libjs-jquery all 3.2.1-1 [152 kB]\n",
            "Get:16 http://archive.ubuntu.com/ubuntu bionic-updates/main amd64 libkpathsea6 amd64 2017.20170613.44572-8ubuntu0.1 [54.9 kB]\n",
            "Get:17 http://archive.ubuntu.com/ubuntu bionic/main amd64 libpotrace0 amd64 1.14-2 [17.4 kB]\n",
            "Get:18 http://archive.ubuntu.com/ubuntu bionic-updates/main amd64 libptexenc1 amd64 2017.20170613.44572-8ubuntu0.1 [34.5 kB]\n",
            "Get:19 http://archive.ubuntu.com/ubuntu bionic/main amd64 rubygems-integration all 1.11 [4,994 B]\n",
            "Get:20 http://archive.ubuntu.com/ubuntu bionic-updates/main amd64 ruby2.5 amd64 2.5.1-1ubuntu1.12 [48.6 kB]\n",
            "Get:21 http://archive.ubuntu.com/ubuntu bionic/main amd64 ruby amd64 1:2.5.1 [5,712 B]\n",
            "Get:22 http://archive.ubuntu.com/ubuntu bionic-updates/main amd64 rake all 12.3.1-1ubuntu0.1 [44.9 kB]\n",
            "Get:23 http://archive.ubuntu.com/ubuntu bionic/main amd64 ruby-did-you-mean all 1.2.0-2 [9,700 B]\n",
            "Get:24 http://archive.ubuntu.com/ubuntu bionic/main amd64 ruby-minitest all 5.10.3-1 [38.6 kB]\n",
            "Get:25 http://archive.ubuntu.com/ubuntu bionic/main amd64 ruby-net-telnet all 0.1.1-2 [12.6 kB]\n",
            "Get:26 http://archive.ubuntu.com/ubuntu bionic/main amd64 ruby-power-assert all 0.3.0-1 [7,952 B]\n",
            "Get:27 http://archive.ubuntu.com/ubuntu bionic/main amd64 ruby-test-unit all 3.2.5-1 [61.1 kB]\n",
            "Get:28 http://archive.ubuntu.com/ubuntu bionic-updates/main amd64 libruby2.5 amd64 2.5.1-1ubuntu1.12 [3,073 kB]\n",
            "Get:29 http://archive.ubuntu.com/ubuntu bionic-updates/main amd64 libsynctex1 amd64 2017.20170613.44572-8ubuntu0.1 [41.4 kB]\n",
            "Get:30 http://archive.ubuntu.com/ubuntu bionic-updates/main amd64 libtexlua52 amd64 2017.20170613.44572-8ubuntu0.1 [91.2 kB]\n",
            "Get:31 http://archive.ubuntu.com/ubuntu bionic-updates/main amd64 libtexluajit2 amd64 2017.20170613.44572-8ubuntu0.1 [230 kB]\n",
            "Get:32 http://archive.ubuntu.com/ubuntu bionic-updates/main amd64 libzzip-0-13 amd64 0.13.62-3.1ubuntu0.18.04.1 [26.0 kB]\n",
            "Get:33 http://archive.ubuntu.com/ubuntu bionic/main amd64 lmodern all 2.004.5-3 [9,631 kB]\n",
            "Get:34 http://archive.ubuntu.com/ubuntu bionic/main amd64 preview-latex-style all 11.91-1ubuntu1 [185 kB]\n",
            "Get:35 http://archive.ubuntu.com/ubuntu bionic/main amd64 t1utils amd64 1.41-2 [56.0 kB]\n",
            "Get:36 http://archive.ubuntu.com/ubuntu bionic/universe amd64 tex-gyre all 20160520-1 [4,998 kB]\n",
            "Get:37 http://archive.ubuntu.com/ubuntu bionic-updates/main amd64 texlive-binaries amd64 2017.20170613.44572-8ubuntu0.1 [8,179 kB]\n",
            "Get:38 http://archive.ubuntu.com/ubuntu bionic/main amd64 texlive-base all 2017.20180305-1 [18.7 MB]\n",
            "Get:39 http://archive.ubuntu.com/ubuntu bionic/universe amd64 texlive-fonts-recommended all 2017.20180305-1 [5,262 kB]\n",
            "Get:40 http://archive.ubuntu.com/ubuntu bionic/main amd64 texlive-latex-base all 2017.20180305-1 [951 kB]\n",
            "Get:41 http://archive.ubuntu.com/ubuntu bionic/main amd64 texlive-latex-recommended all 2017.20180305-1 [14.9 MB]\n",
            "Get:42 http://archive.ubuntu.com/ubuntu bionic/universe amd64 texlive all 2017.20180305-1 [14.4 kB]\n",
            "Get:43 http://archive.ubuntu.com/ubuntu bionic/universe amd64 texlive-pictures all 2017.20180305-1 [4,026 kB]\n",
            "Get:44 http://archive.ubuntu.com/ubuntu bionic/universe amd64 texlive-latex-extra all 2017.20180305-2 [10.6 MB]\n",
            "Get:45 http://archive.ubuntu.com/ubuntu bionic/universe amd64 texlive-plain-generic all 2017.20180305-2 [23.6 MB]\n",
            "Get:46 http://archive.ubuntu.com/ubuntu bionic/universe amd64 tipa all 2:1.3-20 [2,978 kB]\n",
            "Get:47 http://archive.ubuntu.com/ubuntu bionic/universe amd64 texlive-xetex all 2017.20180305-1 [10.7 MB]\n",
            "Fetched 146 MB in 6s (25.7 MB/s)\n",
            "Extracting templates from packages: 100%\n",
            "Preconfiguring packages ...\n",
            "Selecting previously unselected package fonts-droid-fallback.\n",
            "(Reading database ... 124016 files and directories currently installed.)\n",
            "Preparing to unpack .../00-fonts-droid-fallback_1%3a6.0.1r16-1.1_all.deb ...\n",
            "Unpacking fonts-droid-fallback (1:6.0.1r16-1.1) ...\n",
            "Selecting previously unselected package fonts-lato.\n",
            "Preparing to unpack .../01-fonts-lato_2.0-2_all.deb ...\n",
            "Unpacking fonts-lato (2.0-2) ...\n",
            "Selecting previously unselected package poppler-data.\n",
            "Preparing to unpack .../02-poppler-data_0.4.8-2_all.deb ...\n",
            "Unpacking poppler-data (0.4.8-2) ...\n",
            "Selecting previously unselected package tex-common.\n",
            "Preparing to unpack .../03-tex-common_6.09_all.deb ...\n",
            "Unpacking tex-common (6.09) ...\n",
            "Selecting previously unselected package fonts-lmodern.\n",
            "Preparing to unpack .../04-fonts-lmodern_2.004.5-3_all.deb ...\n",
            "Unpacking fonts-lmodern (2.004.5-3) ...\n",
            "Selecting previously unselected package fonts-noto-mono.\n",
            "Preparing to unpack .../05-fonts-noto-mono_20171026-2_all.deb ...\n",
            "Unpacking fonts-noto-mono (20171026-2) ...\n",
            "Selecting previously unselected package fonts-texgyre.\n",
            "Preparing to unpack .../06-fonts-texgyre_20160520-1_all.deb ...\n",
            "Unpacking fonts-texgyre (20160520-1) ...\n",
            "Selecting previously unselected package javascript-common.\n",
            "Preparing to unpack .../07-javascript-common_11_all.deb ...\n",
            "Unpacking javascript-common (11) ...\n",
            "Selecting previously unselected package libcupsfilters1:amd64.\n",
            "Preparing to unpack .../08-libcupsfilters1_1.20.2-0ubuntu3.1_amd64.deb ...\n",
            "Unpacking libcupsfilters1:amd64 (1.20.2-0ubuntu3.1) ...\n",
            "Selecting previously unselected package libcupsimage2:amd64.\n",
            "Preparing to unpack .../09-libcupsimage2_2.2.7-1ubuntu2.9_amd64.deb ...\n",
            "Unpacking libcupsimage2:amd64 (2.2.7-1ubuntu2.9) ...\n",
            "Selecting previously unselected package libijs-0.35:amd64.\n",
            "Preparing to unpack .../10-libijs-0.35_0.35-13_amd64.deb ...\n",
            "Unpacking libijs-0.35:amd64 (0.35-13) ...\n",
            "Selecting previously unselected package libjbig2dec0:amd64.\n",
            "Preparing to unpack .../11-libjbig2dec0_0.13-6_amd64.deb ...\n",
            "Unpacking libjbig2dec0:amd64 (0.13-6) ...\n",
            "Selecting previously unselected package libgs9-common.\n",
            "Preparing to unpack .../12-libgs9-common_9.26~dfsg+0-0ubuntu0.18.04.17_all.deb ...\n",
            "Unpacking libgs9-common (9.26~dfsg+0-0ubuntu0.18.04.17) ...\n",
            "Selecting previously unselected package libgs9:amd64.\n",
            "Preparing to unpack .../13-libgs9_9.26~dfsg+0-0ubuntu0.18.04.17_amd64.deb ...\n",
            "Unpacking libgs9:amd64 (9.26~dfsg+0-0ubuntu0.18.04.17) ...\n",
            "Selecting previously unselected package libjs-jquery.\n",
            "Preparing to unpack .../14-libjs-jquery_3.2.1-1_all.deb ...\n",
            "Unpacking libjs-jquery (3.2.1-1) ...\n",
            "Selecting previously unselected package libkpathsea6:amd64.\n",
            "Preparing to unpack .../15-libkpathsea6_2017.20170613.44572-8ubuntu0.1_amd64.deb ...\n",
            "Unpacking libkpathsea6:amd64 (2017.20170613.44572-8ubuntu0.1) ...\n",
            "Selecting previously unselected package libpotrace0.\n",
            "Preparing to unpack .../16-libpotrace0_1.14-2_amd64.deb ...\n",
            "Unpacking libpotrace0 (1.14-2) ...\n",
            "Selecting previously unselected package libptexenc1:amd64.\n",
            "Preparing to unpack .../17-libptexenc1_2017.20170613.44572-8ubuntu0.1_amd64.deb ...\n",
            "Unpacking libptexenc1:amd64 (2017.20170613.44572-8ubuntu0.1) ...\n",
            "Selecting previously unselected package rubygems-integration.\n",
            "Preparing to unpack .../18-rubygems-integration_1.11_all.deb ...\n",
            "Unpacking rubygems-integration (1.11) ...\n",
            "Selecting previously unselected package ruby2.5.\n",
            "Preparing to unpack .../19-ruby2.5_2.5.1-1ubuntu1.12_amd64.deb ...\n",
            "Unpacking ruby2.5 (2.5.1-1ubuntu1.12) ...\n",
            "Selecting previously unselected package ruby.\n",
            "Preparing to unpack .../20-ruby_1%3a2.5.1_amd64.deb ...\n",
            "Unpacking ruby (1:2.5.1) ...\n",
            "Selecting previously unselected package rake.\n",
            "Preparing to unpack .../21-rake_12.3.1-1ubuntu0.1_all.deb ...\n",
            "Unpacking rake (12.3.1-1ubuntu0.1) ...\n",
            "Selecting previously unselected package ruby-did-you-mean.\n",
            "Preparing to unpack .../22-ruby-did-you-mean_1.2.0-2_all.deb ...\n",
            "Unpacking ruby-did-you-mean (1.2.0-2) ...\n",
            "Selecting previously unselected package ruby-minitest.\n",
            "Preparing to unpack .../23-ruby-minitest_5.10.3-1_all.deb ...\n",
            "Unpacking ruby-minitest (5.10.3-1) ...\n",
            "Selecting previously unselected package ruby-net-telnet.\n",
            "Preparing to unpack .../24-ruby-net-telnet_0.1.1-2_all.deb ...\n",
            "Unpacking ruby-net-telnet (0.1.1-2) ...\n",
            "Selecting previously unselected package ruby-power-assert.\n",
            "Preparing to unpack .../25-ruby-power-assert_0.3.0-1_all.deb ...\n",
            "Unpacking ruby-power-assert (0.3.0-1) ...\n",
            "Selecting previously unselected package ruby-test-unit.\n",
            "Preparing to unpack .../26-ruby-test-unit_3.2.5-1_all.deb ...\n",
            "Unpacking ruby-test-unit (3.2.5-1) ...\n",
            "Selecting previously unselected package libruby2.5:amd64.\n",
            "Preparing to unpack .../27-libruby2.5_2.5.1-1ubuntu1.12_amd64.deb ...\n",
            "Unpacking libruby2.5:amd64 (2.5.1-1ubuntu1.12) ...\n",
            "Selecting previously unselected package libsynctex1:amd64.\n",
            "Preparing to unpack .../28-libsynctex1_2017.20170613.44572-8ubuntu0.1_amd64.deb ...\n",
            "Unpacking libsynctex1:amd64 (2017.20170613.44572-8ubuntu0.1) ...\n",
            "Selecting previously unselected package libtexlua52:amd64.\n",
            "Preparing to unpack .../29-libtexlua52_2017.20170613.44572-8ubuntu0.1_amd64.deb ...\n",
            "Unpacking libtexlua52:amd64 (2017.20170613.44572-8ubuntu0.1) ...\n",
            "Selecting previously unselected package libtexluajit2:amd64.\n",
            "Preparing to unpack .../30-libtexluajit2_2017.20170613.44572-8ubuntu0.1_amd64.deb ...\n",
            "Unpacking libtexluajit2:amd64 (2017.20170613.44572-8ubuntu0.1) ...\n",
            "Selecting previously unselected package libzzip-0-13:amd64.\n",
            "Preparing to unpack .../31-libzzip-0-13_0.13.62-3.1ubuntu0.18.04.1_amd64.deb ...\n",
            "Unpacking libzzip-0-13:amd64 (0.13.62-3.1ubuntu0.18.04.1) ...\n",
            "Selecting previously unselected package lmodern.\n",
            "Preparing to unpack .../32-lmodern_2.004.5-3_all.deb ...\n",
            "Unpacking lmodern (2.004.5-3) ...\n",
            "Selecting previously unselected package preview-latex-style.\n",
            "Preparing to unpack .../33-preview-latex-style_11.91-1ubuntu1_all.deb ...\n",
            "Unpacking preview-latex-style (11.91-1ubuntu1) ...\n",
            "Selecting previously unselected package t1utils.\n",
            "Preparing to unpack .../34-t1utils_1.41-2_amd64.deb ...\n",
            "Unpacking t1utils (1.41-2) ...\n",
            "Selecting previously unselected package tex-gyre.\n",
            "Preparing to unpack .../35-tex-gyre_20160520-1_all.deb ...\n",
            "Unpacking tex-gyre (20160520-1) ...\n",
            "Selecting previously unselected package texlive-binaries.\n",
            "Preparing to unpack .../36-texlive-binaries_2017.20170613.44572-8ubuntu0.1_amd64.deb ...\n",
            "Unpacking texlive-binaries (2017.20170613.44572-8ubuntu0.1) ...\n",
            "Selecting previously unselected package texlive-base.\n",
            "Preparing to unpack .../37-texlive-base_2017.20180305-1_all.deb ...\n",
            "Unpacking texlive-base (2017.20180305-1) ...\n",
            "Selecting previously unselected package texlive-fonts-recommended.\n",
            "Preparing to unpack .../38-texlive-fonts-recommended_2017.20180305-1_all.deb ...\n",
            "Unpacking texlive-fonts-recommended (2017.20180305-1) ...\n",
            "Selecting previously unselected package texlive-latex-base.\n",
            "Preparing to unpack .../39-texlive-latex-base_2017.20180305-1_all.deb ...\n",
            "Unpacking texlive-latex-base (2017.20180305-1) ...\n",
            "Selecting previously unselected package texlive-latex-recommended.\n",
            "Preparing to unpack .../40-texlive-latex-recommended_2017.20180305-1_all.deb ...\n",
            "Unpacking texlive-latex-recommended (2017.20180305-1) ...\n",
            "Selecting previously unselected package texlive.\n",
            "Preparing to unpack .../41-texlive_2017.20180305-1_all.deb ...\n",
            "Unpacking texlive (2017.20180305-1) ...\n",
            "Selecting previously unselected package texlive-pictures.\n",
            "Preparing to unpack .../42-texlive-pictures_2017.20180305-1_all.deb ...\n",
            "Unpacking texlive-pictures (2017.20180305-1) ...\n",
            "Selecting previously unselected package texlive-latex-extra.\n",
            "Preparing to unpack .../43-texlive-latex-extra_2017.20180305-2_all.deb ...\n",
            "Unpacking texlive-latex-extra (2017.20180305-2) ...\n",
            "Selecting previously unselected package texlive-plain-generic.\n",
            "Preparing to unpack .../44-texlive-plain-generic_2017.20180305-2_all.deb ...\n",
            "Unpacking texlive-plain-generic (2017.20180305-2) ...\n",
            "Selecting previously unselected package tipa.\n",
            "Preparing to unpack .../45-tipa_2%3a1.3-20_all.deb ...\n",
            "Unpacking tipa (2:1.3-20) ...\n",
            "Selecting previously unselected package texlive-xetex.\n",
            "Preparing to unpack .../46-texlive-xetex_2017.20180305-1_all.deb ...\n",
            "Unpacking texlive-xetex (2017.20180305-1) ...\n",
            "Setting up libgs9-common (9.26~dfsg+0-0ubuntu0.18.04.17) ...\n",
            "Setting up libkpathsea6:amd64 (2017.20170613.44572-8ubuntu0.1) ...\n",
            "Setting up libjs-jquery (3.2.1-1) ...\n",
            "Setting up libtexlua52:amd64 (2017.20170613.44572-8ubuntu0.1) ...\n",
            "Setting up fonts-droid-fallback (1:6.0.1r16-1.1) ...\n",
            "Setting up libsynctex1:amd64 (2017.20170613.44572-8ubuntu0.1) ...\n",
            "Setting up libptexenc1:amd64 (2017.20170613.44572-8ubuntu0.1) ...\n",
            "Setting up tex-common (6.09) ...\n",
            "update-language: texlive-base not installed and configured, doing nothing!\n",
            "Setting up poppler-data (0.4.8-2) ...\n",
            "Setting up tex-gyre (20160520-1) ...\n",
            "Setting up preview-latex-style (11.91-1ubuntu1) ...\n",
            "Setting up fonts-texgyre (20160520-1) ...\n",
            "Setting up fonts-noto-mono (20171026-2) ...\n",
            "Setting up fonts-lato (2.0-2) ...\n",
            "Setting up libcupsfilters1:amd64 (1.20.2-0ubuntu3.1) ...\n",
            "Setting up libcupsimage2:amd64 (2.2.7-1ubuntu2.9) ...\n",
            "Setting up libjbig2dec0:amd64 (0.13-6) ...\n",
            "Setting up ruby-did-you-mean (1.2.0-2) ...\n",
            "Setting up t1utils (1.41-2) ...\n",
            "Setting up ruby-net-telnet (0.1.1-2) ...\n",
            "Setting up libijs-0.35:amd64 (0.35-13) ...\n",
            "Setting up rubygems-integration (1.11) ...\n",
            "Setting up libpotrace0 (1.14-2) ...\n",
            "Setting up javascript-common (11) ...\n",
            "Setting up ruby-minitest (5.10.3-1) ...\n",
            "Setting up libzzip-0-13:amd64 (0.13.62-3.1ubuntu0.18.04.1) ...\n",
            "Setting up libgs9:amd64 (9.26~dfsg+0-0ubuntu0.18.04.17) ...\n",
            "Setting up libtexluajit2:amd64 (2017.20170613.44572-8ubuntu0.1) ...\n",
            "Setting up fonts-lmodern (2.004.5-3) ...\n",
            "Setting up ruby-power-assert (0.3.0-1) ...\n",
            "Setting up texlive-binaries (2017.20170613.44572-8ubuntu0.1) ...\n",
            "update-alternatives: using /usr/bin/xdvi-xaw to provide /usr/bin/xdvi.bin (xdvi.bin) in auto mode\n",
            "update-alternatives: using /usr/bin/bibtex.original to provide /usr/bin/bibtex (bibtex) in auto mode\n",
            "Setting up texlive-base (2017.20180305-1) ...\n",
            "mktexlsr: Updating /var/lib/texmf/ls-R-TEXLIVEDIST... \n",
            "mktexlsr: Updating /var/lib/texmf/ls-R-TEXMFMAIN... \n",
            "mktexlsr: Updating /var/lib/texmf/ls-R... \n",
            "mktexlsr: Done.\n",
            "tl-paper: setting paper size for dvips to a4: /var/lib/texmf/dvips/config/config-paper.ps\n",
            "tl-paper: setting paper size for dvipdfmx to a4: /var/lib/texmf/dvipdfmx/dvipdfmx-paper.cfg\n",
            "tl-paper: setting paper size for xdvi to a4: /var/lib/texmf/xdvi/XDvi-paper\n",
            "tl-paper: setting paper size for pdftex to a4: /var/lib/texmf/tex/generic/config/pdftexconfig.tex\n",
            "Setting up texlive-fonts-recommended (2017.20180305-1) ...\n",
            "Setting up texlive-plain-generic (2017.20180305-2) ...\n",
            "Setting up texlive-latex-base (2017.20180305-1) ...\n",
            "Setting up lmodern (2.004.5-3) ...\n",
            "Setting up texlive-latex-recommended (2017.20180305-1) ...\n",
            "Setting up texlive-pictures (2017.20180305-1) ...\n",
            "Setting up tipa (2:1.3-20) ...\n",
            "Regenerating '/var/lib/texmf/fmtutil.cnf-DEBIAN'... done.\n",
            "Regenerating '/var/lib/texmf/fmtutil.cnf-TEXLIVEDIST'... done.\n",
            "update-fmtutil has updated the following file(s):\n",
            "\t/var/lib/texmf/fmtutil.cnf-DEBIAN\n",
            "\t/var/lib/texmf/fmtutil.cnf-TEXLIVEDIST\n",
            "If you want to activate the changes in the above file(s),\n",
            "you should run fmtutil-sys or fmtutil.\n",
            "Setting up texlive (2017.20180305-1) ...\n",
            "Setting up texlive-latex-extra (2017.20180305-2) ...\n",
            "Setting up texlive-xetex (2017.20180305-1) ...\n",
            "Setting up ruby2.5 (2.5.1-1ubuntu1.12) ...\n",
            "Setting up ruby (1:2.5.1) ...\n",
            "Setting up ruby-test-unit (3.2.5-1) ...\n",
            "Setting up rake (12.3.1-1ubuntu0.1) ...\n",
            "Setting up libruby2.5:amd64 (2.5.1-1ubuntu1.12) ...\n",
            "Processing triggers for mime-support (3.60ubuntu1) ...\n",
            "Processing triggers for libc-bin (2.27-3ubuntu1.6) ...\n",
            "Processing triggers for man-db (2.8.3-2ubuntu0.1) ...\n",
            "Processing triggers for fontconfig (2.12.6-0ubuntu2) ...\n",
            "Processing triggers for tex-common (6.09) ...\n",
            "Running updmap-sys. This may take some time... done.\n",
            "Running mktexlsr /var/lib/texmf ... done.\n",
            "Building format(s) --all.\n",
            "\tThis may take some time... done.\n",
            "Looking in indexes: https://pypi.org/simple, https://us-python.pkg.dev/colab-wheels/public/simple/\n",
            "Collecting pypandoc\n",
            "  Downloading pypandoc-1.10-py3-none-any.whl (20 kB)\n",
            "Installing collected packages: pypandoc\n",
            "Successfully installed pypandoc-1.10\n",
            "cp: cannot stat '/content/drive/My Drive/A_ELEC_UBC/Year4/Elec400m/Final Report/Code/ELEC 400M Final Report Jupyter Notebook.ipynb': No such file or directory\n"
          ]
        }
      ]
    },
    {
      "cell_type": "code",
      "source": [
        "!pwd"
      ],
      "metadata": {
        "colab": {
          "base_uri": "https://localhost:8080/"
        },
        "id": "DJLAFkbQs2ON",
        "outputId": "d061b08f-ac46-4462-a90d-d955ad9548ca"
      },
      "execution_count": 28,
      "outputs": [
        {
          "output_type": "stream",
          "name": "stdout",
          "text": [
            "/content\n"
          ]
        }
      ]
    },
    {
      "cell_type": "code",
      "source": [
        "!cd drive/MyDrive/A_ELEC_UBC/Year4/Elec400m/'Final Report'/Code && ls"
      ],
      "metadata": {
        "colab": {
          "base_uri": "https://localhost:8080/"
        },
        "id": "tevE-Epes6Qp",
        "outputId": "55760e09-fc90-42e5-c0ec-5b0628e5514c"
      },
      "execution_count": 43,
      "outputs": [
        {
          "output_type": "stream",
          "name": "stdout",
          "text": [
            " ClassExamples\t Data  'ELEC 400M Final Report Jupyter Notebook'\n"
          ]
        }
      ]
    },
    {
      "cell_type": "code",
      "source": [
        "!cp drive/MyDrive/A_ELEC_UBC/Year4/Elec400m/'Final Report'/Code/'ELEC 400M Final Report Jupyter Notebook'  ./"
      ],
      "metadata": {
        "id": "7Pgxv25psXHM"
      },
      "execution_count": 44,
      "outputs": []
    },
    {
      "cell_type": "code",
      "source": [
        "#Note that image of soma server in the background section causes an error in download,\n",
        "# so comment that out first before converting to pdf\n",
        "!jupyter nbconvert --to PDF \"ELEC 400M Final Report Jupyter Notebook\""
      ],
      "metadata": {
        "colab": {
          "base_uri": "https://localhost:8080/"
        },
        "id": "WHUFcG56rH7p",
        "outputId": "3d3a7012-03d4-496c-863c-7a44c59d8541"
      },
      "execution_count": 45,
      "outputs": [
        {
          "output_type": "stream",
          "name": "stdout",
          "text": [
            "[NbConvertApp] Converting notebook ELEC 400M Final Report Jupyter Notebook to PDF\n",
            "[NbConvertApp] Support files will be in ELEC 400M Final Report Jupyter Noteboo_files/\n",
            "[NbConvertApp] Making directory ./ELEC 400M Final Report Jupyter Noteboo_files\n",
            "[NbConvertApp] Making directory ./ELEC 400M Final Report Jupyter Noteboo_files\n",
            "[NbConvertApp] Making directory ./ELEC 400M Final Report Jupyter Noteboo_files\n",
            "[NbConvertApp] Making directory ./ELEC 400M Final Report Jupyter Noteboo_files\n",
            "[NbConvertApp] Making directory ./ELEC 400M Final Report Jupyter Noteboo_files\n",
            "[NbConvertApp] Making directory ./ELEC 400M Final Report Jupyter Noteboo_files\n",
            "[NbConvertApp] Making directory ./ELEC 400M Final Report Jupyter Noteboo_files\n",
            "[NbConvertApp] Making directory ./ELEC 400M Final Report Jupyter Noteboo_files\n",
            "[NbConvertApp] Making directory ./ELEC 400M Final Report Jupyter Noteboo_files\n",
            "[NbConvertApp] Writing 210112 bytes to ./notebook.tex\n",
            "[NbConvertApp] Building PDF\n",
            "[NbConvertApp] Running xelatex 3 times: ['xelatex', './notebook.tex', '-quiet']\n",
            "[NbConvertApp] Running bibtex 1 time: ['bibtex', './notebook']\n",
            "[NbConvertApp] WARNING | bibtex had problems, most likely because there were no citations\n",
            "[NbConvertApp] PDF successfully created\n",
            "[NbConvertApp] Writing 352717 bytes to ELEC 400M Final Report Jupyter Noteboo.pdf\n"
          ]
        }
      ]
    },
    {
      "cell_type": "markdown",
      "source": [
        "# References \n",
        "[1] References\n",
        "\"Learning Equality - Curriculum Recommendations.\" (2022). Retrieved from https://kaggle.com/competitions/learning-equality-curriculum-recommendations\n",
        "\n",
        "[2] References \"Using Missingno to Diagnose Data Sparsity.\" (2022). Retrieved from https://www.kaggle.com/code/residentmario/using-missingno-to-diagnose-data-sparsity \n",
        "\n",
        "[3] References \"Machine Learning, NLP: Text Classification using scikit-learn, python and NLTK.\" (2017). Retrieved from https://towardsdatascience.com/machine-learning-nlp-text-classification-using-scikit-learn-python-and-nltk-c52b92a7c73a\n",
        "\n",
        "[4] References \"The 20 newsgroups text dataset\" . (2022). Retrieved from https://scikit-learn.org/0.19/datasets/twenty_newsgroups.html \n",
        "\n",
        "[5] References \"Bag-of-words model\". (2022). Retrieved from https://en.wikipedia.org/wiki/Bag-of-words_model \n",
        "\n",
        "[6] References \"20 Newsgroups\"  http://qwone.com/~jason/20Newsgroups/ \n",
        "\n",
        "[7] References \"Naive Baise Lecture 8 Slides\". (2022). Retrieved from https://canvas.cornell.edu/files/2122690/download?download_frd=1 \n",
        "\n",
        "[8] References \"sklearn.linear_model.SGDClassifier\". (2022). Retrieved from https://scikit-learn.org/stable/modules/generated/sklearn.linear_model.SGDClassifier.html\n",
        "\n",
        "[9] References \"University of British Columbia's ELEC 400M Class Code Examples - SVM\" \n",
        "\n",
        "[10] References \"Python Data Science Handbook\", Jake Vanderplas"
      ],
      "metadata": {
        "id": "xVdrfkGZMOqP"
      }
    }
  ]
}