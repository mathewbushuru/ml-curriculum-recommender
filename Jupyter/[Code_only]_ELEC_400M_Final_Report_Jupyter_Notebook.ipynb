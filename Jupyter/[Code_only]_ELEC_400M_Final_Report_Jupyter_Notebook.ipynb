{
  "nbformat": 4,
  "nbformat_minor": 0,
  "metadata": {
    "colab": {
      "provenance": []
    },
    "kernelspec": {
      "name": "python3",
      "display_name": "Python 3"
    },
    "language_info": {
      "name": "python"
    },
    "gpuClass": "standard"
  },
  "cells": [
    {
      "cell_type": "markdown",
      "source": [
        "# Dataset"
      ],
      "metadata": {
        "id": "aHj6Ck114Amw"
      }
    },
    {
      "cell_type": "code",
      "source": [
        "import pandas as pd\n",
        "import numpy as np"
      ],
      "metadata": {
        "id": "xIIDAPL6_O8d"
      },
      "execution_count": 1,
      "outputs": []
    },
    {
      "cell_type": "code",
      "source": [
        "# Dataset is currently on Google Drive. \n",
        "# To rerun notebook, uncomment the read_csv lines of code below and read directly from your copy of dataset\n",
        "from google.colab import drive \n",
        "drive.mount('/content/drive')"
      ],
      "metadata": {
        "colab": {
          "base_uri": "https://localhost:8080/"
        },
        "id": "5w1ObcGo-mZY",
        "outputId": "a3b03ef8-0920-4203-af6c-a470055124da"
      },
      "execution_count": 2,
      "outputs": [
        {
          "output_type": "stream",
          "name": "stdout",
          "text": [
            "Mounted at /content/drive\n"
          ]
        }
      ]
    },
    {
      "cell_type": "markdown",
      "source": [
        "Access dataset [here](https://www.kaggle.com/competitions/learning-equality-curriculum-recommendations/data)"
      ],
      "metadata": {
        "id": "sQfCOp-smGth"
      }
    },
    {
      "cell_type": "markdown",
      "source": [
        "## Files and Fields "
      ],
      "metadata": {
        "id": "kTiPz15r4DJ1"
      }
    },
    {
      "cell_type": "markdown",
      "source": [
        "### `topics.csv`"
      ],
      "metadata": {
        "id": "pXx7KusU_C4O"
      }
    },
    {
      "cell_type": "code",
      "source": [
        "topics_df = pd.read_csv(\"/content/drive/My Drive/A_ELEC_UBC/Year4/Elec400m/Final Report/Code/Data/topics.csv\")\n",
        "#topics_df = pd.read_csv(\"Code/Data/topics.csv\")"
      ],
      "metadata": {
        "id": "IqZgZpWQAdlj"
      },
      "execution_count": 3,
      "outputs": []
    },
    {
      "cell_type": "code",
      "source": [
        "topics_df.head(5)"
      ],
      "metadata": {
        "colab": {
          "base_uri": "https://localhost:8080/",
          "height": 206
        },
        "id": "yBX0y9M1AdJa",
        "outputId": "a4ed5dc2-2f67-4ab6-8136-76a6d290ab61"
      },
      "execution_count": 4,
      "outputs": [
        {
          "output_type": "execute_result",
          "data": {
            "text/plain": [
              "               id                                              title  \\\n",
              "0  t_00004da3a1b2                         Откриването на резисторите   \n",
              "1  t_000095e03056             Unit 3.3 Enlargements and Similarities   \n",
              "2  t_00068291e9a4                    Entradas e saídas de uma função   \n",
              "3  t_00069b63a70a                                        Transcripts   \n",
              "4  t_0006d41a73a8  Графики на експоненциални функции (Алгебра 2 н...   \n",
              "\n",
              "                                         description channel category  level  \\\n",
              "0  Изследване на материали, които предизвикват на...  000cf7   source      4   \n",
              "1                                                NaN  b3f329  aligned      2   \n",
              "2               Entenda um pouco mais sobre funções.  8e286a   source      4   \n",
              "3                                                NaN  6e3ba4   source      3   \n",
              "4  Научи повече за графиките на сложните показате...  000cf7   source      4   \n",
              "\n",
              "  language          parent  has_content  \n",
              "0       bg  t_16e29365b50d         True  \n",
              "1       en  t_aa32fb6252dc        False  \n",
              "2       pt  t_d14b6c2a2b70         True  \n",
              "3       en  t_4054df11a74e         True  \n",
              "4       bg  t_e2452e21d252         True  "
            ],
            "text/html": [
              "\n",
              "  <div id=\"df-c5f18dcd-95a6-48b9-8c51-c5185ca8d8ef\">\n",
              "    <div class=\"colab-df-container\">\n",
              "      <div>\n",
              "<style scoped>\n",
              "    .dataframe tbody tr th:only-of-type {\n",
              "        vertical-align: middle;\n",
              "    }\n",
              "\n",
              "    .dataframe tbody tr th {\n",
              "        vertical-align: top;\n",
              "    }\n",
              "\n",
              "    .dataframe thead th {\n",
              "        text-align: right;\n",
              "    }\n",
              "</style>\n",
              "<table border=\"1\" class=\"dataframe\">\n",
              "  <thead>\n",
              "    <tr style=\"text-align: right;\">\n",
              "      <th></th>\n",
              "      <th>id</th>\n",
              "      <th>title</th>\n",
              "      <th>description</th>\n",
              "      <th>channel</th>\n",
              "      <th>category</th>\n",
              "      <th>level</th>\n",
              "      <th>language</th>\n",
              "      <th>parent</th>\n",
              "      <th>has_content</th>\n",
              "    </tr>\n",
              "  </thead>\n",
              "  <tbody>\n",
              "    <tr>\n",
              "      <th>0</th>\n",
              "      <td>t_00004da3a1b2</td>\n",
              "      <td>Откриването на резисторите</td>\n",
              "      <td>Изследване на материали, които предизвикват на...</td>\n",
              "      <td>000cf7</td>\n",
              "      <td>source</td>\n",
              "      <td>4</td>\n",
              "      <td>bg</td>\n",
              "      <td>t_16e29365b50d</td>\n",
              "      <td>True</td>\n",
              "    </tr>\n",
              "    <tr>\n",
              "      <th>1</th>\n",
              "      <td>t_000095e03056</td>\n",
              "      <td>Unit 3.3 Enlargements and Similarities</td>\n",
              "      <td>NaN</td>\n",
              "      <td>b3f329</td>\n",
              "      <td>aligned</td>\n",
              "      <td>2</td>\n",
              "      <td>en</td>\n",
              "      <td>t_aa32fb6252dc</td>\n",
              "      <td>False</td>\n",
              "    </tr>\n",
              "    <tr>\n",
              "      <th>2</th>\n",
              "      <td>t_00068291e9a4</td>\n",
              "      <td>Entradas e saídas de uma função</td>\n",
              "      <td>Entenda um pouco mais sobre funções.</td>\n",
              "      <td>8e286a</td>\n",
              "      <td>source</td>\n",
              "      <td>4</td>\n",
              "      <td>pt</td>\n",
              "      <td>t_d14b6c2a2b70</td>\n",
              "      <td>True</td>\n",
              "    </tr>\n",
              "    <tr>\n",
              "      <th>3</th>\n",
              "      <td>t_00069b63a70a</td>\n",
              "      <td>Transcripts</td>\n",
              "      <td>NaN</td>\n",
              "      <td>6e3ba4</td>\n",
              "      <td>source</td>\n",
              "      <td>3</td>\n",
              "      <td>en</td>\n",
              "      <td>t_4054df11a74e</td>\n",
              "      <td>True</td>\n",
              "    </tr>\n",
              "    <tr>\n",
              "      <th>4</th>\n",
              "      <td>t_0006d41a73a8</td>\n",
              "      <td>Графики на експоненциални функции (Алгебра 2 н...</td>\n",
              "      <td>Научи повече за графиките на сложните показате...</td>\n",
              "      <td>000cf7</td>\n",
              "      <td>source</td>\n",
              "      <td>4</td>\n",
              "      <td>bg</td>\n",
              "      <td>t_e2452e21d252</td>\n",
              "      <td>True</td>\n",
              "    </tr>\n",
              "  </tbody>\n",
              "</table>\n",
              "</div>\n",
              "      <button class=\"colab-df-convert\" onclick=\"convertToInteractive('df-c5f18dcd-95a6-48b9-8c51-c5185ca8d8ef')\"\n",
              "              title=\"Convert this dataframe to an interactive table.\"\n",
              "              style=\"display:none;\">\n",
              "        \n",
              "  <svg xmlns=\"http://www.w3.org/2000/svg\" height=\"24px\"viewBox=\"0 0 24 24\"\n",
              "       width=\"24px\">\n",
              "    <path d=\"M0 0h24v24H0V0z\" fill=\"none\"/>\n",
              "    <path d=\"M18.56 5.44l.94 2.06.94-2.06 2.06-.94-2.06-.94-.94-2.06-.94 2.06-2.06.94zm-11 1L8.5 8.5l.94-2.06 2.06-.94-2.06-.94L8.5 2.5l-.94 2.06-2.06.94zm10 10l.94 2.06.94-2.06 2.06-.94-2.06-.94-.94-2.06-.94 2.06-2.06.94z\"/><path d=\"M17.41 7.96l-1.37-1.37c-.4-.4-.92-.59-1.43-.59-.52 0-1.04.2-1.43.59L10.3 9.45l-7.72 7.72c-.78.78-.78 2.05 0 2.83L4 21.41c.39.39.9.59 1.41.59.51 0 1.02-.2 1.41-.59l7.78-7.78 2.81-2.81c.8-.78.8-2.07 0-2.86zM5.41 20L4 18.59l7.72-7.72 1.47 1.35L5.41 20z\"/>\n",
              "  </svg>\n",
              "      </button>\n",
              "      \n",
              "  <style>\n",
              "    .colab-df-container {\n",
              "      display:flex;\n",
              "      flex-wrap:wrap;\n",
              "      gap: 12px;\n",
              "    }\n",
              "\n",
              "    .colab-df-convert {\n",
              "      background-color: #E8F0FE;\n",
              "      border: none;\n",
              "      border-radius: 50%;\n",
              "      cursor: pointer;\n",
              "      display: none;\n",
              "      fill: #1967D2;\n",
              "      height: 32px;\n",
              "      padding: 0 0 0 0;\n",
              "      width: 32px;\n",
              "    }\n",
              "\n",
              "    .colab-df-convert:hover {\n",
              "      background-color: #E2EBFA;\n",
              "      box-shadow: 0px 1px 2px rgba(60, 64, 67, 0.3), 0px 1px 3px 1px rgba(60, 64, 67, 0.15);\n",
              "      fill: #174EA6;\n",
              "    }\n",
              "\n",
              "    [theme=dark] .colab-df-convert {\n",
              "      background-color: #3B4455;\n",
              "      fill: #D2E3FC;\n",
              "    }\n",
              "\n",
              "    [theme=dark] .colab-df-convert:hover {\n",
              "      background-color: #434B5C;\n",
              "      box-shadow: 0px 1px 3px 1px rgba(0, 0, 0, 0.15);\n",
              "      filter: drop-shadow(0px 1px 2px rgba(0, 0, 0, 0.3));\n",
              "      fill: #FFFFFF;\n",
              "    }\n",
              "  </style>\n",
              "\n",
              "      <script>\n",
              "        const buttonEl =\n",
              "          document.querySelector('#df-c5f18dcd-95a6-48b9-8c51-c5185ca8d8ef button.colab-df-convert');\n",
              "        buttonEl.style.display =\n",
              "          google.colab.kernel.accessAllowed ? 'block' : 'none';\n",
              "\n",
              "        async function convertToInteractive(key) {\n",
              "          const element = document.querySelector('#df-c5f18dcd-95a6-48b9-8c51-c5185ca8d8ef');\n",
              "          const dataTable =\n",
              "            await google.colab.kernel.invokeFunction('convertToInteractive',\n",
              "                                                     [key], {});\n",
              "          if (!dataTable) return;\n",
              "\n",
              "          const docLinkHtml = 'Like what you see? Visit the ' +\n",
              "            '<a target=\"_blank\" href=https://colab.research.google.com/notebooks/data_table.ipynb>data table notebook</a>'\n",
              "            + ' to learn more about interactive tables.';\n",
              "          element.innerHTML = '';\n",
              "          dataTable['output_type'] = 'display_data';\n",
              "          await google.colab.output.renderOutput(dataTable, element);\n",
              "          const docLink = document.createElement('div');\n",
              "          docLink.innerHTML = docLinkHtml;\n",
              "          element.appendChild(docLink);\n",
              "        }\n",
              "      </script>\n",
              "    </div>\n",
              "  </div>\n",
              "  "
            ]
          },
          "metadata": {},
          "execution_count": 4
        }
      ]
    },
    {
      "cell_type": "markdown",
      "source": [
        "### `content.csv`"
      ],
      "metadata": {
        "id": "YWZYsJMeD8D9"
      }
    },
    {
      "cell_type": "code",
      "source": [
        "content_df = pd.read_csv(\"/content/drive/My Drive/A_ELEC_UBC/Year4/Elec400m/Final Report/Code/Data/content.csv\")\n",
        "#content_df = pd.read_csv(\"Code/Data/content.csv\")"
      ],
      "metadata": {
        "id": "QoPnBF1lBNDO"
      },
      "execution_count": 5,
      "outputs": []
    },
    {
      "cell_type": "code",
      "source": [
        "content_df.head(5)"
      ],
      "metadata": {
        "colab": {
          "base_uri": "https://localhost:8080/",
          "height": 206
        },
        "id": "Ly0OB8X9BNsM",
        "outputId": "d35caf60-a38d-481c-863a-6814f5b1f916"
      },
      "execution_count": 6,
      "outputs": [
        {
          "output_type": "execute_result",
          "data": {
            "text/plain": [
              "               id                                             title  \\\n",
              "0  c_00002381196d  Sumar números de varios dígitos: 48,029+233,930    \n",
              "1  c_000087304a9e                    Trovare i fattori di un numero   \n",
              "2  c_0000ad142ddb                           Sumar curvas de demanda   \n",
              "3  c_0000c03adc8d                               Nado de aproximação   \n",
              "4  c_00016694ea2a                  geometry-m3-topic-a-overview.pdf   \n",
              "\n",
              "                                         description      kind  \\\n",
              "0  Suma 48,029+233,930 mediante el algoritmo está...     video   \n",
              "1                    Sal trova i fattori di 120.\\n\\n     video   \n",
              "2                  Cómo añadir curvas de demanda\\n\\n     video   \n",
              "3  Neste vídeo você vai aprender o nado de aproxi...  document   \n",
              "4                   geometry-m3-topic-a-overview.pdf  document   \n",
              "\n",
              "                                                text language  \\\n",
              "0                                                NaN       es   \n",
              "1                                                NaN       it   \n",
              "2                                                NaN       es   \n",
              "3  \\nNado de aproximação\\nSaber nadar nas ondas ...       pt   \n",
              "4  Estándares Comunes del Estado de Nueva York\\n\\...       es   \n",
              "\n",
              "   copyright_holder      license  \n",
              "0               NaN          NaN  \n",
              "1               NaN          NaN  \n",
              "2               NaN          NaN  \n",
              "3  Sikana Education  CC BY-NC-ND  \n",
              "4         Engage NY  CC BY-NC-SA  "
            ],
            "text/html": [
              "\n",
              "  <div id=\"df-7a638961-4fdd-4f1b-af15-9215aa888b59\">\n",
              "    <div class=\"colab-df-container\">\n",
              "      <div>\n",
              "<style scoped>\n",
              "    .dataframe tbody tr th:only-of-type {\n",
              "        vertical-align: middle;\n",
              "    }\n",
              "\n",
              "    .dataframe tbody tr th {\n",
              "        vertical-align: top;\n",
              "    }\n",
              "\n",
              "    .dataframe thead th {\n",
              "        text-align: right;\n",
              "    }\n",
              "</style>\n",
              "<table border=\"1\" class=\"dataframe\">\n",
              "  <thead>\n",
              "    <tr style=\"text-align: right;\">\n",
              "      <th></th>\n",
              "      <th>id</th>\n",
              "      <th>title</th>\n",
              "      <th>description</th>\n",
              "      <th>kind</th>\n",
              "      <th>text</th>\n",
              "      <th>language</th>\n",
              "      <th>copyright_holder</th>\n",
              "      <th>license</th>\n",
              "    </tr>\n",
              "  </thead>\n",
              "  <tbody>\n",
              "    <tr>\n",
              "      <th>0</th>\n",
              "      <td>c_00002381196d</td>\n",
              "      <td>Sumar números de varios dígitos: 48,029+233,930</td>\n",
              "      <td>Suma 48,029+233,930 mediante el algoritmo está...</td>\n",
              "      <td>video</td>\n",
              "      <td>NaN</td>\n",
              "      <td>es</td>\n",
              "      <td>NaN</td>\n",
              "      <td>NaN</td>\n",
              "    </tr>\n",
              "    <tr>\n",
              "      <th>1</th>\n",
              "      <td>c_000087304a9e</td>\n",
              "      <td>Trovare i fattori di un numero</td>\n",
              "      <td>Sal trova i fattori di 120.\\n\\n</td>\n",
              "      <td>video</td>\n",
              "      <td>NaN</td>\n",
              "      <td>it</td>\n",
              "      <td>NaN</td>\n",
              "      <td>NaN</td>\n",
              "    </tr>\n",
              "    <tr>\n",
              "      <th>2</th>\n",
              "      <td>c_0000ad142ddb</td>\n",
              "      <td>Sumar curvas de demanda</td>\n",
              "      <td>Cómo añadir curvas de demanda\\n\\n</td>\n",
              "      <td>video</td>\n",
              "      <td>NaN</td>\n",
              "      <td>es</td>\n",
              "      <td>NaN</td>\n",
              "      <td>NaN</td>\n",
              "    </tr>\n",
              "    <tr>\n",
              "      <th>3</th>\n",
              "      <td>c_0000c03adc8d</td>\n",
              "      <td>Nado de aproximação</td>\n",
              "      <td>Neste vídeo você vai aprender o nado de aproxi...</td>\n",
              "      <td>document</td>\n",
              "      <td>\\nNado de aproximação\\nSaber nadar nas ondas ...</td>\n",
              "      <td>pt</td>\n",
              "      <td>Sikana Education</td>\n",
              "      <td>CC BY-NC-ND</td>\n",
              "    </tr>\n",
              "    <tr>\n",
              "      <th>4</th>\n",
              "      <td>c_00016694ea2a</td>\n",
              "      <td>geometry-m3-topic-a-overview.pdf</td>\n",
              "      <td>geometry-m3-topic-a-overview.pdf</td>\n",
              "      <td>document</td>\n",
              "      <td>Estándares Comunes del Estado de Nueva York\\n\\...</td>\n",
              "      <td>es</td>\n",
              "      <td>Engage NY</td>\n",
              "      <td>CC BY-NC-SA</td>\n",
              "    </tr>\n",
              "  </tbody>\n",
              "</table>\n",
              "</div>\n",
              "      <button class=\"colab-df-convert\" onclick=\"convertToInteractive('df-7a638961-4fdd-4f1b-af15-9215aa888b59')\"\n",
              "              title=\"Convert this dataframe to an interactive table.\"\n",
              "              style=\"display:none;\">\n",
              "        \n",
              "  <svg xmlns=\"http://www.w3.org/2000/svg\" height=\"24px\"viewBox=\"0 0 24 24\"\n",
              "       width=\"24px\">\n",
              "    <path d=\"M0 0h24v24H0V0z\" fill=\"none\"/>\n",
              "    <path d=\"M18.56 5.44l.94 2.06.94-2.06 2.06-.94-2.06-.94-.94-2.06-.94 2.06-2.06.94zm-11 1L8.5 8.5l.94-2.06 2.06-.94-2.06-.94L8.5 2.5l-.94 2.06-2.06.94zm10 10l.94 2.06.94-2.06 2.06-.94-2.06-.94-.94-2.06-.94 2.06-2.06.94z\"/><path d=\"M17.41 7.96l-1.37-1.37c-.4-.4-.92-.59-1.43-.59-.52 0-1.04.2-1.43.59L10.3 9.45l-7.72 7.72c-.78.78-.78 2.05 0 2.83L4 21.41c.39.39.9.59 1.41.59.51 0 1.02-.2 1.41-.59l7.78-7.78 2.81-2.81c.8-.78.8-2.07 0-2.86zM5.41 20L4 18.59l7.72-7.72 1.47 1.35L5.41 20z\"/>\n",
              "  </svg>\n",
              "      </button>\n",
              "      \n",
              "  <style>\n",
              "    .colab-df-container {\n",
              "      display:flex;\n",
              "      flex-wrap:wrap;\n",
              "      gap: 12px;\n",
              "    }\n",
              "\n",
              "    .colab-df-convert {\n",
              "      background-color: #E8F0FE;\n",
              "      border: none;\n",
              "      border-radius: 50%;\n",
              "      cursor: pointer;\n",
              "      display: none;\n",
              "      fill: #1967D2;\n",
              "      height: 32px;\n",
              "      padding: 0 0 0 0;\n",
              "      width: 32px;\n",
              "    }\n",
              "\n",
              "    .colab-df-convert:hover {\n",
              "      background-color: #E2EBFA;\n",
              "      box-shadow: 0px 1px 2px rgba(60, 64, 67, 0.3), 0px 1px 3px 1px rgba(60, 64, 67, 0.15);\n",
              "      fill: #174EA6;\n",
              "    }\n",
              "\n",
              "    [theme=dark] .colab-df-convert {\n",
              "      background-color: #3B4455;\n",
              "      fill: #D2E3FC;\n",
              "    }\n",
              "\n",
              "    [theme=dark] .colab-df-convert:hover {\n",
              "      background-color: #434B5C;\n",
              "      box-shadow: 0px 1px 3px 1px rgba(0, 0, 0, 0.15);\n",
              "      filter: drop-shadow(0px 1px 2px rgba(0, 0, 0, 0.3));\n",
              "      fill: #FFFFFF;\n",
              "    }\n",
              "  </style>\n",
              "\n",
              "      <script>\n",
              "        const buttonEl =\n",
              "          document.querySelector('#df-7a638961-4fdd-4f1b-af15-9215aa888b59 button.colab-df-convert');\n",
              "        buttonEl.style.display =\n",
              "          google.colab.kernel.accessAllowed ? 'block' : 'none';\n",
              "\n",
              "        async function convertToInteractive(key) {\n",
              "          const element = document.querySelector('#df-7a638961-4fdd-4f1b-af15-9215aa888b59');\n",
              "          const dataTable =\n",
              "            await google.colab.kernel.invokeFunction('convertToInteractive',\n",
              "                                                     [key], {});\n",
              "          if (!dataTable) return;\n",
              "\n",
              "          const docLinkHtml = 'Like what you see? Visit the ' +\n",
              "            '<a target=\"_blank\" href=https://colab.research.google.com/notebooks/data_table.ipynb>data table notebook</a>'\n",
              "            + ' to learn more about interactive tables.';\n",
              "          element.innerHTML = '';\n",
              "          dataTable['output_type'] = 'display_data';\n",
              "          await google.colab.output.renderOutput(dataTable, element);\n",
              "          const docLink = document.createElement('div');\n",
              "          docLink.innerHTML = docLinkHtml;\n",
              "          element.appendChild(docLink);\n",
              "        }\n",
              "      </script>\n",
              "    </div>\n",
              "  </div>\n",
              "  "
            ]
          },
          "metadata": {},
          "execution_count": 6
        }
      ]
    },
    {
      "cell_type": "markdown",
      "source": [
        "### `correlations.csv` "
      ],
      "metadata": {
        "id": "WI2riV229Lyk"
      }
    },
    {
      "cell_type": "code",
      "source": [
        "correlations_df = pd.read_csv(\"/content/drive/My Drive/A_ELEC_UBC/Year4/Elec400m/Final Report/Code/Data/correlations.csv\")\n",
        "#correlations_df = pd.read_csv(\"Code/Data/correlations.csv\")"
      ],
      "metadata": {
        "id": "L5i1H1STBbwj"
      },
      "execution_count": 7,
      "outputs": []
    },
    {
      "cell_type": "code",
      "source": [
        "correlations_df.head(3)"
      ],
      "metadata": {
        "colab": {
          "base_uri": "https://localhost:8080/",
          "height": 143
        },
        "id": "svsW4lTDBcq2",
        "outputId": "81c51dc3-8b73-40d4-c412-59c44cc8c63a"
      },
      "execution_count": 8,
      "outputs": [
        {
          "output_type": "execute_result",
          "data": {
            "text/plain": [
              "         topic_id                                        content_ids\n",
              "0  t_00004da3a1b2  c_1108dd0c7a5d c_376c5a8eb028 c_5bc0e1e2cba0 c...\n",
              "1  t_00068291e9a4  c_639ea2ef9c95 c_89ce9367be10 c_ac1672cdcd2c c...\n",
              "2  t_00069b63a70a                                     c_11a1dc0bfb99"
            ],
            "text/html": [
              "\n",
              "  <div id=\"df-7975ef31-a1f7-4e77-8cc0-ba53c29f4497\">\n",
              "    <div class=\"colab-df-container\">\n",
              "      <div>\n",
              "<style scoped>\n",
              "    .dataframe tbody tr th:only-of-type {\n",
              "        vertical-align: middle;\n",
              "    }\n",
              "\n",
              "    .dataframe tbody tr th {\n",
              "        vertical-align: top;\n",
              "    }\n",
              "\n",
              "    .dataframe thead th {\n",
              "        text-align: right;\n",
              "    }\n",
              "</style>\n",
              "<table border=\"1\" class=\"dataframe\">\n",
              "  <thead>\n",
              "    <tr style=\"text-align: right;\">\n",
              "      <th></th>\n",
              "      <th>topic_id</th>\n",
              "      <th>content_ids</th>\n",
              "    </tr>\n",
              "  </thead>\n",
              "  <tbody>\n",
              "    <tr>\n",
              "      <th>0</th>\n",
              "      <td>t_00004da3a1b2</td>\n",
              "      <td>c_1108dd0c7a5d c_376c5a8eb028 c_5bc0e1e2cba0 c...</td>\n",
              "    </tr>\n",
              "    <tr>\n",
              "      <th>1</th>\n",
              "      <td>t_00068291e9a4</td>\n",
              "      <td>c_639ea2ef9c95 c_89ce9367be10 c_ac1672cdcd2c c...</td>\n",
              "    </tr>\n",
              "    <tr>\n",
              "      <th>2</th>\n",
              "      <td>t_00069b63a70a</td>\n",
              "      <td>c_11a1dc0bfb99</td>\n",
              "    </tr>\n",
              "  </tbody>\n",
              "</table>\n",
              "</div>\n",
              "      <button class=\"colab-df-convert\" onclick=\"convertToInteractive('df-7975ef31-a1f7-4e77-8cc0-ba53c29f4497')\"\n",
              "              title=\"Convert this dataframe to an interactive table.\"\n",
              "              style=\"display:none;\">\n",
              "        \n",
              "  <svg xmlns=\"http://www.w3.org/2000/svg\" height=\"24px\"viewBox=\"0 0 24 24\"\n",
              "       width=\"24px\">\n",
              "    <path d=\"M0 0h24v24H0V0z\" fill=\"none\"/>\n",
              "    <path d=\"M18.56 5.44l.94 2.06.94-2.06 2.06-.94-2.06-.94-.94-2.06-.94 2.06-2.06.94zm-11 1L8.5 8.5l.94-2.06 2.06-.94-2.06-.94L8.5 2.5l-.94 2.06-2.06.94zm10 10l.94 2.06.94-2.06 2.06-.94-2.06-.94-.94-2.06-.94 2.06-2.06.94z\"/><path d=\"M17.41 7.96l-1.37-1.37c-.4-.4-.92-.59-1.43-.59-.52 0-1.04.2-1.43.59L10.3 9.45l-7.72 7.72c-.78.78-.78 2.05 0 2.83L4 21.41c.39.39.9.59 1.41.59.51 0 1.02-.2 1.41-.59l7.78-7.78 2.81-2.81c.8-.78.8-2.07 0-2.86zM5.41 20L4 18.59l7.72-7.72 1.47 1.35L5.41 20z\"/>\n",
              "  </svg>\n",
              "      </button>\n",
              "      \n",
              "  <style>\n",
              "    .colab-df-container {\n",
              "      display:flex;\n",
              "      flex-wrap:wrap;\n",
              "      gap: 12px;\n",
              "    }\n",
              "\n",
              "    .colab-df-convert {\n",
              "      background-color: #E8F0FE;\n",
              "      border: none;\n",
              "      border-radius: 50%;\n",
              "      cursor: pointer;\n",
              "      display: none;\n",
              "      fill: #1967D2;\n",
              "      height: 32px;\n",
              "      padding: 0 0 0 0;\n",
              "      width: 32px;\n",
              "    }\n",
              "\n",
              "    .colab-df-convert:hover {\n",
              "      background-color: #E2EBFA;\n",
              "      box-shadow: 0px 1px 2px rgba(60, 64, 67, 0.3), 0px 1px 3px 1px rgba(60, 64, 67, 0.15);\n",
              "      fill: #174EA6;\n",
              "    }\n",
              "\n",
              "    [theme=dark] .colab-df-convert {\n",
              "      background-color: #3B4455;\n",
              "      fill: #D2E3FC;\n",
              "    }\n",
              "\n",
              "    [theme=dark] .colab-df-convert:hover {\n",
              "      background-color: #434B5C;\n",
              "      box-shadow: 0px 1px 3px 1px rgba(0, 0, 0, 0.15);\n",
              "      filter: drop-shadow(0px 1px 2px rgba(0, 0, 0, 0.3));\n",
              "      fill: #FFFFFF;\n",
              "    }\n",
              "  </style>\n",
              "\n",
              "      <script>\n",
              "        const buttonEl =\n",
              "          document.querySelector('#df-7975ef31-a1f7-4e77-8cc0-ba53c29f4497 button.colab-df-convert');\n",
              "        buttonEl.style.display =\n",
              "          google.colab.kernel.accessAllowed ? 'block' : 'none';\n",
              "\n",
              "        async function convertToInteractive(key) {\n",
              "          const element = document.querySelector('#df-7975ef31-a1f7-4e77-8cc0-ba53c29f4497');\n",
              "          const dataTable =\n",
              "            await google.colab.kernel.invokeFunction('convertToInteractive',\n",
              "                                                     [key], {});\n",
              "          if (!dataTable) return;\n",
              "\n",
              "          const docLinkHtml = 'Like what you see? Visit the ' +\n",
              "            '<a target=\"_blank\" href=https://colab.research.google.com/notebooks/data_table.ipynb>data table notebook</a>'\n",
              "            + ' to learn more about interactive tables.';\n",
              "          element.innerHTML = '';\n",
              "          dataTable['output_type'] = 'display_data';\n",
              "          await google.colab.output.renderOutput(dataTable, element);\n",
              "          const docLink = document.createElement('div');\n",
              "          docLink.innerHTML = docLinkHtml;\n",
              "          element.appendChild(docLink);\n",
              "        }\n",
              "      </script>\n",
              "    </div>\n",
              "  </div>\n",
              "  "
            ]
          },
          "metadata": {},
          "execution_count": 8
        }
      ]
    },
    {
      "cell_type": "markdown",
      "source": [
        "### `sample_submission.csv`\n",
        "A submission file in the correct format."
      ],
      "metadata": {
        "id": "kqOP-9ZY9uYI"
      }
    },
    {
      "cell_type": "code",
      "source": [
        "sample_submission_df = pd.read_csv(\"/content/drive/My Drive/A_ELEC_UBC/Year4/Elec400m/Final Report/Code/Data/sample_submission.csv\")\n",
        "#sample_submission_df = pd.read_csv(\"Code/Data/sample_submission.csv\")"
      ],
      "metadata": {
        "id": "SRhAQnauB9xL"
      },
      "execution_count": 9,
      "outputs": []
    },
    {
      "cell_type": "code",
      "source": [
        "sample_submission_df.head(3)"
      ],
      "metadata": {
        "colab": {
          "base_uri": "https://localhost:8080/",
          "height": 143
        },
        "id": "wf_sYKyRCHIT",
        "outputId": "14d20697-c735-4847-b42c-1e8991452e52"
      },
      "execution_count": 10,
      "outputs": [
        {
          "output_type": "execute_result",
          "data": {
            "text/plain": [
              "         topic_id                                        content_ids\n",
              "0  t_00004da3a1b2  c_1108dd0c7a5d c_376c5a8eb028 c_5bc0e1e2cba0 c...\n",
              "1  t_00068291e9a4  c_639ea2ef9c95 c_89ce9367be10 c_ac1672cdcd2c c...\n",
              "2  t_00069b63a70a                                     c_11a1dc0bfb99"
            ],
            "text/html": [
              "\n",
              "  <div id=\"df-6ee30cb9-08d6-4cc1-8100-da14a7c712b5\">\n",
              "    <div class=\"colab-df-container\">\n",
              "      <div>\n",
              "<style scoped>\n",
              "    .dataframe tbody tr th:only-of-type {\n",
              "        vertical-align: middle;\n",
              "    }\n",
              "\n",
              "    .dataframe tbody tr th {\n",
              "        vertical-align: top;\n",
              "    }\n",
              "\n",
              "    .dataframe thead th {\n",
              "        text-align: right;\n",
              "    }\n",
              "</style>\n",
              "<table border=\"1\" class=\"dataframe\">\n",
              "  <thead>\n",
              "    <tr style=\"text-align: right;\">\n",
              "      <th></th>\n",
              "      <th>topic_id</th>\n",
              "      <th>content_ids</th>\n",
              "    </tr>\n",
              "  </thead>\n",
              "  <tbody>\n",
              "    <tr>\n",
              "      <th>0</th>\n",
              "      <td>t_00004da3a1b2</td>\n",
              "      <td>c_1108dd0c7a5d c_376c5a8eb028 c_5bc0e1e2cba0 c...</td>\n",
              "    </tr>\n",
              "    <tr>\n",
              "      <th>1</th>\n",
              "      <td>t_00068291e9a4</td>\n",
              "      <td>c_639ea2ef9c95 c_89ce9367be10 c_ac1672cdcd2c c...</td>\n",
              "    </tr>\n",
              "    <tr>\n",
              "      <th>2</th>\n",
              "      <td>t_00069b63a70a</td>\n",
              "      <td>c_11a1dc0bfb99</td>\n",
              "    </tr>\n",
              "  </tbody>\n",
              "</table>\n",
              "</div>\n",
              "      <button class=\"colab-df-convert\" onclick=\"convertToInteractive('df-6ee30cb9-08d6-4cc1-8100-da14a7c712b5')\"\n",
              "              title=\"Convert this dataframe to an interactive table.\"\n",
              "              style=\"display:none;\">\n",
              "        \n",
              "  <svg xmlns=\"http://www.w3.org/2000/svg\" height=\"24px\"viewBox=\"0 0 24 24\"\n",
              "       width=\"24px\">\n",
              "    <path d=\"M0 0h24v24H0V0z\" fill=\"none\"/>\n",
              "    <path d=\"M18.56 5.44l.94 2.06.94-2.06 2.06-.94-2.06-.94-.94-2.06-.94 2.06-2.06.94zm-11 1L8.5 8.5l.94-2.06 2.06-.94-2.06-.94L8.5 2.5l-.94 2.06-2.06.94zm10 10l.94 2.06.94-2.06 2.06-.94-2.06-.94-.94-2.06-.94 2.06-2.06.94z\"/><path d=\"M17.41 7.96l-1.37-1.37c-.4-.4-.92-.59-1.43-.59-.52 0-1.04.2-1.43.59L10.3 9.45l-7.72 7.72c-.78.78-.78 2.05 0 2.83L4 21.41c.39.39.9.59 1.41.59.51 0 1.02-.2 1.41-.59l7.78-7.78 2.81-2.81c.8-.78.8-2.07 0-2.86zM5.41 20L4 18.59l7.72-7.72 1.47 1.35L5.41 20z\"/>\n",
              "  </svg>\n",
              "      </button>\n",
              "      \n",
              "  <style>\n",
              "    .colab-df-container {\n",
              "      display:flex;\n",
              "      flex-wrap:wrap;\n",
              "      gap: 12px;\n",
              "    }\n",
              "\n",
              "    .colab-df-convert {\n",
              "      background-color: #E8F0FE;\n",
              "      border: none;\n",
              "      border-radius: 50%;\n",
              "      cursor: pointer;\n",
              "      display: none;\n",
              "      fill: #1967D2;\n",
              "      height: 32px;\n",
              "      padding: 0 0 0 0;\n",
              "      width: 32px;\n",
              "    }\n",
              "\n",
              "    .colab-df-convert:hover {\n",
              "      background-color: #E2EBFA;\n",
              "      box-shadow: 0px 1px 2px rgba(60, 64, 67, 0.3), 0px 1px 3px 1px rgba(60, 64, 67, 0.15);\n",
              "      fill: #174EA6;\n",
              "    }\n",
              "\n",
              "    [theme=dark] .colab-df-convert {\n",
              "      background-color: #3B4455;\n",
              "      fill: #D2E3FC;\n",
              "    }\n",
              "\n",
              "    [theme=dark] .colab-df-convert:hover {\n",
              "      background-color: #434B5C;\n",
              "      box-shadow: 0px 1px 3px 1px rgba(0, 0, 0, 0.15);\n",
              "      filter: drop-shadow(0px 1px 2px rgba(0, 0, 0, 0.3));\n",
              "      fill: #FFFFFF;\n",
              "    }\n",
              "  </style>\n",
              "\n",
              "      <script>\n",
              "        const buttonEl =\n",
              "          document.querySelector('#df-6ee30cb9-08d6-4cc1-8100-da14a7c712b5 button.colab-df-convert');\n",
              "        buttonEl.style.display =\n",
              "          google.colab.kernel.accessAllowed ? 'block' : 'none';\n",
              "\n",
              "        async function convertToInteractive(key) {\n",
              "          const element = document.querySelector('#df-6ee30cb9-08d6-4cc1-8100-da14a7c712b5');\n",
              "          const dataTable =\n",
              "            await google.colab.kernel.invokeFunction('convertToInteractive',\n",
              "                                                     [key], {});\n",
              "          if (!dataTable) return;\n",
              "\n",
              "          const docLinkHtml = 'Like what you see? Visit the ' +\n",
              "            '<a target=\"_blank\" href=https://colab.research.google.com/notebooks/data_table.ipynb>data table notebook</a>'\n",
              "            + ' to learn more about interactive tables.';\n",
              "          element.innerHTML = '';\n",
              "          dataTable['output_type'] = 'display_data';\n",
              "          await google.colab.output.renderOutput(dataTable, element);\n",
              "          const docLink = document.createElement('div');\n",
              "          docLink.innerHTML = docLinkHtml;\n",
              "          element.appendChild(docLink);\n",
              "        }\n",
              "      </script>\n",
              "    </div>\n",
              "  </div>\n",
              "  "
            ]
          },
          "metadata": {},
          "execution_count": 10
        }
      ]
    },
    {
      "cell_type": "markdown",
      "source": [
        "# Data Pre-processing"
      ],
      "metadata": {
        "id": "PnltEUUoCiTf"
      }
    },
    {
      "cell_type": "markdown",
      "source": [
        "## Separate X (`content_ids`) from y(`topic_ids`)"
      ],
      "metadata": {
        "id": "Tz3TdQe9CnXQ"
      }
    },
    {
      "cell_type": "code",
      "source": [
        "# get topic_ids and their corresponding content_ids as numpy arrays\n",
        "correlations_topic_ids = correlations_df.iloc[:,:-1].values\n",
        "correlations_content_ids = correlations_df.iloc[:,1:2].values"
      ],
      "metadata": {
        "id": "1PtvGCJoD0Ab"
      },
      "execution_count": 11,
      "outputs": []
    },
    {
      "cell_type": "code",
      "source": [
        "len(correlations_content_ids)"
      ],
      "metadata": {
        "colab": {
          "base_uri": "https://localhost:8080/"
        },
        "id": "RvLFAevpaeBc",
        "outputId": "1ffbd1c6-cde1-43ad-c598-5f56d6fd61f0"
      },
      "execution_count": 12,
      "outputs": [
        {
          "output_type": "execute_result",
          "data": {
            "text/plain": [
              "61517"
            ]
          },
          "metadata": {},
          "execution_count": 12
        }
      ]
    },
    {
      "cell_type": "code",
      "source": [
        "correlations_topic_ids = correlations_topic_ids[0:1000]\n",
        "correlations_content_ids = correlations_content_ids[0:1000]"
      ],
      "metadata": {
        "id": "EjYIZBi4atab"
      },
      "execution_count": 13,
      "outputs": []
    },
    {
      "cell_type": "code",
      "source": [
        "print(f\"topic_ids:\\n {correlations_topic_ids[0:5]}\")\n",
        "print(f\"Corresponding content ids:\\n {correlations_content_ids[0:5]}\")"
      ],
      "metadata": {
        "colab": {
          "base_uri": "https://localhost:8080/"
        },
        "id": "am6st68dKoCe",
        "outputId": "98859b37-a015-4a44-d633-60c0cb4dfb62"
      },
      "execution_count": 14,
      "outputs": [
        {
          "output_type": "stream",
          "name": "stdout",
          "text": [
            "topic_ids:\n",
            " [['t_00004da3a1b2']\n",
            " ['t_00068291e9a4']\n",
            " ['t_00069b63a70a']\n",
            " ['t_0006d41a73a8']\n",
            " ['t_0008768bdee6']]\n",
            "Corresponding content ids:\n",
            " [['c_1108dd0c7a5d c_376c5a8eb028 c_5bc0e1e2cba0 c_76231f9d0b5e']\n",
            " ['c_639ea2ef9c95 c_89ce9367be10 c_ac1672cdcd2c c_ebb7fdf10a7e']\n",
            " ['c_11a1dc0bfb99']\n",
            " ['c_0c6473c3480d c_1c57a1316568 c_5e375cf14c47 c_b972646631cb c_d7a0d7eaf799']\n",
            " ['c_34e1424229b4 c_7d1a964d66d5 c_aab93ee667f4']]\n"
          ]
        }
      ]
    },
    {
      "cell_type": "code",
      "source": [
        "content_ids = np.array([[0]])\n",
        "topic_ids = np.array([[0]])\n",
        "\n",
        "i = 0\n",
        "while i<len(correlations_topic_ids):\n",
        "  topic_id = correlations_topic_ids[i][0]\n",
        "  # print(topic_id)\n",
        "  content_ids_string = correlations_content_ids[i][0] #string of space separated content ids\n",
        "  content_ids_arr = content_ids_string.split(\" \")\n",
        "  j = 0\n",
        "  while (j<len(content_ids_arr)):\n",
        "    content_id = content_ids_arr[j]\n",
        "    # print(content_id)\n",
        "    content_ids = np.append(content_ids,np.array([[content_id]]),axis=0)  \n",
        "    topic_ids = np.append(topic_ids,np.array([[topic_id]]),axis=0)\n",
        "    j += 1\n",
        "  i += 1\n",
        "\n",
        "# remove the first zeros added when creating arrays\n",
        "content_ids = content_ids[1:]\n",
        "topic_ids = topic_ids[1:]"
      ],
      "metadata": {
        "id": "oPDiUZO-L1N9"
      },
      "execution_count": 15,
      "outputs": []
    },
    {
      "cell_type": "code",
      "source": [
        "print(f\"Content ids numpy array: \\n{content_ids},\\nTopic ids numpy array: \\n{topic_ids}\")"
      ],
      "metadata": {
        "colab": {
          "base_uri": "https://localhost:8080/"
        },
        "id": "3PIdUw1pYbxz",
        "outputId": "8e9e85bf-e7cf-4836-e8c6-6e4043a288e7"
      },
      "execution_count": 16,
      "outputs": [
        {
          "output_type": "stream",
          "name": "stdout",
          "text": [
            "Content ids numpy array: \n",
            "[['c_1108dd0c7a5d']\n",
            " ['c_376c5a8eb028']\n",
            " ['c_5bc0e1e2cba0']\n",
            " ...\n",
            " ['c_9b6a3221cc9d']\n",
            " ['c_187f923aedef']\n",
            " ['c_d9f1eb259ff1']],\n",
            "Topic ids numpy array: \n",
            "[['t_00004da3a1b2']\n",
            " ['t_00004da3a1b2']\n",
            " ['t_00004da3a1b2']\n",
            " ...\n",
            " ['t_045ed925d7eb']\n",
            " ['t_0460a35757fe']\n",
            " ['t_0460a35757fe']]\n"
          ]
        }
      ]
    },
    {
      "cell_type": "code",
      "source": [
        "#Denote content_id as X and corresponding topic_ids as y \n",
        "X = content_ids    #independent variable array\n",
        "y = topic_ids  #dependent variable array"
      ],
      "metadata": {
        "id": "wzHappYnDfuJ"
      },
      "execution_count": 17,
      "outputs": []
    },
    {
      "cell_type": "code",
      "source": [
        "X[0:5]"
      ],
      "metadata": {
        "colab": {
          "base_uri": "https://localhost:8080/"
        },
        "id": "VM2etaHoGN8c",
        "outputId": "4b0cc61b-a95f-424a-936e-8811d3f94139"
      },
      "execution_count": 18,
      "outputs": [
        {
          "output_type": "execute_result",
          "data": {
            "text/plain": [
              "array([['c_1108dd0c7a5d'],\n",
              "       ['c_376c5a8eb028'],\n",
              "       ['c_5bc0e1e2cba0'],\n",
              "       ['c_76231f9d0b5e'],\n",
              "       ['c_639ea2ef9c95']], dtype='<U21')"
            ]
          },
          "metadata": {},
          "execution_count": 18
        }
      ]
    },
    {
      "cell_type": "code",
      "source": [
        "y[0:5]"
      ],
      "metadata": {
        "colab": {
          "base_uri": "https://localhost:8080/"
        },
        "id": "K5PK0V7-Gac4",
        "outputId": "fbd1b5cf-cc97-4ae5-c96f-ab8a9110d2da"
      },
      "execution_count": 19,
      "outputs": [
        {
          "output_type": "execute_result",
          "data": {
            "text/plain": [
              "array([['t_00004da3a1b2'],\n",
              "       ['t_00004da3a1b2'],\n",
              "       ['t_00004da3a1b2'],\n",
              "       ['t_00004da3a1b2'],\n",
              "       ['t_00068291e9a4']], dtype='<U21')"
            ]
          },
          "metadata": {},
          "execution_count": 19
        }
      ]
    },
    {
      "cell_type": "markdown",
      "source": [
        "## Data visualization\n"
      ],
      "metadata": {
        "id": "puJx_poVmRu1"
      }
    },
    {
      "cell_type": "markdown",
      "source": [
        "### Missing values"
      ],
      "metadata": {
        "id": "WcNeQuz2ttFP"
      }
    },
    {
      "cell_type": "code",
      "source": [
        "import missingno as msno "
      ],
      "metadata": {
        "id": "eOmRzrMZoJz-"
      },
      "execution_count": 20,
      "outputs": []
    },
    {
      "cell_type": "code",
      "source": [
        "msno.matrix(content_df.sample(500))"
      ],
      "metadata": {
        "colab": {
          "base_uri": "https://localhost:8080/",
          "height": 717
        },
        "id": "o-Iz6QTBoxsO",
        "outputId": "a7aeab73-b8a0-4f34-e726-59f24529d862"
      },
      "execution_count": 21,
      "outputs": [
        {
          "output_type": "execute_result",
          "data": {
            "text/plain": [
              "<matplotlib.axes._subplots.AxesSubplot at 0x7f2bda7a6b20>"
            ]
          },
          "metadata": {},
          "execution_count": 21
        },
        {
          "output_type": "display_data",
          "data": {
            "text/plain": [
              "<Figure size 1800x720 with 2 Axes>"
            ],
            "image/png": "[encoded data removed]"
          },
          "metadata": {
            "needs_background": "light"
          }
        }
      ]
    },
    {
      "cell_type": "code",
      "source": [
        "msno.bar(content_df.sample(500))"
      ],
      "metadata": {
        "colab": {
          "base_uri": "https://localhost:8080/",
          "height": 745
        },
        "id": "z8gRcR-LrsDc",
        "outputId": "0e4c786c-d5f1-4240-e886-4776731c0915"
      },
      "execution_count": 22,
      "outputs": [
        {
          "output_type": "execute_result",
          "data": {
            "text/plain": [
              "<matplotlib.axes._subplots.AxesSubplot at 0x7f2bd7a986d0>"
            ]
          },
          "metadata": {},
          "execution_count": 22
        },
        {
          "output_type": "display_data",
          "data": {
            "text/plain": [
              "<Figure size 1800x720 with 3 Axes>"
            ],
            "image/png": "[encoded data removed]"
          },
          "metadata": {
            "needs_background": "light"
          }
        }
      ]
    },
    {
      "cell_type": "code",
      "source": [
        "msno.matrix(topics_df.sample(500))"
      ],
      "metadata": {
        "colab": {
          "base_uri": "https://localhost:8080/",
          "height": 690
        },
        "id": "WtoHTAT0o3p0",
        "outputId": "1b9bb4e6-3c0e-4e58-d25a-f3232aaacf1a"
      },
      "execution_count": 23,
      "outputs": [
        {
          "output_type": "execute_result",
          "data": {
            "text/plain": [
              "<matplotlib.axes._subplots.AxesSubplot at 0x7f2bd611fd60>"
            ]
          },
          "metadata": {},
          "execution_count": 23
        },
        {
          "output_type": "display_data",
          "data": {
            "text/plain": [
              "<Figure size 1800x720 with 2 Axes>"
            ],
            "image/png": "[encoded data removed]"
          },
          "metadata": {
            "needs_background": "light"
          }
        }
      ]
    },
    {
      "cell_type": "code",
      "source": [
        "msno.bar(topics_df.sample(500))"
      ],
      "metadata": {
        "colab": {
          "base_uri": "https://localhost:8080/",
          "height": 718
        },
        "id": "R4ng6pV9r-1L",
        "outputId": "b3f4d017-658a-4e92-d4df-665a108d5998"
      },
      "execution_count": 24,
      "outputs": [
        {
          "output_type": "execute_result",
          "data": {
            "text/plain": [
              "<matplotlib.axes._subplots.AxesSubplot at 0x7f2bd6090ee0>"
            ]
          },
          "metadata": {},
          "execution_count": 24
        },
        {
          "output_type": "display_data",
          "data": {
            "text/plain": [
              "<Figure size 1800x720 with 3 Axes>"
            ],
            "image/png": "[encoded data removed]"
          },
          "metadata": {
            "needs_background": "light"
          }
        }
      ]
    },
    {
      "cell_type": "markdown",
      "source": [
        "### Value counts"
      ],
      "metadata": {
        "id": "YSktm5eJtyPV"
      }
    },
    {
      "cell_type": "code",
      "source": [
        "language_counts_content = content_df.language.value_counts()\n",
        "language_counts_content.plot(kind=\"bar\", title=\"Languages in Content Data\")"
      ],
      "metadata": {
        "colab": {
          "base_uri": "https://localhost:8080/",
          "height": 308
        },
        "id": "ALIM_EEUt-Ye",
        "outputId": "8b037706-1af5-466b-8573-cd6ec634c9ad"
      },
      "execution_count": 25,
      "outputs": [
        {
          "output_type": "execute_result",
          "data": {
            "text/plain": [
              "<matplotlib.axes._subplots.AxesSubplot at 0x7f2bd5ff80d0>"
            ]
          },
          "metadata": {},
          "execution_count": 25
        },
        {
          "output_type": "display_data",
          "data": {
            "text/plain": [
              "<Figure size 432x288 with 1 Axes>"
            ],
            "image/png": "[encoded data removed]"
          },
          "metadata": {
            "needs_background": "light"
          }
        }
      ]
    },
    {
      "cell_type": "code",
      "source": [
        "kind_counts_content = content_df.kind.value_counts()\n",
        "kind_counts_content.plot(kind=\"bar\", title=\"Kind in Content Data\")"
      ],
      "metadata": {
        "colab": {
          "base_uri": "https://localhost:8080/",
          "height": 339
        },
        "id": "kkntSkpbvriV",
        "outputId": "87373ec8-66cc-413d-b028-51d89430ef4f"
      },
      "execution_count": 26,
      "outputs": [
        {
          "output_type": "execute_result",
          "data": {
            "text/plain": [
              "<matplotlib.axes._subplots.AxesSubplot at 0x7f2bd5f38fd0>"
            ]
          },
          "metadata": {},
          "execution_count": 26
        },
        {
          "output_type": "display_data",
          "data": {
            "text/plain": [
              "<Figure size 432x288 with 1 Axes>"
            ],
            "image/png": "[encoded data removed]"
          },
          "metadata": {
            "needs_background": "light"
          }
        }
      ]
    },
    {
      "cell_type": "code",
      "source": [
        "language_counts_topic = topics_df.language.value_counts()\n",
        "language_counts_topic.plot(kind=\"bar\", title=\"Languages in Topic Data\")"
      ],
      "metadata": {
        "colab": {
          "base_uri": "https://localhost:8080/",
          "height": 308
        },
        "id": "v8ZBX_yavrYK",
        "outputId": "eed643e3-ef49-4211-ee83-6ef497838ba2"
      },
      "execution_count": 27,
      "outputs": [
        {
          "output_type": "execute_result",
          "data": {
            "text/plain": [
              "<matplotlib.axes._subplots.AxesSubplot at 0x7f2bd5e999d0>"
            ]
          },
          "metadata": {},
          "execution_count": 27
        },
        {
          "output_type": "display_data",
          "data": {
            "text/plain": [
              "<Figure size 432x288 with 1 Axes>"
            ],
            "image/png": "[encoded data removed]"
          },
          "metadata": {
            "needs_background": "light"
          }
        }
      ]
    },
    {
      "cell_type": "code",
      "source": [
        "category_counts_topic = topics_df.category.value_counts()\n",
        "category_counts_topic.plot(kind=\"bar\", title=\"Categories in Topic Data\")"
      ],
      "metadata": {
        "colab": {
          "base_uri": "https://localhost:8080/",
          "height": 356
        },
        "id": "v5Bwioz5wIsO",
        "outputId": "b741d2a1-d915-4670-b55f-84d6158b75f1"
      },
      "execution_count": 28,
      "outputs": [
        {
          "output_type": "execute_result",
          "data": {
            "text/plain": [
              "<matplotlib.axes._subplots.AxesSubplot at 0x7f2bd5ea2ca0>"
            ]
          },
          "metadata": {},
          "execution_count": 28
        },
        {
          "output_type": "display_data",
          "data": {
            "text/plain": [
              "<Figure size 432x288 with 1 Axes>"
            ],
            "image/png": "[encoded data removed]"
          },
          "metadata": {
            "needs_background": "light"
          }
        }
      ]
    },
    {
      "cell_type": "code",
      "source": [
        "level_counts_topic = topics_df.level.value_counts()\n",
        "level_counts_topic.plot(kind=\"bar\", title=\"Levels in Topic Data\")"
      ],
      "metadata": {
        "colab": {
          "base_uri": "https://localhost:8080/",
          "height": 301
        },
        "id": "nri1iABMwjUv",
        "outputId": "9cc35fa4-0e9e-4467-af25-4edcce84d2ac"
      },
      "execution_count": 29,
      "outputs": [
        {
          "output_type": "execute_result",
          "data": {
            "text/plain": [
              "<matplotlib.axes._subplots.AxesSubplot at 0x7f2bd5d4e280>"
            ]
          },
          "metadata": {},
          "execution_count": 29
        },
        {
          "output_type": "display_data",
          "data": {
            "text/plain": [
              "<Figure size 432x288 with 1 Axes>"
            ],
            "image/png": "[encoded data removed]"
          },
          "metadata": {
            "needs_background": "light"
          }
        }
      ]
    },
    {
      "cell_type": "code",
      "source": [
        "# Top 5 most frequent channels/topic trees\n",
        "channel_counts_topic = topics_df.channel.value_counts()\n",
        "channel_counts_topic.sort_values(ascending=False).head(5)"
      ],
      "metadata": {
        "colab": {
          "base_uri": "https://localhost:8080/"
        },
        "id": "ewPORaU0xHut",
        "outputId": "fa9a14cf-c6eb-4c0e-9d3f-ad43e7809a78"
      },
      "execution_count": 30,
      "outputs": [
        {
          "output_type": "execute_result",
          "data": {
            "text/plain": [
              "fef095    5770\n",
              "0ec697    5355\n",
              "6e90a7    4554\n",
              "2ee29d    4438\n",
              "36a98b    3667\n",
              "Name: channel, dtype: int64"
            ]
          },
          "metadata": {},
          "execution_count": 30
        }
      ]
    },
    {
      "cell_type": "code",
      "source": [
        "topics_df.has_content.value_counts()"
      ],
      "metadata": {
        "colab": {
          "base_uri": "https://localhost:8080/"
        },
        "id": "4JHu2NVxyQc0",
        "outputId": "54f66979-75a2-45e5-9485-0081191c753b"
      },
      "execution_count": 31,
      "outputs": [
        {
          "output_type": "execute_result",
          "data": {
            "text/plain": [
              "True     61517\n",
              "False    15455\n",
              "Name: has_content, dtype: int64"
            ]
          },
          "metadata": {},
          "execution_count": 31
        }
      ]
    },
    {
      "cell_type": "markdown",
      "source": [
        "About 20% of the provided topics do not have any content"
      ],
      "metadata": {
        "id": "VjUuhxBzyaOp"
      }
    },
    {
      "cell_type": "code",
      "source": [
        "content_kinds = content_df.pivot(columns=\"kind\", values=[\"id\"])\n",
        "content_kinds.head(3)"
      ],
      "metadata": {
        "id": "lo2LYACAm1A_",
        "colab": {
          "base_uri": "https://localhost:8080/",
          "height": 175
        },
        "outputId": "ac51a178-b994-45a6-c97f-abf0ebc98faf"
      },
      "execution_count": 32,
      "outputs": [
        {
          "output_type": "execute_result",
          "data": {
            "text/plain": [
              "        id                                        \n",
              "kind audio document exercise html5           video\n",
              "0      NaN      NaN      NaN   NaN  c_00002381196d\n",
              "1      NaN      NaN      NaN   NaN  c_000087304a9e\n",
              "2      NaN      NaN      NaN   NaN  c_0000ad142ddb"
            ],
            "text/html": [
              "\n",
              "  <div id=\"df-a1c21408-1d81-4147-baac-e3416cc41b7a\">\n",
              "    <div class=\"colab-df-container\">\n",
              "      <div>\n",
              "<style scoped>\n",
              "    .dataframe tbody tr th:only-of-type {\n",
              "        vertical-align: middle;\n",
              "    }\n",
              "\n",
              "    .dataframe tbody tr th {\n",
              "        vertical-align: top;\n",
              "    }\n",
              "\n",
              "    .dataframe thead tr th {\n",
              "        text-align: left;\n",
              "    }\n",
              "</style>\n",
              "<table border=\"1\" class=\"dataframe\">\n",
              "  <thead>\n",
              "    <tr>\n",
              "      <th></th>\n",
              "      <th colspan=\"5\" halign=\"left\">id</th>\n",
              "    </tr>\n",
              "    <tr>\n",
              "      <th>kind</th>\n",
              "      <th>audio</th>\n",
              "      <th>document</th>\n",
              "      <th>exercise</th>\n",
              "      <th>html5</th>\n",
              "      <th>video</th>\n",
              "    </tr>\n",
              "  </thead>\n",
              "  <tbody>\n",
              "    <tr>\n",
              "      <th>0</th>\n",
              "      <td>NaN</td>\n",
              "      <td>NaN</td>\n",
              "      <td>NaN</td>\n",
              "      <td>NaN</td>\n",
              "      <td>c_00002381196d</td>\n",
              "    </tr>\n",
              "    <tr>\n",
              "      <th>1</th>\n",
              "      <td>NaN</td>\n",
              "      <td>NaN</td>\n",
              "      <td>NaN</td>\n",
              "      <td>NaN</td>\n",
              "      <td>c_000087304a9e</td>\n",
              "    </tr>\n",
              "    <tr>\n",
              "      <th>2</th>\n",
              "      <td>NaN</td>\n",
              "      <td>NaN</td>\n",
              "      <td>NaN</td>\n",
              "      <td>NaN</td>\n",
              "      <td>c_0000ad142ddb</td>\n",
              "    </tr>\n",
              "  </tbody>\n",
              "</table>\n",
              "</div>\n",
              "      <button class=\"colab-df-convert\" onclick=\"convertToInteractive('df-a1c21408-1d81-4147-baac-e3416cc41b7a')\"\n",
              "              title=\"Convert this dataframe to an interactive table.\"\n",
              "              style=\"display:none;\">\n",
              "        \n",
              "  <svg xmlns=\"http://www.w3.org/2000/svg\" height=\"24px\"viewBox=\"0 0 24 24\"\n",
              "       width=\"24px\">\n",
              "    <path d=\"M0 0h24v24H0V0z\" fill=\"none\"/>\n",
              "    <path d=\"M18.56 5.44l.94 2.06.94-2.06 2.06-.94-2.06-.94-.94-2.06-.94 2.06-2.06.94zm-11 1L8.5 8.5l.94-2.06 2.06-.94-2.06-.94L8.5 2.5l-.94 2.06-2.06.94zm10 10l.94 2.06.94-2.06 2.06-.94-2.06-.94-.94-2.06-.94 2.06-2.06.94z\"/><path d=\"M17.41 7.96l-1.37-1.37c-.4-.4-.92-.59-1.43-.59-.52 0-1.04.2-1.43.59L10.3 9.45l-7.72 7.72c-.78.78-.78 2.05 0 2.83L4 21.41c.39.39.9.59 1.41.59.51 0 1.02-.2 1.41-.59l7.78-7.78 2.81-2.81c.8-.78.8-2.07 0-2.86zM5.41 20L4 18.59l7.72-7.72 1.47 1.35L5.41 20z\"/>\n",
              "  </svg>\n",
              "      </button>\n",
              "      \n",
              "  <style>\n",
              "    .colab-df-container {\n",
              "      display:flex;\n",
              "      flex-wrap:wrap;\n",
              "      gap: 12px;\n",
              "    }\n",
              "\n",
              "    .colab-df-convert {\n",
              "      background-color: #E8F0FE;\n",
              "      border: none;\n",
              "      border-radius: 50%;\n",
              "      cursor: pointer;\n",
              "      display: none;\n",
              "      fill: #1967D2;\n",
              "      height: 32px;\n",
              "      padding: 0 0 0 0;\n",
              "      width: 32px;\n",
              "    }\n",
              "\n",
              "    .colab-df-convert:hover {\n",
              "      background-color: #E2EBFA;\n",
              "      box-shadow: 0px 1px 2px rgba(60, 64, 67, 0.3), 0px 1px 3px 1px rgba(60, 64, 67, 0.15);\n",
              "      fill: #174EA6;\n",
              "    }\n",
              "\n",
              "    [theme=dark] .colab-df-convert {\n",
              "      background-color: #3B4455;\n",
              "      fill: #D2E3FC;\n",
              "    }\n",
              "\n",
              "    [theme=dark] .colab-df-convert:hover {\n",
              "      background-color: #434B5C;\n",
              "      box-shadow: 0px 1px 3px 1px rgba(0, 0, 0, 0.15);\n",
              "      filter: drop-shadow(0px 1px 2px rgba(0, 0, 0, 0.3));\n",
              "      fill: #FFFFFF;\n",
              "    }\n",
              "  </style>\n",
              "\n",
              "      <script>\n",
              "        const buttonEl =\n",
              "          document.querySelector('#df-a1c21408-1d81-4147-baac-e3416cc41b7a button.colab-df-convert');\n",
              "        buttonEl.style.display =\n",
              "          google.colab.kernel.accessAllowed ? 'block' : 'none';\n",
              "\n",
              "        async function convertToInteractive(key) {\n",
              "          const element = document.querySelector('#df-a1c21408-1d81-4147-baac-e3416cc41b7a');\n",
              "          const dataTable =\n",
              "            await google.colab.kernel.invokeFunction('convertToInteractive',\n",
              "                                                     [key], {});\n",
              "          if (!dataTable) return;\n",
              "\n",
              "          const docLinkHtml = 'Like what you see? Visit the ' +\n",
              "            '<a target=\"_blank\" href=https://colab.research.google.com/notebooks/data_table.ipynb>data table notebook</a>'\n",
              "            + ' to learn more about interactive tables.';\n",
              "          element.innerHTML = '';\n",
              "          dataTable['output_type'] = 'display_data';\n",
              "          await google.colab.output.renderOutput(dataTable, element);\n",
              "          const docLink = document.createElement('div');\n",
              "          docLink.innerHTML = docLinkHtml;\n",
              "          element.appendChild(docLink);\n",
              "        }\n",
              "      </script>\n",
              "    </div>\n",
              "  </div>\n",
              "  "
            ]
          },
          "metadata": {},
          "execution_count": 32
        }
      ]
    },
    {
      "cell_type": "markdown",
      "source": [
        "Only about 80% of the `topic_ids` have corresponding content"
      ],
      "metadata": {
        "id": "t_it1sam3Gex"
      }
    },
    {
      "cell_type": "code",
      "source": [
        "topics_with_content_df=topics_df[topics_df.has_content]\n",
        "topics_with_content_df.head(3)"
      ],
      "metadata": {
        "colab": {
          "base_uri": "https://localhost:8080/",
          "height": 143
        },
        "id": "qiVMPlr02ece",
        "outputId": "cc43ffe5-a05e-430a-8f02-eeb0c63eed3e"
      },
      "execution_count": 33,
      "outputs": [
        {
          "output_type": "execute_result",
          "data": {
            "text/plain": [
              "               id                            title  \\\n",
              "0  t_00004da3a1b2       Откриването на резисторите   \n",
              "2  t_00068291e9a4  Entradas e saídas de uma função   \n",
              "3  t_00069b63a70a                      Transcripts   \n",
              "\n",
              "                                         description channel category  level  \\\n",
              "0  Изследване на материали, които предизвикват на...  000cf7   source      4   \n",
              "2               Entenda um pouco mais sobre funções.  8e286a   source      4   \n",
              "3                                                NaN  6e3ba4   source      3   \n",
              "\n",
              "  language          parent  has_content  \n",
              "0       bg  t_16e29365b50d         True  \n",
              "2       pt  t_d14b6c2a2b70         True  \n",
              "3       en  t_4054df11a74e         True  "
            ],
            "text/html": [
              "\n",
              "  <div id=\"df-85a71c0f-b7a0-411b-9141-f5dbabe6e48f\">\n",
              "    <div class=\"colab-df-container\">\n",
              "      <div>\n",
              "<style scoped>\n",
              "    .dataframe tbody tr th:only-of-type {\n",
              "        vertical-align: middle;\n",
              "    }\n",
              "\n",
              "    .dataframe tbody tr th {\n",
              "        vertical-align: top;\n",
              "    }\n",
              "\n",
              "    .dataframe thead th {\n",
              "        text-align: right;\n",
              "    }\n",
              "</style>\n",
              "<table border=\"1\" class=\"dataframe\">\n",
              "  <thead>\n",
              "    <tr style=\"text-align: right;\">\n",
              "      <th></th>\n",
              "      <th>id</th>\n",
              "      <th>title</th>\n",
              "      <th>description</th>\n",
              "      <th>channel</th>\n",
              "      <th>category</th>\n",
              "      <th>level</th>\n",
              "      <th>language</th>\n",
              "      <th>parent</th>\n",
              "      <th>has_content</th>\n",
              "    </tr>\n",
              "  </thead>\n",
              "  <tbody>\n",
              "    <tr>\n",
              "      <th>0</th>\n",
              "      <td>t_00004da3a1b2</td>\n",
              "      <td>Откриването на резисторите</td>\n",
              "      <td>Изследване на материали, които предизвикват на...</td>\n",
              "      <td>000cf7</td>\n",
              "      <td>source</td>\n",
              "      <td>4</td>\n",
              "      <td>bg</td>\n",
              "      <td>t_16e29365b50d</td>\n",
              "      <td>True</td>\n",
              "    </tr>\n",
              "    <tr>\n",
              "      <th>2</th>\n",
              "      <td>t_00068291e9a4</td>\n",
              "      <td>Entradas e saídas de uma função</td>\n",
              "      <td>Entenda um pouco mais sobre funções.</td>\n",
              "      <td>8e286a</td>\n",
              "      <td>source</td>\n",
              "      <td>4</td>\n",
              "      <td>pt</td>\n",
              "      <td>t_d14b6c2a2b70</td>\n",
              "      <td>True</td>\n",
              "    </tr>\n",
              "    <tr>\n",
              "      <th>3</th>\n",
              "      <td>t_00069b63a70a</td>\n",
              "      <td>Transcripts</td>\n",
              "      <td>NaN</td>\n",
              "      <td>6e3ba4</td>\n",
              "      <td>source</td>\n",
              "      <td>3</td>\n",
              "      <td>en</td>\n",
              "      <td>t_4054df11a74e</td>\n",
              "      <td>True</td>\n",
              "    </tr>\n",
              "  </tbody>\n",
              "</table>\n",
              "</div>\n",
              "      <button class=\"colab-df-convert\" onclick=\"convertToInteractive('df-85a71c0f-b7a0-411b-9141-f5dbabe6e48f')\"\n",
              "              title=\"Convert this dataframe to an interactive table.\"\n",
              "              style=\"display:none;\">\n",
              "        \n",
              "  <svg xmlns=\"http://www.w3.org/2000/svg\" height=\"24px\"viewBox=\"0 0 24 24\"\n",
              "       width=\"24px\">\n",
              "    <path d=\"M0 0h24v24H0V0z\" fill=\"none\"/>\n",
              "    <path d=\"M18.56 5.44l.94 2.06.94-2.06 2.06-.94-2.06-.94-.94-2.06-.94 2.06-2.06.94zm-11 1L8.5 8.5l.94-2.06 2.06-.94-2.06-.94L8.5 2.5l-.94 2.06-2.06.94zm10 10l.94 2.06.94-2.06 2.06-.94-2.06-.94-.94-2.06-.94 2.06-2.06.94z\"/><path d=\"M17.41 7.96l-1.37-1.37c-.4-.4-.92-.59-1.43-.59-.52 0-1.04.2-1.43.59L10.3 9.45l-7.72 7.72c-.78.78-.78 2.05 0 2.83L4 21.41c.39.39.9.59 1.41.59.51 0 1.02-.2 1.41-.59l7.78-7.78 2.81-2.81c.8-.78.8-2.07 0-2.86zM5.41 20L4 18.59l7.72-7.72 1.47 1.35L5.41 20z\"/>\n",
              "  </svg>\n",
              "      </button>\n",
              "      \n",
              "  <style>\n",
              "    .colab-df-container {\n",
              "      display:flex;\n",
              "      flex-wrap:wrap;\n",
              "      gap: 12px;\n",
              "    }\n",
              "\n",
              "    .colab-df-convert {\n",
              "      background-color: #E8F0FE;\n",
              "      border: none;\n",
              "      border-radius: 50%;\n",
              "      cursor: pointer;\n",
              "      display: none;\n",
              "      fill: #1967D2;\n",
              "      height: 32px;\n",
              "      padding: 0 0 0 0;\n",
              "      width: 32px;\n",
              "    }\n",
              "\n",
              "    .colab-df-convert:hover {\n",
              "      background-color: #E2EBFA;\n",
              "      box-shadow: 0px 1px 2px rgba(60, 64, 67, 0.3), 0px 1px 3px 1px rgba(60, 64, 67, 0.15);\n",
              "      fill: #174EA6;\n",
              "    }\n",
              "\n",
              "    [theme=dark] .colab-df-convert {\n",
              "      background-color: #3B4455;\n",
              "      fill: #D2E3FC;\n",
              "    }\n",
              "\n",
              "    [theme=dark] .colab-df-convert:hover {\n",
              "      background-color: #434B5C;\n",
              "      box-shadow: 0px 1px 3px 1px rgba(0, 0, 0, 0.15);\n",
              "      filter: drop-shadow(0px 1px 2px rgba(0, 0, 0, 0.3));\n",
              "      fill: #FFFFFF;\n",
              "    }\n",
              "  </style>\n",
              "\n",
              "      <script>\n",
              "        const buttonEl =\n",
              "          document.querySelector('#df-85a71c0f-b7a0-411b-9141-f5dbabe6e48f button.colab-df-convert');\n",
              "        buttonEl.style.display =\n",
              "          google.colab.kernel.accessAllowed ? 'block' : 'none';\n",
              "\n",
              "        async function convertToInteractive(key) {\n",
              "          const element = document.querySelector('#df-85a71c0f-b7a0-411b-9141-f5dbabe6e48f');\n",
              "          const dataTable =\n",
              "            await google.colab.kernel.invokeFunction('convertToInteractive',\n",
              "                                                     [key], {});\n",
              "          if (!dataTable) return;\n",
              "\n",
              "          const docLinkHtml = 'Like what you see? Visit the ' +\n",
              "            '<a target=\"_blank\" href=https://colab.research.google.com/notebooks/data_table.ipynb>data table notebook</a>'\n",
              "            + ' to learn more about interactive tables.';\n",
              "          element.innerHTML = '';\n",
              "          dataTable['output_type'] = 'display_data';\n",
              "          await google.colab.output.renderOutput(dataTable, element);\n",
              "          const docLink = document.createElement('div');\n",
              "          docLink.innerHTML = docLinkHtml;\n",
              "          element.appendChild(docLink);\n",
              "        }\n",
              "      </script>\n",
              "    </div>\n",
              "  </div>\n",
              "  "
            ]
          },
          "metadata": {},
          "execution_count": 33
        }
      ]
    },
    {
      "cell_type": "markdown",
      "source": [
        "# Model to develop\n",
        "\n",
        "The model we create is supposed to use the dataset of K-12 educational materials described earlier to predict which content items are best aligned to a given topic in a topic tree, with the goal of matching the selections made by curriculum experts and other users of the Kolibri Studio platform.\n",
        "\n",
        "For each topic_id in the test set, we predict a space-delimited list of recommended content_ids for that topic. File should contain header and have following format:\n",
        "\n",
        "\n",
        "```\n",
        "topic_id,content_ids\n",
        "t_00004da3a1b2,c_1108dd0c7a5d c_376c5a8eb028 c_5bc0e1e2cba0 c_76231f9d0b5e\n",
        "t_00068291e9a4,c_639ea2ef9c95 c_89ce9367be10 c_ac1672cdcd2c c_ebb7fdf10a7e\n",
        "t_00069b63a70a,c_11a1dc0bfb99\n",
        "...\n",
        "```\n",
        "\n"
      ],
      "metadata": {
        "id": "_7kaMCgz_van"
      }
    },
    {
      "cell_type": "markdown",
      "source": [
        "# NLP model for Curriculum Recommendation"
      ],
      "metadata": {
        "id": "q7MsMP7OfEtm"
      }
    },
    {
      "cell_type": "markdown",
      "source": [
        "## Updated Feature Selection "
      ],
      "metadata": {
        "id": "YKpAXXK-ebn_"
      }
    },
    {
      "cell_type": "code",
      "source": [
        "X[0:5]"
      ],
      "metadata": {
        "colab": {
          "base_uri": "https://localhost:8080/"
        },
        "id": "VDbyTaMRekJZ",
        "outputId": "76a27eb7-3af2-4295-b757-ed5697965cd1"
      },
      "execution_count": 34,
      "outputs": [
        {
          "output_type": "execute_result",
          "data": {
            "text/plain": [
              "array([['c_1108dd0c7a5d'],\n",
              "       ['c_376c5a8eb028'],\n",
              "       ['c_5bc0e1e2cba0'],\n",
              "       ['c_76231f9d0b5e'],\n",
              "       ['c_639ea2ef9c95']], dtype='<U21')"
            ]
          },
          "metadata": {},
          "execution_count": 34
        }
      ]
    },
    {
      "cell_type": "code",
      "source": [
        "y[0:5]"
      ],
      "metadata": {
        "colab": {
          "base_uri": "https://localhost:8080/"
        },
        "id": "NdYtGhCZenLw",
        "outputId": "9435ebf8-e5d8-4cc5-b1b7-9964b7df9474"
      },
      "execution_count": 35,
      "outputs": [
        {
          "output_type": "execute_result",
          "data": {
            "text/plain": [
              "array([['t_00004da3a1b2'],\n",
              "       ['t_00004da3a1b2'],\n",
              "       ['t_00004da3a1b2'],\n",
              "       ['t_00004da3a1b2'],\n",
              "       ['t_00068291e9a4']], dtype='<U21')"
            ]
          },
          "metadata": {},
          "execution_count": 35
        }
      ]
    },
    {
      "cell_type": "code",
      "source": [
        "content_df[content_df.id==\"c_1108dd0c7a5d\"]"
      ],
      "metadata": {
        "colab": {
          "base_uri": "https://localhost:8080/",
          "height": 81
        },
        "id": "x14K8JETjUsA",
        "outputId": "4515ffcd-7ff3-43cf-82a1-cba72951578d"
      },
      "execution_count": 36,
      "outputs": [
        {
          "output_type": "execute_result",
          "data": {
            "text/plain": [
              "                   id                title  \\\n",
              "10216  c_1108dd0c7a5d  Молив като резистор   \n",
              "\n",
              "                                             description   kind text language  \\\n",
              "10216  Моливът причинява промяна в отклонението, подо...  video  NaN       bg   \n",
              "\n",
              "      copyright_holder license  \n",
              "10216              NaN     NaN  "
            ],
            "text/html": [
              "\n",
              "  <div id=\"df-f78a6dca-3c98-4a00-8a1e-594168446745\">\n",
              "    <div class=\"colab-df-container\">\n",
              "      <div>\n",
              "<style scoped>\n",
              "    .dataframe tbody tr th:only-of-type {\n",
              "        vertical-align: middle;\n",
              "    }\n",
              "\n",
              "    .dataframe tbody tr th {\n",
              "        vertical-align: top;\n",
              "    }\n",
              "\n",
              "    .dataframe thead th {\n",
              "        text-align: right;\n",
              "    }\n",
              "</style>\n",
              "<table border=\"1\" class=\"dataframe\">\n",
              "  <thead>\n",
              "    <tr style=\"text-align: right;\">\n",
              "      <th></th>\n",
              "      <th>id</th>\n",
              "      <th>title</th>\n",
              "      <th>description</th>\n",
              "      <th>kind</th>\n",
              "      <th>text</th>\n",
              "      <th>language</th>\n",
              "      <th>copyright_holder</th>\n",
              "      <th>license</th>\n",
              "    </tr>\n",
              "  </thead>\n",
              "  <tbody>\n",
              "    <tr>\n",
              "      <th>10216</th>\n",
              "      <td>c_1108dd0c7a5d</td>\n",
              "      <td>Молив като резистор</td>\n",
              "      <td>Моливът причинява промяна в отклонението, подо...</td>\n",
              "      <td>video</td>\n",
              "      <td>NaN</td>\n",
              "      <td>bg</td>\n",
              "      <td>NaN</td>\n",
              "      <td>NaN</td>\n",
              "    </tr>\n",
              "  </tbody>\n",
              "</table>\n",
              "</div>\n",
              "      <button class=\"colab-df-convert\" onclick=\"convertToInteractive('df-f78a6dca-3c98-4a00-8a1e-594168446745')\"\n",
              "              title=\"Convert this dataframe to an interactive table.\"\n",
              "              style=\"display:none;\">\n",
              "        \n",
              "  <svg xmlns=\"http://www.w3.org/2000/svg\" height=\"24px\"viewBox=\"0 0 24 24\"\n",
              "       width=\"24px\">\n",
              "    <path d=\"M0 0h24v24H0V0z\" fill=\"none\"/>\n",
              "    <path d=\"M18.56 5.44l.94 2.06.94-2.06 2.06-.94-2.06-.94-.94-2.06-.94 2.06-2.06.94zm-11 1L8.5 8.5l.94-2.06 2.06-.94-2.06-.94L8.5 2.5l-.94 2.06-2.06.94zm10 10l.94 2.06.94-2.06 2.06-.94-2.06-.94-.94-2.06-.94 2.06-2.06.94z\"/><path d=\"M17.41 7.96l-1.37-1.37c-.4-.4-.92-.59-1.43-.59-.52 0-1.04.2-1.43.59L10.3 9.45l-7.72 7.72c-.78.78-.78 2.05 0 2.83L4 21.41c.39.39.9.59 1.41.59.51 0 1.02-.2 1.41-.59l7.78-7.78 2.81-2.81c.8-.78.8-2.07 0-2.86zM5.41 20L4 18.59l7.72-7.72 1.47 1.35L5.41 20z\"/>\n",
              "  </svg>\n",
              "      </button>\n",
              "      \n",
              "  <style>\n",
              "    .colab-df-container {\n",
              "      display:flex;\n",
              "      flex-wrap:wrap;\n",
              "      gap: 12px;\n",
              "    }\n",
              "\n",
              "    .colab-df-convert {\n",
              "      background-color: #E8F0FE;\n",
              "      border: none;\n",
              "      border-radius: 50%;\n",
              "      cursor: pointer;\n",
              "      display: none;\n",
              "      fill: #1967D2;\n",
              "      height: 32px;\n",
              "      padding: 0 0 0 0;\n",
              "      width: 32px;\n",
              "    }\n",
              "\n",
              "    .colab-df-convert:hover {\n",
              "      background-color: #E2EBFA;\n",
              "      box-shadow: 0px 1px 2px rgba(60, 64, 67, 0.3), 0px 1px 3px 1px rgba(60, 64, 67, 0.15);\n",
              "      fill: #174EA6;\n",
              "    }\n",
              "\n",
              "    [theme=dark] .colab-df-convert {\n",
              "      background-color: #3B4455;\n",
              "      fill: #D2E3FC;\n",
              "    }\n",
              "\n",
              "    [theme=dark] .colab-df-convert:hover {\n",
              "      background-color: #434B5C;\n",
              "      box-shadow: 0px 1px 3px 1px rgba(0, 0, 0, 0.15);\n",
              "      filter: drop-shadow(0px 1px 2px rgba(0, 0, 0, 0.3));\n",
              "      fill: #FFFFFF;\n",
              "    }\n",
              "  </style>\n",
              "\n",
              "      <script>\n",
              "        const buttonEl =\n",
              "          document.querySelector('#df-f78a6dca-3c98-4a00-8a1e-594168446745 button.colab-df-convert');\n",
              "        buttonEl.style.display =\n",
              "          google.colab.kernel.accessAllowed ? 'block' : 'none';\n",
              "\n",
              "        async function convertToInteractive(key) {\n",
              "          const element = document.querySelector('#df-f78a6dca-3c98-4a00-8a1e-594168446745');\n",
              "          const dataTable =\n",
              "            await google.colab.kernel.invokeFunction('convertToInteractive',\n",
              "                                                     [key], {});\n",
              "          if (!dataTable) return;\n",
              "\n",
              "          const docLinkHtml = 'Like what you see? Visit the ' +\n",
              "            '<a target=\"_blank\" href=https://colab.research.google.com/notebooks/data_table.ipynb>data table notebook</a>'\n",
              "            + ' to learn more about interactive tables.';\n",
              "          element.innerHTML = '';\n",
              "          dataTable['output_type'] = 'display_data';\n",
              "          await google.colab.output.renderOutput(dataTable, element);\n",
              "          const docLink = document.createElement('div');\n",
              "          docLink.innerHTML = docLinkHtml;\n",
              "          element.appendChild(docLink);\n",
              "        }\n",
              "      </script>\n",
              "    </div>\n",
              "  </div>\n",
              "  "
            ]
          },
          "metadata": {},
          "execution_count": 36
        }
      ]
    },
    {
      "cell_type": "code",
      "source": [
        "\"\"\"\n",
        "Add text features to the X array\n",
        "\"\"\"\n",
        "nlp_X = np.array([['placeholder', 'placeholder', 'placeholder', 'placeholder', '4', 'place','place']])\n",
        "i = 0\n",
        "while i<len(X[0:1000]):\n",
        "  data_row=X[i].copy()\n",
        "  content_id = X[i][0]\n",
        "\n",
        "  content_data = content_df[content_df.id==content_id]\n",
        "  # We dont want ids in test and train data, so remove 1st element of array \n",
        "  data_row[0] = content_data.title.values[0]\n",
        "  #Add content desc\n",
        "  data_row = np.append(data_row, content_data.description.values[0])\n",
        "  #Add content language\n",
        "  data_row = np.append(data_row, content_data.language.values[0])\n",
        "  #Add content kind\n",
        "  data_row = np.append(data_row, content_data.kind.values[0])\n",
        "  #Add content text content\n",
        "  data_row = np.append(data_row, content_data.text.values[0])\n",
        "  #Add content copyright holder\n",
        "  data_row = np.append(data_row, content_data.copyright_holder.values[0])\n",
        "  #Add content license\n",
        "  data_row = np.append(data_row, content_data.license.values[0])\n",
        "\n",
        "  nlp_X = np.append(nlp_X,np.array([data_row]),axis=0)\n",
        "  i+=1\n",
        "nlp_X = nlp_X[1:]  #Remove the first element we added when creating array\n",
        "nlp_X"
      ],
      "metadata": {
        "colab": {
          "base_uri": "https://localhost:8080/"
        },
        "id": "WgA0F6ApjJ77",
        "outputId": "8789c27f-5661-4d6a-ed20-50229b8ef15c"
      },
      "execution_count": null,
      "outputs": [
        {
          "output_type": "execute_result",
          "data": {
            "text/plain": [
              "array([['Молив като резистор',\n",
              "        'Моливът причинява промяна в отклонението, подобно на ефекта при свързването на\\nелектромагнит. Защо?\\n\\n',\n",
              "        'bg', ..., 'nan', 'nan', 'nan'],\n",
              "       ['Да чуем променливото ',\n",
              "        'Тук чертаем линия на лист хартия и я използваме като променлив резистор,\\nпоследователно свързан с високоговорител. Каква взаимовръзка чуваме? Звучи ли\\nда е линейна?\\n\\n',\n",
              "        'bg', ..., 'nan', 'nan', 'nan'],\n",
              "       ['Променлив резистор (р',\n",
              "        'Използваме сърцевината на молива (неговия графит), за да приложим различни\\n„дължини молив“ към веригата. Каква взаимовръзка наблюдаваш между дължината на\\nграфита и ъгъла на отклонение?\\n\\n',\n",
              "        'bg', ..., 'nan', 'nan', 'nan'],\n",
              "       ...,\n",
              "       [\"Règle de l'Hospital\\xa0(\",\n",
              "        'La limite en 0 de (2sinx-sin2x)/(x-sinx).\\n\\n', 'fr', ...,\n",
              "        'nan', 'nan', 'nan'],\n",
              "       ['Règle de l’Hospital  ',\n",
              "        \"Déterminer les limites de fonctions exponentielles en utilisant la règle de l’Hospital ou l'Hôpital.\",\n",
              "        'fr', ..., 'nan', 'nan', 'nan'],\n",
              "       [\"Démonstration d'un ca\", '.\\n\\n', 'fr', ..., 'nan', 'nan', 'nan']],\n",
              "      dtype='<U100000')"
            ]
          },
          "metadata": {},
          "execution_count": 77
        }
      ]
    },
    {
      "cell_type": "code",
      "source": [
        "topics_with_content_df[topics_with_content_df.id=='t_00004da3a1b2']"
      ],
      "metadata": {
        "colab": {
          "base_uri": "https://localhost:8080/",
          "height": 232
        },
        "id": "9WCnyDp1ofMv",
        "outputId": "4dbffaf4-bdde-4449-f41c-49bb4cca9a0c"
      },
      "execution_count": null,
      "outputs": [
        {
          "output_type": "execute_result",
          "data": {
            "text/plain": [
              "               id                       title  \\\n",
              "0  t_00004da3a1b2  Откриването на резисторите   \n",
              "\n",
              "                                         description channel category  level  \\\n",
              "0  Изследване на материали, които предизвикват на...  000cf7   source      4   \n",
              "\n",
              "  language          parent  has_content  \n",
              "0       bg  t_16e29365b50d         True  "
            ],
            "text/html": [
              "\n",
              "  <div id=\"df-27e29693-6f53-43c7-8ee8-f1119681c0e9\">\n",
              "    <div class=\"colab-df-container\">\n",
              "      <div>\n",
              "<style scoped>\n",
              "    .dataframe tbody tr th:only-of-type {\n",
              "        vertical-align: middle;\n",
              "    }\n",
              "\n",
              "    .dataframe tbody tr th {\n",
              "        vertical-align: top;\n",
              "    }\n",
              "\n",
              "    .dataframe thead th {\n",
              "        text-align: right;\n",
              "    }\n",
              "</style>\n",
              "<table border=\"1\" class=\"dataframe\">\n",
              "  <thead>\n",
              "    <tr style=\"text-align: right;\">\n",
              "      <th></th>\n",
              "      <th>id</th>\n",
              "      <th>title</th>\n",
              "      <th>description</th>\n",
              "      <th>channel</th>\n",
              "      <th>category</th>\n",
              "      <th>level</th>\n",
              "      <th>language</th>\n",
              "      <th>parent</th>\n",
              "      <th>has_content</th>\n",
              "    </tr>\n",
              "  </thead>\n",
              "  <tbody>\n",
              "    <tr>\n",
              "      <th>0</th>\n",
              "      <td>t_00004da3a1b2</td>\n",
              "      <td>Откриването на резисторите</td>\n",
              "      <td>Изследване на материали, които предизвикват на...</td>\n",
              "      <td>000cf7</td>\n",
              "      <td>source</td>\n",
              "      <td>4</td>\n",
              "      <td>bg</td>\n",
              "      <td>t_16e29365b50d</td>\n",
              "      <td>True</td>\n",
              "    </tr>\n",
              "  </tbody>\n",
              "</table>\n",
              "</div>\n",
              "      <button class=\"colab-df-convert\" onclick=\"convertToInteractive('df-27e29693-6f53-43c7-8ee8-f1119681c0e9')\"\n",
              "              title=\"Convert this dataframe to an interactive table.\"\n",
              "              style=\"display:none;\">\n",
              "        \n",
              "  <svg xmlns=\"http://www.w3.org/2000/svg\" height=\"24px\"viewBox=\"0 0 24 24\"\n",
              "       width=\"24px\">\n",
              "    <path d=\"M0 0h24v24H0V0z\" fill=\"none\"/>\n",
              "    <path d=\"M18.56 5.44l.94 2.06.94-2.06 2.06-.94-2.06-.94-.94-2.06-.94 2.06-2.06.94zm-11 1L8.5 8.5l.94-2.06 2.06-.94-2.06-.94L8.5 2.5l-.94 2.06-2.06.94zm10 10l.94 2.06.94-2.06 2.06-.94-2.06-.94-.94-2.06-.94 2.06-2.06.94z\"/><path d=\"M17.41 7.96l-1.37-1.37c-.4-.4-.92-.59-1.43-.59-.52 0-1.04.2-1.43.59L10.3 9.45l-7.72 7.72c-.78.78-.78 2.05 0 2.83L4 21.41c.39.39.9.59 1.41.59.51 0 1.02-.2 1.41-.59l7.78-7.78 2.81-2.81c.8-.78.8-2.07 0-2.86zM5.41 20L4 18.59l7.72-7.72 1.47 1.35L5.41 20z\"/>\n",
              "  </svg>\n",
              "      </button>\n",
              "      \n",
              "  <style>\n",
              "    .colab-df-container {\n",
              "      display:flex;\n",
              "      flex-wrap:wrap;\n",
              "      gap: 12px;\n",
              "    }\n",
              "\n",
              "    .colab-df-convert {\n",
              "      background-color: #E8F0FE;\n",
              "      border: none;\n",
              "      border-radius: 50%;\n",
              "      cursor: pointer;\n",
              "      display: none;\n",
              "      fill: #1967D2;\n",
              "      height: 32px;\n",
              "      padding: 0 0 0 0;\n",
              "      width: 32px;\n",
              "    }\n",
              "\n",
              "    .colab-df-convert:hover {\n",
              "      background-color: #E2EBFA;\n",
              "      box-shadow: 0px 1px 2px rgba(60, 64, 67, 0.3), 0px 1px 3px 1px rgba(60, 64, 67, 0.15);\n",
              "      fill: #174EA6;\n",
              "    }\n",
              "\n",
              "    [theme=dark] .colab-df-convert {\n",
              "      background-color: #3B4455;\n",
              "      fill: #D2E3FC;\n",
              "    }\n",
              "\n",
              "    [theme=dark] .colab-df-convert:hover {\n",
              "      background-color: #434B5C;\n",
              "      box-shadow: 0px 1px 3px 1px rgba(0, 0, 0, 0.15);\n",
              "      filter: drop-shadow(0px 1px 2px rgba(0, 0, 0, 0.3));\n",
              "      fill: #FFFFFF;\n",
              "    }\n",
              "  </style>\n",
              "\n",
              "      <script>\n",
              "        const buttonEl =\n",
              "          document.querySelector('#df-27e29693-6f53-43c7-8ee8-f1119681c0e9 button.colab-df-convert');\n",
              "        buttonEl.style.display =\n",
              "          google.colab.kernel.accessAllowed ? 'block' : 'none';\n",
              "\n",
              "        async function convertToInteractive(key) {\n",
              "          const element = document.querySelector('#df-27e29693-6f53-43c7-8ee8-f1119681c0e9');\n",
              "          const dataTable =\n",
              "            await google.colab.kernel.invokeFunction('convertToInteractive',\n",
              "                                                     [key], {});\n",
              "          if (!dataTable) return;\n",
              "\n",
              "          const docLinkHtml = 'Like what you see? Visit the ' +\n",
              "            '<a target=\"_blank\" href=https://colab.research.google.com/notebooks/data_table.ipynb>data table notebook</a>'\n",
              "            + ' to learn more about interactive tables.';\n",
              "          element.innerHTML = '';\n",
              "          dataTable['output_type'] = 'display_data';\n",
              "          await google.colab.output.renderOutput(dataTable, element);\n",
              "          const docLink = document.createElement('div');\n",
              "          docLink.innerHTML = docLinkHtml;\n",
              "          element.appendChild(docLink);\n",
              "        }\n",
              "      </script>\n",
              "    </div>\n",
              "  </div>\n",
              "  "
            ]
          },
          "metadata": {},
          "execution_count": 78
        }
      ]
    },
    {
      "cell_type": "code",
      "source": [
        "\"\"\"\n",
        "Add text features to the y array\n",
        "\"\"\"\n",
        "nlp_y = np.array([['placeholder', 'placeholder', 'placeholder', 'placeholder', '4', 'place']])\n",
        "i = 0\n",
        "while i<len(y[0:1000]):\n",
        "  data_row=y[i].copy()\n",
        "  topic_id = y[i][0]\n",
        "  topic_data = topics_with_content_df[topics_with_content_df.id==topic_id]   \n",
        "\n",
        "  # We dont want ids in test and train data, so remove 1st element of array \n",
        "  data_row[0] = topics_with_content_df.title.values[0]\n",
        "  #Add topic desc\n",
        "  data_row = np.append(data_row, topics_with_content_df.description.values[0])\n",
        "  #Add topic language\n",
        "  data_row = np.append(data_row, topics_with_content_df.language.values[0])\n",
        "  #Add topic_category\n",
        "  data_row = np.append(data_row, topic_data.category.values[0])\n",
        "  #Add topic_channel\n",
        "  data_row = np.append(data_row, topic_data.channel.values[0])\n",
        "  #Add topic_level\n",
        "  data_row = np.append(data_row, topic_data.level.values[0])\n",
        "\n",
        "  nlp_y = np.append(nlp_y,np.array([data_row]),axis=0) \n",
        "  i+=1\n",
        "nlp_y = nlp_y[1:]  #Remove the first element we added when creating array\n",
        "nlp_y [0:3]"
      ],
      "metadata": {
        "colab": {
          "base_uri": "https://localhost:8080/"
        },
        "id": "WbM3EIoEoKbc",
        "outputId": "e57fc26f-6a8f-4bb6-c39e-a6a415b1921c"
      },
      "execution_count": null,
      "outputs": [
        {
          "output_type": "execute_result",
          "data": {
            "text/plain": [
              "array([['Откриването на резист',\n",
              "        'Изследване на материали, които предизвикват намаление в отклонението, когато се свържат последователно с нашия измервателен уред. ',\n",
              "        'bg', 'source', '000cf7', '4'],\n",
              "       ['Откриването на резист',\n",
              "        'Изследване на материали, които предизвикват намаление в отклонението, когато се свържат последователно с нашия измервателен уред. ',\n",
              "        'bg', 'source', '000cf7', '4'],\n",
              "       ['Откриването на резист',\n",
              "        'Изследване на материали, които предизвикват намаление в отклонението, когато се свържат последователно с нашия измервателен уред. ',\n",
              "        'bg', 'source', '000cf7', '4']], dtype='<U130')"
            ]
          },
          "metadata": {},
          "execution_count": 79
        }
      ]
    },
    {
      "cell_type": "code",
      "source": [
        "len(nlp_X)"
      ],
      "metadata": {
        "colab": {
          "base_uri": "https://localhost:8080/"
        },
        "id": "xhMDO7hI2O20",
        "outputId": "0b330f8a-0552-4902-e483-6a20aaf2331f"
      },
      "execution_count": null,
      "outputs": [
        {
          "output_type": "execute_result",
          "data": {
            "text/plain": [
              "1000"
            ]
          },
          "metadata": {},
          "execution_count": 80
        }
      ]
    },
    {
      "cell_type": "code",
      "source": [
        "len(nlp_y)"
      ],
      "metadata": {
        "colab": {
          "base_uri": "https://localhost:8080/"
        },
        "id": "UNIMeXft66zP",
        "outputId": "2ab32929-c859-4cca-b494-29c6bf4e4ae6"
      },
      "execution_count": null,
      "outputs": [
        {
          "output_type": "execute_result",
          "data": {
            "text/plain": [
              "1000"
            ]
          },
          "metadata": {},
          "execution_count": 81
        }
      ]
    },
    {
      "cell_type": "markdown",
      "source": [
        "## Splitting dataset for NLP"
      ],
      "metadata": {
        "id": "BTUYV8tyCnou"
      }
    },
    {
      "cell_type": "code",
      "source": [
        "from sklearn.model_selection import train_test_split\n",
        "X_train, X_test, y_train, y_test = train_test_split(nlp_X,nlp_y,test_size=1/5,random_state=0)\n",
        "print(f\"Sample training data X:\\n {X_train[0:3]}\")\n",
        "print(f\"Sample training data y:\\n {y_train[0:3]}\")"
      ],
      "metadata": {
        "colab": {
          "base_uri": "https://localhost:8080/"
        },
        "id": "Il9smn-4Cjnj",
        "outputId": "1abf6b19-679f-4fd1-c947-3042276f7173"
      },
      "execution_count": null,
      "outputs": [
        {
          "output_type": "stream",
          "name": "stdout",
          "text": [
            "Sample training data X:\n",
            " [['Soluções de inequaçõe'\n",
            "  'Considerando o gráfico de uma inequação linear com duas variáveis, verifique se um determinado par de valores é uma solução da inequação.'\n",
            "  'pt' 'exercise' 'nan' 'nan' 'nan']\n",
            " ['Amas, vide, sommet, &'\n",
            "  'Entraînez-vous à utiliser un nouveau vocabulaire pour décrire un diagramme de distribution.'\n",
            "  'fr' 'exercise' 'nan' 'nan' 'nan']\n",
            " ['मीट्रिक सिस्टम(मापन प'\n",
            "  'सैल बात करते हैं आयतन या क्षमता की मापन की इकाइयों के बारे में जैसे की\\nमिलीलीटर और लीटर|\\n\\n'\n",
            "  'hi' 'video' 'nan' 'nan' 'nan']]\n",
            "Sample training data y:\n",
            " [['Откриването на резист'\n",
            "  'Изследване на материали, които предизвикват намаление в отклонението, когато се свържат последователно с нашия измервателен уред. '\n",
            "  'bg' 'source' 'f9b74f' '4']\n",
            " ['Откриването на резист'\n",
            "  'Изследване на материали, които предизвикват намаление в отклонението, когато се свържат последователно с нашия измервателен уред. '\n",
            "  'bg' 'source' 'c152d6' '4']\n",
            " ['Откриването на резист'\n",
            "  'Изследване на материали, които предизвикват намаление в отклонението, когато се свържат последователно с нашия измервателен уред. '\n",
            "  'bg' 'supplemental' 'd2ac0e' '5']]\n"
          ]
        }
      ]
    },
    {
      "cell_type": "markdown",
      "source": [
        "## Extracting features from text files"
      ],
      "metadata": {
        "id": "tJqFHaf94KOB"
      }
    },
    {
      "cell_type": "markdown",
      "source": [
        "Next step, we extract the feature vectors from the raw text following the example in references [3]. We will use `sklearn`'s `CountVectorizer`."
      ],
      "metadata": {
        "id": "P2wio4ML4StF"
      }
    },
    {
      "cell_type": "code",
      "source": [
        "len(nlp_X.flatten())"
      ],
      "metadata": {
        "id": "Nq64wKO89yQZ",
        "colab": {
          "base_uri": "https://localhost:8080/"
        },
        "outputId": "043d2f4d-0a85-4bed-938f-04b9ac72216c"
      },
      "execution_count": null,
      "outputs": [
        {
          "output_type": "execute_result",
          "data": {
            "text/plain": [
              "7000"
            ]
          },
          "metadata": {},
          "execution_count": 83
        }
      ]
    },
    {
      "cell_type": "code",
      "source": [
        "#create feature vectors \n",
        "from sklearn.feature_extraction.text import CountVectorizer,TfidfTransformer \n",
        "cv = CountVectorizer() \n",
        "tfidf = TfidfTransformer()\n",
        "vectorized_X_train = cv.fit_transform(X_train.flatten())\n",
        "vectorized_y_train = cv.fit_transform(y_train.flatten())\n",
        "vectorized_X_test = cv.fit_transform(X_test.flatten())\n",
        "vectorized_y_test = cv.fit_transform(y_test.flatten())"
      ],
      "metadata": {
        "id": "b-qjQW3K4miR"
      },
      "execution_count": null,
      "outputs": []
    },
    {
      "cell_type": "code",
      "source": [
        "vectorized_X_train.shape"
      ],
      "metadata": {
        "colab": {
          "base_uri": "https://localhost:8080/"
        },
        "id": "6PH-69gW5Y63",
        "outputId": "de3cad03-1a62-4a5b-e8fd-6e7838a66c71"
      },
      "execution_count": null,
      "outputs": [
        {
          "output_type": "execute_result",
          "data": {
            "text/plain": [
              "(5600, 23838)"
            ]
          },
          "metadata": {},
          "execution_count": 69
        }
      ]
    },
    {
      "cell_type": "markdown",
      "source": [
        "# Example NLP Model using `sklearn` dataset (ELEC 400M Final Report)"
      ],
      "metadata": {
        "id": "zjjoA5oQFMX_"
      }
    },
    {
      "cell_type": "markdown",
      "source": [
        "Before continuing working on our NLP model, we will work on a different end to end machine learning project using data that is already built into `sklearn`. The lessons learnt from building a project of lesser scope and complexity will be useful in the larger curriculum recommender project\n",
        "\n",
        "This is a supervised learning problem. The machine learning general task here is *multi-class classification* (more specifically *a natural language processing classifier*). \n",
        "\n",
        "This is when we have a training dataset\n",
        "\n",
        "> \\begin{equation*}\n",
        "  D =  {(x1,y1),(x2,y2),...,(xn,yn)}\n",
        "\\end{equation*}\n",
        "\n",
        "trains a model to give us the target \\begin{equation}\n",
        "y\n",
        "\\end{equation}\n",
        "which can be one of *K* different values. If *K*=2 such as in positive or negative sentiment analysis, it is referred to as binary classification.\n",
        ">\\begin{equation}\n",
        "Y = {y1,y2,..,yk}\n",
        "\\end{equation}"
      ],
      "metadata": {
        "id": "P_Z7zOJxFWyn"
      }
    },
    {
      "cell_type": "markdown",
      "source": [
        "## Relevant applications of NLP classifiers"
      ],
      "metadata": {
        "id": "52AeHQkQv7Fw"
      }
    },
    {
      "cell_type": "markdown",
      "source": [
        "Natural Language Processing (NLP) Classifiers are widely used in several industries. Some of these include: \n",
        "\n",
        "- Spam detection in emails\n",
        "\n",
        "- Sentiment analysis in social media\n",
        "\n",
        "- Topic detection in chatbots\n",
        "\n",
        "The input, *x* for NLP classifiers is sequences of words. The dimensionality of this input is large and linearly proportional to the vocabulary size\n",
        "\n",
        "The most popular algorithm in NLP classifiers is The Bag of Words and we will be using the same here. This algorithm represents raw text data as a bag or multiset of words where the frequency of occurrence of each word is used as a feature vector for training the model [5] \n",
        "\n",
        "Most popular methods of implementing NLP classifiers at the moment is using `naive Bayes`, `Support Vector Machines` and `Deep Learning`. We will be building a `naive Bayes` model and `SVM` model in this project"
      ],
      "metadata": {
        "id": "PF8RhX1qwC6N"
      }
    },
    {
      "cell_type": "markdown",
      "source": [
        "## Dataset"
      ],
      "metadata": {
        "id": "J8NHHRy1HRPF"
      }
    },
    {
      "cell_type": "markdown",
      "source": [
        "The dataset we will be using is the 20 Newsgroups text dataset collected by Ken Lang [6]. This dataset is a collection of about 18000 newsgroups posts on 20 topics split into a training dataset and a testing dataset. It is the most popular dataset for text classification and text clustering \n"
      ],
      "metadata": {
        "id": "OD2FRlpuHV9i"
      }
    },
    {
      "cell_type": "markdown",
      "source": [
        "## Exploratory Data Analysis"
      ],
      "metadata": {
        "id": "ZsrpAjoe0zvh"
      }
    },
    {
      "cell_type": "markdown",
      "source": [
        "`sklearn` comes with a loader that enables us to obtain the raw text data. Although, another loader exist for pre-processed data in form of feature vectors, we will not be using it for the learning experience.\n",
        "\n",
        "Also, using the raw text data will allow us to have access to custom parameters that we can fine-tune to improve performance"
      ],
      "metadata": {
        "id": "9UAS7yhV1Ogl"
      }
    },
    {
      "cell_type": "code",
      "source": [
        "from sklearn.datasets import fetch_20newsgroups \n",
        "newsgroups_train = fetch_20newsgroups(subset=\"train\",shuffle=True)"
      ],
      "metadata": {
        "id": "J77MKkqBGb0y"
      },
      "execution_count": 37,
      "outputs": []
    },
    {
      "cell_type": "markdown",
      "source": [
        "The dataset consists of 20 files for each topic"
      ],
      "metadata": {
        "id": "VWmAr_Iu168v"
      }
    },
    {
      "cell_type": "code",
      "source": [
        "newsgroups_train.filenames[0:5]"
      ],
      "metadata": {
        "colab": {
          "base_uri": "https://localhost:8080/"
        },
        "id": "BIOj_x4E189_",
        "outputId": "da095932-e86d-4c57-a2f1-36a9d43b644f"
      },
      "execution_count": 38,
      "outputs": [
        {
          "output_type": "execute_result",
          "data": {
            "text/plain": [
              "array(['/root/scikit_learn_data/20news_home/20news-bydate-train/rec.autos/102994',\n",
              "       '/root/scikit_learn_data/20news_home/20news-bydate-train/comp.sys.mac.hardware/51861',\n",
              "       '/root/scikit_learn_data/20news_home/20news-bydate-train/comp.sys.mac.hardware/51879',\n",
              "       '/root/scikit_learn_data/20news_home/20news-bydate-train/comp.graphics/38242',\n",
              "       '/root/scikit_learn_data/20news_home/20news-bydate-train/sci.space/60880'],\n",
              "      dtype='<U86')"
            ]
          },
          "metadata": {},
          "execution_count": 38
        }
      ]
    },
    {
      "cell_type": "code",
      "source": [
        "print(newsgroups_train.data[0])"
      ],
      "metadata": {
        "colab": {
          "base_uri": "https://localhost:8080/"
        },
        "id": "1kh_sYJZ2MIH",
        "outputId": "562cac2f-191b-4fd8-c218-2b05e29a993d"
      },
      "execution_count": 39,
      "outputs": [
        {
          "output_type": "stream",
          "name": "stdout",
          "text": [
            "From: lerxst@wam.umd.edu (where's my thing)\n",
            "Subject: WHAT car is this!?\n",
            "Nntp-Posting-Host: rac3.wam.umd.edu\n",
            "Organization: University of Maryland, College Park\n",
            "Lines: 15\n",
            "\n",
            " I was wondering if anyone out there could enlighten me on this car I saw\n",
            "the other day. It was a 2-door sports car, looked to be from the late 60s/\n",
            "early 70s. It was called a Bricklin. The doors were really small. In addition,\n",
            "the front bumper was separate from the rest of the body. This is \n",
            "all I know. If anyone can tellme a model name, engine specs, years\n",
            "of production, where this car is made, history, or whatever info you\n",
            "have on this funky looking car, please e-mail.\n",
            "\n",
            "Thanks,\n",
            "- IL\n",
            "   ---- brought to you by your neighborhood Lerxst ----\n",
            "\n",
            "\n",
            "\n",
            "\n",
            "\n"
          ]
        }
      ]
    },
    {
      "cell_type": "markdown",
      "source": [
        "As you can see above, each post in the data consists of several sections. This is listed below:\n",
        "\n",
        "- `From`\n",
        "\n",
        "- `Subject`\n",
        "\n",
        "- `Nntp-Posting-Host`\n",
        "\n",
        "- `Organization`\n",
        "\n",
        "- `nLines`\n",
        "\n",
        "- The rest of content of the post follows"
      ],
      "metadata": {
        "id": "XCD6cJJG2WFM"
      }
    },
    {
      "cell_type": "code",
      "source": [
        "print(newsgroups_train.target_names)"
      ],
      "metadata": {
        "colab": {
          "base_uri": "https://localhost:8080/"
        },
        "id": "f9Iv8yXiJcKq",
        "outputId": "534d7318-66fe-49c0-b4ce-d651ef613ece"
      },
      "execution_count": 40,
      "outputs": [
        {
          "output_type": "stream",
          "name": "stdout",
          "text": [
            "['alt.atheism', 'comp.graphics', 'comp.os.ms-windows.misc', 'comp.sys.ibm.pc.hardware', 'comp.sys.mac.hardware', 'comp.windows.x', 'misc.forsale', 'rec.autos', 'rec.motorcycles', 'rec.sport.baseball', 'rec.sport.hockey', 'sci.crypt', 'sci.electronics', 'sci.med', 'sci.space', 'soc.religion.christian', 'talk.politics.guns', 'talk.politics.mideast', 'talk.politics.misc', 'talk.religion.misc']\n"
          ]
        }
      ]
    },
    {
      "cell_type": "markdown",
      "source": [
        "There are 20 different categories (referred to as `newsgroups` as shown above"
      ],
      "metadata": {
        "id": "fw6p1qXZ3Lhd"
      }
    },
    {
      "cell_type": "code",
      "source": [
        "newsgroups_train.filenames.shape"
      ],
      "metadata": {
        "colab": {
          "base_uri": "https://localhost:8080/"
        },
        "id": "azw0GEiDJpsN",
        "outputId": "828a5425-73c6-4272-a243-d6381476e485"
      },
      "execution_count": 41,
      "outputs": [
        {
          "output_type": "execute_result",
          "data": {
            "text/plain": [
              "(11314,)"
            ]
          },
          "metadata": {},
          "execution_count": 41
        }
      ]
    },
    {
      "cell_type": "code",
      "source": [
        "newsgroups_train.target.shape"
      ],
      "metadata": {
        "colab": {
          "base_uri": "https://localhost:8080/"
        },
        "id": "byL2H5yTJuiF",
        "outputId": "a6369357-1d58-4351-9dc3-f09acfa94e1c"
      },
      "execution_count": 42,
      "outputs": [
        {
          "output_type": "execute_result",
          "data": {
            "text/plain": [
              "(11314,)"
            ]
          },
          "metadata": {},
          "execution_count": 42
        }
      ]
    },
    {
      "cell_type": "markdown",
      "source": [
        "### Data preprocessing - 20 Newsgroups feature selection"
      ],
      "metadata": {
        "id": "_TpUqRXXKQM8"
      }
    },
    {
      "cell_type": "markdown",
      "source": [
        "The input consists of sequences of words that are of varying length. Before we can use this raw text data, we need to first convert it into *d* dimensional numerical vectors. This will allow it to be fed into a machine learning algorithm since computers cannot understand text\n",
        "\n"
      ],
      "metadata": {
        "id": "8ykPupdtKVew"
      }
    },
    {
      "cell_type": "markdown",
      "source": [
        "One method to do this is using the `Bag of Words` model mentioned earlier. First we represent all words in the vocabulary of the training set as shown below\n",
        ">\\begin{equation}\n",
        "V = {motoring, mohan,mongoose,atheism ...}\n",
        "\\end{equation}"
      ],
      "metadata": {
        "id": "GrqcJRed9mX2"
      }
    },
    {
      "cell_type": "markdown",
      "source": [
        "We use the `Term Frequency times Inverse Document Frequency` (TFIDF) vectorizer from `sklearn` to create the vectors"
      ],
      "metadata": {
        "id": "IxcAsvrU9lel"
      }
    },
    {
      "cell_type": "code",
      "source": [
        "from sklearn.feature_extraction.text import TfidfVectorizer \n",
        "tfid_vectorizer = TfidfVectorizer()\n",
        "tfid_vectors_X = tfid_vectorizer.fit_transform(newsgroups_train.data)"
      ],
      "metadata": {
        "id": "4JBp2bUIKUgj"
      },
      "execution_count": 43,
      "outputs": []
    },
    {
      "cell_type": "code",
      "source": [
        "non_zero_vectors = tfid_vectors_X.nnz/float(tfid_vectors_X.shape[0])\n",
        "non_zero_vectors"
      ],
      "metadata": {
        "colab": {
          "base_uri": "https://localhost:8080/"
        },
        "id": "Y4_NqYFpLAzB",
        "outputId": "05febcc6-8504-4271-af1e-19054447455b"
      },
      "execution_count": 44,
      "outputs": [
        {
          "output_type": "execute_result",
          "data": {
            "text/plain": [
              "157.9958458546933"
            ]
          },
          "metadata": {},
          "execution_count": 44
        }
      ]
    },
    {
      "cell_type": "markdown",
      "source": [
        "There are only 157 non-zero vectors hence our data is very sparse"
      ],
      "metadata": {
        "id": "v1cyycWWLkud"
      }
    },
    {
      "cell_type": "markdown",
      "source": [
        "### Naive Bayes NLP model for 20 Newsgroups Data\n",
        "\n",
        " \n",
        "\n",
        "\n",
        "\n"
      ],
      "metadata": {
        "id": "EQJSdEPS6TZB"
      }
    },
    {
      "cell_type": "markdown",
      "source": [
        "There are two types of classification models: generative and disciminative models. Generative models model both input X and output Y, while discriminative models model only output Y given X [11]. A discriminative model would not be suitable for text classification like our problem since the data does not follow a normal distribution. It follows a discrete multinomial distribution"
      ],
      "metadata": {
        "id": "L5uCU37jCj_D"
      }
    },
    {
      "cell_type": "markdown",
      "source": [
        " Naive Bayes is a generative classification model. This is because it specifies a hypothetical random process to generate data. It uses the Bayes rule shown below  \n",
        "\n",
        ">\\begin{equation}\n",
        "arg\\:max_{y}\\:log\\:p\\:(y|x) = arg\\:max_{y}\\:log\\:\\frac{p\\:(x|y)\\:p(y)} {p(x)} = arg\\:max_{y}\\:log\\:p\\:(x|y)\\:p(y)\n",
        "\\end{equation}\n",
        "\n",
        "Naive Bayes models are usually suitable for high dimensional data like ours."
      ],
      "metadata": {
        "id": "JZBl0NNXAOrK"
      }
    },
    {
      "cell_type": "markdown",
      "source": [
        "There are several types of naive bayes models such as Gaussian Naive Bayes and Multinomial Naive Bayes. The difference is in the assumptions they make about data. For this project, the most suitable is Multinomial Naive Bayes which assumes the features are in a multinomial distribution. It describes probabilities of observing counts among a number of categories hence it is perfect for data with count rates like ours[10]. As described above, we pre-process the data to have words represented by their frequency in the raw data."
      ],
      "metadata": {
        "id": "qaU97AqobMri"
      }
    },
    {
      "cell_type": "code",
      "source": [
        "from sklearn.naive_bayes import MultinomialNB\n",
        "nb_model = MultinomialNB(alpha=0.01) \n",
        "nb_model = nb_model.fit(tfid_vectors_X,newsgroups_train.target)"
      ],
      "metadata": {
        "id": "MxiOgS9t6glh"
      },
      "execution_count": 45,
      "outputs": []
    },
    {
      "cell_type": "code",
      "source": [
        "# Load the test data\n",
        "news_groups_test = fetch_20newsgroups(subset=\"test\")\n",
        "tfid_vectors_y = tfid_vectorizer.transform(news_groups_test.data)"
      ],
      "metadata": {
        "id": "a9KWEul8NNXe"
      },
      "execution_count": 46,
      "outputs": []
    },
    {
      "cell_type": "code",
      "source": [
        "nb_preds = nb_model.predict(tfid_vectors_y)"
      ],
      "metadata": {
        "id": "BrJ-L6yA_RUk"
      },
      "execution_count": 47,
      "outputs": []
    },
    {
      "cell_type": "code",
      "source": [
        "import numpy as np\n",
        "np.mean(nb_preds==news_groups_test.target)"
      ],
      "metadata": {
        "colab": {
          "base_uri": "https://localhost:8080/"
        },
        "id": "gfwdKH3cONIc",
        "outputId": "c160ff92-dcb7-44ee-b020-965bd9cdae1c"
      },
      "execution_count": 48,
      "outputs": [
        {
          "output_type": "execute_result",
          "data": {
            "text/plain": [
              "0.8352363250132767"
            ]
          },
          "metadata": {},
          "execution_count": 48
        }
      ]
    },
    {
      "cell_type": "code",
      "source": [
        "from sklearn import metrics \n",
        "metrics.f1_score(news_groups_test.target,nb_preds,average=\"macro\")"
      ],
      "metadata": {
        "colab": {
          "base_uri": "https://localhost:8080/"
        },
        "id": "iwD0WrPUOgwK",
        "outputId": "70184921-3ef5-4b36-fd51-356f888b3129"
      },
      "execution_count": 49,
      "outputs": [
        {
          "output_type": "execute_result",
          "data": {
            "text/plain": [
              "0.8290659644474043"
            ]
          },
          "metadata": {},
          "execution_count": 49
        }
      ]
    },
    {
      "cell_type": "code",
      "source": [
        "#Implement this function following example in the sklearn documents, references [4]\n",
        "def top_5_features(classifier,vectorizer):\n",
        "  feature_names = np.asarray(vectorizer.get_feature_names())\n",
        "  top_5 = np.argsort(classifier.coef_)[-5:]\n",
        "  print(feature_names[top_5])"
      ],
      "metadata": {
        "id": "1Rcfv4OEQpTZ"
      },
      "execution_count": 50,
      "outputs": []
    },
    {
      "cell_type": "code",
      "source": [
        "top_5_features(nb_model,tfid_vectorizer)"
      ],
      "metadata": {
        "colab": {
          "base_uri": "https://localhost:8080/"
        },
        "id": "jQsojJkSRZAk",
        "outputId": "10b6425b-ae65-4e38-c316-b843259c7a65"
      },
      "execution_count": 51,
      "outputs": [
        {
          "output_type": "stream",
          "name": "stderr",
          "text": [
            "/usr/local/lib/python3.8/dist-packages/sklearn/utils/deprecation.py:87: FutureWarning: Function get_feature_names is deprecated; get_feature_names is deprecated in 1.0 and will be removed in 1.2. Please use get_feature_names_out instead.\n",
            "  warnings.warn(msg, category=FutureWarning)\n",
            "/usr/local/lib/python3.8/dist-packages/sklearn/utils/deprecation.py:103: FutureWarning: Attribute `coef_` was deprecated in version 0.24 and will be removed in 1.1 (renaming of 0.26).\n",
            "  warnings.warn(msg, category=FutureWarning)\n"
          ]
        },
        {
          "output_type": "stream",
          "name": "stdout",
          "text": [
            "[['hzrck' 'motoring' 'motoren' ... 'to' 'of' 'the']\n",
            " ['hzrck' 'mohan' 'mohammedans' ... 'of' 'to' 'the']\n",
            " ['hzrck' 'mongoose' 'mongers' ... 'to' 'of' 'the']\n",
            " ['hzrck' 'mouting' 'mouths' ... 'of' 'to' 'the']\n",
            " ['hzrck' 'mrlhzv' 'mrlhzrchzv' ... 'to' 'of' 'the']]\n"
          ]
        }
      ]
    },
    {
      "cell_type": "code",
      "source": [
        "from sklearn.metrics import classification_report\n",
        "print(classification_report(news_groups_test.target, nb_preds))"
      ],
      "metadata": {
        "colab": {
          "base_uri": "https://localhost:8080/"
        },
        "id": "07aJAyCUNfVs",
        "outputId": "980f8c1f-a556-48a7-b587-998b15dc18ed"
      },
      "execution_count": 52,
      "outputs": [
        {
          "output_type": "stream",
          "name": "stdout",
          "text": [
            "              precision    recall  f1-score   support\n",
            "\n",
            "           0       0.82      0.78      0.80       319\n",
            "           1       0.69      0.75      0.72       389\n",
            "           2       0.74      0.63      0.68       394\n",
            "           3       0.65      0.75      0.69       392\n",
            "           4       0.83      0.84      0.83       385\n",
            "           5       0.84      0.78      0.81       395\n",
            "           6       0.82      0.78      0.80       390\n",
            "           7       0.89      0.90      0.90       396\n",
            "           8       0.93      0.96      0.95       398\n",
            "           9       0.95      0.94      0.95       397\n",
            "          10       0.95      0.97      0.96       399\n",
            "          11       0.89      0.93      0.91       396\n",
            "          12       0.79      0.77      0.78       393\n",
            "          13       0.89      0.84      0.86       396\n",
            "          14       0.87      0.91      0.89       394\n",
            "          15       0.82      0.95      0.88       398\n",
            "          16       0.76      0.91      0.83       364\n",
            "          17       0.97      0.94      0.96       376\n",
            "          18       0.80      0.64      0.71       310\n",
            "          19       0.76      0.59      0.67       251\n",
            "\n",
            "    accuracy                           0.84      7532\n",
            "   macro avg       0.83      0.83      0.83      7532\n",
            "weighted avg       0.84      0.84      0.83      7532\n",
            "\n"
          ]
        }
      ]
    },
    {
      "cell_type": "markdown",
      "source": [
        " One disadvantage of naive bayesian classifiers is class conditional independence which impacts the model accuracy for highly correlated data[12]. However, our data is high-dimensional therefore this does not apply to us."
      ],
      "metadata": {
        "id": "2X4F-zKuD2xU"
      }
    },
    {
      "cell_type": "markdown",
      "source": [
        "### Support Vector Machine Classifier for 20 Newsgroups Data"
      ],
      "metadata": {
        "id": "EUauYtl9KHoH"
      }
    },
    {
      "cell_type": "markdown",
      "source": [
        "Support vector machines are suitable for a project like this because they work well with high-dimensional data like ours. This is because they are only affected by points close to the margins. in fact , data that may seem inseparable in lower dimensions might become separable after increasing its dimensionality [13]."
      ],
      "metadata": {
        "id": "ENh7TcXkOVLi"
      }
    },
    {
      "cell_type": "code",
      "source": [
        "from sklearn.svm import SVC \n",
        "svc_model = SVC(kernel=\"linear\",C=1e10)\n",
        "svc_model.fit(tfid_vectors_X,newsgroups_train.target)"
      ],
      "metadata": {
        "colab": {
          "base_uri": "https://localhost:8080/",
          "height": 381
        },
        "id": "NqN1sGf1KQoj",
        "outputId": "4369c9b4-f061-4e5d-bc53-8a03ac7b08ee"
      },
      "execution_count": 53,
      "outputs": [
        {
          "output_type": "error",
          "ename": "KeyboardInterrupt",
          "evalue": "ignored",
          "traceback": [
            "\u001b[0;31m---------------------------------------------------------------------------\u001b[0m",
            "\u001b[0;31mKeyboardInterrupt\u001b[0m                         Traceback (most recent call last)",
            "\u001b[0;32m<ipython-input-53-87885e3b957f>\u001b[0m in \u001b[0;36m<module>\u001b[0;34m\u001b[0m\n\u001b[1;32m      1\u001b[0m \u001b[0;32mfrom\u001b[0m \u001b[0msklearn\u001b[0m\u001b[0;34m.\u001b[0m\u001b[0msvm\u001b[0m \u001b[0;32mimport\u001b[0m \u001b[0mSVC\u001b[0m\u001b[0;34m\u001b[0m\u001b[0;34m\u001b[0m\u001b[0m\n\u001b[1;32m      2\u001b[0m \u001b[0msvc_model\u001b[0m \u001b[0;34m=\u001b[0m \u001b[0mSVC\u001b[0m\u001b[0;34m(\u001b[0m\u001b[0mkernel\u001b[0m\u001b[0;34m=\u001b[0m\u001b[0;34m\"linear\"\u001b[0m\u001b[0;34m,\u001b[0m\u001b[0mC\u001b[0m\u001b[0;34m=\u001b[0m\u001b[0;36m1e10\u001b[0m\u001b[0;34m)\u001b[0m\u001b[0;34m\u001b[0m\u001b[0;34m\u001b[0m\u001b[0m\n\u001b[0;32m----> 3\u001b[0;31m \u001b[0msvc_model\u001b[0m\u001b[0;34m.\u001b[0m\u001b[0mfit\u001b[0m\u001b[0;34m(\u001b[0m\u001b[0mtfid_vectors_X\u001b[0m\u001b[0;34m,\u001b[0m\u001b[0mnewsgroups_train\u001b[0m\u001b[0;34m.\u001b[0m\u001b[0mtarget\u001b[0m\u001b[0;34m)\u001b[0m\u001b[0;34m\u001b[0m\u001b[0;34m\u001b[0m\u001b[0m\n\u001b[0m",
            "\u001b[0;32m/usr/local/lib/python3.8/dist-packages/sklearn/svm/_base.py\u001b[0m in \u001b[0;36mfit\u001b[0;34m(self, X, y, sample_weight)\u001b[0m\n\u001b[1;32m    253\u001b[0m \u001b[0;34m\u001b[0m\u001b[0m\n\u001b[1;32m    254\u001b[0m         \u001b[0mseed\u001b[0m \u001b[0;34m=\u001b[0m \u001b[0mrnd\u001b[0m\u001b[0;34m.\u001b[0m\u001b[0mrandint\u001b[0m\u001b[0;34m(\u001b[0m\u001b[0mnp\u001b[0m\u001b[0;34m.\u001b[0m\u001b[0miinfo\u001b[0m\u001b[0;34m(\u001b[0m\u001b[0;34m\"i\"\u001b[0m\u001b[0;34m)\u001b[0m\u001b[0;34m.\u001b[0m\u001b[0mmax\u001b[0m\u001b[0;34m)\u001b[0m\u001b[0;34m\u001b[0m\u001b[0;34m\u001b[0m\u001b[0m\n\u001b[0;32m--> 255\u001b[0;31m         \u001b[0mfit\u001b[0m\u001b[0;34m(\u001b[0m\u001b[0mX\u001b[0m\u001b[0;34m,\u001b[0m \u001b[0my\u001b[0m\u001b[0;34m,\u001b[0m \u001b[0msample_weight\u001b[0m\u001b[0;34m,\u001b[0m \u001b[0msolver_type\u001b[0m\u001b[0;34m,\u001b[0m \u001b[0mkernel\u001b[0m\u001b[0;34m,\u001b[0m \u001b[0mrandom_seed\u001b[0m\u001b[0;34m=\u001b[0m\u001b[0mseed\u001b[0m\u001b[0;34m)\u001b[0m\u001b[0;34m\u001b[0m\u001b[0;34m\u001b[0m\u001b[0m\n\u001b[0m\u001b[1;32m    256\u001b[0m         \u001b[0;31m# see comment on the other call to np.iinfo in this file\u001b[0m\u001b[0;34m\u001b[0m\u001b[0;34m\u001b[0m\u001b[0;34m\u001b[0m\u001b[0m\n\u001b[1;32m    257\u001b[0m \u001b[0;34m\u001b[0m\u001b[0m\n",
            "\u001b[0;32m/usr/local/lib/python3.8/dist-packages/sklearn/svm/_base.py\u001b[0m in \u001b[0;36m_sparse_fit\u001b[0;34m(self, X, y, sample_weight, solver_type, kernel, random_seed)\u001b[0m\n\u001b[1;32m    353\u001b[0m             \u001b[0mself\u001b[0m\u001b[0;34m.\u001b[0m\u001b[0m_probB\u001b[0m\u001b[0;34m,\u001b[0m\u001b[0;34m\u001b[0m\u001b[0;34m\u001b[0m\u001b[0m\n\u001b[1;32m    354\u001b[0m             \u001b[0mself\u001b[0m\u001b[0;34m.\u001b[0m\u001b[0mfit_status_\u001b[0m\u001b[0;34m,\u001b[0m\u001b[0;34m\u001b[0m\u001b[0;34m\u001b[0m\u001b[0m\n\u001b[0;32m--> 355\u001b[0;31m         \u001b[0;34m)\u001b[0m \u001b[0;34m=\u001b[0m \u001b[0mlibsvm_sparse\u001b[0m\u001b[0;34m.\u001b[0m\u001b[0mlibsvm_sparse_train\u001b[0m\u001b[0;34m(\u001b[0m\u001b[0;34m\u001b[0m\u001b[0;34m\u001b[0m\u001b[0m\n\u001b[0m\u001b[1;32m    356\u001b[0m             \u001b[0mX\u001b[0m\u001b[0;34m.\u001b[0m\u001b[0mshape\u001b[0m\u001b[0;34m[\u001b[0m\u001b[0;36m1\u001b[0m\u001b[0;34m]\u001b[0m\u001b[0;34m,\u001b[0m\u001b[0;34m\u001b[0m\u001b[0;34m\u001b[0m\u001b[0m\n\u001b[1;32m    357\u001b[0m             \u001b[0mX\u001b[0m\u001b[0;34m.\u001b[0m\u001b[0mdata\u001b[0m\u001b[0;34m,\u001b[0m\u001b[0;34m\u001b[0m\u001b[0;34m\u001b[0m\u001b[0m\n",
            "\u001b[0;32msklearn/svm/_libsvm_sparse.pyx\u001b[0m in \u001b[0;36msklearn.svm._libsvm_sparse.libsvm_sparse_train\u001b[0;34m()\u001b[0m\n",
            "\u001b[0;32m/usr/local/lib/python3.8/dist-packages/scipy/sparse/compressed.py\u001b[0m in \u001b[0;36m__init__\u001b[0;34m(self, arg1, shape, dtype, copy)\u001b[0m\n\u001b[1;32m     25\u001b[0m     \u001b[0;34m\"\"\"base matrix class for compressed row- and column-oriented matrices\"\"\"\u001b[0m\u001b[0;34m\u001b[0m\u001b[0;34m\u001b[0m\u001b[0m\n\u001b[1;32m     26\u001b[0m \u001b[0;34m\u001b[0m\u001b[0m\n\u001b[0;32m---> 27\u001b[0;31m     \u001b[0;32mdef\u001b[0m \u001b[0m__init__\u001b[0m\u001b[0;34m(\u001b[0m\u001b[0mself\u001b[0m\u001b[0;34m,\u001b[0m \u001b[0marg1\u001b[0m\u001b[0;34m,\u001b[0m \u001b[0mshape\u001b[0m\u001b[0;34m=\u001b[0m\u001b[0;32mNone\u001b[0m\u001b[0;34m,\u001b[0m \u001b[0mdtype\u001b[0m\u001b[0;34m=\u001b[0m\u001b[0;32mNone\u001b[0m\u001b[0;34m,\u001b[0m \u001b[0mcopy\u001b[0m\u001b[0;34m=\u001b[0m\u001b[0;32mFalse\u001b[0m\u001b[0;34m)\u001b[0m\u001b[0;34m:\u001b[0m\u001b[0;34m\u001b[0m\u001b[0;34m\u001b[0m\u001b[0m\n\u001b[0m\u001b[1;32m     28\u001b[0m         \u001b[0m_data_matrix\u001b[0m\u001b[0;34m.\u001b[0m\u001b[0m__init__\u001b[0m\u001b[0;34m(\u001b[0m\u001b[0mself\u001b[0m\u001b[0;34m)\u001b[0m\u001b[0;34m\u001b[0m\u001b[0;34m\u001b[0m\u001b[0m\n\u001b[1;32m     29\u001b[0m \u001b[0;34m\u001b[0m\u001b[0m\n",
            "\u001b[0;31mKeyboardInterrupt\u001b[0m: "
          ]
        }
      ]
    },
    {
      "cell_type": "markdown",
      "source": [
        "Using the SVC model takes relatively longer time to train (4 minutes). This is because SVC models scale with number of samples  $\\mathcal{O}[N^2]$  and since our data has numerous samples (~20k), it requires a lot of computational resources [9]\n",
        "\n",
        "We can improve this by using a stochastic gradient descent classifier to implement a linear SVM. This lowers the runtime to ~2 seconds"
      ],
      "metadata": {
        "id": "foopb3aXLo6K"
      }
    },
    {
      "cell_type": "markdown",
      "source": [
        "### Stochastic Gradient Descent Classifier for 20Newsgroups Data - SVM"
      ],
      "metadata": {
        "id": "pUVJoH55GdPN"
      }
    },
    {
      "cell_type": "markdown",
      "source": [
        "A workaround to the intensive support vector machine's computationally intensive calculations is to use the gradient descent algorithm to iteratively find the optimal solution[14]. With $b$ as the batch size and $n$ as learning rate, we get the following equations for a stochastic gradient descent algorithm:\n",
        "\n",
        ">${\\theta}_{t+1} \\: = {\\theta}_{t}\\: - ng\\:{\\theta}_{t}$ \n",
        "\n",
        ">with $g({\\theta}_{t}\\:) \\: = \\frac{1}{b}\\: \\sum_{i\\subset}\\: \\Delta_{\\theta} \\: l\\: (x_{i},\\:\\theta_{t})$\n",
        "\n",
        "Stochastic Gradient Descent model on `sklearn` implements linear classifiers such as SVM and logistic regression with stochastic gradient descent. The `sklearn` model works best with sparse data. As we saw above, the data we're using is sparse making this a suitable model\n",
        "\n",
        "We choose `hinge` loss so that the model implements a linear SVM"
      ],
      "metadata": {
        "id": "ILSMJnpeG0Yd"
      }
    },
    {
      "cell_type": "code",
      "source": [
        "from sklearn.linear_model import SGDClassifier \n",
        "svm_model  = SGDClassifier(loss=\"hinge\",penalty=\"l2\",alpha=0.001,random_state=95)\n",
        "svm_model.fit(tfid_vectors_X,newsgroups_train.target)"
      ],
      "metadata": {
        "colab": {
          "base_uri": "https://localhost:8080/"
        },
        "id": "mkwk6lhI_0hJ",
        "outputId": "9671d340-c5f5-488d-c681-734877236ce9"
      },
      "execution_count": 54,
      "outputs": [
        {
          "output_type": "execute_result",
          "data": {
            "text/plain": [
              "SGDClassifier(alpha=0.001, random_state=95)"
            ]
          },
          "metadata": {},
          "execution_count": 54
        }
      ]
    },
    {
      "cell_type": "code",
      "source": [
        "svm_preds = svm_model.predict(tfid_vectors_y)"
      ],
      "metadata": {
        "id": "FkrwUUgfA7Rt"
      },
      "execution_count": 55,
      "outputs": []
    },
    {
      "cell_type": "code",
      "source": [
        "np.mean(svm_preds==news_groups_test.target)"
      ],
      "metadata": {
        "colab": {
          "base_uri": "https://localhost:8080/"
        },
        "id": "DQi7gPNkP2se",
        "outputId": "404bbc62-fed7-4f0c-f6d8-7e96984cb4a9"
      },
      "execution_count": 56,
      "outputs": [
        {
          "output_type": "execute_result",
          "data": {
            "text/plain": [
              "0.8235528412108338"
            ]
          },
          "metadata": {},
          "execution_count": 56
        }
      ]
    },
    {
      "cell_type": "code",
      "source": [
        "metrics.f1_score(news_groups_test.target,svm_preds,average=\"macro\")"
      ],
      "metadata": {
        "colab": {
          "base_uri": "https://localhost:8080/"
        },
        "id": "i4ZZzWH1P7Jc",
        "outputId": "5120cad8-eea7-45e6-d2b2-62c0cc4c8b23"
      },
      "execution_count": 57,
      "outputs": [
        {
          "output_type": "execute_result",
          "data": {
            "text/plain": [
              "0.8101986195933588"
            ]
          },
          "metadata": {},
          "execution_count": 57
        }
      ]
    },
    {
      "cell_type": "code",
      "source": [
        "top_5_features(svm_model,tfid_vectorizer)"
      ],
      "metadata": {
        "colab": {
          "base_uri": "https://localhost:8080/"
        },
        "id": "-LAV9K8kSUu9",
        "outputId": "2ccbd465-f819-477f-e7c2-2451970162da"
      },
      "execution_count": 58,
      "outputs": [
        {
          "output_type": "stream",
          "name": "stderr",
          "text": [
            "/usr/local/lib/python3.8/dist-packages/sklearn/utils/deprecation.py:87: FutureWarning: Function get_feature_names is deprecated; get_feature_names is deprecated in 1.0 and will be removed in 1.2. Please use get_feature_names_out instead.\n",
            "  warnings.warn(msg, category=FutureWarning)\n"
          ]
        },
        {
          "output_type": "stream",
          "name": "stdout",
          "text": [
            "[['atheism' 'nntp' 'host' ... 'christians' 'church' 'god']\n",
            " ['sandvik' 'clipper' 'encryption' ... 'firearms' 'guns' 'gun']\n",
            " ['god' 'jesus' 'christ' ... 'turkish' 'israeli' 'israel']\n",
            " ['gun' 'clipper' 'guns' ... 'kaldis' 'optilink' 'cramer']\n",
            " ['rutgers' 'keith' 'atheists' ... 'ch981' 'rosicrucian' 'sandvik']]\n"
          ]
        }
      ]
    },
    {
      "cell_type": "code",
      "source": [
        "print(classification_report(news_groups_test.target, svm_preds))"
      ],
      "metadata": {
        "colab": {
          "base_uri": "https://localhost:8080/"
        },
        "id": "TAzaQzjJdipk",
        "outputId": "e906efb6-5587-4e36-dfe7-f8f04eaef95f"
      },
      "execution_count": 59,
      "outputs": [
        {
          "output_type": "stream",
          "name": "stdout",
          "text": [
            "              precision    recall  f1-score   support\n",
            "\n",
            "           0       0.73      0.70      0.72       319\n",
            "           1       0.80      0.70      0.75       389\n",
            "           2       0.71      0.78      0.74       394\n",
            "           3       0.74      0.67      0.70       392\n",
            "           4       0.82      0.83      0.82       385\n",
            "           5       0.84      0.76      0.80       395\n",
            "           6       0.83      0.90      0.87       390\n",
            "           7       0.91      0.89      0.90       396\n",
            "           8       0.93      0.97      0.95       398\n",
            "           9       0.89      0.89      0.89       397\n",
            "          10       0.87      0.99      0.93       399\n",
            "          11       0.83      0.96      0.89       396\n",
            "          12       0.83      0.62      0.71       393\n",
            "          13       0.88      0.85      0.87       396\n",
            "          14       0.84      0.96      0.90       394\n",
            "          15       0.74      0.94      0.83       398\n",
            "          16       0.70      0.92      0.79       364\n",
            "          17       0.91      0.93      0.92       376\n",
            "          18       0.87      0.56      0.68       310\n",
            "          19       0.83      0.40      0.54       251\n",
            "\n",
            "    accuracy                           0.82      7532\n",
            "   macro avg       0.83      0.81      0.81      7532\n",
            "weighted avg       0.83      0.82      0.82      7532\n",
            "\n"
          ]
        }
      ]
    },
    {
      "cell_type": "markdown",
      "source": [
        "## Hyperparameter Tuning\n",
        "\n"
      ],
      "metadata": {
        "id": "QkhD7Hf-F1Gc"
      }
    },
    {
      "cell_type": "markdown",
      "source": [
        "To perform cross validation, we shuffle the dataset randomly and split the dataset into k groups. Here, we will take k=5, for 5 fold cross validation. For each group, we hold out one as the test set and use the remaining for training[11]. I decided to use k-fold cross validation instead of leave-one-out cross validation because it is faster to compute."
      ],
      "metadata": {
        "id": "2w4iNeAw6JbJ"
      }
    },
    {
      "cell_type": "markdown",
      "source": [
        "### Naive Bayes Grid Search - 5 Fold Cross Validation"
      ],
      "metadata": {
        "id": "4KbFMxfpB-Mq"
      }
    },
    {
      "cell_type": "markdown",
      "source": [
        "We can use the grid search tool from `sklearn` to tune the SVM and Naive Bayes parameters. By default, grid search uses 5-fold cross validation but we can specify it using `cv=<int>`"
      ],
      "metadata": {
        "id": "M45hJxmpQTZN"
      }
    },
    {
      "cell_type": "code",
      "source": [
        "from sklearn.model_selection import GridSearchCV\n",
        "parameters = {\n",
        "    \"alpha\":(0.01,0.001)\n",
        "}"
      ],
      "metadata": {
        "id": "v1_za_MnSuoM"
      },
      "execution_count": 60,
      "outputs": []
    },
    {
      "cell_type": "code",
      "source": [
        "grid_search_nb_clf = GridSearchCV(nb_model,parameters,n_jobs=-1)\n",
        "grid_search_nb_clf.fit(tfid_vectors_X,newsgroups_train.target)"
      ],
      "metadata": {
        "colab": {
          "base_uri": "https://localhost:8080/"
        },
        "id": "C77nvvCSTSc8",
        "outputId": "4a15ccb9-99bd-46a8-f25a-ffde7f1daf03"
      },
      "execution_count": 61,
      "outputs": [
        {
          "output_type": "execute_result",
          "data": {
            "text/plain": [
              "GridSearchCV(estimator=MultinomialNB(alpha=0.01), n_jobs=-1,\n",
              "             param_grid={'alpha': (0.01, 0.001)})"
            ]
          },
          "metadata": {},
          "execution_count": 61
        }
      ]
    },
    {
      "cell_type": "code",
      "source": [
        "grid_search_nb_clf.best_score_ "
      ],
      "metadata": {
        "colab": {
          "base_uri": "https://localhost:8080/"
        },
        "id": "22HyRQfaT4Ff",
        "outputId": "5250feea-2576-47d2-e347-c388255f1d86"
      },
      "execution_count": 62,
      "outputs": [
        {
          "output_type": "execute_result",
          "data": {
            "text/plain": [
              "0.911171879303898"
            ]
          },
          "metadata": {},
          "execution_count": 62
        }
      ]
    },
    {
      "cell_type": "code",
      "source": [
        "grid_search_nb_clf.best_params_"
      ],
      "metadata": {
        "colab": {
          "base_uri": "https://localhost:8080/"
        },
        "id": "BMuqQ1vyT-_H",
        "outputId": "04bea6d8-1a25-45d9-f3b7-c32809829418"
      },
      "execution_count": 63,
      "outputs": [
        {
          "output_type": "execute_result",
          "data": {
            "text/plain": [
              "{'alpha': 0.01}"
            ]
          },
          "metadata": {},
          "execution_count": 63
        }
      ]
    },
    {
      "cell_type": "markdown",
      "source": [
        "Using grid search's cross validation to optimize the alpha parameter for our naive bayes classifier increases our score from 82.9% to 91.1%"
      ],
      "metadata": {
        "id": "bVJaqQCNEkTm"
      }
    },
    {
      "cell_type": "markdown",
      "source": [
        "### *SVM* Grid Search - 5 Fold Cross Validation"
      ],
      "metadata": {
        "id": "bj_my1OEGBTC"
      }
    },
    {
      "cell_type": "code",
      "source": [
        "svm_model.get_params()"
      ],
      "metadata": {
        "colab": {
          "base_uri": "https://localhost:8080/"
        },
        "id": "62cW9lGjIl4a",
        "outputId": "bdc9d197-88b9-41ab-c7b2-144671487661"
      },
      "execution_count": 64,
      "outputs": [
        {
          "output_type": "execute_result",
          "data": {
            "text/plain": [
              "{'alpha': 0.001,\n",
              " 'average': False,\n",
              " 'class_weight': None,\n",
              " 'early_stopping': False,\n",
              " 'epsilon': 0.1,\n",
              " 'eta0': 0.0,\n",
              " 'fit_intercept': True,\n",
              " 'l1_ratio': 0.15,\n",
              " 'learning_rate': 'optimal',\n",
              " 'loss': 'hinge',\n",
              " 'max_iter': 1000,\n",
              " 'n_iter_no_change': 5,\n",
              " 'n_jobs': None,\n",
              " 'penalty': 'l2',\n",
              " 'power_t': 0.5,\n",
              " 'random_state': 95,\n",
              " 'shuffle': True,\n",
              " 'tol': 0.001,\n",
              " 'validation_fraction': 0.1,\n",
              " 'verbose': 0,\n",
              " 'warm_start': False}"
            ]
          },
          "metadata": {},
          "execution_count": 64
        }
      ]
    },
    {
      "cell_type": "code",
      "source": [
        "grid_search_svm_clf = GridSearchCV(svm_model,parameters,n_jobs=-1)\n",
        "grid_search_svm_clf.fit(tfid_vectors_X,newsgroups_train.target)"
      ],
      "metadata": {
        "colab": {
          "base_uri": "https://localhost:8080/"
        },
        "id": "st-yCXFoTvC_",
        "outputId": "426c6afa-15fb-4a8a-d39b-8222388f8da2"
      },
      "execution_count": 65,
      "outputs": [
        {
          "output_type": "execute_result",
          "data": {
            "text/plain": [
              "GridSearchCV(estimator=SGDClassifier(alpha=0.001, random_state=95), n_jobs=-1,\n",
              "             param_grid={'alpha': (0.01, 0.001)})"
            ]
          },
          "metadata": {},
          "execution_count": 65
        }
      ]
    },
    {
      "cell_type": "code",
      "source": [
        "grid_search_svm_clf.best_score_"
      ],
      "metadata": {
        "colab": {
          "base_uri": "https://localhost:8080/"
        },
        "id": "_XM8Exb-T167",
        "outputId": "2dc1b08c-a84f-401b-b63e-d5d473602455"
      },
      "execution_count": 66,
      "outputs": [
        {
          "output_type": "execute_result",
          "data": {
            "text/plain": [
              "0.8889869046237614"
            ]
          },
          "metadata": {},
          "execution_count": 66
        }
      ]
    },
    {
      "cell_type": "code",
      "source": [
        "grid_search_svm_clf.best_params_"
      ],
      "metadata": {
        "colab": {
          "base_uri": "https://localhost:8080/"
        },
        "id": "ekQ939OcUKsP",
        "outputId": "c1426d11-3eb4-4fdf-dea2-3e674dd3db43"
      },
      "execution_count": 67,
      "outputs": [
        {
          "output_type": "execute_result",
          "data": {
            "text/plain": [
              "{'alpha': 0.001}"
            ]
          },
          "metadata": {},
          "execution_count": 67
        }
      ]
    },
    {
      "cell_type": "code",
      "source": [
        "# grid_search_svm_clf.get_params()"
      ],
      "metadata": {
        "id": "hFFoooqGIbKc"
      },
      "execution_count": 68,
      "outputs": []
    },
    {
      "cell_type": "markdown",
      "source": [
        "Using grid search's cross validation  to optimize the alpha parameter for our naive bayes classifier increases our score from 81.0% to 88.9%"
      ],
      "metadata": {
        "id": "hiydRvFYE-b9"
      }
    },
    {
      "cell_type": "code",
      "source": [
        "import matplotlib.pyplot as plt \n",
        "fig = plt.figure()\n",
        "ax = fig.add_axes([0,0,1,1])\n",
        "data = ['nb','optimized_nb','svm','optimized_svm']\n",
        "scores = [82.9,91.1,81.0,88.9]\n",
        "ax.bar(data,scores,color=[\"blue\",\"red\"])\n",
        "plt.xlabel(\"Type of model\") \n",
        "plt.ylabel(\"Score of model (%\")\n",
        "ax.set_title ( \"Effect of Hyperparameter Tuning and Cross Validation on Model's Score\")\n",
        "plt.show()"
      ],
      "metadata": {
        "colab": {
          "base_uri": "https://localhost:8080/",
          "height": 367
        },
        "id": "ohlvvau6X1_a",
        "outputId": "c5febbc3-ed6c-4573-e75b-fb2aa589d808"
      },
      "execution_count": 69,
      "outputs": [
        {
          "output_type": "display_data",
          "data": {
            "text/plain": [
              "<Figure size 432x288 with 1 Axes>"
            ],
            "image/png": "[encoded data removed]"
          },
          "metadata": {
            "needs_background": "light"
          }
        }
      ]
    },
    {
      "cell_type": "markdown",
      "source": [
        "### Training pipeline"
      ],
      "metadata": {
        "id": "t2bwfQSTd41l"
      }
    },
    {
      "cell_type": "markdown",
      "source": [
        "To be able to quickly test different versions of models, we can create a pipeline using`sklearn`'s `make_pipeline`. First, we will implement a very simple naive bayes model with the default parameters producing a simple probabilistic model of the frequency of words"
      ],
      "metadata": {
        "id": "dt8fFsepd7w8"
      }
    },
    {
      "cell_type": "code",
      "source": [
        "# References code in Python Data Science Hanbook [10]\n",
        "from sklearn.pipeline import make_pipeline \n",
        "nb_pipeline_model = make_pipeline(TfidfVectorizer(), MultinomialNB())\n",
        "svm_pipeline_model = make_pipeline(TfidfVectorizer(), SGDClassifier())"
      ],
      "metadata": {
        "id": "McIxCjVOecFl"
      },
      "execution_count": 70,
      "outputs": []
    },
    {
      "cell_type": "code",
      "source": [
        "# X_train = tfid_vectors_X\n",
        "X_train = newsgroups_train.data\n",
        "y_train = newsgroups_train.target\n",
        "nb_pipeline_model.fit(X_train,y_train)"
      ],
      "metadata": {
        "colab": {
          "base_uri": "https://localhost:8080/"
        },
        "id": "MP0HLdCDfb9k",
        "outputId": "70d183d3-51f4-465d-a9ab-4899d26d4abc"
      },
      "execution_count": 71,
      "outputs": [
        {
          "output_type": "execute_result",
          "data": {
            "text/plain": [
              "Pipeline(steps=[('tfidfvectorizer', TfidfVectorizer()),\n",
              "                ('multinomialnb', MultinomialNB())])"
            ]
          },
          "metadata": {},
          "execution_count": 71
        }
      ]
    },
    {
      "cell_type": "code",
      "source": [
        "X_test = news_groups_test.data\n",
        "y_test = news_groups_test.target\n",
        "nb_pipeline_preds = nb_pipeline_model.predict(X_test)"
      ],
      "metadata": {
        "id": "c7YBG-9HgpwQ"
      },
      "execution_count": 72,
      "outputs": []
    },
    {
      "cell_type": "code",
      "source": [
        "# Build prediction function using this model [10]\n",
        "def predict(string,X_train = newsgroups_train, model = nb_pipeline_model):\n",
        "  prediction = model.predict([string])\n",
        "  return X_train.target_names[prediction[0]]"
      ],
      "metadata": {
        "id": "sGmvDxNwfTHW"
      },
      "execution_count": 73,
      "outputs": []
    },
    {
      "cell_type": "code",
      "source": [
        "predict(\"Canada\")"
      ],
      "metadata": {
        "colab": {
          "base_uri": "https://localhost:8080/",
          "height": 35
        },
        "id": "oo1zxIN4iO-0",
        "outputId": "7335c9c0-cd11-46d5-d0b7-fcd83c4b7758"
      },
      "execution_count": 74,
      "outputs": [
        {
          "output_type": "execute_result",
          "data": {
            "text/plain": [
              "'rec.sport.hockey'"
            ],
            "application/vnd.google.colaboratory.intrinsic+json": {
              "type": "string"
            }
          },
          "metadata": {},
          "execution_count": 74
        }
      ]
    },
    {
      "cell_type": "markdown",
      "source": [
        "## Future considerations"
      ],
      "metadata": {
        "id": "AVW4m_W__D0k"
      }
    },
    {
      "cell_type": "markdown",
      "source": [
        "Some options we can do to improve the model is \n",
        "- Filtering common words such as articles 'a', 'an' and 'the'. When we looked at the `top_5_features` function, both 'to' and 'for' were in each of the top 5 so filtering them would improve performance\n",
        "- Further preprocessing the data to only keep the word roots. For example, mapping both 'happily' and 'happiness' to happy [7]"
      ],
      "metadata": {
        "id": "zsw0p893_G3N"
      }
    },
    {
      "cell_type": "markdown",
      "source": [
        "## Export Notebook to PDF"
      ],
      "metadata": {
        "id": "F1WFBTTdqJOU"
      }
    },
    {
      "cell_type": "code",
      "source": [
        "!apt-get install texlive texlive-xetex texlive-latex-extra pandoc\n",
        "!pip install pypandoc"
      ],
      "metadata": {
        "colab": {
          "base_uri": "https://localhost:8080/"
        },
        "id": "SvFng0izq9uD",
        "outputId": "ca7e9107-c013-46d6-a77b-c1b7580f6ed9"
      },
      "execution_count": null,
      "outputs": [
        {
          "output_type": "stream",
          "name": "stdout",
          "text": [
            "Reading package lists... Done\n",
            "Building dependency tree       \n",
            "Reading state information... Done\n",
            "pandoc is already the newest version (1.19.2.4~dfsg-1build4).\n",
            "pandoc set to manually installed.\n",
            "The following package was automatically installed and is no longer required:\n",
            "  libnvidia-common-460\n",
            "Use 'apt autoremove' to remove it.\n",
            "The following additional packages will be installed:\n",
            "  fonts-droid-fallback fonts-lato fonts-lmodern fonts-noto-mono fonts-texgyre\n",
            "  javascript-common libcupsfilters1 libcupsimage2 libgs9 libgs9-common\n",
            "  libijs-0.35 libjbig2dec0 libjs-jquery libkpathsea6 libpotrace0 libptexenc1\n",
            "  libruby2.5 libsynctex1 libtexlua52 libtexluajit2 libzzip-0-13 lmodern\n",
            "  poppler-data preview-latex-style rake ruby ruby-did-you-mean ruby-minitest\n",
            "  ruby-net-telnet ruby-power-assert ruby-test-unit ruby2.5\n",
            "  rubygems-integration t1utils tex-common tex-gyre texlive-base\n",
            "  texlive-binaries texlive-fonts-recommended texlive-latex-base\n",
            "  texlive-latex-recommended texlive-pictures texlive-plain-generic tipa\n",
            "Suggested packages:\n",
            "  fonts-noto apache2 | lighttpd | httpd poppler-utils ghostscript\n",
            "  fonts-japanese-mincho | fonts-ipafont-mincho fonts-japanese-gothic\n",
            "  | fonts-ipafont-gothic fonts-arphic-ukai fonts-arphic-uming fonts-nanum ri\n",
            "  ruby-dev bundler debhelper gv | postscript-viewer perl-tk xpdf-reader\n",
            "  | pdf-viewer texlive-fonts-recommended-doc texlive-latex-base-doc\n",
            "  python-pygments icc-profiles libfile-which-perl\n",
            "  libspreadsheet-parseexcel-perl texlive-latex-extra-doc\n",
            "  texlive-latex-recommended-doc texlive-pstricks dot2tex prerex ruby-tcltk\n",
            "  | libtcltk-ruby texlive-pictures-doc vprerex\n",
            "The following NEW packages will be installed:\n",
            "  fonts-droid-fallback fonts-lato fonts-lmodern fonts-noto-mono fonts-texgyre\n",
            "  javascript-common libcupsfilters1 libcupsimage2 libgs9 libgs9-common\n",
            "  libijs-0.35 libjbig2dec0 libjs-jquery libkpathsea6 libpotrace0 libptexenc1\n",
            "  libruby2.5 libsynctex1 libtexlua52 libtexluajit2 libzzip-0-13 lmodern\n",
            "  poppler-data preview-latex-style rake ruby ruby-did-you-mean ruby-minitest\n",
            "  ruby-net-telnet ruby-power-assert ruby-test-unit ruby2.5\n",
            "  rubygems-integration t1utils tex-common tex-gyre texlive texlive-base\n",
            "  texlive-binaries texlive-fonts-recommended texlive-latex-base\n",
            "  texlive-latex-extra texlive-latex-recommended texlive-pictures\n",
            "  texlive-plain-generic texlive-xetex tipa\n",
            "0 upgraded, 47 newly installed, 0 to remove and 20 not upgraded.\n",
            "Need to get 146 MB of archives.\n",
            "After this operation, 460 MB of additional disk space will be used.\n",
            "Get:1 http://archive.ubuntu.com/ubuntu bionic/main amd64 fonts-droid-fallback all 1:6.0.1r16-1.1 [1,805 kB]\n",
            "Get:2 http://archive.ubuntu.com/ubuntu bionic/main amd64 fonts-lato all 2.0-2 [2,698 kB]\n",
            "Get:3 http://archive.ubuntu.com/ubuntu bionic/main amd64 poppler-data all 0.4.8-2 [1,479 kB]\n",
            "Get:4 http://archive.ubuntu.com/ubuntu bionic/main amd64 tex-common all 6.09 [33.0 kB]\n",
            "Get:5 http://archive.ubuntu.com/ubuntu bionic/main amd64 fonts-lmodern all 2.004.5-3 [4,551 kB]\n",
            "Get:6 http://archive.ubuntu.com/ubuntu bionic/main amd64 fonts-noto-mono all 20171026-2 [75.5 kB]\n",
            "Get:7 http://archive.ubuntu.com/ubuntu bionic/universe amd64 fonts-texgyre all 20160520-1 [8,761 kB]\n",
            "Get:8 http://archive.ubuntu.com/ubuntu bionic/main amd64 javascript-common all 11 [6,066 B]\n",
            "Get:9 http://archive.ubuntu.com/ubuntu bionic-updates/main amd64 libcupsfilters1 amd64 1.20.2-0ubuntu3.1 [108 kB]\n",
            "Get:10 http://archive.ubuntu.com/ubuntu bionic-updates/main amd64 libcupsimage2 amd64 2.2.7-1ubuntu2.9 [18.6 kB]\n",
            "Get:11 http://archive.ubuntu.com/ubuntu bionic/main amd64 libijs-0.35 amd64 0.35-13 [15.5 kB]\n",
            "Get:12 http://archive.ubuntu.com/ubuntu bionic/main amd64 libjbig2dec0 amd64 0.13-6 [55.9 kB]\n",
            "Get:13 http://archive.ubuntu.com/ubuntu bionic-updates/main amd64 libgs9-common all 9.26~dfsg+0-0ubuntu0.18.04.17 [5,092 kB]\n",
            "Get:14 http://archive.ubuntu.com/ubuntu bionic-updates/main amd64 libgs9 amd64 9.26~dfsg+0-0ubuntu0.18.04.17 [2,267 kB]\n",
            "Get:15 http://archive.ubuntu.com/ubuntu bionic/main amd64 libjs-jquery all 3.2.1-1 [152 kB]\n",
            "Get:16 http://archive.ubuntu.com/ubuntu bionic-updates/main amd64 libkpathsea6 amd64 2017.20170613.44572-8ubuntu0.1 [54.9 kB]\n",
            "Get:17 http://archive.ubuntu.com/ubuntu bionic/main amd64 libpotrace0 amd64 1.14-2 [17.4 kB]\n",
            "Get:18 http://archive.ubuntu.com/ubuntu bionic-updates/main amd64 libptexenc1 amd64 2017.20170613.44572-8ubuntu0.1 [34.5 kB]\n",
            "Get:19 http://archive.ubuntu.com/ubuntu bionic/main amd64 rubygems-integration all 1.11 [4,994 B]\n",
            "Get:20 http://archive.ubuntu.com/ubuntu bionic-updates/main amd64 ruby2.5 amd64 2.5.1-1ubuntu1.12 [48.6 kB]\n",
            "Get:21 http://archive.ubuntu.com/ubuntu bionic/main amd64 ruby amd64 1:2.5.1 [5,712 B]\n",
            "Get:22 http://archive.ubuntu.com/ubuntu bionic-updates/main amd64 rake all 12.3.1-1ubuntu0.1 [44.9 kB]\n",
            "Get:23 http://archive.ubuntu.com/ubuntu bionic/main amd64 ruby-did-you-mean all 1.2.0-2 [9,700 B]\n",
            "Get:24 http://archive.ubuntu.com/ubuntu bionic/main amd64 ruby-minitest all 5.10.3-1 [38.6 kB]\n",
            "Get:25 http://archive.ubuntu.com/ubuntu bionic/main amd64 ruby-net-telnet all 0.1.1-2 [12.6 kB]\n",
            "Get:26 http://archive.ubuntu.com/ubuntu bionic/main amd64 ruby-power-assert all 0.3.0-1 [7,952 B]\n",
            "Get:27 http://archive.ubuntu.com/ubuntu bionic/main amd64 ruby-test-unit all 3.2.5-1 [61.1 kB]\n",
            "Get:28 http://archive.ubuntu.com/ubuntu bionic-updates/main amd64 libruby2.5 amd64 2.5.1-1ubuntu1.12 [3,073 kB]\n",
            "Get:29 http://archive.ubuntu.com/ubuntu bionic-updates/main amd64 libsynctex1 amd64 2017.20170613.44572-8ubuntu0.1 [41.4 kB]\n",
            "Get:30 http://archive.ubuntu.com/ubuntu bionic-updates/main amd64 libtexlua52 amd64 2017.20170613.44572-8ubuntu0.1 [91.2 kB]\n",
            "Get:31 http://archive.ubuntu.com/ubuntu bionic-updates/main amd64 libtexluajit2 amd64 2017.20170613.44572-8ubuntu0.1 [230 kB]\n",
            "Get:32 http://archive.ubuntu.com/ubuntu bionic-updates/main amd64 libzzip-0-13 amd64 0.13.62-3.1ubuntu0.18.04.1 [26.0 kB]\n",
            "Get:33 http://archive.ubuntu.com/ubuntu bionic/main amd64 lmodern all 2.004.5-3 [9,631 kB]\n",
            "Get:34 http://archive.ubuntu.com/ubuntu bionic/main amd64 preview-latex-style all 11.91-1ubuntu1 [185 kB]\n",
            "Get:35 http://archive.ubuntu.com/ubuntu bionic/main amd64 t1utils amd64 1.41-2 [56.0 kB]\n",
            "Get:36 http://archive.ubuntu.com/ubuntu bionic/universe amd64 tex-gyre all 20160520-1 [4,998 kB]\n",
            "Get:37 http://archive.ubuntu.com/ubuntu bionic-updates/main amd64 texlive-binaries amd64 2017.20170613.44572-8ubuntu0.1 [8,179 kB]\n",
            "Get:38 http://archive.ubuntu.com/ubuntu bionic/main amd64 texlive-base all 2017.20180305-1 [18.7 MB]\n",
            "Get:39 http://archive.ubuntu.com/ubuntu bionic/universe amd64 texlive-fonts-recommended all 2017.20180305-1 [5,262 kB]\n",
            "Get:40 http://archive.ubuntu.com/ubuntu bionic/main amd64 texlive-latex-base all 2017.20180305-1 [951 kB]\n",
            "Get:41 http://archive.ubuntu.com/ubuntu bionic/main amd64 texlive-latex-recommended all 2017.20180305-1 [14.9 MB]\n",
            "Get:42 http://archive.ubuntu.com/ubuntu bionic/universe amd64 texlive all 2017.20180305-1 [14.4 kB]\n",
            "Get:43 http://archive.ubuntu.com/ubuntu bionic/universe amd64 texlive-pictures all 2017.20180305-1 [4,026 kB]\n",
            "Get:44 http://archive.ubuntu.com/ubuntu bionic/universe amd64 texlive-latex-extra all 2017.20180305-2 [10.6 MB]\n",
            "Get:45 http://archive.ubuntu.com/ubuntu bionic/universe amd64 texlive-plain-generic all 2017.20180305-2 [23.6 MB]\n",
            "Get:46 http://archive.ubuntu.com/ubuntu bionic/universe amd64 tipa all 2:1.3-20 [2,978 kB]\n",
            "Get:47 http://archive.ubuntu.com/ubuntu bionic/universe amd64 texlive-xetex all 2017.20180305-1 [10.7 MB]\n",
            "Fetched 146 MB in 6s (25.7 MB/s)\n",
            "Extracting templates from packages: 100%\n",
            "Preconfiguring packages ...\n",
            "Selecting previously unselected package fonts-droid-fallback.\n",
            "(Reading database ... 124016 files and directories currently installed.)\n",
            "Preparing to unpack .../00-fonts-droid-fallback_1%3a6.0.1r16-1.1_all.deb ...\n",
            "Unpacking fonts-droid-fallback (1:6.0.1r16-1.1) ...\n",
            "Selecting previously unselected package fonts-lato.\n",
            "Preparing to unpack .../01-fonts-lato_2.0-2_all.deb ...\n",
            "Unpacking fonts-lato (2.0-2) ...\n",
            "Selecting previously unselected package poppler-data.\n",
            "Preparing to unpack .../02-poppler-data_0.4.8-2_all.deb ...\n",
            "Unpacking poppler-data (0.4.8-2) ...\n",
            "Selecting previously unselected package tex-common.\n",
            "Preparing to unpack .../03-tex-common_6.09_all.deb ...\n",
            "Unpacking tex-common (6.09) ...\n",
            "Selecting previously unselected package fonts-lmodern.\n",
            "Preparing to unpack .../04-fonts-lmodern_2.004.5-3_all.deb ...\n",
            "Unpacking fonts-lmodern (2.004.5-3) ...\n",
            "Selecting previously unselected package fonts-noto-mono.\n",
            "Preparing to unpack .../05-fonts-noto-mono_20171026-2_all.deb ...\n",
            "Unpacking fonts-noto-mono (20171026-2) ...\n",
            "Selecting previously unselected package fonts-texgyre.\n",
            "Preparing to unpack .../06-fonts-texgyre_20160520-1_all.deb ...\n",
            "Unpacking fonts-texgyre (20160520-1) ...\n",
            "Selecting previously unselected package javascript-common.\n",
            "Preparing to unpack .../07-javascript-common_11_all.deb ...\n",
            "Unpacking javascript-common (11) ...\n",
            "Selecting previously unselected package libcupsfilters1:amd64.\n",
            "Preparing to unpack .../08-libcupsfilters1_1.20.2-0ubuntu3.1_amd64.deb ...\n",
            "Unpacking libcupsfilters1:amd64 (1.20.2-0ubuntu3.1) ...\n",
            "Selecting previously unselected package libcupsimage2:amd64.\n",
            "Preparing to unpack .../09-libcupsimage2_2.2.7-1ubuntu2.9_amd64.deb ...\n",
            "Unpacking libcupsimage2:amd64 (2.2.7-1ubuntu2.9) ...\n",
            "Selecting previously unselected package libijs-0.35:amd64.\n",
            "Preparing to unpack .../10-libijs-0.35_0.35-13_amd64.deb ...\n",
            "Unpacking libijs-0.35:amd64 (0.35-13) ...\n",
            "Selecting previously unselected package libjbig2dec0:amd64.\n",
            "Preparing to unpack .../11-libjbig2dec0_0.13-6_amd64.deb ...\n",
            "Unpacking libjbig2dec0:amd64 (0.13-6) ...\n",
            "Selecting previously unselected package libgs9-common.\n",
            "Preparing to unpack .../12-libgs9-common_9.26~dfsg+0-0ubuntu0.18.04.17_all.deb ...\n",
            "Unpacking libgs9-common (9.26~dfsg+0-0ubuntu0.18.04.17) ...\n",
            "Selecting previously unselected package libgs9:amd64.\n",
            "Preparing to unpack .../13-libgs9_9.26~dfsg+0-0ubuntu0.18.04.17_amd64.deb ...\n",
            "Unpacking libgs9:amd64 (9.26~dfsg+0-0ubuntu0.18.04.17) ...\n",
            "Selecting previously unselected package libjs-jquery.\n",
            "Preparing to unpack .../14-libjs-jquery_3.2.1-1_all.deb ...\n",
            "Unpacking libjs-jquery (3.2.1-1) ...\n",
            "Selecting previously unselected package libkpathsea6:amd64.\n",
            "Preparing to unpack .../15-libkpathsea6_2017.20170613.44572-8ubuntu0.1_amd64.deb ...\n",
            "Unpacking libkpathsea6:amd64 (2017.20170613.44572-8ubuntu0.1) ...\n",
            "Selecting previously unselected package libpotrace0.\n",
            "Preparing to unpack .../16-libpotrace0_1.14-2_amd64.deb ...\n",
            "Unpacking libpotrace0 (1.14-2) ...\n",
            "Selecting previously unselected package libptexenc1:amd64.\n",
            "Preparing to unpack .../17-libptexenc1_2017.20170613.44572-8ubuntu0.1_amd64.deb ...\n",
            "Unpacking libptexenc1:amd64 (2017.20170613.44572-8ubuntu0.1) ...\n",
            "Selecting previously unselected package rubygems-integration.\n",
            "Preparing to unpack .../18-rubygems-integration_1.11_all.deb ...\n",
            "Unpacking rubygems-integration (1.11) ...\n",
            "Selecting previously unselected package ruby2.5.\n",
            "Preparing to unpack .../19-ruby2.5_2.5.1-1ubuntu1.12_amd64.deb ...\n",
            "Unpacking ruby2.5 (2.5.1-1ubuntu1.12) ...\n",
            "Selecting previously unselected package ruby.\n",
            "Preparing to unpack .../20-ruby_1%3a2.5.1_amd64.deb ...\n",
            "Unpacking ruby (1:2.5.1) ...\n",
            "Selecting previously unselected package rake.\n",
            "Preparing to unpack .../21-rake_12.3.1-1ubuntu0.1_all.deb ...\n",
            "Unpacking rake (12.3.1-1ubuntu0.1) ...\n",
            "Selecting previously unselected package ruby-did-you-mean.\n",
            "Preparing to unpack .../22-ruby-did-you-mean_1.2.0-2_all.deb ...\n",
            "Unpacking ruby-did-you-mean (1.2.0-2) ...\n",
            "Selecting previously unselected package ruby-minitest.\n",
            "Preparing to unpack .../23-ruby-minitest_5.10.3-1_all.deb ...\n",
            "Unpacking ruby-minitest (5.10.3-1) ...\n",
            "Selecting previously unselected package ruby-net-telnet.\n",
            "Preparing to unpack .../24-ruby-net-telnet_0.1.1-2_all.deb ...\n",
            "Unpacking ruby-net-telnet (0.1.1-2) ...\n",
            "Selecting previously unselected package ruby-power-assert.\n",
            "Preparing to unpack .../25-ruby-power-assert_0.3.0-1_all.deb ...\n",
            "Unpacking ruby-power-assert (0.3.0-1) ...\n",
            "Selecting previously unselected package ruby-test-unit.\n",
            "Preparing to unpack .../26-ruby-test-unit_3.2.5-1_all.deb ...\n",
            "Unpacking ruby-test-unit (3.2.5-1) ...\n",
            "Selecting previously unselected package libruby2.5:amd64.\n",
            "Preparing to unpack .../27-libruby2.5_2.5.1-1ubuntu1.12_amd64.deb ...\n",
            "Unpacking libruby2.5:amd64 (2.5.1-1ubuntu1.12) ...\n",
            "Selecting previously unselected package libsynctex1:amd64.\n",
            "Preparing to unpack .../28-libsynctex1_2017.20170613.44572-8ubuntu0.1_amd64.deb ...\n",
            "Unpacking libsynctex1:amd64 (2017.20170613.44572-8ubuntu0.1) ...\n",
            "Selecting previously unselected package libtexlua52:amd64.\n",
            "Preparing to unpack .../29-libtexlua52_2017.20170613.44572-8ubuntu0.1_amd64.deb ...\n",
            "Unpacking libtexlua52:amd64 (2017.20170613.44572-8ubuntu0.1) ...\n",
            "Selecting previously unselected package libtexluajit2:amd64.\n",
            "Preparing to unpack .../30-libtexluajit2_2017.20170613.44572-8ubuntu0.1_amd64.deb ...\n",
            "Unpacking libtexluajit2:amd64 (2017.20170613.44572-8ubuntu0.1) ...\n",
            "Selecting previously unselected package libzzip-0-13:amd64.\n",
            "Preparing to unpack .../31-libzzip-0-13_0.13.62-3.1ubuntu0.18.04.1_amd64.deb ...\n",
            "Unpacking libzzip-0-13:amd64 (0.13.62-3.1ubuntu0.18.04.1) ...\n",
            "Selecting previously unselected package lmodern.\n",
            "Preparing to unpack .../32-lmodern_2.004.5-3_all.deb ...\n",
            "Unpacking lmodern (2.004.5-3) ...\n",
            "Selecting previously unselected package preview-latex-style.\n",
            "Preparing to unpack .../33-preview-latex-style_11.91-1ubuntu1_all.deb ...\n",
            "Unpacking preview-latex-style (11.91-1ubuntu1) ...\n",
            "Selecting previously unselected package t1utils.\n",
            "Preparing to unpack .../34-t1utils_1.41-2_amd64.deb ...\n",
            "Unpacking t1utils (1.41-2) ...\n",
            "Selecting previously unselected package tex-gyre.\n",
            "Preparing to unpack .../35-tex-gyre_20160520-1_all.deb ...\n",
            "Unpacking tex-gyre (20160520-1) ...\n",
            "Selecting previously unselected package texlive-binaries.\n",
            "Preparing to unpack .../36-texlive-binaries_2017.20170613.44572-8ubuntu0.1_amd64.deb ...\n",
            "Unpacking texlive-binaries (2017.20170613.44572-8ubuntu0.1) ...\n",
            "Selecting previously unselected package texlive-base.\n",
            "Preparing to unpack .../37-texlive-base_2017.20180305-1_all.deb ...\n",
            "Unpacking texlive-base (2017.20180305-1) ...\n",
            "Selecting previously unselected package texlive-fonts-recommended.\n",
            "Preparing to unpack .../38-texlive-fonts-recommended_2017.20180305-1_all.deb ...\n",
            "Unpacking texlive-fonts-recommended (2017.20180305-1) ...\n",
            "Selecting previously unselected package texlive-latex-base.\n",
            "Preparing to unpack .../39-texlive-latex-base_2017.20180305-1_all.deb ...\n",
            "Unpacking texlive-latex-base (2017.20180305-1) ...\n",
            "Selecting previously unselected package texlive-latex-recommended.\n",
            "Preparing to unpack .../40-texlive-latex-recommended_2017.20180305-1_all.deb ...\n",
            "Unpacking texlive-latex-recommended (2017.20180305-1) ...\n",
            "Selecting previously unselected package texlive.\n",
            "Preparing to unpack .../41-texlive_2017.20180305-1_all.deb ...\n",
            "Unpacking texlive (2017.20180305-1) ...\n",
            "Selecting previously unselected package texlive-pictures.\n",
            "Preparing to unpack .../42-texlive-pictures_2017.20180305-1_all.deb ...\n",
            "Unpacking texlive-pictures (2017.20180305-1) ...\n",
            "Selecting previously unselected package texlive-latex-extra.\n",
            "Preparing to unpack .../43-texlive-latex-extra_2017.20180305-2_all.deb ...\n",
            "Unpacking texlive-latex-extra (2017.20180305-2) ...\n",
            "Selecting previously unselected package texlive-plain-generic.\n",
            "Preparing to unpack .../44-texlive-plain-generic_2017.20180305-2_all.deb ...\n",
            "Unpacking texlive-plain-generic (2017.20180305-2) ...\n",
            "Selecting previously unselected package tipa.\n",
            "Preparing to unpack .../45-tipa_2%3a1.3-20_all.deb ...\n",
            "Unpacking tipa (2:1.3-20) ...\n",
            "Selecting previously unselected package texlive-xetex.\n",
            "Preparing to unpack .../46-texlive-xetex_2017.20180305-1_all.deb ...\n",
            "Unpacking texlive-xetex (2017.20180305-1) ...\n",
            "Setting up libgs9-common (9.26~dfsg+0-0ubuntu0.18.04.17) ...\n",
            "Setting up libkpathsea6:amd64 (2017.20170613.44572-8ubuntu0.1) ...\n",
            "Setting up libjs-jquery (3.2.1-1) ...\n",
            "Setting up libtexlua52:amd64 (2017.20170613.44572-8ubuntu0.1) ...\n",
            "Setting up fonts-droid-fallback (1:6.0.1r16-1.1) ...\n",
            "Setting up libsynctex1:amd64 (2017.20170613.44572-8ubuntu0.1) ...\n",
            "Setting up libptexenc1:amd64 (2017.20170613.44572-8ubuntu0.1) ...\n",
            "Setting up tex-common (6.09) ...\n",
            "update-language: texlive-base not installed and configured, doing nothing!\n",
            "Setting up poppler-data (0.4.8-2) ...\n",
            "Setting up tex-gyre (20160520-1) ...\n",
            "Setting up preview-latex-style (11.91-1ubuntu1) ...\n",
            "Setting up fonts-texgyre (20160520-1) ...\n",
            "Setting up fonts-noto-mono (20171026-2) ...\n",
            "Setting up fonts-lato (2.0-2) ...\n",
            "Setting up libcupsfilters1:amd64 (1.20.2-0ubuntu3.1) ...\n",
            "Setting up libcupsimage2:amd64 (2.2.7-1ubuntu2.9) ...\n",
            "Setting up libjbig2dec0:amd64 (0.13-6) ...\n",
            "Setting up ruby-did-you-mean (1.2.0-2) ...\n",
            "Setting up t1utils (1.41-2) ...\n",
            "Setting up ruby-net-telnet (0.1.1-2) ...\n",
            "Setting up libijs-0.35:amd64 (0.35-13) ...\n",
            "Setting up rubygems-integration (1.11) ...\n",
            "Setting up libpotrace0 (1.14-2) ...\n",
            "Setting up javascript-common (11) ...\n",
            "Setting up ruby-minitest (5.10.3-1) ...\n",
            "Setting up libzzip-0-13:amd64 (0.13.62-3.1ubuntu0.18.04.1) ...\n",
            "Setting up libgs9:amd64 (9.26~dfsg+0-0ubuntu0.18.04.17) ...\n",
            "Setting up libtexluajit2:amd64 (2017.20170613.44572-8ubuntu0.1) ...\n",
            "Setting up fonts-lmodern (2.004.5-3) ...\n",
            "Setting up ruby-power-assert (0.3.0-1) ...\n",
            "Setting up texlive-binaries (2017.20170613.44572-8ubuntu0.1) ...\n",
            "update-alternatives: using /usr/bin/xdvi-xaw to provide /usr/bin/xdvi.bin (xdvi.bin) in auto mode\n",
            "update-alternatives: using /usr/bin/bibtex.original to provide /usr/bin/bibtex (bibtex) in auto mode\n",
            "Setting up texlive-base (2017.20180305-1) ...\n",
            "mktexlsr: Updating /var/lib/texmf/ls-R-TEXLIVEDIST... \n",
            "mktexlsr: Updating /var/lib/texmf/ls-R-TEXMFMAIN... \n",
            "mktexlsr: Updating /var/lib/texmf/ls-R... \n",
            "mktexlsr: Done.\n",
            "tl-paper: setting paper size for dvips to a4: /var/lib/texmf/dvips/config/config-paper.ps\n",
            "tl-paper: setting paper size for dvipdfmx to a4: /var/lib/texmf/dvipdfmx/dvipdfmx-paper.cfg\n",
            "tl-paper: setting paper size for xdvi to a4: /var/lib/texmf/xdvi/XDvi-paper\n",
            "tl-paper: setting paper size for pdftex to a4: /var/lib/texmf/tex/generic/config/pdftexconfig.tex\n",
            "Setting up texlive-fonts-recommended (2017.20180305-1) ...\n",
            "Setting up texlive-plain-generic (2017.20180305-2) ...\n",
            "Setting up texlive-latex-base (2017.20180305-1) ...\n",
            "Setting up lmodern (2.004.5-3) ...\n",
            "Setting up texlive-latex-recommended (2017.20180305-1) ...\n",
            "Setting up texlive-pictures (2017.20180305-1) ...\n",
            "Setting up tipa (2:1.3-20) ...\n",
            "Regenerating '/var/lib/texmf/fmtutil.cnf-DEBIAN'... done.\n",
            "Regenerating '/var/lib/texmf/fmtutil.cnf-TEXLIVEDIST'... done.\n",
            "update-fmtutil has updated the following file(s):\n",
            "\t/var/lib/texmf/fmtutil.cnf-DEBIAN\n",
            "\t/var/lib/texmf/fmtutil.cnf-TEXLIVEDIST\n",
            "If you want to activate the changes in the above file(s),\n",
            "you should run fmtutil-sys or fmtutil.\n",
            "Setting up texlive (2017.20180305-1) ...\n",
            "Setting up texlive-latex-extra (2017.20180305-2) ...\n",
            "Setting up texlive-xetex (2017.20180305-1) ...\n",
            "Setting up ruby2.5 (2.5.1-1ubuntu1.12) ...\n",
            "Setting up ruby (1:2.5.1) ...\n",
            "Setting up ruby-test-unit (3.2.5-1) ...\n",
            "Setting up rake (12.3.1-1ubuntu0.1) ...\n",
            "Setting up libruby2.5:amd64 (2.5.1-1ubuntu1.12) ...\n",
            "Processing triggers for mime-support (3.60ubuntu1) ...\n",
            "Processing triggers for libc-bin (2.27-3ubuntu1.6) ...\n",
            "Processing triggers for man-db (2.8.3-2ubuntu0.1) ...\n",
            "Processing triggers for fontconfig (2.12.6-0ubuntu2) ...\n",
            "Processing triggers for tex-common (6.09) ...\n",
            "Running updmap-sys. This may take some time... done.\n",
            "Running mktexlsr /var/lib/texmf ... done.\n",
            "Building format(s) --all.\n",
            "\tThis may take some time... done.\n",
            "Looking in indexes: https://pypi.org/simple, https://us-python.pkg.dev/colab-wheels/public/simple/\n",
            "Collecting pypandoc\n",
            "  Downloading pypandoc-1.10-py3-none-any.whl (20 kB)\n",
            "Installing collected packages: pypandoc\n",
            "Successfully installed pypandoc-1.10\n",
            "cp: cannot stat '/content/drive/My Drive/A_ELEC_UBC/Year4/Elec400m/Final Report/Code/ELEC 400M Final Report Jupyter Notebook.ipynb': No such file or directory\n"
          ]
        }
      ]
    },
    {
      "cell_type": "code",
      "source": [
        "!pwd"
      ],
      "metadata": {
        "colab": {
          "base_uri": "https://localhost:8080/"
        },
        "id": "DJLAFkbQs2ON",
        "outputId": "d061b08f-ac46-4462-a90d-d955ad9548ca"
      },
      "execution_count": null,
      "outputs": [
        {
          "output_type": "stream",
          "name": "stdout",
          "text": [
            "/content\n"
          ]
        }
      ]
    },
    {
      "cell_type": "code",
      "source": [
        "!cd drive/MyDrive/A_ELEC_UBC/Year4/Elec400m/'Final Report'/Code && ls"
      ],
      "metadata": {
        "colab": {
          "base_uri": "https://localhost:8080/"
        },
        "id": "tevE-Epes6Qp",
        "outputId": "55760e09-fc90-42e5-c0ec-5b0628e5514c"
      },
      "execution_count": null,
      "outputs": [
        {
          "output_type": "stream",
          "name": "stdout",
          "text": [
            " ClassExamples\t Data  'ELEC 400M Final Report Jupyter Notebook'\n"
          ]
        }
      ]
    },
    {
      "cell_type": "code",
      "source": [
        "!cp drive/MyDrive/A_ELEC_UBC/Year4/Elec400m/'Final Report'/Code/'ELEC 400M Final Report Jupyter Notebook'  ./"
      ],
      "metadata": {
        "id": "7Pgxv25psXHM"
      },
      "execution_count": null,
      "outputs": []
    },
    {
      "cell_type": "code",
      "source": [
        "#Note that image of soma server in the background section causes an error in download,\n",
        "# so comment that out first before converting to pdf\n",
        "!jupyter nbconvert --to PDF \"ELEC 400M Final Report Jupyter Notebook\""
      ],
      "metadata": {
        "colab": {
          "base_uri": "https://localhost:8080/"
        },
        "id": "WHUFcG56rH7p",
        "outputId": "3d3a7012-03d4-496c-863c-7a44c59d8541"
      },
      "execution_count": null,
      "outputs": [
        {
          "output_type": "stream",
          "name": "stdout",
          "text": [
            "[NbConvertApp] Converting notebook ELEC 400M Final Report Jupyter Notebook to PDF\n",
            "[NbConvertApp] Support files will be in ELEC 400M Final Report Jupyter Noteboo_files/\n",
            "[NbConvertApp] Making directory ./ELEC 400M Final Report Jupyter Noteboo_files\n",
            "[NbConvertApp] Making directory ./ELEC 400M Final Report Jupyter Noteboo_files\n",
            "[NbConvertApp] Making directory ./ELEC 400M Final Report Jupyter Noteboo_files\n",
            "[NbConvertApp] Making directory ./ELEC 400M Final Report Jupyter Noteboo_files\n",
            "[NbConvertApp] Making directory ./ELEC 400M Final Report Jupyter Noteboo_files\n",
            "[NbConvertApp] Making directory ./ELEC 400M Final Report Jupyter Noteboo_files\n",
            "[NbConvertApp] Making directory ./ELEC 400M Final Report Jupyter Noteboo_files\n",
            "[NbConvertApp] Making directory ./ELEC 400M Final Report Jupyter Noteboo_files\n",
            "[NbConvertApp] Making directory ./ELEC 400M Final Report Jupyter Noteboo_files\n",
            "[NbConvertApp] Writing 210112 bytes to ./notebook.tex\n",
            "[NbConvertApp] Building PDF\n",
            "[NbConvertApp] Running xelatex 3 times: ['xelatex', './notebook.tex', '-quiet']\n",
            "[NbConvertApp] Running bibtex 1 time: ['bibtex', './notebook']\n",
            "[NbConvertApp] WARNING | bibtex had problems, most likely because there were no citations\n",
            "[NbConvertApp] PDF successfully created\n",
            "[NbConvertApp] Writing 352717 bytes to ELEC 400M Final Report Jupyter Noteboo.pdf\n"
          ]
        }
      ]
    },
    {
      "cell_type": "markdown",
      "source": [
        "# References \n",
        "\n",
        "[1] References \"Learning Equality - Curriculum Recommendations.\" (2022). Retrieved from https://kaggle.com/competitions/learning-equality-curriculum-recommendations\n",
        "\n",
        "[2] References \"Using Missingno to Diagnose Data Sparsity.\" (2022). Retrieved from https://www.kaggle.com/code/residentmario/using-missingno-to-diagnose-data-sparsity \n",
        "\n",
        "[3] References \"Machine Learning, NLP: Text Classification using scikit-learn, python and NLTK.\" (2017). Retrieved from https://towardsdatascience.com/machine-learning-nlp-text-classification-using-scikit-learn-python-and-nltk-c52b92a7c73a\n",
        "\n",
        "[4] References \"The 20 newsgroups text dataset\" . (2022). Retrieved from https://scikit-learn.org/0.19/datasets/twenty_newsgroups.html \n",
        "\n",
        "[5] References \"Bag-of-words model\". (2022). Retrieved from https://en.wikipedia.org/wiki/Bag-of-words_model \n",
        "\n",
        "[6] References \"20 Newsgroups\"  http://qwone.com/~jason/20Newsgroups/ \n",
        "\n",
        "[7] References \"Naive Baise Lecture 8 Slides\". (2022). Retrieved from https://canvas.cornell.edu/files/2122690/download?download_frd=1 \n",
        "\n",
        "[8] References \"sklearn.linear_model.SGDClassifier\". (2022). Retrieved from https://scikit-learn.org/stable/modules/generated/sklearn.linear_model.SGDClassifier.html\n",
        "\n",
        "[9] References \"University of British Columbia's ELEC 400M Class Code Examples - SVM\". (2022). Xiaoxiao Li.\n",
        "\n",
        "[10] References \"Python Data Science Handbook\". (2016). Jake Vanderplas. O'Reilly Media. \n",
        "\n",
        "[11] References \"University of British Columbia's ELEC 400M Lecture 6: Model Evaluation and Training\". (2022). Xiaoxiao Li.  \n",
        "\n",
        "[12] References \"University of British Columbia's ELEC 400M Lecture 7: Naive Bayesian Classifier\". (2022). Xiaoxiao Li.  \n",
        "\n",
        "[13] References \"University of British Columbia's ELEC 400M Lecture 9: Support Vector Machines 2\". (2022). Xiaoxiao Li. \n",
        "\n",
        "[14] References \"University of British Columbia's ELEC 400M Lecture 17: Neural Network Basis\". (2022). Xiaoxiao Li."
      ],
      "metadata": {
        "id": "xVdrfkGZMOqP"
      }
    }
  ]
}